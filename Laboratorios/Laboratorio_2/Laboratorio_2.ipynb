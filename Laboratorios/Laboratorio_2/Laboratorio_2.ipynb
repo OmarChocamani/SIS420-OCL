{
  "cells": [
    {
      "cell_type": "markdown",
      "metadata": {
        "id": "tfwOfkjclHQx"
      },
      "source": [
        "# Ejercicio de programación Regresión Lineal Multiple"
      ]
    },
    {
      "cell_type": "code",
      "execution_count": 1,
      "metadata": {
        "id": "f0WGMMljlHQz"
      },
      "outputs": [],
      "source": [
        "# utilizado para manejos de directorios y rutas\n",
        "import os\n",
        "\n",
        "# Computacion vectorial y cientifica para python\n",
        "import numpy as np\n",
        "import pandas as pd\n",
        "\n",
        "# Librerias para graficación (trazado de gráficos)\n",
        "from matplotlib import pyplot\n",
        "from mpl_toolkits.mplot3d import Axes3D  # Necesario para graficar superficies 3D\n",
        "from sklearn.preprocessing import LabelEncoder\n",
        "\n",
        "# llama a matplotlib a embeber graficas dentro de los cuadernillos\n",
        "%matplotlib inline"
      ]
    },
    {
      "cell_type": "code",
      "source": [
        "from google.colab import drive\n",
        "drive.mount(\"/content/gdrive\")"
      ],
      "metadata": {
        "id": "LhERtghFlVGr",
        "colab": {
          "base_uri": "https://localhost:8080/"
        },
        "outputId": "d60ab9ce-cec4-4cac-8765-83a4680c4ea5"
      },
      "execution_count": 2,
      "outputs": [
        {
          "output_type": "stream",
          "name": "stdout",
          "text": [
            "Mounted at /content/gdrive\n"
          ]
        }
      ]
    },
    {
      "cell_type": "markdown",
      "metadata": {
        "id": "G6-ykOwelHQ0"
      },
      "source": [
        "## 2 Regresión lineal con multiples variables\n",
        "\n",
        "Se implementa la regresion lineal multivariable para predecir el precio de las casas. El archivo `Datasets/ex1data2.txt` contiene un conjunto de entrenamiento de precios de casas en Portland, Oregon. La primera columna es el tamaño de la casa en metros cuadrados, la segunda columna es el numero de cuartos, y la tercera columna es el precio de la casa.\n",
        "\n",
        "<a id=\"section4\"></a>\n",
        "### 2.1 Normalización de caracteristicas\n",
        "\n",
        "Al visualizar los datos se puede observar que las caracteristicas tienen diferentes magnitudes, por lo cual se debe transformar cada valor en una escala de valores similares, esto con el fin de que el descenso por el gradiente pueda converger mas rapidamente."
      ]
    },
    {
      "cell_type": "code",
      "execution_count": 3,
      "metadata": {
        "id": "6BP5grkxlHQ0"
      },
      "outputs": [],
      "source": [
        "# Cargar datos\n",
        "# data = np.loadtxt(os.path.join('Datasets', 'ex1data2.txt'), delimiter=',')\n",
        "data = pd.read_csv('/content/gdrive/MyDrive/SIS420/Laboratorio1/bsas_realstate_on_sale_properati_dataset_2020.csv')\n",
        "#print(data)\n",
        "#data.info()"
      ]
    },
    {
      "cell_type": "markdown",
      "source": [
        "Elimine las columnas por los siguientes motivos\n",
        "\n",
        "\"title\" y \"descripcion\" parrafos de texto(deveria ser una sola palabra)\n",
        "\n",
        "\"currency\",\"l1\" y \"operation_type\" porque solo es un mismo dato en todos los ejemplos\n",
        "\n",
        "\"created_on\" porque son los mismos datos que de \"star_end\"\n",
        "\n",
        "\"start_date\" y \"end_date\" porque las fechas en las que se publico la venta no afecta mucho al precio de la propiedad"
      ],
      "metadata": {
        "id": "tyfoCcgb86MX"
      }
    },
    {
      "cell_type": "code",
      "source": [
        "#Eliminamos las columnas no tan importantes\n",
        "columnas_eliminadas= ['l1','start_date','end_date','currency','operation_type','created_on','title','description']\n",
        "data.drop(columnas_eliminadas, axis=1, inplace=True)"
      ],
      "metadata": {
        "id": "fnAsIiJCpbZX"
      },
      "execution_count": 4,
      "outputs": []
    },
    {
      "cell_type": "code",
      "source": [
        "data.info()"
      ],
      "metadata": {
        "colab": {
          "base_uri": "https://localhost:8080/"
        },
        "id": "mdyGrcBhrB6h",
        "outputId": "3a95ea0a-f5f6-424c-e138-d1c35ebe42e6"
      },
      "execution_count": 5,
      "outputs": [
        {
          "output_type": "stream",
          "name": "stdout",
          "text": [
            "<class 'pandas.core.frame.DataFrame'>\n",
            "RangeIndex: 146660 entries, 0 to 146659\n",
            "Data columns (total 11 columns):\n",
            " #   Column           Non-Null Count   Dtype  \n",
            "---  ------           --------------   -----  \n",
            " 0   lat              136735 non-null  float64\n",
            " 1   lon              136701 non-null  float64\n",
            " 2   l2               146660 non-null  object \n",
            " 3   l3               146660 non-null  object \n",
            " 4   rooms            146660 non-null  float64\n",
            " 5   bedrooms         146660 non-null  float64\n",
            " 6   bathrooms        140703 non-null  float64\n",
            " 7   surface_total    126133 non-null  float64\n",
            " 8   surface_covered  125046 non-null  float64\n",
            " 9   price            146660 non-null  float64\n",
            " 10  property_type    146660 non-null  object \n",
            "dtypes: float64(8), object(3)\n",
            "memory usage: 12.3+ MB\n"
          ]
        }
      ]
    },
    {
      "cell_type": "code",
      "source": [
        "#variables categoricas\n",
        "columnas_categoricas = data.select_dtypes(include=['object']).columns\n",
        "\n",
        "for columna in columnas_categoricas:\n",
        "  le = LabelEncoder()\n",
        "  data[columna] = le.fit_transform(data[columna])"
      ],
      "metadata": {
        "id": "EF5pmAU-DB6w"
      },
      "execution_count": 6,
      "outputs": []
    },
    {
      "cell_type": "code",
      "source": [
        "print(data)\n",
        "data.info()"
      ],
      "metadata": {
        "colab": {
          "base_uri": "https://localhost:8080/"
        },
        "id": "w-82QMptDZZ5",
        "outputId": "8341c361-412b-40b6-806c-2a20c3ef2184"
      },
      "execution_count": 7,
      "outputs": [
        {
          "output_type": "stream",
          "name": "stdout",
          "text": [
            "              lat        lon  l2  l3  rooms  bedrooms  bathrooms  \\\n",
            "0      -34.605880 -58.384949   3  63    7.0       7.0        2.0   \n",
            "1      -34.624056 -58.412110   3  11    2.0       1.0        2.0   \n",
            "2      -34.593569 -58.427474   3  48    2.0       1.0        1.0   \n",
            "3      -34.581294 -58.436754   3  48    2.0       1.0        1.0   \n",
            "4      -34.914194 -57.938219   2  33    2.0       1.0        1.0   \n",
            "...           ...        ...  ..  ..    ...       ...        ...   \n",
            "146655 -34.816348 -58.181963   2   9    2.0       1.0        1.0   \n",
            "146656 -34.446459 -58.937810   0  55    4.0       3.0        2.0   \n",
            "146657 -34.444633 -58.981606   0  55    1.0       1.0        1.0   \n",
            "146658 -34.444830 -58.981796   0  55    2.0       1.0        1.0   \n",
            "146659 -34.444760 -58.981885   0  55    3.0       2.0        1.0   \n",
            "\n",
            "        surface_total  surface_covered     price  property_type  \n",
            "0               140.0            140.0  153000.0              3  \n",
            "1                70.0             58.0  159000.0              9  \n",
            "2                45.0             45.0  125000.0              9  \n",
            "3                85.0             50.0  295000.0              9  \n",
            "4                50.0             35.0   40000.0              9  \n",
            "...               ...              ...       ...            ...  \n",
            "146655           54.0             48.0  165000.0              3  \n",
            "146656          164.0             90.0  130000.0              3  \n",
            "146657           50.0             35.0   73000.0              3  \n",
            "146658           38.0             38.0   68000.0              3  \n",
            "146659           75.0             75.0   98000.0              3  \n",
            "\n",
            "[146660 rows x 11 columns]\n",
            "<class 'pandas.core.frame.DataFrame'>\n",
            "RangeIndex: 146660 entries, 0 to 146659\n",
            "Data columns (total 11 columns):\n",
            " #   Column           Non-Null Count   Dtype  \n",
            "---  ------           --------------   -----  \n",
            " 0   lat              136735 non-null  float64\n",
            " 1   lon              136701 non-null  float64\n",
            " 2   l2               146660 non-null  int64  \n",
            " 3   l3               146660 non-null  int64  \n",
            " 4   rooms            146660 non-null  float64\n",
            " 5   bedrooms         146660 non-null  float64\n",
            " 6   bathrooms        140703 non-null  float64\n",
            " 7   surface_total    126133 non-null  float64\n",
            " 8   surface_covered  125046 non-null  float64\n",
            " 9   price            146660 non-null  float64\n",
            " 10  property_type    146660 non-null  int64  \n",
            "dtypes: float64(8), int64(3)\n",
            "memory usage: 12.3 MB\n"
          ]
        }
      ]
    },
    {
      "cell_type": "code",
      "source": [
        "#llenar datos vacios\n",
        "columnas_especificas = ['lat','lon','bathrooms','surface_total','surface_covered']\n",
        "media_columnas = data[columnas_especificas].mean()\n",
        "data[columnas_especificas] = data[columnas_especificas].fillna(media_columnas)\n",
        "data.info()"
      ],
      "metadata": {
        "colab": {
          "base_uri": "https://localhost:8080/"
        },
        "id": "hTqHIR0vDqlK",
        "outputId": "5183f22d-ddb1-4ccb-ea1d-e4db42936759"
      },
      "execution_count": 8,
      "outputs": [
        {
          "output_type": "stream",
          "name": "stdout",
          "text": [
            "<class 'pandas.core.frame.DataFrame'>\n",
            "RangeIndex: 146660 entries, 0 to 146659\n",
            "Data columns (total 11 columns):\n",
            " #   Column           Non-Null Count   Dtype  \n",
            "---  ------           --------------   -----  \n",
            " 0   lat              146660 non-null  float64\n",
            " 1   lon              146660 non-null  float64\n",
            " 2   l2               146660 non-null  int64  \n",
            " 3   l3               146660 non-null  int64  \n",
            " 4   rooms            146660 non-null  float64\n",
            " 5   bedrooms         146660 non-null  float64\n",
            " 6   bathrooms        146660 non-null  float64\n",
            " 7   surface_total    146660 non-null  float64\n",
            " 8   surface_covered  146660 non-null  float64\n",
            " 9   price            146660 non-null  float64\n",
            " 10  property_type    146660 non-null  int64  \n",
            "dtypes: float64(8), int64(3)\n",
            "memory usage: 12.3 MB\n"
          ]
        }
      ]
    },
    {
      "cell_type": "code",
      "source": [
        "X = data.iloc[:,[0,1,2,3,4,5,6,7,8,10]]\n",
        "y = data.iloc[:,9]\n",
        "\n",
        "m = y.size\n",
        "print(m)\n",
        "# imprimir algunos puntos de datos\n",
        "X.info()"
      ],
      "metadata": {
        "colab": {
          "base_uri": "https://localhost:8080/"
        },
        "id": "vVXwfYeEEUbw",
        "outputId": "7a2f708a-a445-4ac6-8383-6a720b3beced"
      },
      "execution_count": 9,
      "outputs": [
        {
          "output_type": "stream",
          "name": "stdout",
          "text": [
            "146660\n",
            "<class 'pandas.core.frame.DataFrame'>\n",
            "RangeIndex: 146660 entries, 0 to 146659\n",
            "Data columns (total 10 columns):\n",
            " #   Column           Non-Null Count   Dtype  \n",
            "---  ------           --------------   -----  \n",
            " 0   lat              146660 non-null  float64\n",
            " 1   lon              146660 non-null  float64\n",
            " 2   l2               146660 non-null  int64  \n",
            " 3   l3               146660 non-null  int64  \n",
            " 4   rooms            146660 non-null  float64\n",
            " 5   bedrooms         146660 non-null  float64\n",
            " 6   bathrooms        146660 non-null  float64\n",
            " 7   surface_total    146660 non-null  float64\n",
            " 8   surface_covered  146660 non-null  float64\n",
            " 9   property_type    146660 non-null  int64  \n",
            "dtypes: float64(7), int64(3)\n",
            "memory usage: 11.2 MB\n"
          ]
        }
      ]
    },
    {
      "cell_type": "code",
      "execution_count": 10,
      "metadata": {
        "id": "7xFD8H3WlHQ1"
      },
      "outputs": [],
      "source": [
        "def  featureNormalize(X):\n",
        "    X_norm = X.copy()\n",
        "    mu = np.zeros(X.shape[1])\n",
        "    sigma = np.zeros(X.shape[1])\n",
        "\n",
        "    mu = np.mean(X, axis = 0)\n",
        "    sigma = np.std(X, axis = 0)\n",
        "    X_norm = (X - mu) / sigma\n",
        "\n",
        "    return X_norm, mu, sigma"
      ]
    },
    {
      "cell_type": "code",
      "execution_count": 11,
      "metadata": {
        "id": "ipL_QsTZlHQ2",
        "colab": {
          "base_uri": "https://localhost:8080/"
        },
        "outputId": "b3c53238-8899-4ee1-dda3-850013dc6971"
      },
      "outputs": [
        {
          "output_type": "stream",
          "name": "stdout",
          "text": [
            "              lat        lon  l2  l3  rooms  bedrooms  bathrooms  \\\n",
            "0      -34.605880 -58.384949   3  63    7.0       7.0        2.0   \n",
            "1      -34.624056 -58.412110   3  11    2.0       1.0        2.0   \n",
            "2      -34.593569 -58.427474   3  48    2.0       1.0        1.0   \n",
            "3      -34.581294 -58.436754   3  48    2.0       1.0        1.0   \n",
            "4      -34.914194 -57.938219   2  33    2.0       1.0        1.0   \n",
            "...           ...        ...  ..  ..    ...       ...        ...   \n",
            "146655 -34.816348 -58.181963   2   9    2.0       1.0        1.0   \n",
            "146656 -34.446459 -58.937810   0  55    4.0       3.0        2.0   \n",
            "146657 -34.444633 -58.981606   0  55    1.0       1.0        1.0   \n",
            "146658 -34.444830 -58.981796   0  55    2.0       1.0        1.0   \n",
            "146659 -34.444760 -58.981885   0  55    3.0       2.0        1.0   \n",
            "\n",
            "        surface_total  surface_covered  property_type  \n",
            "0               140.0            140.0              3  \n",
            "1                70.0             58.0              9  \n",
            "2                45.0             45.0              9  \n",
            "3                85.0             50.0              9  \n",
            "4                50.0             35.0              9  \n",
            "...               ...              ...            ...  \n",
            "146655           54.0             48.0              3  \n",
            "146656          164.0             90.0              3  \n",
            "146657           50.0             35.0              3  \n",
            "146658           38.0             38.0              3  \n",
            "146659           75.0             75.0              3  \n",
            "\n",
            "[146660 rows x 10 columns]\n",
            "Media calculada: lat                -34.604896\n",
            "lon                -58.465304\n",
            "l2                   2.213480\n",
            "l3                  42.655087\n",
            "rooms                3.079817\n",
            "bedrooms             1.983240\n",
            "bathrooms            1.599994\n",
            "surface_total      216.872888\n",
            "surface_covered    112.818011\n",
            "property_type        3.202339\n",
            "dtype: float64\n",
            "Desviación estandar calculada: lat                   0.452299\n",
            "lon                   0.469391\n",
            "l2                    1.155003\n",
            "l3                   25.691787\n",
            "rooms                 1.416347\n",
            "bedrooms              1.151301\n",
            "bathrooms             0.871073\n",
            "surface_total      1889.631630\n",
            "surface_covered     846.601837\n",
            "property_type         2.242022\n",
            "dtype: float64\n",
            "             lat       lon        l2        l3     rooms  bedrooms  bathrooms  \\\n",
            "0      -0.002174  0.171189  0.680968  0.791884  2.767812  4.357472   0.459210   \n",
            "1      -0.042360  0.113325  0.680968 -1.232109 -0.762396 -0.854026   0.459210   \n",
            "2       0.025044  0.080593  0.680968  0.208040 -0.762396 -0.854026  -0.688799   \n",
            "3       0.052183  0.060823  0.680968  0.208040 -0.762396 -0.854026  -0.688799   \n",
            "4      -0.683834  1.122913 -0.184831 -0.375804 -0.762396 -0.854026  -0.688799   \n",
            "...          ...       ...       ...       ...       ...       ...        ...   \n",
            "146655 -0.467504  0.603634 -0.184831 -1.309955 -0.762396 -0.854026  -0.688799   \n",
            "146656  0.350293 -1.006638 -1.916428  0.480500  0.649687  0.883140   0.459210   \n",
            "146657  0.354330 -1.099942 -1.916428  0.480500 -1.468438 -0.854026  -0.688799   \n",
            "146658  0.353894 -1.100347 -1.916428  0.480500 -0.762396 -0.854026  -0.688799   \n",
            "146659  0.354051 -1.100537 -1.916428  0.480500 -0.056354  0.014557  -0.688799   \n",
            "\n",
            "        surface_total  surface_covered  property_type  \n",
            "0           -0.040681         0.032107      -0.090248  \n",
            "1           -0.077726        -0.064751       2.585907  \n",
            "2           -0.090956        -0.080106       2.585907  \n",
            "3           -0.069788        -0.074200       2.585907  \n",
            "4           -0.088310        -0.091918       2.585907  \n",
            "...               ...              ...            ...  \n",
            "146655      -0.086193        -0.076563      -0.090248  \n",
            "146656      -0.027981        -0.026952      -0.090248  \n",
            "146657      -0.088310        -0.091918      -0.090248  \n",
            "146658      -0.094660        -0.088374      -0.090248  \n",
            "146659      -0.075080        -0.044670      -0.090248  \n",
            "\n",
            "[146660 rows x 10 columns]\n"
          ]
        }
      ],
      "source": [
        "# llama featureNormalize con los datos cargados\n",
        "X_norm, mu, sigma = featureNormalize(X)\n",
        "\n",
        "print(X)\n",
        "print('Media calculada:', mu)\n",
        "print('Desviación estandar calculada:', sigma)\n",
        "print(X_norm)"
      ]
    },
    {
      "cell_type": "markdown",
      "metadata": {
        "id": "it9bMYuLlHQ2"
      },
      "source": [
        "Despues de `featureNormalize` la funcion es provada, se añade el temino de interseccion a `X_norm`:"
      ]
    },
    {
      "cell_type": "code",
      "execution_count": 12,
      "metadata": {
        "id": "nNaGVxgolHQ2"
      },
      "outputs": [],
      "source": [
        "# Añade el termino de interseccion a X\n",
        "# (Columna de unos para X0)\n",
        "X = np.concatenate([np.ones((m, 1)), X_norm], axis=1)"
      ]
    },
    {
      "cell_type": "code",
      "execution_count": 13,
      "metadata": {
        "id": "nbUVohnhlHQ3",
        "colab": {
          "base_uri": "https://localhost:8080/"
        },
        "outputId": "cd3fa136-9bcb-4867-b8a6-f54fb47528a8"
      },
      "outputs": [
        {
          "output_type": "stream",
          "name": "stdout",
          "text": [
            "[[ 1.00000000e+00 -2.17438749e-03  1.71189170e-01 ... -4.06814148e-02\n",
            "   3.21071699e-02 -9.02483151e-02]\n",
            " [ 1.00000000e+00 -4.23597439e-02  1.13324560e-01 ... -7.77256719e-02\n",
            "  -6.47506402e-02  2.58590694e+00]\n",
            " [ 1.00000000e+00  2.50438855e-02  8.05931805e-02 ... -9.09557638e-02\n",
            "  -8.01061467e-02  2.58590694e+00]\n",
            " ...\n",
            " [ 1.00000000e+00  3.54329733e-01 -1.09994212e+00 ... -8.83097454e-02\n",
            "  -9.19180748e-02 -9.02483151e-02]\n",
            " [ 1.00000000e+00  3.53894207e-01 -1.10034690e+00 ... -9.46601895e-02\n",
            "  -8.83744963e-02 -9.02483151e-02]\n",
            " [ 1.00000000e+00  3.54050519e-01 -1.10053736e+00 ... -7.50796536e-02\n",
            "  -4.46703625e-02 -9.02483151e-02]]\n"
          ]
        }
      ],
      "source": [
        "print(X)"
      ]
    },
    {
      "cell_type": "code",
      "execution_count": 14,
      "metadata": {
        "id": "EQCMN7KqlHQ3"
      },
      "outputs": [],
      "source": [
        "def computeCostMulti(X, y, theta):\n",
        "    # Inicializa algunos valores utiles\n",
        "    m = y.shape[0] # numero de ejemplos de entrenamiento\n",
        "\n",
        "    J = 0\n",
        "\n",
        "    h = np.dot(X, theta)\n",
        "\n",
        "    J = (1/(2 * m)) * np.sum(np.square(np.dot(X, theta) - y))\n",
        "\n",
        "    return J\n"
      ]
    },
    {
      "cell_type": "code",
      "execution_count": 15,
      "metadata": {
        "id": "Vdy_aQUklHQ4"
      },
      "outputs": [],
      "source": [
        "def gradientDescentMulti(X, y, theta, alpha, num_iters):\n",
        "\n",
        "    # Inicializa algunos valores\n",
        "    m = y.shape[0] # numero de ejemplos de entrenamiento\n",
        "\n",
        "    # realiza una copia de theta, el cual será acutalizada por el descenso por el gradiente\n",
        "\n",
        "    theta = theta.copy()\n",
        "\n",
        "    J_history = []\n",
        "\n",
        "    for i in range(num_iters):\n",
        "        theta = theta - (alpha / m) * (np.dot(X, theta) - y).dot(X)\n",
        "        J_history.append(computeCostMulti(X, y, theta))\n",
        "\n",
        "    return theta, J_history"
      ]
    },
    {
      "cell_type": "markdown",
      "metadata": {
        "id": "a8b_GwZslHQ4"
      },
      "source": [
        "#### 3.2.1 Seleccionando coheficientes de aprendizaje\n"
      ]
    },
    {
      "cell_type": "code",
      "execution_count": 33,
      "metadata": {
        "id": "sId0DiH9lHQ4",
        "colab": {
          "base_uri": "https://localhost:8080/",
          "height": 554
        },
        "outputId": "00c1e8fa-95f2-430a-cf19-2fc0056e0362"
      },
      "outputs": [
        {
          "output_type": "stream",
          "name": "stdout",
          "text": [
            "theta calculado por el descenso por el gradiente: [221432.82381552   8517.6467316    7864.00044631  29515.94985478\n",
            "  15185.36982769  34619.50326471  14644.05307795 116718.75068536\n",
            "   1368.1643792    3487.11770948   -258.8176646 ]\n",
            "El precio predecido para una propiedad con las siguientes caracteristicas: ubicacion; provincia; ciudad;cantidad de ambientes; dormitorios;baño; superficie total; superficie cubierta y tipo de propiedad (usando el descenso por el gradiente): $468194\n"
          ]
        },
        {
          "output_type": "display_data",
          "data": {
            "text/plain": [
              "<Figure size 640x480 with 1 Axes>"
            ],
            "image/png": "[encoded data removed]"
          },
          "metadata": {}
        }
      ],
      "source": [
        "# Elegir algun valor para alpha (probar varias alternativas)\n",
        "alpha = 0.0005 # alpha = 0.003\n",
        "num_iters = 5000\n",
        "\n",
        "# inicializa theta y ejecuta el descenso por el gradiente\n",
        "theta = np.zeros(11)\n",
        "theta, J_history = gradientDescentMulti(X, y, theta, alpha, num_iters)\n",
        "\n",
        "# Grafica la convergencia del costo\n",
        "pyplot.plot(np.arange(len(J_history)), J_history, lw=2)\n",
        "pyplot.xlabel('Numero de iteraciones')\n",
        "pyplot.ylabel('Costo J')\n",
        "\n",
        "# Muestra los resultados del descenso por el gradiente\n",
        "print('theta calculado por el descenso por el gradiente: {:s}'.format(str(theta)))\n",
        "\n",
        "# Estimar el precio para una casa de 1650 sq-ft, con 3 dormitorios\n",
        "X_array = [1, -34.605880, -58.384949, 3, 63, 7, 7, 2, 140, 140, 3]\n",
        "#X_array = [1, -34.624056, -58.412110, 3, 11, 2, 1, 2, 70, 58, 9]\n",
        "#X_array = [1, -34.593569, -58.427474, 3, 48, 2, 1, 1, 45, 45, 9]\n",
        "#X_array = [1, -34.581294, -58.436754, 3, 48, 2, 1, 1, 85, 50, 9]\n",
        "X_array[1:11] = (X_array[1:11] - mu) / sigma\n",
        "price = np.dot(X_array, theta)   # Se debe cambiar esto\n",
        "\n",
        "print('El precio predecido para una propiedad con las siguientes caracteristicas: ubicacion; provincia; ciudad;cantidad de ambientes; dormitorios;'\n",
        "'baño; superficie total; superficie cubierta y tipo de propiedad (usando el descenso por el gradiente): ${:.0f}'.format(price))"
      ]
    },
    {
      "cell_type": "markdown",
      "metadata": {
        "id": "-nMzqD8elHQ4"
      },
      "source": [
        "<a id=\"section7\"></a>\n",
        "### Ecuacion de la Normal\n",
        "\n"
      ]
    },
    {
      "cell_type": "code",
      "execution_count": 30,
      "metadata": {
        "id": "gVZdjjk9lHQ5"
      },
      "outputs": [],
      "source": [
        "def normalEqn(X, y):\n",
        "\n",
        "    theta = np.zeros(X.shape[1])\n",
        "\n",
        "    theta = np.dot(np.dot(np.linalg.inv(np.dot(X.T,X)),X.T),y)\n",
        "\n",
        "    return theta"
      ]
    },
    {
      "cell_type": "code",
      "execution_count": 31,
      "metadata": {
        "id": "Ybyw-FfolHQ5",
        "colab": {
          "base_uri": "https://localhost:8080/"
        },
        "outputId": "2759a74d-1ec2-44fa-a0f4-ee511af58972"
      },
      "outputs": [
        {
          "output_type": "stream",
          "name": "stdout",
          "text": [
            "Theta calculado a partir de la ecuación de la normal: [ 2.41221080e+05  1.32766463e+05  1.32537553e+05  2.56118603e+04\n",
            "  1.75845944e+04  4.94679555e+04 -2.07106405e+04  1.43016629e+05\n",
            "  3.26550948e+03  2.74700972e+03  2.39588088e+02]\n",
            "Precio predecido para una cada de superficie de 1650 sq-ft y 3 dormitorios (usando la ecuación de la normal): $15088391\n"
          ]
        }
      ],
      "source": [
        "# Calcula los parametros con la ecuación de la normal\n",
        "theta = normalEqn(X, y);\n",
        "\n",
        "# Muestra los resultados optenidos a partir de la aplicación de la ecuación de la normal\n",
        "print('Theta calculado a partir de la ecuación de la normal: {:s}'.format(str(theta)));\n",
        "\n",
        "# Estimar el precio para una casa de superficie de 1650 sq-ft y tres dormitorios\n",
        "\n",
        "X_array = [1, 34.605880, 58.384949, 3, 63, 7, 7, 2, 140, 140, 3]\n",
        "price = np.dot(X_array, theta)\n",
        "\n",
        "print('Precio predecido para una cada de superficie de 1650 sq-ft y 3 dormitorios (usando la ecuación de la normal): ${:.0f}'.format(price))"
      ]
    }
  ],
  "metadata": {
    "kernelspec": {
      "display_name": "Python 3",
      "language": "python",
      "name": "python3"
    },
    "language_info": {
      "codemirror_mode": {
        "name": "ipython",
        "version": 3
      },
      "file_extension": ".py",
      "mimetype": "text/x-python",
      "name": "python",
      "nbconvert_exporter": "python",
      "pygments_lexer": "ipython3",
      "version": "3.8.5"
    },
    "colab": {
      "provenance": []
    }
  },
  "nbformat": 4,
  "nbformat_minor": 0
}