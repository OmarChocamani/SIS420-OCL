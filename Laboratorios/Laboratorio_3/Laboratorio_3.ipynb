{
  "cells": [
    {
      "cell_type": "markdown",
      "metadata": {
        "id": "9L0KhPHmJVNa"
      },
      "source": [
        "# Ejercicion de programación - Regresión Logistica\n",
        "\n",
        "En este ejercicio se implementa regresion logistica y se aplica a dos diferentes datasets."
      ]
    },
    {
      "cell_type": "code",
      "source": [
        "from google.colab import drive\n",
        "drive.mount('/content/drive')"
      ],
      "metadata": {
        "colab": {
          "base_uri": "https://localhost:8080/"
        },
        "id": "z5PQZyiqJhUu",
        "outputId": "ae286d0c-62ca-4d61-d78f-7563d223d0c3"
      },
      "execution_count": 1,
      "outputs": [
        {
          "output_type": "stream",
          "name": "stdout",
          "text": [
            "Drive already mounted at /content/drive; to attempt to forcibly remount, call drive.mount(\"/content/drive\", force_remount=True).\n"
          ]
        }
      ]
    },
    {
      "cell_type": "code",
      "execution_count": 2,
      "metadata": {
        "id": "Eg6cIE74JVNd"
      },
      "outputs": [],
      "source": [
        "# se utiliza para el manejo de rutas y directorios.\n",
        "import os\n",
        "\n",
        "# Calculo cientifico y vectorial para python\n",
        "import numpy as np\n",
        "import pandas as pd\n",
        "\n",
        "# Librerias para graficar\n",
        "from matplotlib import pyplot\n",
        "from sklearn.preprocessing import LabelEncoder\n",
        "\n",
        "\n",
        "from sklearn.model_selection import train_test_split\n",
        "# Modulo de optimización de scipy\n",
        "from scipy import optimize\n",
        "\n",
        "\n",
        "# le dice a matplotlib que incruste gráficos en el cuaderno\n",
        "%matplotlib inline"
      ]
    },
    {
      "cell_type": "markdown",
      "metadata": {
        "id": "t52vBnb_JVNe"
      },
      "source": [
        "## 1 Regresion Logistica\n",
        "\n",
        "En esta parte del ejercicio, creará un modelo de regresión logística para predecir si un estudiante será admitido en una universidad. Suponga que es el administrador de un departamento universitario y desea determinar las posibilidades de admisión de cada solicitante en función de sus resultados en dos exámenes. Tiene datos históricos de solicitantes anteriores que puede usar como un conjunto de capacitación para la regresión logística. Para cada ejemplo de capacitación, se tiene las calificaciones del solicitante en dos exámenes y la decisión de admisión. Su tarea es crear un modelo de clasificación que calcule la probabilidad de admisión de un solicitante en función de los puntajes de esos dos exámenes.\n",
        "\n",
        "La siguiente celda cargará los datos y las etiquetas correspondientes:"
      ]
    },
    {
      "cell_type": "code",
      "execution_count": 3,
      "metadata": {
        "colab": {
          "base_uri": "https://localhost:8080/"
        },
        "id": "WVzUelTXJVNe",
        "outputId": "e6aa8933-17a4-4aa3-e392-d4011545c50f"
      },
      "outputs": [
        {
          "output_type": "stream",
          "name": "stdout",
          "text": [
            "<class 'pandas.core.frame.DataFrame'>\n",
            "RangeIndex: 100000 entries, 0 to 99999\n",
            "Data columns (total 16 columns):\n",
            " #   Column                  Non-Null Count   Dtype  \n",
            "---  ------                  --------------   -----  \n",
            " 0   Transaction ID          100000 non-null  object \n",
            " 1   Date                    100000 non-null  object \n",
            " 2   Day of Week             100000 non-null  object \n",
            " 3   Time                    100000 non-null  int64  \n",
            " 4   Type of Card            100000 non-null  object \n",
            " 5   Entry Mode              100000 non-null  object \n",
            " 6   Amount                  99994 non-null   object \n",
            " 7   Type of Transaction     100000 non-null  object \n",
            " 8   Merchant Group          99990 non-null   object \n",
            " 9   Country of Transaction  100000 non-null  object \n",
            " 10  Shipping Address        99995 non-null   object \n",
            " 11  Country of Residence    100000 non-null  object \n",
            " 12  Gender                  99996 non-null   object \n",
            " 13  Age                     100000 non-null  float64\n",
            " 14  Bank                    100000 non-null  object \n",
            " 15  Fraud                   100000 non-null  int64  \n",
            "dtypes: float64(1), int64(2), object(13)\n",
            "memory usage: 12.2+ MB\n",
            "      Transaction ID       Date Day of Week  Time Type of Card Entry Mode  \\\n",
            "0          #3577 209  14-Oct-20   Wednesday    19         Visa        Tap   \n",
            "1          #3039 221  14-Oct-20   Wednesday    17   MasterCard        PIN   \n",
            "2          #2694 780  14-Oct-20   Wednesday    14         Visa        Tap   \n",
            "3          #2640 960  13-Oct-20     Tuesday    14         Visa        Tap   \n",
            "4          #2771 031  13-Oct-20     Tuesday    23         Visa        CVC   \n",
            "...              ...        ...         ...   ...          ...        ...   \n",
            "99995      #3203 892  13-Oct-20     Tuesday    22   MasterCard        Tap   \n",
            "99996      #3304 849  14-Oct-20   Wednesday    23   MasterCard        PIN   \n",
            "99997      #3532 129  13-Oct-20     Tuesday    11   MasterCard        PIN   \n",
            "99998      #3107 092  14-Oct-20   Wednesday    22         Visa        Tap   \n",
            "99999      #3400 711  14-Oct-20   Wednesday    16         Visa        PIN   \n",
            "\n",
            "      Amount Type of Transaction Merchant Group Country of Transaction  \\\n",
            "0         £5                 POS  Entertainment         United Kingdom   \n",
            "1       £288                 POS       Services                    USA   \n",
            "2         £5                 POS     Restaurant                  India   \n",
            "3        £28                 POS  Entertainment         United Kingdom   \n",
            "4        £91              Online    Electronics                    USA   \n",
            "...      ...                 ...            ...                    ...   \n",
            "99995    £15                 POS    Electronics         United Kingdom   \n",
            "99996     £7                 ATM       Children                 Russia   \n",
            "99997    £21                 ATM   Subscription         United Kingdom   \n",
            "99998    £25                 POS       Products         United Kingdom   \n",
            "99999   £226                 POS     Restaurant         United Kingdom   \n",
            "\n",
            "      Shipping Address Country of Residence Gender   Age      Bank  Fraud  \n",
            "0       United Kingdom       United Kingdom      M  25.2       RBS      0  \n",
            "1                  USA                  USA      F  49.6    Lloyds      0  \n",
            "2                India                India      F  42.2  Barclays      0  \n",
            "3                India       United Kingdom      F  51.0  Barclays      0  \n",
            "4                  USA       United Kingdom      M  38.0   Halifax      1  \n",
            "...                ...                  ...    ...   ...       ...    ...  \n",
            "99995   United Kingdom       United Kingdom      F  53.8   Halifax      0  \n",
            "99996           Russia               Russia      M  45.0  Barclays      0  \n",
            "99997   United Kingdom       United Kingdom      F  46.5      HSBC      0  \n",
            "99998   United Kingdom       United Kingdom      M  48.2  Barclays      0  \n",
            "99999   United Kingdom       United Kingdom      M  31.7     Monzo      0  \n",
            "\n",
            "[100000 rows x 16 columns]\n"
          ]
        }
      ],
      "source": [
        "# Cargar datos\n",
        "# Las dos primeras columnas contienen la nota de dos examenes y la tercera columna\n",
        "# contiene la etiqueta que indica si el alumno ingreso o no a la universidad.\n",
        "data = pd.read_csv('/content/drive/MyDrive/SIS420/MiDataSets/CreditCardData.csv')\n",
        "data.info()\n",
        "print(data)"
      ]
    },
    {
      "cell_type": "code",
      "source": [
        "#Eliminamos el Simbolo de libra Esterlina para no tener problemas\n",
        "columnas_eliminar = ['Amount']\n",
        "simbolo = '£'\n",
        "\n",
        "for columna in columnas_eliminar:\n",
        "    data[columna] = data[columna].str.replace(simbolo, '', regex=False)"
      ],
      "metadata": {
        "id": "GVQp0hSNct4S"
      },
      "execution_count": 4,
      "outputs": []
    },
    {
      "cell_type": "code",
      "source": [
        "#print(data)"
      ],
      "metadata": {
        "id": "pwq0Gs52dDmg"
      },
      "execution_count": 5,
      "outputs": []
    },
    {
      "cell_type": "code",
      "source": [
        "# Eliminamos la columna de IDs\n",
        "columna_categorica = 'Transaction ID'\n",
        "\n",
        "# Eliminamos la columna\n",
        "data.drop(columna_categorica, axis=1, inplace=True)\n",
        "data.info()"
      ],
      "metadata": {
        "colab": {
          "base_uri": "https://localhost:8080/"
        },
        "id": "2fyW16iIfhKv",
        "outputId": "5ec63b36-a4ee-4833-8169-abce3f190c6a"
      },
      "execution_count": 6,
      "outputs": [
        {
          "output_type": "stream",
          "name": "stdout",
          "text": [
            "<class 'pandas.core.frame.DataFrame'>\n",
            "RangeIndex: 100000 entries, 0 to 99999\n",
            "Data columns (total 15 columns):\n",
            " #   Column                  Non-Null Count   Dtype  \n",
            "---  ------                  --------------   -----  \n",
            " 0   Date                    100000 non-null  object \n",
            " 1   Day of Week             100000 non-null  object \n",
            " 2   Time                    100000 non-null  int64  \n",
            " 3   Type of Card            100000 non-null  object \n",
            " 4   Entry Mode              100000 non-null  object \n",
            " 5   Amount                  99994 non-null   object \n",
            " 6   Type of Transaction     100000 non-null  object \n",
            " 7   Merchant Group          99990 non-null   object \n",
            " 8   Country of Transaction  100000 non-null  object \n",
            " 9   Shipping Address        99995 non-null   object \n",
            " 10  Country of Residence    100000 non-null  object \n",
            " 11  Gender                  99996 non-null   object \n",
            " 12  Age                     100000 non-null  float64\n",
            " 13  Bank                    100000 non-null  object \n",
            " 14  Fraud                   100000 non-null  int64  \n",
            "dtypes: float64(1), int64(2), object(12)\n",
            "memory usage: 11.4+ MB\n"
          ]
        }
      ]
    },
    {
      "cell_type": "code",
      "source": [
        "#variables categoricas\n",
        "columnas_categoricas = data.select_dtypes(include=['object']).columns\n",
        "#Procesamiento de frases o palabras\n",
        "for columna in columnas_categoricas:\n",
        "  le = LabelEncoder()\n",
        "  data[columna] = le.fit_transform(data[columna])"
      ],
      "metadata": {
        "id": "38xOSLKDdmB5"
      },
      "execution_count": 7,
      "outputs": []
    },
    {
      "cell_type": "code",
      "source": [
        "#print(data)\n",
        "#data.info()\n"
      ],
      "metadata": {
        "id": "jjJA0WgUeJOa"
      },
      "execution_count": 8,
      "outputs": []
    },
    {
      "cell_type": "code",
      "source": [
        "#Separamos 80% para entrenar el dataset y 20% para pruebas\n",
        "X_train = data.iloc[:80000,0 :14].values  # Todas las filas, desde la columna 9 hasta la penúltima\n",
        "y_train = data.iloc[:80000, 14].values    # Todas las filas, última columna\n",
        "X_test = data.iloc[80001:, 0:14].values  # Filas desde la 48000 hasta el final, desde la columna 9 hasta la penúltima\n",
        "y_test = data.iloc[80001:, 14].values    # Filas desde la 48000 hasta el final, última columna\n",
        "#print(X_train)\n",
        "#print(X_test)\n",
        "X=X_train\n",
        "y=y_train"
      ],
      "metadata": {
        "id": "kIb5korMcSeK"
      },
      "execution_count": 9,
      "outputs": []
    },
    {
      "cell_type": "code",
      "source": [
        "#vemos los valores\n",
        "print(X)\n",
        "print(y)"
      ],
      "metadata": {
        "colab": {
          "base_uri": "https://localhost:8080/"
        },
        "id": "TOy8cA7lMlDv",
        "outputId": "e658be17-7390-4f6a-f618-60fb980c42a1"
      },
      "execution_count": 10,
      "outputs": [
        {
          "output_type": "stream",
          "name": "stdout",
          "text": [
            "[[ 1.   3.  19.  ...  1.  25.2  7. ]\n",
            " [ 1.   3.  17.  ...  0.  49.6  4. ]\n",
            " [ 1.   3.  14.  ...  0.  42.2  0. ]\n",
            " ...\n",
            " [ 0.   2.  13.  ...  1.  44.   5. ]\n",
            " [ 1.   3.   9.  ...  1.  36.8  3. ]\n",
            " [ 1.   3.  15.  ...  0.  57.8  3. ]]\n",
            "[0 0 0 ... 0 0 0]\n"
          ]
        }
      ]
    },
    {
      "cell_type": "code",
      "execution_count": 11,
      "metadata": {
        "id": "pk9dV23xJVNh"
      },
      "outputs": [],
      "source": [
        "def sigmoid(z):\n",
        "    # Calcula la sigmoide de una entrada z\n",
        "    # convierte la intrada a un arreglo numpy\n",
        "    z = np.array(z)\n",
        "\n",
        "    g = np.zeros(z.shape)\n",
        "\n",
        "    g = 1 / (1 + np.exp(-z))\n",
        "\n",
        "    return g"
      ]
    },
    {
      "cell_type": "code",
      "source": [
        "def  featureNormalize(X):\n",
        "    X_norm = X.copy()\n",
        "    mu = np.zeros(X.shape[1])\n",
        "    sigma = np.zeros(X.shape[1])\n",
        "\n",
        "    mu = np.mean(X, axis = 0)\n",
        "    sigma = np.std(X, axis = 0)\n",
        "    X_norm = (X - mu) / sigma\n",
        "\n",
        "    return X_norm, mu, sigma"
      ],
      "metadata": {
        "id": "evbuvGTh-C-n"
      },
      "execution_count": 12,
      "outputs": []
    },
    {
      "cell_type": "code",
      "execution_count": 13,
      "metadata": {
        "id": "ELtMkiYDJVNi"
      },
      "outputs": [],
      "source": [
        "# Configurar la matriz adecuadamente, y agregar una columna de unos que corresponde al termino de intercepción.\n",
        "m, n = X.shape\n",
        "# Agraga el termino de intercepción a A\n",
        "X = np.concatenate([np.ones((m, 1)), X], axis=1)"
      ]
    },
    {
      "cell_type": "code",
      "execution_count": 14,
      "metadata": {
        "id": "iqDZRIgjJVNi"
      },
      "outputs": [],
      "source": [
        "def calcularCosto(theta, X, y):\n",
        "    # Inicializar algunos valores utiles\n",
        "    m = y.size  # numero de ejemplos de entrenamiento\n",
        "\n",
        "    J = 0\n",
        "    h = sigmoid(X.dot(theta.T))\n",
        "    J = (1 / m) * np.sum(-y.dot(np.log(h)) - (1 - y).dot(np.log(1 - h)))\n",
        "\n",
        "    return J"
      ]
    },
    {
      "cell_type": "code",
      "execution_count": 15,
      "metadata": {
        "id": "7G4SjTrwJVNi"
      },
      "outputs": [],
      "source": [
        "def descensoGradiente(theta, X, y, alpha, num_iters):\n",
        "    # Inicializa algunos valores\n",
        "    m = y.shape[0] # numero de ejemplos de entrenamiento\n",
        "\n",
        "    # realiza una copia de theta, el cual será acutalizada por el descenso por el gradiente\n",
        "    theta = theta.copy()\n",
        "    J_history = []\n",
        "\n",
        "    for i in range(num_iters):\n",
        "        h = sigmoid(X.dot(theta.T))\n",
        "        theta = theta - (alpha / m) * (h - y).dot(X)\n",
        "\n",
        "        J_history.append(calcularCosto(theta, X, y))\n",
        "    return theta, J_history"
      ]
    },
    {
      "cell_type": "code",
      "execution_count": 16,
      "metadata": {
        "scrolled": true,
        "colab": {
          "base_uri": "https://localhost:8080/",
          "height": 501
        },
        "id": "rBUlehg6JVNi",
        "outputId": "2e11247d-9dc3-4922-d16b-19b45fdcf832"
      },
      "outputs": [
        {
          "output_type": "stream",
          "name": "stdout",
          "text": [
            "theta calculado por el descenso por el gradiente: [ 0.00879188 -0.00132509  0.01588439 -0.18938641  0.02121076 -0.00360762\n",
            "  0.00176944  0.03024772 -0.07012668 -0.2733181  -0.28386796  0.21488491\n",
            "  0.0297432   0.01936224  0.00637307]\n"
          ]
        },
        {
          "output_type": "display_data",
          "data": {
            "text/plain": [
              "<Figure size 640x480 with 1 Axes>"
            ],
            "image/png": "[encoded data removed]"
          },
          "metadata": {}
        }
      ],
      "source": [
        "# Elegir algun valor para alpha (probar varias alternativas)\n",
        "alpha = 0.001\n",
        "num_iters = 5000\n",
        "\n",
        "# inicializa theta y ejecuta el descenso por el gradiente\n",
        "theta = np.zeros(15)\n",
        "theta, J_history = descensoGradiente(theta, X, y, alpha, num_iters)\n",
        "\n",
        "# Grafica la convergencia del costo\n",
        "pyplot.plot(np.arange(len(J_history)), J_history, lw=2)\n",
        "pyplot.xlabel('Numero de iteraciones')\n",
        "pyplot.ylabel('Costo J')\n",
        "\n",
        "# Muestra los resultados del descenso por el gradiente\n",
        "print('theta calculado por el descenso por el gradiente: {:s}'.format(str(theta)))"
      ]
    },
    {
      "cell_type": "code",
      "source": [
        "print(X_test)\n",
        "print(y_test)"
      ],
      "metadata": {
        "colab": {
          "base_uri": "https://localhost:8080/"
        },
        "id": "S5hYrXu-TAgC",
        "outputId": "1bb9e520-ee19-45a8-bbff-5284ae9f2bc4"
      },
      "execution_count": 17,
      "outputs": [
        {
          "output_type": "stream",
          "name": "stdout",
          "text": [
            "[[ 1.   3.   7.  ...  1.  54.3  0. ]\n",
            " [ 1.   3.   7.  ...  0.  41.4  0. ]\n",
            " [ 0.   2.  17.  ...  0.  40.8  6. ]\n",
            " ...\n",
            " [ 0.   2.  11.  ...  0.  46.5  2. ]\n",
            " [ 1.   3.  22.  ...  1.  48.2  0. ]\n",
            " [ 1.   3.  16.  ...  1.  31.7  6. ]]\n",
            "[0 0 0 ... 0 0 0]\n"
          ]
        }
      ]
    },
    {
      "cell_type": "code",
      "source": [
        "#normalizamos X_test\n",
        "X_test_norm, mu, sigma = featureNormalize(X_test)\n",
        "m, n = X_test_norm.shape\n",
        "X_test_norm = np.concatenate([np.ones((m, 1)), X_test_norm], axis=1)\n",
        ""
      ],
      "metadata": {
        "id": "OCMi6DgUjA0O"
      },
      "execution_count": 18,
      "outputs": []
    },
    {
      "cell_type": "code",
      "source": [
        "#Visualizamos el valor de y en en la posicion que deseamos\n",
        "print(y_test[36])"
      ],
      "metadata": {
        "colab": {
          "base_uri": "https://localhost:8080/"
        },
        "id": "Iwq9I78aZC2M",
        "outputId": "87213d37-0320-45ab-d58a-7a0606b70248"
      },
      "execution_count": 19,
      "outputs": [
        {
          "output_type": "stream",
          "name": "stdout",
          "text": [
            "0\n"
          ]
        }
      ]
    },
    {
      "cell_type": "code",
      "source": [
        "#Predecimos si hubo fraude o no\n",
        "prediccion = sigmoid(np.dot(X_test_norm[36], theta))   # Se debe cambiar esto\n",
        "print('La probabilidad de que haya fraude es de: {:s}'.format(str(prediccion)))"
      ],
      "metadata": {
        "colab": {
          "base_uri": "https://localhost:8080/"
        },
        "id": "hXfcaWvIWHgL",
        "outputId": "8c1a5007-13d6-4b87-8fa0-998c9be252d2"
      },
      "execution_count": 25,
      "outputs": [
        {
          "output_type": "stream",
          "name": "stdout",
          "text": [
            "La probabilidad de que haya fraude es de: 0.3574884635391456\n"
          ]
        }
      ]
    }
  ],
  "metadata": {
    "kernelspec": {
      "display_name": "Python 3",
      "language": "python",
      "name": "python3"
    },
    "language_info": {
      "codemirror_mode": {
        "name": "ipython",
        "version": 3
      },
      "file_extension": ".py",
      "mimetype": "text/x-python",
      "name": "python",
      "nbconvert_exporter": "python",
      "pygments_lexer": "ipython3",
      "version": "3.8.5"
    },
    "colab": {
      "provenance": []
    }
  },
  "nbformat": 4,
  "nbformat_minor": 0
}