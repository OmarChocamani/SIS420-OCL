{
  "cells": [
    {
      "cell_type": "markdown",
      "metadata": {
        "id": "view-in-github",
        "colab_type": "text"
      },
      "source": [
        "<a href=\"https://colab.research.google.com/github/OmarChocamani/SIS420-OCL/blob/main/Copia_de_reg_log_onevsall_03.ipynb\" target=\"_parent\"><img src=\"https://colab.research.google.com/assets/colab-badge.svg\" alt=\"Open In Colab\"/></a>"
      ]
    },
    {
      "cell_type": "markdown",
      "metadata": {
        "id": "xTjmiqnfSxgG"
      },
      "source": [
        "# Clasificación multiclase\n",
        "\n",
        "## Introduction\n",
        "\n",
        "En este ejercicio se implementa la regresion one-vs-all y una red neuronal para reconocimiento de digitos.\n",
        "\n",
        "Antes de empezar la ejecución de las partes de codigo correspondienters a los ejercicios, se requiere importar todas las librerias necesarias."
      ]
    },
    {
      "cell_type": "markdown",
      "source": [
        "Se usa binary croos center para poder allar las titas en clasificacion multiclase y clasificacion binaria\n",
        "y el descenso por el gradiente para regresiones lineales y multivariables"
      ],
      "metadata": {
        "id": "PQYH3nCBqre0"
      }
    },
    {
      "cell_type": "code",
      "source": [
        "from google.colab import drive\n",
        "drive.mount('/content/drive')"
      ],
      "metadata": {
        "colab": {
          "base_uri": "https://localhost:8080/"
        },
        "id": "clyp4NcQycWP",
        "outputId": "bdc8c084-a0ff-4078-cf17-1eabd0eda2c7"
      },
      "execution_count": 4,
      "outputs": [
        {
          "output_type": "stream",
          "name": "stdout",
          "text": [
            "Drive already mounted at /content/drive; to attempt to forcibly remount, call drive.mount(\"/content/drive\", force_remount=True).\n"
          ]
        }
      ]
    },
    {
      "cell_type": "code",
      "execution_count": 5,
      "metadata": {
        "id": "20Q29kX8SxgJ"
      },
      "outputs": [],
      "source": [
        "# utilizado para la manipulación de directorios y rutas\n",
        "import os\n",
        "\n",
        "# Cálculo científico y vectorial para python\n",
        "import numpy as np\n",
        "import pandas as pd\n",
        "\n",
        "# Libreria para graficos\n",
        "from matplotlib import pyplot\n",
        "\n",
        "# Modulo de optimizacion en scipy\n",
        "from scipy import optimize\n",
        "from sklearn.preprocessing import LabelEncoder\n",
        "from sklearn.model_selection import train_test_split\n",
        "\n",
        "# modulo para cargar archivos en formato MATLAB\n",
        "# from scipy.io import loadmat\n",
        "\n",
        "# le dice a matplotlib que incruste gráficos en el cuaderno\n",
        "%matplotlib inline"
      ]
    },
    {
      "cell_type": "markdown",
      "metadata": {
        "id": "rPiGCmq7SxgK"
      },
      "source": [
        "## 1 Clasificación multiclase\n",
        "\n",
        "Para este ejercicio, se usará regresión logística y redes neuronales para reconocer dígitos escritos a mano (de 0 a 9). El reconocimiento automático de dígitos escritos a mano se usa ampliamente en la actualidad, desde el reconocimiento de códigos postales (códigos postales) en sobres de correo hasta el reconocimiento de montos escritos en cheques bancarios. Este ejercicio  mostrará cómo los métodos que ha aprendido se pueden utilizar para esta tarea de clasificación.\n",
        "\n",
        "La primera parte del ejercicio, extenderá la implementación anterior de la regresión logística y la aplicará a la clasificación de uno contra todos (one vs all).\n",
        "\n",
        "### 1.1 Dataset\n",
        "\n",
        "Se proporciona un conjunto de datos en `ex3data1.mat` que contiene 5000 ejemplos de entrenamiento de dígitos escritos a mano (este es un subconjunto del conjunto de datos de dígitos escritos a mano [MNIST] http://yann.lecun.com/exdb/mnist)). El formato `.mat` significa que los datos se han guardado en un formato de matriz nativo Octave/MATLAB, en lugar de un formato de texto (ASCII) como un archivo csv. Usamos el formato `.mat` aquí para mostrar los diferentes formatos en los que se pueden presentar los datasets. Python proporciona mecanismos para cargar el formato nativo de MATLAB usando la función `loadmat` dentro del módulo` scipy.io`. Esta función devuelve un diccionario de Python con claves que contienen los nombres de las variables dentro del archivo `.mat`.\n",
        "\n",
        "Hay 5000 ejemplos de entrenamiento en `ex3data1.mat`, donde cada ejemplo de entrenamiento es una imagen en escala de grises de 20 píxeles por 20 píxeles del dígito. Cada píxel está representado por un número de punto flotante que indica la intensidad de la escala de grises en esa ubicación. La cuadrícula de 20 por 20 píxeles se \"desenrolla\" en un vector de 400 dimensiones. Cada uno de estos ejemplos de entrenamiento se convierte en una sola fila en nuestra matriz de datos \"X\". Esto da una matriz `X` de 5000 por 400 donde cada fila es un ejemplo de entrenamiento para una imagen de dígitos escrita a mano.\n",
        "\n",
        "$$ X = \\begin{bmatrix} - \\: (x^{(1)})^T \\: - \\\\ -\\: (x^{(2)})^T \\:- \\\\ \\vdots \\\\ - \\: (x^{(m)})^T \\:-  \\end{bmatrix} $$\n",
        "\n",
        "La segunda parte del conjunto de entrenamiento es un vector \"y\" de 5000 dimensiones que contiene etiquetas para el conjunto de entrenamiento.\n",
        "\n",
        "Se inicia el ejercicio cargando primero el conjunto de datos."
      ]
    },
    {
      "cell_type": "code",
      "source": [
        "data= pd.read_csv('/content/drive/MyDrive/SIS420/MiDataSets/gcar_data.csv')\n",
        "data.info()\n",
        "#print(data)\n"
      ],
      "metadata": {
        "id": "0yE2CNNulM0g",
        "colab": {
          "base_uri": "https://localhost:8080/"
        },
        "outputId": "42cf09b1-6dd4-4641-b7bf-11f7942478eb"
      },
      "execution_count": 25,
      "outputs": [
        {
          "output_type": "stream",
          "name": "stdout",
          "text": [
            "<class 'pandas.core.frame.DataFrame'>\n",
            "RangeIndex: 100000 entries, 0 to 99999\n",
            "Data columns (total 15 columns):\n",
            " #   Column                    Non-Null Count   Dtype  \n",
            "---  ------                    --------------   -----  \n",
            " 0   Unnamed: 0                100000 non-null  int64  \n",
            " 1   brand                     100000 non-null  object \n",
            " 2   model                     100000 non-null  object \n",
            " 3   color                     99924 non-null   object \n",
            " 4   registration_date         99999 non-null   object \n",
            " 5   year                      100000 non-null  object \n",
            " 6   price_in_euro             100000 non-null  object \n",
            " 7   power_kw                  99925 non-null   object \n",
            " 8   power_ps                  99928 non-null   object \n",
            " 9   transmission_type         100000 non-null  object \n",
            " 10  fuel_type                 100000 non-null  object \n",
            " 11  fuel_consumption_l_100km  88761 non-null   object \n",
            " 12  fuel_consumption_g_km     100000 non-null  object \n",
            " 13  mileage_in_km             99932 non-null   float64\n",
            " 14  offer_description         100000 non-null  object \n",
            "dtypes: float64(1), int64(1), object(13)\n",
            "memory usage: 11.4+ MB\n"
          ]
        }
      ]
    },
    {
      "cell_type": "code",
      "source": [
        "#Preprocesamiento de datos\n",
        "#Ademas observaremos la cantidad e etiquetas que tendra\n",
        "to_convert = ['brand']\n",
        "id2label = {}\n",
        "label2id = {}\n",
        "for col in to_convert:\n",
        "    id2label[col] = {i: cls for i, cls in enumerate(data[col].unique())}\n",
        "    label2id[col] = {cls: i for i, cls in id2label[col].items()}\n",
        "    data[col] = data[col].replace(label2id[col])\n",
        "    print(label2id[col])\n"
      ],
      "metadata": {
        "colab": {
          "base_uri": "https://localhost:8080/"
        },
        "id": "TTc1D035Untf",
        "outputId": "94a83ab8-0c51-4e8e-cd39-0782d43c524f"
      },
      "execution_count": 26,
      "outputs": [
        {
          "output_type": "stream",
          "name": "stdout",
          "text": [
            "{'ford': 0, 'hyundai': 1, 'audi': 2, 'honda': 3, 'kia': 4, 'dacia': 5, 'bmw': 6, 'citroen': 7, 'alfa-romeo': 8, 'land-rover': 9, 'jaguar': 10, 'dodge': 11, 'fiat': 12, 'lamborghini': 13, 'mazda': 14, 'isuzu': 15, 'jeep': 16, 'ferrari': 17, 'bentley': 18, 'maserati': 19, 'daihatsu': 20, 'chevrolet': 21, 'aston-martin': 22, 'cadillac': 23, 'daewoo': 24, 'chrysler': 25, 'lancia': 26, 'lada': 27, 'infiniti': 28}\n"
          ]
        }
      ]
    },
    {
      "cell_type": "code",
      "source": [
        "num_labels = 29"
      ],
      "metadata": {
        "id": "eIABnbKCZk6V"
      },
      "execution_count": 27,
      "outputs": []
    },
    {
      "cell_type": "code",
      "source": [
        "#variables categoricas\n",
        "columnas_categoricas = data.select_dtypes(include=['object']).columns\n",
        "\n",
        "for columna in columnas_categoricas:\n",
        "  le = LabelEncoder()\n",
        "  data[columna] = le.fit_transform(data[columna])"
      ],
      "metadata": {
        "id": "i_DgMIylVDiA"
      },
      "execution_count": 28,
      "outputs": []
    },
    {
      "cell_type": "code",
      "source": [
        "data.info()"
      ],
      "metadata": {
        "colab": {
          "base_uri": "https://localhost:8080/"
        },
        "id": "GlsklqU5OMix",
        "outputId": "7f51cb62-731c-4711-a9f3-d95e7236914b"
      },
      "execution_count": 29,
      "outputs": [
        {
          "output_type": "stream",
          "name": "stdout",
          "text": [
            "<class 'pandas.core.frame.DataFrame'>\n",
            "RangeIndex: 100000 entries, 0 to 99999\n",
            "Data columns (total 15 columns):\n",
            " #   Column                    Non-Null Count   Dtype  \n",
            "---  ------                    --------------   -----  \n",
            " 0   Unnamed: 0                100000 non-null  int64  \n",
            " 1   brand                     100000 non-null  int64  \n",
            " 2   model                     100000 non-null  int64  \n",
            " 3   color                     100000 non-null  int64  \n",
            " 4   registration_date         100000 non-null  int64  \n",
            " 5   year                      100000 non-null  int64  \n",
            " 6   price_in_euro             100000 non-null  int64  \n",
            " 7   power_kw                  100000 non-null  int64  \n",
            " 8   power_ps                  100000 non-null  int64  \n",
            " 9   transmission_type         100000 non-null  int64  \n",
            " 10  fuel_type                 100000 non-null  int64  \n",
            " 11  fuel_consumption_l_100km  100000 non-null  int64  \n",
            " 12  fuel_consumption_g_km     100000 non-null  int64  \n",
            " 13  mileage_in_km             99932 non-null   float64\n",
            " 14  offer_description         100000 non-null  int64  \n",
            "dtypes: float64(1), int64(14)\n",
            "memory usage: 11.4 MB\n"
          ]
        }
      ]
    },
    {
      "cell_type": "code",
      "source": [
        "#llenar datos vacios\n",
        "columnas_especificas = ['mileage_in_km']\n",
        "media_columnas = data[columnas_especificas].mean()\n",
        "data[columnas_especificas] = data[columnas_especificas].fillna(media_columnas)\n",
        "data.info()"
      ],
      "metadata": {
        "colab": {
          "base_uri": "https://localhost:8080/"
        },
        "id": "X_ywuyutORou",
        "outputId": "89666c58-74c4-46c6-dc07-6335470da060"
      },
      "execution_count": 30,
      "outputs": [
        {
          "output_type": "stream",
          "name": "stdout",
          "text": [
            "<class 'pandas.core.frame.DataFrame'>\n",
            "RangeIndex: 100000 entries, 0 to 99999\n",
            "Data columns (total 15 columns):\n",
            " #   Column                    Non-Null Count   Dtype  \n",
            "---  ------                    --------------   -----  \n",
            " 0   Unnamed: 0                100000 non-null  int64  \n",
            " 1   brand                     100000 non-null  int64  \n",
            " 2   model                     100000 non-null  int64  \n",
            " 3   color                     100000 non-null  int64  \n",
            " 4   registration_date         100000 non-null  int64  \n",
            " 5   year                      100000 non-null  int64  \n",
            " 6   price_in_euro             100000 non-null  int64  \n",
            " 7   power_kw                  100000 non-null  int64  \n",
            " 8   power_ps                  100000 non-null  int64  \n",
            " 9   transmission_type         100000 non-null  int64  \n",
            " 10  fuel_type                 100000 non-null  int64  \n",
            " 11  fuel_consumption_l_100km  100000 non-null  int64  \n",
            " 12  fuel_consumption_g_km     100000 non-null  int64  \n",
            " 13  mileage_in_km             100000 non-null  float64\n",
            " 14  offer_description         100000 non-null  int64  \n",
            "dtypes: float64(1), int64(14)\n",
            "memory usage: 11.4 MB\n"
          ]
        }
      ]
    },
    {
      "cell_type": "code",
      "source": [
        "X_datos=data.iloc[:,[2,3,4,5,6,7,8,9,10,11,12,13,14]]\n",
        "y_datos=data.iloc[:,1]"
      ],
      "metadata": {
        "id": "hFe7vEvlMxkP"
      },
      "execution_count": 31,
      "outputs": []
    },
    {
      "cell_type": "code",
      "source": [
        "X_train, X_test, y_train, y_test = train_test_split(X_datos, y_datos, test_size=0.2)\n",
        "X_train.shape, X_test.shape"
      ],
      "metadata": {
        "colab": {
          "base_uri": "https://localhost:8080/"
        },
        "id": "9U3rh3pkSaBV",
        "outputId": "bc3ed279-2836-43cd-e219-0d4451b015e4"
      },
      "execution_count": 32,
      "outputs": [
        {
          "output_type": "execute_result",
          "data": {
            "text/plain": [
              "((80000, 13), (20000, 13))"
            ]
          },
          "metadata": {},
          "execution_count": 32
        }
      ]
    },
    {
      "cell_type": "code",
      "source": [
        "X=X_train\n",
        "y=y_train\n",
        "print(y)"
      ],
      "metadata": {
        "colab": {
          "base_uri": "https://localhost:8080/"
        },
        "id": "KXI4hie2nDvD",
        "outputId": "1977689b-d8c2-4ead-eaeb-16dfec7c47e6"
      },
      "execution_count": 33,
      "outputs": [
        {
          "output_type": "stream",
          "name": "stdout",
          "text": [
            "62065    2\n",
            "39584    2\n",
            "56159    2\n",
            "93127    2\n",
            "39867    2\n",
            "        ..\n",
            "26669    7\n",
            "40896    5\n",
            "4468     2\n",
            "45548    0\n",
            "29268    2\n",
            "Name: brand, Length: 80000, dtype: int64\n"
          ]
        }
      ]
    },
    {
      "cell_type": "code",
      "source": [
        "def  featureNormalize(X):\n",
        "    X_norm = X.copy()\n",
        "    mu = np.zeros(X.shape[1])\n",
        "    sigma = np.zeros(X.shape[1])\n",
        "\n",
        "    mu = np.mean(X, axis = 0)\n",
        "    sigma = np.std(X, axis = 0)\n",
        "    X_norm = (X - mu) / sigma\n",
        "\n",
        "    return X_norm, mu, sigma"
      ],
      "metadata": {
        "id": "HWF5C5Jt8wNb"
      },
      "execution_count": 34,
      "outputs": []
    },
    {
      "cell_type": "code",
      "source": [
        "# llama featureNormalize con los datos cargados\n",
        "X_norm, mu, sigma = featureNormalize(X)"
      ],
      "metadata": {
        "id": "f4W6d-ya1ABV"
      },
      "execution_count": 35,
      "outputs": []
    },
    {
      "cell_type": "code",
      "source": [
        "# Configurar la matriz adecuadamente, y agregar una columna de unos que corresponde al termino de intercepción.\n",
        "m, n = X.shape\n",
        "# Agraga el termino de intercepción a A\n",
        "# X = np.concatenate([np.ones((m, 1)), X_norm], axis=1)\n",
        "X = X_norm\n",
        "# X = np.concatenate([np.ones((m, 1)), X], axis=1)"
      ],
      "metadata": {
        "id": "r9e6MRrW1G22"
      },
      "execution_count": 36,
      "outputs": []
    },
    {
      "cell_type": "markdown",
      "metadata": {
        "id": "GxjagbCdSxgL"
      },
      "source": [
        "### 1.2 Visualización de los datos\n",
        "\n",
        "Se comenzará visualizando un subconjunto del conjunto de entrenamiento. Se selecciona al azar, 100 filas de `X` y pasa esas filas a la función` displayData`. Esta función asigna cada fila a una imagen en escala de grises de 20 píxeles por 20 píxeles y muestra las imágenes juntas."
      ]
    },
    {
      "cell_type": "markdown",
      "metadata": {
        "collapsed": true,
        "id": "M2h-xWvTSxgM"
      },
      "source": [
        "### 1.3 Vectorización de regresión logística\n",
        "\n",
        "Se utilizará múltiples modelos de regresión logística uno contra todos para construir un clasificador de clases múltiples. Dado que hay 10 clases, deberá entrenar 10 clasificadores de regresión logística separados. Para que esta capacitación sea eficiente, es importante asegurarse de que el código esté bien vectorizado.\n",
        "\n",
        "En esta sección, se implementará una versión vectorizada de regresión logística que no emplea ningún bucle \"for\".\n",
        "\n",
        "Para probar la regresión logística vectorizada, se usara datos personalizados como se definen a continuación."
      ]
    },
    {
      "cell_type": "markdown",
      "metadata": {
        "id": "BQ-PeDkKSxgN"
      },
      "source": [
        "<a id=\"section1\"></a>\n",
        "#### 1.3.1 Vectorización de la funcion de costo\n",
        "\n",
        "Se inicia escribiendo una versión vectorizada de la función de costo. En la regresión logística (no regularizada), la función de costo es\n",
        "\n",
        "$$ J(\\theta) = \\frac{1}{m} \\sum_{i=1}^m \\left[ -y^{(i)} \\log \\left( h_\\theta\\left( x^{(i)} \\right) \\right) - \\left(1 - y^{(i)} \\right) \\log \\left(1 - h_\\theta \\left( x^{(i)} \\right) \\right) \\right] $$\n",
        "\n",
        "Para calcular cada elemento en la suma, tenemos que calcular $h_\\theta(x^{(i)})$ para cada ejemplo $i$, donde $h_\\theta(x^{(i)}) = g(\\theta^T x^{(i)})$ y $g(z) = \\frac{1}{1+e^{-z}}$ es la funcion sigmoidea. Resulta que podemos calcular esto rápidamente para todos los ejemplos usando la multiplicación de matrices. Definamos $X$ y $\\theta$ como\n",
        "\n",
        "$$ X = \\begin{bmatrix} - \\left( x^{(1)} \\right)^T - \\\\ - \\left( x^{(2)} \\right)^T - \\\\ \\vdots \\\\ - \\left( x^{(m)} \\right)^T - \\end{bmatrix} \\qquad \\text{and} \\qquad \\theta = \\begin{bmatrix} \\theta_0 \\\\ \\theta_1 \\\\ \\vdots \\\\ \\theta_n \\end{bmatrix} $$\n",
        "\n",
        "Luego, de calcular el producto matricial $X\\theta$, se tiene:\n",
        "\n",
        "$$ X\\theta = \\begin{bmatrix} - \\left( x^{(1)} \\right)^T\\theta - \\\\ - \\left( x^{(2)} \\right)^T\\theta - \\\\ \\vdots \\\\ - \\left( x^{(m)} \\right)^T\\theta - \\end{bmatrix} = \\begin{bmatrix} - \\theta^T x^{(1)}  - \\\\ - \\theta^T x^{(2)} - \\\\ \\vdots \\\\ - \\theta^T x^{(m)}  - \\end{bmatrix} $$\n",
        "\n",
        "En la última igualdad, usamos el hecho de que $a^Tb = b^Ta$ if $a$ y $b$ son vectores. Esto permite calcular los productos $\\theta^T x^{(i)}$ para todos los ejemplos $i$ en una linea de codigo.\n",
        "\n",
        "#### 1.3.2 Vectorización del gradiente\n",
        "\n",
        "Recordemos que el gradiente del costo de regresión logística (no regularizado) es un vector donde el elemento $j^{th}$ se define como\n",
        "$$ \\frac{\\partial J }{\\partial \\theta_j} = \\frac{1}{m} \\sum_{i=1}^m \\left( \\left( h_\\theta\\left(x^{(i)}\\right) - y^{(i)} \\right)x_j^{(i)} \\right) $$\n",
        "\n",
        "Para vectorizar esta operación sobre el conjunto de datos, se inicia escribiendo todas las derivadas parciales explícitamente para todos $\\theta_j$,\n",
        "\n",
        "$$\n",
        "\\begin{align*}\n",
        "\\begin{bmatrix}\n",
        "\\frac{\\partial J}{\\partial \\theta_0} \\\\\n",
        "\\frac{\\partial J}{\\partial \\theta_1} \\\\\n",
        "\\frac{\\partial J}{\\partial \\theta_2} \\\\\n",
        "\\vdots \\\\\n",
        "\\frac{\\partial J}{\\partial \\theta_n}\n",
        "\\end{bmatrix} = &\n",
        "\\frac{1}{m} \\begin{bmatrix}\n",
        "\\sum_{i=1}^m \\left( \\left(h_\\theta\\left(x^{(i)}\\right) - y^{(i)} \\right)x_0^{(i)}\\right) \\\\\n",
        "\\sum_{i=1}^m \\left( \\left(h_\\theta\\left(x^{(i)}\\right) - y^{(i)} \\right)x_1^{(i)}\\right) \\\\\n",
        "\\sum_{i=1}^m \\left( \\left(h_\\theta\\left(x^{(i)}\\right) - y^{(i)} \\right)x_2^{(i)}\\right) \\\\\n",
        "\\vdots \\\\\n",
        "\\sum_{i=1}^m \\left( \\left(h_\\theta\\left(x^{(i)}\\right) - y^{(i)} \\right)x_n^{(i)}\\right) \\\\\n",
        "\\end{bmatrix} \\\\\n",
        "= & \\frac{1}{m} \\sum_{i=1}^m \\left( \\left(h_\\theta\\left(x^{(i)}\\right) - y^{(i)} \\right)x^{(i)}\\right) \\\\\n",
        "= & \\frac{1}{m} X^T \\left( h_\\theta(x) - y\\right)\n",
        "\\end{align*}\n",
        "$$\n",
        "\n",
        "donde\n",
        "\n",
        "$$  h_\\theta(x) - y =\n",
        "\\begin{bmatrix}\n",
        "h_\\theta\\left(x^{(1)}\\right) - y^{(1)} \\\\\n",
        "h_\\theta\\left(x^{(2)}\\right) - y^{(2)} \\\\\n",
        "\\vdots \\\\\n",
        "h_\\theta\\left(x^{(m)}\\right) - y^{(m)}\n",
        "\\end{bmatrix} $$\n",
        "\n",
        "Nota $x^{(i)}$ es un vector, mientras $h_\\theta\\left(x^{(i)}\\right) - y^{(i)}$ es un escalar(simple número).\n",
        "Para comprender el último paso de la derivación, dejemos $\\beta_i = (h_\\theta\\left(x^{(m)}\\right) - y^{(m)})$ y\n",
        "observar que:\n",
        "\n",
        "$$ \\sum_i \\beta_ix^{(i)} = \\begin{bmatrix}\n",
        "| & | & & | \\\\\n",
        "x^{(1)} & x^{(2)} & \\cdots & x^{(m)} \\\\\n",
        "| & | & & |\n",
        "\\end{bmatrix}\n",
        "\\begin{bmatrix}\n",
        "\\beta_1 \\\\\n",
        "\\beta_2 \\\\\n",
        "\\vdots \\\\\n",
        "\\beta_m\n",
        "\\end{bmatrix} = x^T \\beta\n",
        "$$\n",
        "\n",
        "donde los valores $\\beta_i = \\left( h_\\theta(x^{(i)} - y^{(i)} \\right)$.\n",
        "\n",
        "La expresión anterior nos permite calcular todas las derivadas parciales sin bucles.\n",
        "Si se siente cómodo con el álgebra lineal, le recomendamos que trabaje con las multiplicaciones de matrices anteriores para convencerse de que la versión vectorizada hace los mismos cálculos.\n",
        "\n",
        "<div class=\"alert alert-box alert-warning\">\n",
        "** Consejo de depuración: ** El código de vectorización a veces puede ser complicado. Una estrategia común para la depuración es imprimir los tamaños de las matrices con las que está trabajando usando la propiedad `shape` de las matrices` numpy`.\n",
        "\n",
        "Por ejemplo, dada una matriz de datos $X$ de tamaño $100\\veces 20$ (100 ejemplos, 20 características) y $\\theta$, un vector con tamaño $20$, puede observar que `np.dot (X, theta) `es una operación de multiplicación válida, mientras que` np.dot (theta, X) `no lo es.\n",
        "\n",
        "Además, si tiene una versión no vectorizada de su código, puede comparar la salida de su código vectorizado y el código no vectorizado para asegurarse de que produzcan las mismas salidas.</div>\n",
        "<a id=\"lrCostFunction\"></a>"
      ]
    },
    {
      "cell_type": "code",
      "execution_count": 37,
      "metadata": {
        "id": "0sB9Kyi8SxgN"
      },
      "outputs": [],
      "source": [
        "def sigmoid(z):\n",
        "    \"\"\"\n",
        "    Calcula la sigmoide de z.\n",
        "    \"\"\"\n",
        "    return 1.0 / (1.0 + np.exp(-z))"
      ]
    },
    {
      "cell_type": "code",
      "execution_count": 38,
      "metadata": {
        "id": "w5S0OOswSxgN"
      },
      "outputs": [],
      "source": [
        "def lrCostFunction(theta, X, y, lambda_):\n",
        "    \"\"\"\n",
        "    Calcula el costo de usar theta como parámetro para la regresión logística regularizada y\n",
        "    el gradiente del costo w.r.t. a los parámetros.\n",
        "\n",
        "    Parametros\n",
        "    ----------\n",
        "    theta : array_like\n",
        "        Parametro theta de la regresion logistica. Vector de la forma(shape) (n, ). n es el numero de caracteristicas\n",
        "        incluida la intercepcion\n",
        "\n",
        "    X : array_like\n",
        "        Dataset con la forma(shape) (m x n). m es el numero de ejemplos, y n es el numero de\n",
        "        caracteristicas (incluida la intercepcion).\n",
        "\n",
        "    y : array_like\n",
        "        El conjunto de etiquetas. Un vector con la forma (shape) (m, ). m es el numero de ejemplos\n",
        "\n",
        "    lambda_ : float\n",
        "        Parametro de regularización.\n",
        "\n",
        "    Devuelve\n",
        "    -------\n",
        "    J : float\n",
        "        El valor calculado para la funcion de costo regularizada.\n",
        "\n",
        "    grad : array_like\n",
        "        Un vector de la forma (shape) (n, ) que es el gradiente de la\n",
        "        función de costo con respecto a theta, en los valores actuales de theta..\n",
        "    \"\"\"\n",
        "#     alpha = 0.003\n",
        "#     theta = theta.copy()\n",
        "    # Inicializa algunos valores utiles\n",
        "    m = y.size\n",
        "\n",
        "    # convierte las etiquetas a valores enteros si son boleanos\n",
        "    if y.dtype == bool:\n",
        "        y = y.astype(int)\n",
        "\n",
        "    J = 0\n",
        "    grad = np.zeros(theta.shape)\n",
        "\n",
        "    h = sigmoid(X.dot(theta.T))\n",
        "\n",
        "    temp = theta\n",
        "    temp[0] = 0\n",
        "\n",
        "#     J = (1 / m) * np.sum(-y.dot(np.log(h)) - (1 - y).dot(np.log(1 - h)))\n",
        "    J = (1 / m) * np.sum(-y.dot(np.log(h)) - (1 - y).dot(np.log(1 - h))) + (lambda_ / (2 * m)) * np.sum(np.square(temp))\n",
        "\n",
        "    grad = (1 / m) * (h - y).dot(X)\n",
        "#     theta = theta - (alpha / m) * (h - y).dot(X)\n",
        "    grad = grad + (lambda_ / m) * temp\n",
        "\n",
        "    return J, grad\n",
        "#    return J, theta"
      ]
    },
    {
      "cell_type": "markdown",
      "metadata": {
        "id": "eJyLWCXrSxgN"
      },
      "source": [
        "#### 1.3.3 Vectorización regularizada de la regresión logística\n",
        "\n",
        "Una vez implementada la vectorización para la regresión logística, corresponde agregarar regularización a la función de costo.\n",
        "Para la regresión logística regularizada, la función de costo se define como\n",
        "\n",
        "$$ J(\\theta) = \\frac{1}{m} \\sum_{i=1}^m \\left[ -y^{(i)} \\log \\left(h_\\theta\\left(x^{(i)} \\right)\\right) - \\left( 1 - y^{(i)} \\right) \\log\\left(1 - h_\\theta \\left(x^{(i)} \\right) \\right) \\right] + \\frac{\\lambda}{2m} \\sum_{j=1}^n \\theta_j^2 $$\n",
        "\n",
        "Tomar en cuenta que no debería regularizarse $\\theta_0$ que se usa para el término de sesgo. En consecuencia, la derivada parcial del costo de regresión logística regularizado para $\\theta_j$ se define como\n",
        "\n",
        "$$\n",
        "\\begin{align*}\n",
        "& \\frac{\\partial J(\\theta)}{\\partial \\theta_0} = \\frac{1}{m} \\sum_{i=1}^m \\left( h_\\theta\\left( x^{(i)} \\right) - y^{(i)} \\right) x_j^{(i)}  & \\text{for } j = 0 \\\\\n",
        "& \\frac{\\partial J(\\theta)}{\\partial \\theta_0} = \\left( \\frac{1}{m} \\sum_{i=1}^m \\left( h_\\theta\\left( x^{(i)} \\right) - y^{(i)} \\right) x_j^{(i)} \\right) + \\frac{\\lambda}{m} \\theta_j & \\text{for } j  \\ge 1\n",
        "\\end{align*}\n",
        "$$\n",
        "\n",
        "<div class=\"alert alert-box alert-warning\">\n",
        "** Python/numpy Consejo: ** Al implementar la vectorización para la regresión logística regularizada, a menudo es posible que solo desee sumar y actualizar ciertos elementos de $\\theta$. En `numpy`, puede indexar en las matrices para acceder y actualizar solo ciertos elementos.\n",
        "\n",
        "Por ejemplo, A [:, 3: 5] = B [:, 1: 3] reemplazará las columnas con índice 3 a 5 de A con las columnas con índice 1 a 3 de B.   \n",
        "Para seleccionar columnas (o filas) hasta el final de la matriz, puede dejar el lado derecho de los dos puntos en blanco.\n",
        "Por ejemplo, A [:, 2:] solo devolverá elementos desde $3^{rd}$ a las últimas columnas de $A$.Si deja el tamaño de la mano izquierda de los dos puntos en blanco, seleccionará los elementos del principio de la matriz.\n",
        "Por ejemplo, A [:,: 2] selecciona las dos primeras columnas y es equivalente a A [:, 0: 2]. Además, puede utilizar índices negativos para indexar matrices desde el final.\n",
        "Por lo tanto, A [:,: -1] selecciona todas las columnas de A excepto la última columna, y A [:, -5:] selecciona la columna $5^{th}$ desde el final hasta la última columna.\n",
        "\n",
        "Por lo tanto, podría usar esto junto con las operaciones de suma y potencia ($^{**}$) para calcular la suma de solo los elementos que le interesan (por ejemplo, `np.sum (z[1:]**2)`).\n",
        "</div>\n"
      ]
    },
    {
      "cell_type": "markdown",
      "metadata": {
        "id": "Rlk-Z2p-SxgN"
      },
      "source": [
        "<a id=\"section2\"></a>\n",
        "### 1.4 Clasificacion One-vs-all\n",
        "En esta parte del ejercicio, se implementará la clasificación de uno contra todos mediante el entrenamiento de múltiples clasificadores de regresión logística regularizados, uno para cada una de las clases $K$ en nuestro conjunto de datos. En el conjunto de datos de dígitos escritos a mano, $K = 10$, pero su código debería funcionar para cualquier valor de $K$.\n",
        "\n",
        "El argumento `y` de esta función es un vector de etiquetas de 0 a 9. Al entrenar el clasificador para la clase $k \\in \\{0, ..., K-1 \\} $, querrá un vector K-dimensional de etiquetas $y$, donde $y_j \\ in 0, 1$ indica si la instancia de entrenamiento $j ^ {th}$ pertenece a la clase $k$ $(y_j = 1)$, o si pertenece a una clase diferente $(y_j = 0)$.\n",
        "\n",
        "Además, se utiliza `optimize.minimize` de scipy para este ejercicio.\n",
        "<a id=\"oneVsAll\"></a>"
      ]
    },
    {
      "cell_type": "code",
      "execution_count": 39,
      "metadata": {
        "id": "V0rOw5qhSxgN"
      },
      "outputs": [],
      "source": [
        "def oneVsAll(X, y, num_labels, lambda_):\n",
        "    \"\"\"\n",
        "    Trains num_labels logistic regression classifiers and returns\n",
        "    each of these classifiers in a matrix all_theta, where the i-th\n",
        "    row of all_theta corresponds to the classifier for label i.\n",
        "\n",
        "    Parameters\n",
        "    ----------\n",
        "    X : array_like\n",
        "        The input dataset of shape (m x n). m is the number of\n",
        "        data points, and n is the number of features. Note that we\n",
        "        do not assume that the intercept term (or bias) is in X, however\n",
        "        we provide the code below to add the bias term to X.\n",
        "\n",
        "    y : array_like\n",
        "        The data labels. A vector of shape (m, ).\n",
        "\n",
        "    num_labels : int\n",
        "        Number of possible labels.\n",
        "\n",
        "    lambda_ : float\n",
        "        The logistic regularization parameter.\n",
        "\n",
        "    Returns\n",
        "    -------\n",
        "    all_theta : array_like\n",
        "        The trained parameters for logistic regression for each class.\n",
        "        This is a matrix of shape (K x n+1) where K is number of classes\n",
        "        (ie. `numlabels`) and n is number of features without the bias.\n",
        "    \"\"\"\n",
        "    # algunas variables utiles\n",
        "    m, n = X.shape\n",
        "\n",
        "    all_theta = np.zeros((num_labels, n + 1))\n",
        "\n",
        "    # Agrega unos a la matriz X\n",
        "    X = np.concatenate([np.ones((m, 1)), X], axis=1)\n",
        "\n",
        "    for c in np.arange(num_labels):\n",
        "        print(f\"Entrenando para la clase {c}...\")\n",
        "        initial_theta = np.zeros(n + 1)\n",
        "        options = {'maxiter': 50}\n",
        "        res = optimize.minimize(lrCostFunction,\n",
        "                                initial_theta,\n",
        "                                (X, (y == c), lambda_),\n",
        "                                jac=True,\n",
        "                                method='CG',\n",
        "                                options=options)\n",
        "        all_theta[c] = res.x\n",
        "\n",
        "    return all_theta"
      ]
    },
    {
      "cell_type": "code",
      "execution_count": 40,
      "metadata": {
        "id": "w6JbsLLMSxgO",
        "outputId": "c75adc96-ad16-41c2-dc7b-54a63c32d18a",
        "colab": {
          "base_uri": "https://localhost:8080/"
        }
      },
      "outputs": [
        {
          "output_type": "stream",
          "name": "stdout",
          "text": [
            "Entrenando para la clase 0...\n",
            "Entrenando para la clase 1...\n",
            "Entrenando para la clase 2...\n",
            "Entrenando para la clase 3...\n",
            "Entrenando para la clase 4...\n",
            "Entrenando para la clase 5...\n",
            "Entrenando para la clase 6...\n",
            "Entrenando para la clase 7...\n",
            "Entrenando para la clase 8...\n",
            "Entrenando para la clase 9...\n",
            "Entrenando para la clase 10...\n",
            "Entrenando para la clase 11...\n",
            "Entrenando para la clase 12...\n",
            "Entrenando para la clase 13...\n",
            "Entrenando para la clase 14...\n",
            "Entrenando para la clase 15...\n",
            "Entrenando para la clase 16...\n",
            "Entrenando para la clase 17...\n",
            "Entrenando para la clase 18...\n",
            "Entrenando para la clase 19...\n",
            "Entrenando para la clase 20...\n",
            "Entrenando para la clase 21...\n",
            "Entrenando para la clase 22...\n",
            "Entrenando para la clase 23...\n",
            "Entrenando para la clase 24...\n",
            "Entrenando para la clase 25...\n",
            "Entrenando para la clase 26...\n",
            "Entrenando para la clase 27...\n",
            "Entrenando para la clase 28...\n",
            "(29, 14)\n"
          ]
        }
      ],
      "source": [
        "lambda_ = 0.1\n",
        "all_theta = oneVsAll(X, y, num_labels, lambda_)\n",
        "print(all_theta.shape)"
      ]
    },
    {
      "cell_type": "code",
      "source": [
        "print(all_theta)"
      ],
      "metadata": {
        "colab": {
          "base_uri": "https://localhost:8080/"
        },
        "id": "V1EfKaiEgtcw",
        "outputId": "3f417791-19eb-48f2-e1fc-5cb1febf44cf"
      },
      "execution_count": 42,
      "outputs": [
        {
          "output_type": "stream",
          "name": "stdout",
          "text": [
            "[[-1.88307990e+00  1.02611261e+00  1.39665472e-01  2.24839170e-02\n",
            "  -1.22462786e-01  6.23088237e-02  1.22069207e-01 -3.58090599e-01\n",
            "   4.87430812e-01 -1.31360979e-01 -3.32408879e-02  8.10112732e-02\n",
            "   4.65418042e-02  7.52271436e-02]\n",
            " [-3.62920571e+00  1.49478905e+00  6.04322258e-02  4.12675479e-02\n",
            "   2.76446025e-01 -7.44213931e-02  1.16742642e-01 -1.18220661e-02\n",
            "   1.50459213e-01  2.50653805e-01  1.24346488e-01 -2.33767595e-01\n",
            "  -3.01960890e-02 -6.09702850e-02]\n",
            " [-1.34960773e+01 -1.24805655e+01  8.86752384e-02 -6.79771041e-02\n",
            "   4.09797322e-01 -1.46322838e-01 -2.19639636e-02  4.94932701e-01\n",
            "  -2.12670399e-01 -1.20834722e-01  3.58082527e-01  1.80305174e-01\n",
            "   3.42174643e-01 -4.39157942e-01]\n",
            " [-5.68151413e+00  8.53283570e-01 -1.51456599e-01  3.86378739e-02\n",
            "   1.44877433e-01 -1.78805962e-01 -4.69938385e-02 -4.69949952e-01\n",
            "  -4.86349830e-03  4.07730906e-01  8.91902292e-02  5.63001960e-02\n",
            "  -2.11523411e-01 -5.84237323e-01]\n",
            " [-6.65107737e+00  3.66963719e+00  1.36177786e-01  1.12208334e-01\n",
            "   5.98823151e-01 -3.55033863e-01 -1.23127605e-01 -8.54538725e-02\n",
            "   1.14928173e-01  3.38936072e-01 -1.25950007e-01 -2.20881462e-01\n",
            "   3.29263658e-02 -4.70968791e-01]\n",
            " [-5.20709542e+00 -7.43478045e-01 -2.33490120e-01  3.58650294e-02\n",
            "   1.06000921e+00 -1.76809520e-01  1.50900445e+00  3.45549569e-01\n",
            "   6.28572839e-01  1.73004348e-01  4.51252032e-01 -3.03945442e-01\n",
            "   1.02848502e-01  4.57686967e-01]\n",
            " [-2.41638077e+00 -1.13331377e+00 -8.11044883e-02  2.38617726e-02\n",
            "  -6.23208165e-01  7.81740119e-02 -5.28147787e-01 -7.94221437e-02\n",
            "  -2.45441318e-01 -5.09939897e-02 -8.62306329e-02 -1.47868690e-01\n",
            "   9.33948503e-02  9.89128815e-01]\n",
            " [-3.74115706e+00 -5.93423698e-01 -3.49839884e-02  8.39746680e-03\n",
            "   4.64236912e-01 -1.68844328e-02  1.02272213e+00 -6.49716490e-03\n",
            "   1.66243068e-01 -2.80500224e-01 -3.71423743e-02 -3.16371394e-02\n",
            "  -9.66190706e-02  8.49129396e-02]\n",
            " [-7.84099924e+01 -5.74402847e+01 -3.82085673e-02  9.43978080e-02\n",
            "   5.58342004e-01  5.52192015e-01 -2.28281470e-01 -4.13662268e-01\n",
            "   1.55594880e-01  7.60877204e-02  3.39397926e-01  6.06254872e-02\n",
            "  -4.43970064e-03 -1.37159520e-01]\n",
            " [-1.98227662e+01  1.09963776e+01 -1.36286636e-01 -1.37381711e-01\n",
            "   1.18295296e+00  5.67120665e-01 -4.40118014e-01  6.10458284e-01\n",
            "  -8.12808670e-01 -1.07850860e+00  2.63493089e-01  3.08451988e-01\n",
            "   1.98311899e-01  5.44061064e-02]\n",
            " [-7.11973628e+00  1.48049092e+00 -1.03501171e-01 -7.89164568e-02\n",
            "   2.98223537e-01  4.01113940e-01 -1.79965472e+00  1.49996097e+00\n",
            "  -1.49127821e+00 -1.18157564e-01  6.30787245e-02 -2.54096976e-01\n",
            "  -7.35015044e-02  1.87197509e-02]\n",
            " [-8.54286967e+00  1.35828137e-01 -2.75235484e-01  5.02385720e-02\n",
            "   9.85234808e-01  9.86324380e-01 -1.20900853e+00  1.62303810e+00\n",
            "  -2.25558710e+00  9.80658644e-01 -3.72907091e-02 -3.13719938e-01\n",
            "   2.77767350e-01 -9.93542105e-01]\n",
            " [-3.99802242e+00  6.62957651e-02  9.52951054e-02  2.72307967e-02\n",
            "   4.11586897e-01 -1.68429573e-01  7.12114814e-01  5.88557183e-01\n",
            "   5.57086807e-01 -2.34585482e-01  3.10147893e-01  1.48849112e-01\n",
            "  -3.02875355e-01 -3.48541029e-01]\n",
            " [-1.91872847e+01  4.88392771e+00  1.91390412e-01 -1.27097795e-01\n",
            "  -1.12817529e+00  3.71736873e-01  4.18438494e-01  2.74472038e+00\n",
            "  -1.67930820e+00  2.16090274e+00  2.52528135e-02  4.65151628e-01\n",
            "  -3.03979371e+00  5.07277718e-01]\n",
            " [-7.19632557e+01  4.30425974e+01  1.72476206e-01  4.16031512e-02\n",
            "   2.89384111e-01 -6.99166518e-01  1.02435377e+00 -1.02246377e+00\n",
            "   8.35922868e-01  5.44228987e-01  1.42676441e-01 -8.18503524e-01\n",
            "   6.81623848e-01 -1.76916415e-01]\n",
            " [-1.44433535e+01  2.08531617e+00  2.16256394e-02  1.75481193e-02\n",
            "   2.52886294e-01  4.16625681e-01 -3.58309915e+00 -2.86685063e+00\n",
            "   2.28081866e-01 -1.76897873e+00  1.77936886e+00  4.00976255e-01\n",
            "  -4.04999994e-01 -2.73501247e-01]\n",
            " [-6.47337067e+00  2.10125984e+00 -2.52644218e-01 -4.28965461e-02\n",
            "   6.17839776e-01  9.11242578e-02  1.32575989e-01 -8.56334046e-01\n",
            "  -5.65621606e-01  2.47883747e-02  4.16874034e-03  3.64161812e-01\n",
            "  -1.29804836e-02 -7.87515798e-02]\n",
            " [-1.03520841e+01  8.53205142e-02  8.65807260e-02 -2.89255923e-01\n",
            "  -1.55283870e+00 -3.13726699e-02 -2.24612997e-01  1.86089165e+00\n",
            "  -1.35725595e+00  1.07368393e+00 -9.62627506e-03  1.56572187e-02\n",
            "  -4.08038069e+00 -6.41048346e-02]\n",
            " [-1.04615508e+01 -6.92521793e-01 -1.22993663e-01 -1.15403322e-01\n",
            "  -6.14879372e-01 -1.94166378e-01 -1.38876875e+00  2.66034840e+00\n",
            "  -3.08266501e+00  8.22537362e-01 -2.40573981e-01  1.52746215e-01\n",
            "  -9.29466203e-01  3.41643092e-01]\n",
            " [-2.20400341e+01  1.08053773e+01 -1.63533862e-01  5.27087925e-02\n",
            "  -9.95715598e-01  4.51046560e-01 -8.99993231e-01  1.23709748e+00\n",
            "  -1.76233132e+00  4.36160215e-01 -3.33195350e-01  1.58831070e-02\n",
            "  -5.88404071e-01 -7.31607177e-02]\n",
            " [-1.01517258e+01 -6.13223087e-02  1.40923488e-01  1.52634462e-01\n",
            "  -1.51540896e+00  1.10723156e-01  1.12603635e+00  7.86795685e-01\n",
            "   1.98064709e-03  9.56002995e-01 -2.13060791e-01 -6.55329045e-01\n",
            "  -2.84606508e-01 -7.26548775e-01]\n",
            " [-7.84555507e+00 -4.24599430e-01 -6.44010622e-02 -3.84803655e-02\n",
            "   2.62849263e-01  6.77384916e-01 -1.12503804e+00  9.74452995e-01\n",
            "  -1.60401197e-01  1.24670415e+00 -1.79921374e-01 -2.73327878e-01\n",
            "  -4.31951028e-01 -2.04963745e-01]\n",
            " [-2.26113747e+01 -1.06772510e+01 -2.82329121e-01 -2.33685967e-01\n",
            "  -1.63040451e+00 -2.74538984e-01 -2.93595101e-01  1.62673045e+00\n",
            "  -1.30826144e+00  2.14347676e+00 -3.24907412e-01  3.14093671e-01\n",
            "  -2.80566858e+00  4.01648389e-01]\n",
            " [-8.41507614e+00 -2.56165392e-01 -5.39194672e-02  1.38412842e-01\n",
            "  -3.39436728e-01  3.47578740e-01 -1.24225804e+00  7.20261117e-01\n",
            "  -1.53539139e+00  1.04725236e+00 -1.93316828e-01  2.34601282e-01\n",
            "  -2.38706777e-01 -6.08383815e-01]\n",
            " [-1.29214237e+01  1.72285123e-01  1.75006444e-01 -2.51616372e-01\n",
            "  -1.73743845e+00 -3.40098740e-01  1.38624023e+00  5.64078748e-01\n",
            "   1.31701686e-01  1.51579156e+00  1.34318947e+00  5.19831359e-01\n",
            "  -3.83725389e-01 -7.04445223e-01]\n",
            " [-1.26367332e+01 -7.88247479e-02  1.40198053e-01  1.15335497e+00\n",
            "   1.81146494e+00  1.62587853e+00 -1.27516254e+00  9.95320760e-02\n",
            "   4.72860000e-01  2.44225422e+00  5.43898295e-01  5.70178325e-01\n",
            "   1.95259952e-01  7.09555526e-01]\n",
            " [-1.34303913e+01  4.83440118e+00 -4.17942996e-01  9.46477647e-02\n",
            "  -1.57766814e+00  5.78034769e-02 -7.86884218e-02  4.90928942e-01\n",
            "  -3.30124671e-02 -2.42743746e-01  4.11591617e-01  1.12152940e-01\n",
            "   1.53714863e-01 -7.36167726e-02]\n",
            " [-2.19189654e+01  5.79680010e+00 -1.44603379e-01 -4.53690075e-02\n",
            "  -3.42870363e-01  9.34242383e-02  4.29302530e+00  1.29539150e+00\n",
            "   5.40103927e-01  1.71344692e+00  1.62128411e+00  9.98390507e-01\n",
            "  -1.92101232e+00  1.22863246e-01]\n",
            " [-8.74957767e+00  1.65206536e+00 -6.21244618e-02 -7.82225649e-03\n",
            "  -7.13447863e-01 -6.69039761e-01 -3.42969364e-01  1.56580885e-01\n",
            "  -1.40670216e+00 -2.25316311e-02 -1.81690651e-01 -8.42584168e-02\n",
            "   1.24677287e-01 -5.39114095e-01]]\n"
          ]
        }
      ]
    },
    {
      "cell_type": "markdown",
      "metadata": {
        "id": "aQLqvbc_SxgO"
      },
      "source": [
        "<a id=\"section3\"></a>\n",
        "#### 1.4.1 Prediccion One-vs-all\n",
        "\n",
        "Después de entrenar el clasificador de one-vs-all, se puede usarlo para predecir el dígito contenido en una imagen determinada. Para cada entrada, debe calcular la \"probabilidad\" de que pertenezca a cada clase utilizando los clasificadores de regresión logística entrenados. La función de predicción one-vs-all seleccionará la clase para la cual el clasificador de regresión logística correspondiente genera la probabilidad más alta y devolverá la etiqueta de clase (0, 1, ..., K-1) como la predicción para el ejemplo de entrada."
      ]
    },
    {
      "cell_type": "code",
      "execution_count": 43,
      "metadata": {
        "id": "PjFoFe1bSxgO"
      },
      "outputs": [],
      "source": [
        "def predictOneVsAll(all_theta, X):\n",
        "    \"\"\"\n",
        "    Devuelve un vector de predicciones para cada ejemplo en la matriz X.\n",
        "    Tenga en cuenta que X contiene los ejemplos en filas.\n",
        "    all_theta es una matriz donde la i-ésima fila es un vector theta de regresión logística entrenada para la i-ésima clase.\n",
        "    Debe establecer p en un vector de valores de 0..K-1 (por ejemplo, p = [0, 2, 0, 1]\n",
        "    predice clases 0, 2, 0, 1 para 4 ejemplos).\n",
        "\n",
        "    Parametros\n",
        "    ----------\n",
        "    all_theta : array_like\n",
        "        The trained parameters for logistic regression for each class.\n",
        "        This is a matrix of shape (K x n+1) where K is number of classes\n",
        "        and n is number of features without the bias.\n",
        "\n",
        "    X : array_like\n",
        "        Data points to predict their labels. This is a matrix of shape\n",
        "        (m x n) where m is number of data points to predict, and n is number\n",
        "        of features without the bias term. Note we add the bias term for X in\n",
        "        this function.\n",
        "\n",
        "    Devuelve\n",
        "    -------\n",
        "    p : array_like\n",
        "        The predictions for each data point in X. This is a vector of shape (m, ).\n",
        "    \"\"\"\n",
        "\n",
        "    m = X.shape[0];\n",
        "    num_labels = all_theta.shape[0]\n",
        "\n",
        "    p = np.zeros(m)\n",
        "\n",
        "    # Add ones to the X data matrix\n",
        "    X = np.concatenate([np.ones((m, 1)), X], axis=1)\n",
        "    p = np.argmax(sigmoid(X.dot(all_theta.T)), axis = 1)\n",
        "\n",
        "    return p\n",
        "\n"
      ]
    },
    {
      "cell_type": "markdown",
      "metadata": {
        "id": "zo3aawvsSxgO"
      },
      "source": [
        "Una vez que haya terminado, se llama a la función `predictOneVsAll` usando el valor aprendido de $\\theta$. Debería apreciarse que la precisión del conjunto de entrenamiento es de aproximadamente 95,1% (es decir, clasifica correctamente el 95,1% de los ejemplos del conjunto de entrenamiento)."
      ]
    },
    {
      "cell_type": "code",
      "source": [
        "X_Nor_test, mu, sigma = featureNormalize(X_test)\n",
        "#print(X_Nor_test)\n",
        "\n",
        "pred = predictOneVsAll(all_theta, X_Nor_test)\n",
        "print('Precision del conjuto de entrenamiento: {:.2f}%'.format(np.mean(pred == y_test) * 100))\n",
        "\n",
        "# Selecciona las primeras 150 filas de X\n",
        "XPrueba = X_Nor_test.iloc[0:150, :].copy()\n",
        "#XPrueba = np.concatenate([np.ones((150, 1)), XPrueba], axis=1)\n",
        "#print(XPrueba[0])\n",
        "p = predictOneVsAll(all_theta, XPrueba)\n",
        "#print(XPrueba[0])\n",
        "#p = np.argmax(sigmoid(XPrueba.dot(all_theta.T)), axis=1)\n",
        "\n",
        "print(\"Predicciones\")\n",
        "print(p)\n",
        "\n",
        "# Muestra los datos reales de prueba\n",
        "print(\"Datos reales de prueba\")\n",
        "print(y_test[0:150])"
      ],
      "metadata": {
        "colab": {
          "base_uri": "https://localhost:8080/"
        },
        "id": "xlpBdKW0XQcx",
        "outputId": "e19dc82d-021f-4415-a473-12a0c0facbc7"
      },
      "execution_count": 44,
      "outputs": [
        {
          "output_type": "stream",
          "name": "stdout",
          "text": [
            "Precision del conjuto de entrenamiento: 67.13%\n",
            "Predicciones\n",
            "[ 6  4  0  0  2  2  6  0  6  6  0  2  2  6  2  0  0  0  6  0  2  0  0  2\n",
            "  0  0  0  0  2  6  0  0  0  0  2  6  2  4  0  6  0  9 12  6  0  2  2  4\n",
            "  6  6  0  0  2  0  2  0  6 14  2  2  1  6  0  0  2  9 12  6 12  2  7  4\n",
            " 12  4  2  6  9  7  6  2  0  2  6  0  0  6 14  0  0  6  0  6  0 14  2  0\n",
            "  6  6  2 12  2  6  2  0 12  2  0  2  0  6  6 12  0  2  0  0  0  6  0  0\n",
            "  2  0  2  0  7  0  0  2  0  2  0  5  0  6  6  0  0  6  0  6  6  6  6  0\n",
            "  0  0  7 12  6  0]\n",
            "Datos reales de prueba\n",
            "38907    21\n",
            "96663     4\n",
            "88646     0\n",
            "93444    10\n",
            "17730     2\n",
            "         ..\n",
            "59777    10\n",
            "41159     7\n",
            "65056     4\n",
            "7692      6\n",
            "12235    10\n",
            "Name: brand, Length: 150, dtype: int64\n"
          ]
        }
      ]
    }
  ],
  "metadata": {
    "kernelspec": {
      "display_name": "Python 3",
      "language": "python",
      "name": "python3"
    },
    "language_info": {
      "codemirror_mode": {
        "name": "ipython",
        "version": 3
      },
      "file_extension": ".py",
      "mimetype": "text/x-python",
      "name": "python",
      "nbconvert_exporter": "python",
      "pygments_lexer": "ipython3",
      "version": "3.8.5"
    },
    "colab": {
      "provenance": [],
      "include_colab_link": true
    }
  },
  "nbformat": 4,
  "nbformat_minor": 0
}