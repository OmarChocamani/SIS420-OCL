{
  "cells": [
    {
      "cell_type": "markdown",
      "metadata": {
        "id": "view-in-github",
        "colab_type": "text"
      },
      "source": [
        "<a href=\"https://colab.research.google.com/github/OmarChocamani/SIS420-OCL/blob/main/Copia_de_reg_log_onevsall_03.ipynb\" target=\"_parent\"><img src=\"https://colab.research.google.com/assets/colab-badge.svg\" alt=\"Open In Colab\"/></a>"
      ]
    },
    {
      "cell_type": "code",
      "source": [
        "from google.colab import drive\n",
        "drive.mount('/content/drive')"
      ],
      "metadata": {
        "colab": {
          "base_uri": "https://localhost:8080/"
        },
        "id": "clyp4NcQycWP",
        "outputId": "73c6e22b-6685-417a-8c47-8acaaaeff953"
      },
      "execution_count": 1,
      "outputs": [
        {
          "output_type": "stream",
          "name": "stdout",
          "text": [
            "Drive already mounted at /content/drive; to attempt to forcibly remount, call drive.mount(\"/content/drive\", force_remount=True).\n"
          ]
        }
      ]
    },
    {
      "cell_type": "code",
      "execution_count": 2,
      "metadata": {
        "id": "20Q29kX8SxgJ"
      },
      "outputs": [],
      "source": [
        "# utilizado para la manipulación de directorios y rutas\n",
        "import os\n",
        "\n",
        "# Cálculo científico y vectorial para python\n",
        "import numpy as np\n",
        "import pandas as pd\n",
        "\n",
        "# Libreria para graficos\n",
        "from matplotlib import pyplot\n",
        "\n",
        "# Modulo de optimizacion en scipy\n",
        "from scipy import optimize\n",
        "from sklearn.preprocessing import LabelEncoder\n",
        "from sklearn.model_selection import train_test_split\n",
        "\n",
        "# modulo para cargar archivos en formato MATLAB\n",
        "# from scipy.io import loadmat\n",
        "\n",
        "# le dice a matplotlib que incruste gráficos en el cuaderno\n",
        "%matplotlib inline"
      ]
    },
    {
      "cell_type": "code",
      "source": [
        "data= pd.read_csv('/content/drive/MyDrive/SIS420/MiDataSets/gcar_data.csv')\n",
        "#data.info()\n",
        "#print(data)"
      ],
      "metadata": {
        "id": "0yE2CNNulM0g"
      },
      "execution_count": 3,
      "outputs": []
    },
    {
      "cell_type": "code",
      "source": [
        "#Se agragan las 3 columnas necesarias\n",
        "# Crear una nueva columna que describe el estado basado en el kilometraje\n",
        "data['estado'] = data['mileage_in_km'].apply(lambda x: 'Excelente' if x < 50000 else 'Usado')\n",
        "# Crear una columna booleana indicando si el auto tiene transmisión automática\n",
        "data['es_automatico'] = data['transmission_type'].apply(lambda x: True if x == 'Automático' else False)\n",
        "# Crear una columna que combine la potencia y el tipo de combustible\n",
        "data['descripcion_auto'] = data.apply(lambda row: f\"{row['power_kw']} KW - {row['fuel_type']}\", axis=1)\n",
        "print(data)"
      ],
      "metadata": {
        "id": "NjZiST-qYaEc",
        "outputId": "12796c2d-8447-4616-b327-706d805be3c8",
        "colab": {
          "base_uri": "https://localhost:8080/"
        }
      },
      "execution_count": 4,
      "outputs": [
        {
          "output_type": "stream",
          "name": "stdout",
          "text": [
            "       Unnamed: 0       brand                 model  color registration_date  \\\n",
            "0           75721        ford             Ford Kuga  black           05/2023   \n",
            "1           80184     hyundai           Hyundai i10  black           09/2018   \n",
            "2           19864        audi        Audi Q4 e-tron   grey           05/2021   \n",
            "3           76699       honda            Honda CR-V    red           07/2018   \n",
            "4           92991         kia          Kia Sportage  black           02/2023   \n",
            "...           ...         ...                   ...    ...               ...   \n",
            "99995        6265        audi               Audi A1   blue           05/2012   \n",
            "99996       54886        fiat              Fiat 500  black           12/2019   \n",
            "99997       76820       honda            Honda CR-V  brown           01/2019   \n",
            "99998         860  alfa-romeo  Alfa Romeo Giulietta   grey           12/2020   \n",
            "99999       15795        audi               Audi A3  black           05/2018   \n",
            "\n",
            "       year price_in_euro power_kw power_ps transmission_type fuel_type  \\\n",
            "0      2023         38490      140      190         Automatic    Hybrid   \n",
            "1      2018         11555       49       67            Manual    Petrol   \n",
            "2      2021         48886      125      170         Automatic  Electric   \n",
            "3      2018         24490      114      155         Automatic    Petrol   \n",
            "4      2023         34990      110      150            Manual    Petrol   \n",
            "...     ...           ...      ...      ...               ...       ...   \n",
            "99995  2012         12599       90      122            Manual    Petrol   \n",
            "99996  2019          9999       51       69         Automatic    Petrol   \n",
            "99997  2019         24800      127      173            Manual    Petrol   \n",
            "99998  2020         22990      125      170         Automatic    Diesel   \n",
            "99999  2018         21900      110      150            Manual    Petrol   \n",
            "\n",
            "      fuel_consumption_l_100km fuel_consumption_g_km  mileage_in_km  \\\n",
            "0                 5,4 l/100 km              124 g/km          100.0   \n",
            "1                 4,6 l/100 km              106 g/km        27782.0   \n",
            "2                          NaN                0 g/km         4247.0   \n",
            "3                 7,5 l/100 km              175 g/km        57000.0   \n",
            "4                 5,9 l/100 km              150 g/km         7500.0   \n",
            "...                        ...                   ...            ...   \n",
            "99995             5,3 l/100 km              126 g/km       148000.0   \n",
            "99996             5,2 l/100 km              120 g/km        31698.0   \n",
            "99997             6,3 l/100 km              143 g/km        77900.0   \n",
            "99998             5,5 l/100 km              145 g/km        52251.0   \n",
            "99999             5,3 l/100 km              120 g/km        30400.0   \n",
            "\n",
            "                                      offer_description     estado  \\\n",
            "0        ST-Line Hybrid Adapt.LED+Head-Up-Display Klima  Excelente   \n",
            "1                   blue Trend,Viele Extras,Top-Zustand  Excelente   \n",
            "2          35 e-tron S line/Matrix/Pano/ACC/SONOS/LM 21  Excelente   \n",
            "3                 2.0 Lifestyle Plus Automatik Navi FAP      Usado   \n",
            "4                          1.6 T 48V 2WD Spirit LED, WR  Excelente   \n",
            "...                                                 ...        ...   \n",
            "99995        Ambition TFSI Navi/Leder/SHZ/PTS/KETTE NEU      Usado   \n",
            "99996                       1.2 Lounge +Automatik + PDC  Excelente   \n",
            "99997  1.5T 2WD Elegance * 1. Hand * 24 Mon. Garantie *      Usado   \n",
            "99998            Lusso Ti 2.0 JTDM 16V Xenon Leder Navi      Usado   \n",
            "99999         Sportback1.5 Sport|VIRTUAL|NAVI|LED|30KM|  Excelente   \n",
            "\n",
            "       es_automatico   descripcion_auto  \n",
            "0              False    140 KW - Hybrid  \n",
            "1              False     49 KW - Petrol  \n",
            "2              False  125 KW - Electric  \n",
            "3              False    114 KW - Petrol  \n",
            "4              False    110 KW - Petrol  \n",
            "...              ...                ...  \n",
            "99995          False     90 KW - Petrol  \n",
            "99996          False     51 KW - Petrol  \n",
            "99997          False    127 KW - Petrol  \n",
            "99998          False    125 KW - Diesel  \n",
            "99999          False    110 KW - Petrol  \n",
            "\n",
            "[100000 rows x 18 columns]\n"
          ]
        }
      ]
    },
    {
      "cell_type": "code",
      "source": [
        "#data.info()"
      ],
      "metadata": {
        "id": "01j9aDCLhojT"
      },
      "execution_count": 5,
      "outputs": []
    },
    {
      "cell_type": "code",
      "source": [
        "#Preprocesamiento de datos para asignar a cada valor unico de la columna brand un numero entero\n",
        "#Ademas observaremos la cantidad e etiquetas que tendra\n",
        "to_convert = ['brand']\n",
        "id2label = {}\n",
        "label2id = {}\n",
        "for col in to_convert:\n",
        "    id2label[col] = {i: cls for i, cls in enumerate(data[col].unique())}\n",
        "    label2id[col] = {cls: i for i, cls in id2label[col].items()}\n",
        "    data[col] = data[col].replace(label2id[col])\n",
        "    print(label2id[col])"
      ],
      "metadata": {
        "id": "17hYOk-Mkef8",
        "outputId": "35118064-bb95-452b-ae68-a25b16f0917e",
        "colab": {
          "base_uri": "https://localhost:8080/"
        }
      },
      "execution_count": 6,
      "outputs": [
        {
          "output_type": "stream",
          "name": "stdout",
          "text": [
            "{'ford': 0, 'hyundai': 1, 'audi': 2, 'honda': 3, 'kia': 4, 'dacia': 5, 'bmw': 6, 'citroen': 7, 'alfa-romeo': 8, 'land-rover': 9, 'jaguar': 10, 'dodge': 11, 'fiat': 12, 'lamborghini': 13, 'mazda': 14, 'isuzu': 15, 'jeep': 16, 'ferrari': 17, 'bentley': 18, 'maserati': 19, 'daihatsu': 20, 'chevrolet': 21, 'aston-martin': 22, 'cadillac': 23, 'daewoo': 24, 'chrysler': 25, 'lancia': 26, 'lada': 27, 'infiniti': 28}\n"
          ]
        }
      ]
    },
    {
      "cell_type": "code",
      "source": [
        "num_labels = 29"
      ],
      "metadata": {
        "id": "v8pVcz-pkjnM"
      },
      "execution_count": 7,
      "outputs": []
    },
    {
      "cell_type": "code",
      "source": [
        "#variables categoricas\n",
        "columnas_categoricas = data.select_dtypes(include=['object']).columns\n",
        "le = LabelEncoder()\n",
        "for columna in columnas_categoricas:\n",
        "    data[columna] = le.fit_transform(data[columna]).astype(float)\n"
      ],
      "metadata": {
        "id": "y9HEJb_AkmR8"
      },
      "execution_count": 8,
      "outputs": []
    },
    {
      "cell_type": "code",
      "source": [
        "data.info()\n",
        "#print(data)"
      ],
      "metadata": {
        "id": "eQfTmo4muV73",
        "outputId": "ef4f1ca8-cba5-4842-b50a-b4be0990d9bf",
        "colab": {
          "base_uri": "https://localhost:8080/"
        }
      },
      "execution_count": 9,
      "outputs": [
        {
          "output_type": "stream",
          "name": "stdout",
          "text": [
            "<class 'pandas.core.frame.DataFrame'>\n",
            "RangeIndex: 100000 entries, 0 to 99999\n",
            "Data columns (total 18 columns):\n",
            " #   Column                    Non-Null Count   Dtype  \n",
            "---  ------                    --------------   -----  \n",
            " 0   Unnamed: 0                100000 non-null  int64  \n",
            " 1   brand                     100000 non-null  int64  \n",
            " 2   model                     100000 non-null  float64\n",
            " 3   color                     100000 non-null  float64\n",
            " 4   registration_date         100000 non-null  float64\n",
            " 5   year                      100000 non-null  float64\n",
            " 6   price_in_euro             100000 non-null  float64\n",
            " 7   power_kw                  100000 non-null  float64\n",
            " 8   power_ps                  100000 non-null  float64\n",
            " 9   transmission_type         100000 non-null  float64\n",
            " 10  fuel_type                 100000 non-null  float64\n",
            " 11  fuel_consumption_l_100km  100000 non-null  float64\n",
            " 12  fuel_consumption_g_km     100000 non-null  float64\n",
            " 13  mileage_in_km             99932 non-null   float64\n",
            " 14  offer_description         100000 non-null  float64\n",
            " 15  estado                    100000 non-null  float64\n",
            " 16  es_automatico             100000 non-null  bool   \n",
            " 17  descripcion_auto          100000 non-null  float64\n",
            "dtypes: bool(1), float64(15), int64(2)\n",
            "memory usage: 13.1 MB\n"
          ]
        }
      ]
    },
    {
      "cell_type": "code",
      "source": [
        "data['es_automatico'] = data['es_automatico'].astype(float)\n",
        "data['Unnamed: 0'] = data['Unnamed: 0'].astype(float)\n",
        "data['brand'] = data['brand'].astype(float)"
      ],
      "metadata": {
        "id": "6e25AV9ooS6e"
      },
      "execution_count": 10,
      "outputs": []
    },
    {
      "cell_type": "code",
      "source": [
        "#print(data)\n",
        "data.info()\n"
      ],
      "metadata": {
        "id": "F9LIFPOPkwUw",
        "outputId": "d192ad16-b473-46c0-e468-50901040fb8e",
        "colab": {
          "base_uri": "https://localhost:8080/"
        }
      },
      "execution_count": 11,
      "outputs": [
        {
          "output_type": "stream",
          "name": "stdout",
          "text": [
            "<class 'pandas.core.frame.DataFrame'>\n",
            "RangeIndex: 100000 entries, 0 to 99999\n",
            "Data columns (total 18 columns):\n",
            " #   Column                    Non-Null Count   Dtype  \n",
            "---  ------                    --------------   -----  \n",
            " 0   Unnamed: 0                100000 non-null  float64\n",
            " 1   brand                     100000 non-null  float64\n",
            " 2   model                     100000 non-null  float64\n",
            " 3   color                     100000 non-null  float64\n",
            " 4   registration_date         100000 non-null  float64\n",
            " 5   year                      100000 non-null  float64\n",
            " 6   price_in_euro             100000 non-null  float64\n",
            " 7   power_kw                  100000 non-null  float64\n",
            " 8   power_ps                  100000 non-null  float64\n",
            " 9   transmission_type         100000 non-null  float64\n",
            " 10  fuel_type                 100000 non-null  float64\n",
            " 11  fuel_consumption_l_100km  100000 non-null  float64\n",
            " 12  fuel_consumption_g_km     100000 non-null  float64\n",
            " 13  mileage_in_km             99932 non-null   float64\n",
            " 14  offer_description         100000 non-null  float64\n",
            " 15  estado                    100000 non-null  float64\n",
            " 16  es_automatico             100000 non-null  float64\n",
            " 17  descripcion_auto          100000 non-null  float64\n",
            "dtypes: float64(18)\n",
            "memory usage: 13.7 MB\n"
          ]
        }
      ]
    },
    {
      "cell_type": "code",
      "source": [
        "#llenar datos vacios\n",
        "columnas_especificas = ['mileage_in_km']\n",
        "media_columnas = data[columnas_especificas].mean()\n",
        "data[columnas_especificas] = data[columnas_especificas].fillna(media_columnas)\n",
        "data.info()"
      ],
      "metadata": {
        "id": "_X8B5JmXpxUX",
        "outputId": "5f65edad-fd71-4b81-8d56-78d97fd61b3a",
        "colab": {
          "base_uri": "https://localhost:8080/"
        }
      },
      "execution_count": 12,
      "outputs": [
        {
          "output_type": "stream",
          "name": "stdout",
          "text": [
            "<class 'pandas.core.frame.DataFrame'>\n",
            "RangeIndex: 100000 entries, 0 to 99999\n",
            "Data columns (total 18 columns):\n",
            " #   Column                    Non-Null Count   Dtype  \n",
            "---  ------                    --------------   -----  \n",
            " 0   Unnamed: 0                100000 non-null  float64\n",
            " 1   brand                     100000 non-null  float64\n",
            " 2   model                     100000 non-null  float64\n",
            " 3   color                     100000 non-null  float64\n",
            " 4   registration_date         100000 non-null  float64\n",
            " 5   year                      100000 non-null  float64\n",
            " 6   price_in_euro             100000 non-null  float64\n",
            " 7   power_kw                  100000 non-null  float64\n",
            " 8   power_ps                  100000 non-null  float64\n",
            " 9   transmission_type         100000 non-null  float64\n",
            " 10  fuel_type                 100000 non-null  float64\n",
            " 11  fuel_consumption_l_100km  100000 non-null  float64\n",
            " 12  fuel_consumption_g_km     100000 non-null  float64\n",
            " 13  mileage_in_km             100000 non-null  float64\n",
            " 14  offer_description         100000 non-null  float64\n",
            " 15  estado                    100000 non-null  float64\n",
            " 16  es_automatico             100000 non-null  float64\n",
            " 17  descripcion_auto          100000 non-null  float64\n",
            "dtypes: float64(18)\n",
            "memory usage: 13.7 MB\n"
          ]
        }
      ]
    },
    {
      "cell_type": "code",
      "source": [
        "data_copy = data.copy()\n",
        "\n",
        "# Aumentar solo los valores decimales en el DataFrame duplicado\n",
        "# Especificar las columnas numéricas en las que deseas aumentar los decimales\n",
        "decimal_columns = ['Unnamed: 0','model','color','registration_date','year','price_in_euro','power_kw','power_ps','fuel_type', 'fuel_consumption_l_100km', 'fuel_consumption_g_km', 'mileage_in_km','offer_description','descripcion_auto']\n",
        "\n",
        "# Asegurarse de que las columnas sean del tipo adecuado\n",
        "#for col in decimal_columns:\n",
        " #   data_copy[col] = pd.to_numeric(data_copy[col], errors='coerce')\n",
        "\n",
        "# Filtrar filas con valores no válidos (NaN) en columnas decimales\n",
        "#data_copy = data_copy.dropna(subset=decimal_columns)\n",
        "\n",
        "# Aumentar los valores decimales en las columnas especificadas\n",
        "for col in decimal_columns:\n",
        "    data_copy[col] = data_copy[col] + np.random.uniform(0.1, 0.7, size=len(data_copy))\n",
        "\n",
        "\n",
        "# Asegurarse de que los valores estén dentro de rangos razonables\n",
        "for col in decimal_columns:\n",
        "    data_copy[col] = data_copy[col].clip(lower=0)\n",
        "\n",
        "# Concatenar los DataFrames originales y modificados\n",
        "nuevo_data = pd.concat([data, data_copy], ignore_index=True)\n",
        "\n",
        "# Guardar el dataset aumentado en un nuevo archivo CSV\n",
        "nuevo_data.to_csv('ruta_del_archivo_modificado.csv', index=False)\n",
        "\n",
        "# Ver las primeras filas del DataFrame aumentado\n",
        "#print(nuevo_data.head())"
      ],
      "metadata": {
        "id": "KUJVTbABb0yP"
      },
      "execution_count": 13,
      "outputs": []
    },
    {
      "cell_type": "code",
      "source": [
        "print(nuevo_data.iloc[190000])\n",
        "#print(nuevo_data)"
      ],
      "metadata": {
        "id": "TWCbhq-7vpqP",
        "outputId": "5366c7e8-34b1-4a84-f44a-994a8c27f698",
        "colab": {
          "base_uri": "https://localhost:8080/"
        }
      },
      "execution_count": 14,
      "outputs": [
        {
          "output_type": "stream",
          "name": "stdout",
          "text": [
            "Unnamed: 0                   44990.523734\n",
            "brand                            7.000000\n",
            "model                          247.380571\n",
            "color                            7.235458\n",
            "registration_date              110.169219\n",
            "year                            33.658053\n",
            "price_in_euro                 1205.634335\n",
            "power_kw                       476.347708\n",
            "power_ps                        20.281498\n",
            "transmission_type                1.000000\n",
            "fuel_type                       42.372224\n",
            "fuel_consumption_l_100km       201.332423\n",
            "fuel_consumption_g_km          928.168485\n",
            "mileage_in_km               117000.341183\n",
            "offer_description            34289.174093\n",
            "estado                           1.000000\n",
            "es_automatico                    0.000000\n",
            "descripcion_auto              1022.153982\n",
            "Name: 190000, dtype: float64\n"
          ]
        }
      ]
    },
    {
      "cell_type": "code",
      "source": [
        "nuevo_data.info()"
      ],
      "metadata": {
        "id": "QCristp_qirb",
        "outputId": "b7b66c50-891e-4866-99b3-7180aa6cbd14",
        "colab": {
          "base_uri": "https://localhost:8080/"
        }
      },
      "execution_count": 15,
      "outputs": [
        {
          "output_type": "stream",
          "name": "stdout",
          "text": [
            "<class 'pandas.core.frame.DataFrame'>\n",
            "RangeIndex: 200000 entries, 0 to 199999\n",
            "Data columns (total 18 columns):\n",
            " #   Column                    Non-Null Count   Dtype  \n",
            "---  ------                    --------------   -----  \n",
            " 0   Unnamed: 0                200000 non-null  float64\n",
            " 1   brand                     200000 non-null  float64\n",
            " 2   model                     200000 non-null  float64\n",
            " 3   color                     200000 non-null  float64\n",
            " 4   registration_date         200000 non-null  float64\n",
            " 5   year                      200000 non-null  float64\n",
            " 6   price_in_euro             200000 non-null  float64\n",
            " 7   power_kw                  200000 non-null  float64\n",
            " 8   power_ps                  200000 non-null  float64\n",
            " 9   transmission_type         200000 non-null  float64\n",
            " 10  fuel_type                 200000 non-null  float64\n",
            " 11  fuel_consumption_l_100km  200000 non-null  float64\n",
            " 12  fuel_consumption_g_km     200000 non-null  float64\n",
            " 13  mileage_in_km             200000 non-null  float64\n",
            " 14  offer_description         200000 non-null  float64\n",
            " 15  estado                    200000 non-null  float64\n",
            " 16  es_automatico             200000 non-null  float64\n",
            " 17  descripcion_auto          200000 non-null  float64\n",
            "dtypes: float64(18)\n",
            "memory usage: 27.5 MB\n"
          ]
        }
      ]
    },
    {
      "cell_type": "code",
      "source": [
        "# Cargar los datasets originales y sintéticos\n",
        "#data_original = pd.read_csv('ruta_del_archivo_original.csv')\n",
        "#data_sintetico = pd.read_csv('ruta_del_archivo_modificado.csv')\n",
        "\n",
        "# Especificar las columnas numéricas que queremos graficar\n",
        "columnas_numericas = ['price_in_euro', 'power_kw']\n",
        "\n",
        "# Crear una figura para comparar cada atributo entre los datasets\n",
        "fig, axs = pyplot.subplots(len(columnas_numericas), 2, figsize=(12, 5 * len(columnas_numericas)))\n",
        "\n",
        "# Iterar sobre las columnas numéricas y generar gráficos\n",
        "for i, col in enumerate(columnas_numericas):\n",
        "    # Graficar el dataset original\n",
        "    axs[i, 0].hist(data[col].dropna(), bins=30, color='blue', alpha=0.7)\n",
        "    axs[i, 0].set_title(f'{col} - Dataset Original')\n",
        "    axs[i, 0].set_xlabel(col)\n",
        "    axs[i, 0].set_ylabel('Frecuencia')\n",
        "\n",
        "    # Graficar el dataset sintético\n",
        "    axs[i, 1].hist(data_copy[col].dropna(), bins=30, color='green', alpha=0.7)\n",
        "    axs[i, 1].set_title(f'{col} - Dataset Sintético')\n",
        "    axs[i, 1].set_xlabel(col)\n",
        "    axs[i, 1].set_ylabel('Frecuencia')\n",
        "\n",
        "# Ajustar el espacio entre gráficos\n",
        "pyplot.tight_layout()\n",
        "pyplot.show()\n"
      ],
      "metadata": {
        "id": "eSFDZNWiPFJg",
        "outputId": "60754725-55f1-4c48-ca05-1948c2f2fab8",
        "colab": {
          "base_uri": "https://localhost:8080/",
          "height": 1000
        }
      },
      "execution_count": 16,
      "outputs": [
        {
          "output_type": "display_data",
          "data": {
            "text/plain": [
              "<Figure size 1200x1000 with 4 Axes>"
            ],
            "image/png": "[encoded data removed]"
          },
          "metadata": {}
        }
      ]
    },
    {
      "cell_type": "code",
      "source": [
        "X_datos=nuevo_data.iloc[:,[2,3,4,5,6,7,8,9,10,11,12,13,14]]\n",
        "y_datos=nuevo_data.iloc[:,1]"
      ],
      "metadata": {
        "id": "hFe7vEvlMxkP"
      },
      "execution_count": 17,
      "outputs": []
    },
    {
      "cell_type": "code",
      "source": [
        "X_train, X_test, y_train, y_test = train_test_split(X_datos, y_datos, test_size=0.2)\n",
        "X_train.shape, X_test.shape"
      ],
      "metadata": {
        "colab": {
          "base_uri": "https://localhost:8080/"
        },
        "id": "9U3rh3pkSaBV",
        "outputId": "05b20a12-ad9e-4cd4-e596-d128d70fe950"
      },
      "execution_count": 18,
      "outputs": [
        {
          "output_type": "execute_result",
          "data": {
            "text/plain": [
              "((160000, 13), (40000, 13))"
            ]
          },
          "metadata": {},
          "execution_count": 18
        }
      ]
    },
    {
      "cell_type": "code",
      "source": [
        "X=X_train\n",
        "y=y_train\n",
        "print(y)"
      ],
      "metadata": {
        "colab": {
          "base_uri": "https://localhost:8080/"
        },
        "id": "KXI4hie2nDvD",
        "outputId": "1acd30d3-6178-4a89-a3b3-ef4cc7cd81ec"
      },
      "execution_count": 19,
      "outputs": [
        {
          "output_type": "stream",
          "name": "stdout",
          "text": [
            "44914      7.0\n",
            "96883      2.0\n",
            "3459      10.0\n",
            "145584     2.0\n",
            "35627      3.0\n",
            "          ... \n",
            "21819      0.0\n",
            "58022     10.0\n",
            "23428      2.0\n",
            "106685     4.0\n",
            "20602      0.0\n",
            "Name: brand, Length: 160000, dtype: float64\n"
          ]
        }
      ]
    },
    {
      "cell_type": "code",
      "source": [
        "def  featureNormalize(X):\n",
        "    X_norm = X.copy()\n",
        "    mu = np.zeros(X.shape[1])\n",
        "    sigma = np.zeros(X.shape[1])\n",
        "\n",
        "    mu = np.mean(X, axis = 0)\n",
        "    sigma = np.std(X, axis = 0)\n",
        "    X_norm = (X - mu) / sigma\n",
        "\n",
        "    return X_norm, mu, sigma"
      ],
      "metadata": {
        "id": "HWF5C5Jt8wNb"
      },
      "execution_count": 20,
      "outputs": []
    },
    {
      "cell_type": "code",
      "source": [
        "# llama featureNormalize con los datos cargados\n",
        "X_norm, mu, sigma = featureNormalize(X)"
      ],
      "metadata": {
        "id": "f4W6d-ya1ABV"
      },
      "execution_count": 21,
      "outputs": []
    },
    {
      "cell_type": "code",
      "source": [
        "# Configurar la matriz adecuadamente, y agregar una columna de unos que corresponde al termino de intercepción.\n",
        "m, n = X.shape\n",
        "# Agraga el termino de intercepción a A\n",
        "# X = np.concatenate([np.ones((m, 1)), X_norm], axis=1)\n",
        "X = X_norm\n",
        "# X = np.concatenate([np.ones((m, 1)), X], axis=1)"
      ],
      "metadata": {
        "id": "r9e6MRrW1G22"
      },
      "execution_count": 22,
      "outputs": []
    },
    {
      "cell_type": "code",
      "execution_count": 23,
      "metadata": {
        "id": "0sB9Kyi8SxgN"
      },
      "outputs": [],
      "source": [
        "def sigmoid(z):\n",
        "    \"\"\"\n",
        "    Calcula la sigmoide de z.\n",
        "    \"\"\"\n",
        "    return 1.0 / (1.0 + np.exp(-z))"
      ]
    },
    {
      "cell_type": "code",
      "execution_count": 117,
      "metadata": {
        "id": "w5S0OOswSxgN"
      },
      "outputs": [],
      "source": [
        "J_history=[]\n",
        "P_history=[]\n",
        "def lrCostFunction(theta, X, y, lambda_):\n",
        "    \"\"\"\n",
        "    Calcula el costo de usar theta como parámetro para la regresión logística regularizada y\n",
        "    el gradiente del costo w.r.t. a los parámetros.\n",
        "\n",
        "    Parametros\n",
        "    ----------\n",
        "    theta : array_like\n",
        "        Parametro theta de la regresion logistica. Vector de la forma(shape) (n, ). n es el numero de caracteristicas\n",
        "        incluida la intercepcion\n",
        "\n",
        "    X : array_like\n",
        "        Dataset con la forma(shape) (m x n). m es el numero de ejemplos, y n es el numero de\n",
        "        caracteristicas (incluida la intercepcion).\n",
        "\n",
        "    y : array_like\n",
        "        El conjunto de etiquetas. Un vector con la forma (shape) (m, ). m es el numero de ejemplos\n",
        "\n",
        "    lambda_ : float\n",
        "        Parametro de regularización.\n",
        "\n",
        "    Devuelve\n",
        "    -------\n",
        "    J : float\n",
        "        El valor calculado para la funcion de costo regularizada.\n",
        "\n",
        "    grad : array_like\n",
        "        Un vector de la forma (shape) (n, ) que es el gradiente de la\n",
        "        función de costo con respecto a theta, en los valores actuales de theta..\n",
        "    \"\"\"\n",
        "    # Inicializa algunos valores utiles\n",
        "    #J_history=[]\n",
        "    m = y.size\n",
        "\n",
        "    # convierte las etiquetas a valores enteros si son boleanos\n",
        "    if y.dtype == bool:\n",
        "        y = y.astype(int)\n",
        "\n",
        "    J = 0\n",
        "    grad = np.zeros(theta.shape)\n",
        "\n",
        "    h = sigmoid(X.dot(theta.T))\n",
        "\n",
        "    temp = theta\n",
        "    temp[0] = 0\n",
        "\n",
        "#     J = (1 / m) * np.sum(-y.dot(np.log(h)) - (1 - y).dot(np.log(1 - h)))\n",
        "    J = (1 / m) * np.sum(-y.dot(np.log(h)) - (1 - y).dot(np.log(1 - h))) + (lambda_ / (2 * m)) * np.sum(np.square(temp))\n",
        "\n",
        "    grad = (1 / m) * (h - y).dot(X)\n",
        "\n",
        "#    P_history.append(h)\n",
        "#     theta = theta - (alpha / m) * (h - y).dot(X)\n",
        "    grad = grad + (lambda_ / m) * temp\n",
        "\n",
        "    predictions = (h >= 0.5).astype(int)  # Umbral de 0.5 para clasificar\n",
        "    correct_predictions = np.sum(predictions == y)  # Contar predicciones correctas\n",
        "    precision = correct_predictions / m  # Precisión como proporción de predicciones correctas\n",
        "\n",
        "    J_history.append(J)\n",
        "    P_history.append(precision)\n",
        "\n",
        "    return J, grad\n",
        "#    return J, theta\n"
      ]
    },
    {
      "cell_type": "code",
      "execution_count": 145,
      "metadata": {
        "id": "V0rOw5qhSxgN"
      },
      "outputs": [],
      "source": [
        "def oneVsAll(X, y, num_labels, lambda_):\n",
        "    \"\"\"\n",
        "    Trains num_labels logistic regression classifiers and returns\n",
        "    each of these classifiers in a matrix all_theta, where the i-th\n",
        "    row of all_theta corresponds to the classifier for label i.\n",
        "\n",
        "    Parameters\n",
        "    ----------\n",
        "    X : array_like\n",
        "        The input dataset of shape (m x n). m is the number of\n",
        "        data points, and n is the number of features. Note that we\n",
        "        do not assume that the intercept term (or bias) is in X, however\n",
        "        we provide the code below to add the bias term to X.\n",
        "\n",
        "    y : array_like\n",
        "        The data labels. A vector of shape (m, ).\n",
        "\n",
        "    num_labels : int\n",
        "        Number of possible labels.\n",
        "\n",
        "    lambda_ : float\n",
        "        The logistic regularization parameter.\n",
        "\n",
        "    Returns\n",
        "    -------\n",
        "    all_theta : array_like\n",
        "        The trained parameters for logistic regression for each class.\n",
        "        This is a matrix of shape (K x n+1) where K is number of classes\n",
        "        (ie. `numlabels`) and n is number of features without the bias.\n",
        "    \"\"\"\n",
        "    # algunas variables utiles\n",
        "\n",
        "    m, n = X.shape\n",
        "    all_J_history=[]\n",
        "\n",
        "    all_theta = np.zeros((num_labels, n + 1))\n",
        "\n",
        "\n",
        "\n",
        "    # Agrega unos a la matriz X\n",
        "    X = np.concatenate([np.ones((m, 1)), X], axis=1)\n",
        "\n",
        "    for c in np.arange(num_labels):\n",
        "        print(f\"Entrenando para la clase {c}...\")\n",
        "        initial_theta = np.zeros(n + 1)\n",
        "\n",
        "        options = {'maxiter': 50}\n",
        "        #J_history=[]\n",
        "        res = optimize.minimize(lrCostFunction,\n",
        "                                initial_theta,\n",
        "                                (X, (y == c), lambda_),\n",
        "                                jac=True,\n",
        "                                method='CG',\n",
        "                                options=options)\n",
        "        all_theta[c] = res.x\n",
        "        all_J_history.append(J_history[c].copy())\n",
        "\n",
        "\n",
        "    return all_theta, all_J_history"
      ]
    },
    {
      "cell_type": "code",
      "execution_count": 147,
      "metadata": {
        "id": "w6JbsLLMSxgO",
        "outputId": "a1664b13-751f-4cda-98c9-2ed1415475ce",
        "colab": {
          "base_uri": "https://localhost:8080/"
        }
      },
      "outputs": [
        {
          "output_type": "stream",
          "name": "stdout",
          "text": [
            "Entrenando para la clase 0...\n",
            "Entrenando para la clase 1...\n",
            "Entrenando para la clase 2...\n",
            "Entrenando para la clase 3...\n",
            "Entrenando para la clase 4...\n",
            "Entrenando para la clase 5...\n",
            "Entrenando para la clase 6...\n",
            "Entrenando para la clase 7...\n",
            "Entrenando para la clase 8...\n",
            "Entrenando para la clase 9...\n",
            "Entrenando para la clase 10...\n",
            "Entrenando para la clase 11...\n",
            "Entrenando para la clase 12...\n",
            "Entrenando para la clase 13...\n",
            "Entrenando para la clase 14...\n",
            "Entrenando para la clase 15...\n",
            "Entrenando para la clase 16...\n",
            "Entrenando para la clase 17...\n",
            "Entrenando para la clase 18...\n",
            "Entrenando para la clase 19...\n",
            "Entrenando para la clase 20...\n",
            "Entrenando para la clase 21...\n",
            "Entrenando para la clase 22...\n",
            "Entrenando para la clase 23...\n",
            "Entrenando para la clase 24...\n",
            "Entrenando para la clase 25...\n",
            "Entrenando para la clase 26...\n",
            "Entrenando para la clase 27...\n",
            "Entrenando para la clase 28...\n",
            "(29, 14)\n"
          ]
        }
      ],
      "source": [
        "lambda_ = 0.1\n",
        "all_theta, all_J_history = oneVsAll(X, y, num_labels, lambda_)\n",
        "print(all_theta.shape)"
      ]
    },
    {
      "cell_type": "code",
      "source": [
        "print(all_J_history)\n",
        "#print(P_history)"
      ],
      "metadata": {
        "id": "lbYevUdviHLg",
        "outputId": "824873d4-cd24-46be-a0a0-59ca6de0e496",
        "colab": {
          "base_uri": "https://localhost:8080/"
        }
      },
      "execution_count": 148,
      "outputs": [
        {
          "output_type": "stream",
          "name": "stdout",
          "text": [
            "[0.6931471805599573, 0.5854845545690677, 0.42492721074920586, 0.418969135256233, 0.40872557072027604, 0.4064419179317131, 0.40062688566788723, 0.400381188150338, 0.39968520870140745, 0.3994307310364576, 0.39925229818366464, 0.39882300087200256, 0.39880630703361947, 0.3987698046512661, 0.3987657197927855, 0.39875253335990923, 0.39874118530872293, 0.3987377307298857, 0.398729635137355, 0.39872919686336583, 0.398728079226117, 0.39872795616358137, 0.3987275322682393, 0.39872690952679757, 0.39872676748761304, 0.3987264123013734, 0.3987263831315222, 0.3987263042872269, 0.39872629765661555]\n"
          ]
        }
      ]
    },
    {
      "cell_type": "code",
      "source": [
        "pyplot.plot(all_J_history)\n",
        "pyplot.xlabel('Iteración')\n",
        "pyplot.ylabel('Costo (J)')\n",
        "pyplot.title('Evolución del costo durante el entrenamiento')\n",
        "pyplot.show()"
      ],
      "metadata": {
        "id": "hL9pEATGoY4Y",
        "outputId": "5e0e6229-c32e-4ba8-8fd9-b37246b2d24a",
        "colab": {
          "base_uri": "https://localhost:8080/",
          "height": 472
        }
      },
      "execution_count": 149,
      "outputs": [
        {
          "output_type": "display_data",
          "data": {
            "text/plain": [
              "<Figure size 640x480 with 1 Axes>"
            ],
            "image/png": "[encoded data removed]"
          },
          "metadata": {}
        }
      ]
    },
    {
      "cell_type": "code",
      "source": [
        "print(all_theta)"
      ],
      "metadata": {
        "colab": {
          "base_uri": "https://localhost:8080/"
        },
        "id": "V1EfKaiEgtcw",
        "outputId": "8cf9f406-ee7c-42eb-abef-ab0c7eaf12cf"
      },
      "execution_count": 150,
      "outputs": [
        {
          "output_type": "stream",
          "name": "stdout",
          "text": [
            "[[-1.88547214e+00  1.03036843e+00  1.38633978e-01  2.22816235e-02\n",
            "  -1.30953120e-01  6.12296936e-02  1.23186189e-01 -3.65054698e-01\n",
            "   4.88632641e-01 -1.31516836e-01 -3.49831282e-02  7.85779516e-02\n",
            "   4.86566957e-02  8.19497030e-02]\n",
            " [-3.61396095e+00  1.48597713e+00  6.46116655e-02  3.64695561e-02\n",
            "   2.89982428e-01 -8.60279379e-02  1.00420952e-01  3.58105958e-03\n",
            "   1.47511568e-01  2.41655308e-01  1.22095049e-01 -2.39125343e-01\n",
            "  -2.15928877e-02 -6.95321584e-02]\n",
            " [-1.35464220e+01 -1.25177108e+01  9.99541078e-02 -7.67174122e-02\n",
            "   4.10307614e-01 -1.48796677e-01 -2.37457607e-02  5.32809786e-01\n",
            "  -2.11249563e-01 -1.14664369e-01  3.83229816e-01  1.77073997e-01\n",
            "   3.33382745e-01 -4.45707590e-01]\n",
            " [-5.66481477e+00  8.49459004e-01 -1.23735561e-01  7.70805213e-03\n",
            "   1.04593937e-01 -2.00485003e-01 -3.81777713e-02 -4.53602917e-01\n",
            "  -3.93092925e-02  3.94041133e-01  7.73857035e-02  6.89185164e-02\n",
            "  -2.43499085e-01 -5.79615339e-01]\n",
            " [-6.62991621e+00  3.64931671e+00  1.24575672e-01  1.05250933e-01\n",
            "   5.71740170e-01 -3.54920911e-01 -1.24790870e-01 -9.34913749e-02\n",
            "   1.25426308e-01  3.26620200e-01 -1.24697919e-01 -1.90000898e-01\n",
            "   4.49630635e-03 -4.74378068e-01]\n",
            " [-5.23063792e+00 -7.54637105e-01 -2.55702576e-01  2.70127576e-02\n",
            "   1.03593175e+00 -1.83179848e-01  1.50993774e+00  3.43032033e-01\n",
            "   6.40241077e-01  1.62652373e-01  4.68292908e-01 -3.08746779e-01\n",
            "   6.89728754e-02  4.54601892e-01]\n",
            " [-2.42107418e+00 -1.13806262e+00 -7.72669901e-02  3.55148102e-02\n",
            "  -6.18704154e-01  9.29206813e-02 -5.33090908e-01 -8.14654389e-02\n",
            "  -2.36747284e-01 -5.06270487e-02 -9.10647758e-02 -1.47090465e-01\n",
            "   9.96489352e-02  9.84958407e-01]\n",
            " [-3.76231906e+00 -6.05315748e-01 -4.45169686e-02  9.70395240e-03\n",
            "   4.76960457e-01  3.90338903e-03  1.07277896e+00  1.32311050e-02\n",
            "   1.61654021e-01 -2.83710455e-01 -1.68864315e-02 -1.95982737e-02\n",
            "  -6.34224585e-02  8.28294938e-02]\n",
            " [-7.73399568e+01 -5.66132155e+01 -2.43999420e-02  9.47422691e-02\n",
            "   2.83902079e-01  5.49086659e-01 -1.89929351e-01 -3.61678638e-01\n",
            "   1.34392109e-01 -7.66178388e-02  3.15078063e-01  4.64656317e-02\n",
            "  -2.69403998e-01 -2.59570069e-02]\n",
            " [-1.92819329e+01  1.06753139e+01 -1.20109936e-01 -1.08522192e-01\n",
            "   1.13618356e+00  5.96177915e-01 -4.98144504e-01  6.34526736e-01\n",
            "  -7.62524982e-01 -1.06588265e+00  2.78046381e-01  2.83222943e-01\n",
            "   2.04125214e-01  1.03299048e-01]\n",
            " [-7.02203258e+00  1.48884084e+00 -1.26995830e-01 -1.02330829e-01\n",
            "   3.49117655e-01  3.71601735e-01 -1.80222373e+00  1.47613474e+00\n",
            "  -1.39135271e+00 -1.27859121e-01  7.67236499e-02 -2.50468843e-01\n",
            "  -5.55722077e-02  2.77416650e-02]\n",
            " [-8.45453279e+00  1.19930414e-01 -2.67456857e-01  3.21429131e-02\n",
            "   1.00119157e+00  9.37706406e-01 -1.27757732e+00  1.67643378e+00\n",
            "  -2.18368480e+00  9.72300290e-01 -2.23810629e-02 -3.00150232e-01\n",
            "   2.93387136e-01 -1.01172618e+00]\n",
            " [-3.99675652e+00  6.53438631e-02  1.09826505e-01  1.75935869e-02\n",
            "   4.40291621e-01 -1.70330362e-01  7.00872142e-01  5.97858302e-01\n",
            "   5.54079874e-01 -2.34013203e-01  3.02451274e-01  1.29089896e-01\n",
            "  -2.70366374e-01 -3.51105256e-01]\n",
            " [-1.75614172e+01  4.51362094e+00  1.33016224e-01 -1.55583832e-01\n",
            "  -1.03173042e+00  2.84889533e-01  6.23258336e-01  2.39302347e+00\n",
            "  -1.65642057e+00  1.87461168e+00 -4.43802743e-02  4.15971473e-01\n",
            "  -2.71000661e+00  4.89481630e-01]\n",
            " [-7.09032539e+01  4.24429038e+01  1.20906869e-01  1.04027916e-01\n",
            "   2.02684845e-01 -6.95839696e-01  7.96302604e-01 -8.81622112e-01\n",
            "   6.58854734e-01  4.37438242e-01  1.48019226e-01 -9.27900965e-01\n",
            "   6.49345492e-01 -8.70931444e-02]\n",
            " [-1.57824416e+01  2.18145201e+00  2.17424084e-02 -1.00302498e-02\n",
            "   2.82601558e-01  4.38430573e-01 -4.66706820e+00 -2.95634024e+00\n",
            "   1.80385444e-01 -1.93108825e+00  1.75853115e+00  3.88801858e-01\n",
            "  -4.63916199e-01 -2.34120551e-01]\n",
            " [-6.51980078e+00  2.12306073e+00 -2.73273447e-01 -3.73278796e-02\n",
            "   6.90149166e-01  1.14616911e-01  1.51424596e-01 -8.94404357e-01\n",
            "  -5.47945709e-01  4.54586691e-02  2.30042547e-02  3.63825719e-01\n",
            "  -2.54880352e-03 -8.11745656e-02]\n",
            " [-1.02165349e+01  7.35927660e-02  6.07336081e-02 -2.71755724e-01\n",
            "  -1.49490378e+00 -5.91495083e-02 -3.23931787e-01  1.91795664e+00\n",
            "  -1.35794002e+00  9.79961170e-01 -2.16897435e-02 -8.25835793e-03\n",
            "  -3.97367381e+00 -3.30329359e-02]\n",
            " [-1.01236919e+01 -6.84444422e-01 -1.90752791e-01 -1.34840454e-01\n",
            "  -5.76511249e-01 -1.38576784e-01 -7.74255060e-01  2.25574510e+00\n",
            "  -3.07904793e+00  8.02720278e-01 -2.17617311e-01  1.94880441e-01\n",
            "  -7.62039968e-01  3.42247346e-01]\n",
            " [-2.79037282e+01  1.41060387e+01 -1.79506472e-01  3.23077469e-02\n",
            "  -1.18166047e+00  5.42680558e-01 -1.03460376e+00  1.46585672e+00\n",
            "  -2.08864541e+00  3.67018516e-01 -3.46536990e-01 -5.42036740e-02\n",
            "  -8.52915011e-01 -7.25353893e-02]\n",
            " [-1.02058321e+01 -3.13230984e-02  1.47974713e-01  7.74443441e-02\n",
            "  -1.56809289e+00  1.19785359e-01  1.17721749e+00  8.04307491e-01\n",
            "  -9.62371899e-02  9.63293594e-01 -2.65353412e-01 -6.74787080e-01\n",
            "  -2.78570055e-01 -6.63969371e-01]\n",
            " [-7.37382278e+00 -4.27305996e-01 -8.01370589e-02 -4.80002449e-02\n",
            "   3.02604358e-01  6.90283032e-01 -6.44251862e-01  6.08152360e-01\n",
            "  -1.22149407e-01  1.08595716e+00 -1.78129548e-01 -2.60704160e-01\n",
            "  -2.71674166e-01 -1.74526577e-01]\n",
            " [-2.45842243e+01 -1.18054724e+01 -3.03359735e-01 -2.11253758e-01\n",
            "  -1.76245157e+00 -3.03564157e-01 -2.30885653e-01  1.85840051e+00\n",
            "  -1.45023323e+00  2.15689543e+00 -2.77155833e-01  3.61514866e-01\n",
            "  -2.81201881e+00  4.96642813e-01]\n",
            " [-8.61008542e+00 -3.11477289e-01 -1.32201844e-01  1.11358674e-01\n",
            "  -2.69895157e-01  3.15608451e-01 -1.46523081e+00  7.61155353e-01\n",
            "  -1.46077623e+00  1.05353302e+00 -1.72865659e-01  3.61771028e-01\n",
            "  -2.87442372e-01 -6.82279735e-01]\n",
            " [-1.24752656e+01  1.67471164e-01  1.07191564e-01 -1.53564205e-01\n",
            "  -1.72691448e+00 -2.28084519e-01  1.22252649e+00  5.50872255e-01\n",
            "   1.81343760e-01  1.41258903e+00  8.29126213e-01  3.11168786e-01\n",
            "  -2.10895107e-01 -7.18807463e-01]\n",
            " [-1.26932023e+01 -1.35964664e-01  6.60761836e-02  1.23598111e+00\n",
            "   1.82360198e+00  1.62678122e+00 -1.04710909e+00 -1.67522305e-01\n",
            "   5.07818639e-01  2.49938309e+00  4.73098900e-01  6.20208243e-01\n",
            "   1.90763830e-01  6.76594109e-01]\n",
            " [-1.31388912e+01  4.68115463e+00 -4.18205140e-01  6.51143145e-02\n",
            "  -1.48089203e+00  1.49961351e-01  1.03710161e-01  3.72166785e-01\n",
            "  -8.54535918e-02 -2.23043713e-01  2.34191006e-01 -4.65234888e-02\n",
            "   1.46316468e-01 -1.41937716e-02]\n",
            " [-2.39360181e+01  6.16223001e+00 -1.00352329e-01 -1.16861984e-01\n",
            "  -4.04612136e-01  1.51513058e-01  5.15304177e+00  1.41951705e+00\n",
            "   5.85469874e-01  1.65414622e+00  1.65613946e+00  1.06383930e+00\n",
            "  -2.20789847e+00  1.32696231e-01]\n",
            " [-8.93947380e+00  1.65177977e+00  6.74350085e-03 -1.12699990e-02\n",
            "  -7.00406947e-01 -7.10945583e-01 -4.22272470e-01  2.75156182e-01\n",
            "  -1.58755563e+00 -1.18138255e-03 -1.36648903e-01 -1.02735192e-01\n",
            "   1.44876142e-01 -5.27514531e-01]]\n"
          ]
        }
      ]
    },
    {
      "cell_type": "code",
      "execution_count": 151,
      "metadata": {
        "id": "PjFoFe1bSxgO"
      },
      "outputs": [],
      "source": [
        "def predictOneVsAll(all_theta, X):\n",
        "    \"\"\"\n",
        "    Devuelve un vector de predicciones para cada ejemplo en la matriz X.\n",
        "    Tenga en cuenta que X contiene los ejemplos en filas.\n",
        "    all_theta es una matriz donde la i-ésima fila es un vector theta de regresión logística entrenada para la i-ésima clase.\n",
        "    Debe establecer p en un vector de valores de 0..K-1 (por ejemplo, p = [0, 2, 0, 1]\n",
        "    predice clases 0, 2, 0, 1 para 4 ejemplos).\n",
        "\n",
        "    Parametros\n",
        "    ----------\n",
        "    all_theta : array_like\n",
        "        The trained parameters for logistic regression for each class.\n",
        "        This is a matrix of shape (K x n+1) where K is number of classes\n",
        "        and n is number of features without the bias.\n",
        "\n",
        "    X : array_like\n",
        "        Data points to predict their labels. This is a matrix of shape\n",
        "        (m x n) where m is number of data points to predict, and n is number\n",
        "        of features without the bias term. Note we add the bias term for X in\n",
        "        this function.\n",
        "\n",
        "    Devuelve\n",
        "    -------\n",
        "    p : array_like\n",
        "        The predictions for each data point in X. This is a vector of shape (m, ).\n",
        "    \"\"\"\n",
        "\n",
        "    m = X.shape[0];\n",
        "    num_labels = all_theta.shape[0]\n",
        "\n",
        "    p = np.zeros(m)\n",
        "\n",
        "    # Add ones to the X data matrix\n",
        "    X = np.concatenate([np.ones((m, 1)), X], axis=1)\n",
        "    p = np.argmax(sigmoid(X.dot(all_theta.T)), axis = 1)\n",
        "\n",
        "    return p\n",
        "\n"
      ]
    },
    {
      "cell_type": "code",
      "source": [
        "X_Nor_test, mu, sigma = featureNormalize(X_test)\n",
        "#print(X_Nor_test)\n",
        "\n",
        "pred = predictOneVsAll(all_theta, X_Nor_test)\n",
        "print('Precision del conjuto de entrenamiento: {:.2f}%'.format(np.mean(pred == y_test) * 100))\n",
        "\n",
        "#num_epochs = 50\n",
        "#precisions = []\n",
        "\n",
        "# Selecciona las primeras 150 filas de X\n",
        "XPrueba = X_Nor_test.iloc[0:150, :].copy()\n",
        "#XPrueba = np.concatenate([np.ones((150, 1)), XPrueba], axis=1)\n",
        "#print(XPrueba[0])\n",
        "#for epoch in range(num_epochs):\n",
        "p = predictOneVsAll(all_theta, XPrueba)\n",
        "#precision = np.mean(pred == y_test) * 100\n",
        "#precisions.append(precision)\n",
        "#print(XPrueba[0])\n",
        "#p = np.argmax(sigmoid(XPrueba.dot(all_theta.T)), axis=1)\n",
        "\n",
        "print(\"Predicciones\")\n",
        "print(p)\n",
        "\n",
        "# Muestra los datos reales de prueba\n",
        "print(\"Datos reales de prueba\")\n",
        "print(y_test[0:150].tolist())"
      ],
      "metadata": {
        "colab": {
          "base_uri": "https://localhost:8080/"
        },
        "id": "xlpBdKW0XQcx",
        "outputId": "88fda7cd-1fdc-4231-ac50-7c2a6c20bbb0"
      },
      "execution_count": 153,
      "outputs": [
        {
          "output_type": "stream",
          "name": "stdout",
          "text": [
            "Precision del conjuto de entrenamiento: 67.54%\n",
            "Predicciones\n",
            "[18  0  5  2  6  6  6 14 12  6  2  0  2  6  0  0  2  9  6  6  0  2  2  2\n",
            "  2  4  2  2  0  2  6  0  0  0  2  4  2  6  2  0  0  6  6  6 12  4 12  6\n",
            " 12  2  6  6  2 14  2  2  0  6  2  9  6  6  0  6  0  0 12  0  0  6  6  6\n",
            " 12  6  0  6  0  0  2  4  2  2  2  0  0  0  5  6  6  6  2  2  6  0  2  0\n",
            "  6  4  0  6 19  6  0  6  0  2  0  0  0  6  0  0  0 12  6  9  0  2 12  2\n",
            "  0  0  0  6  0  9  0  4  4  0  2  2  6 12  2  6  0  6  2  6  2  0  0 12\n",
            "  2  2  2  2  0 17]\n",
            "Datos reales de prueba\n",
            "[17.0, 0.0, 7.0, 2.0, 2.0, 6.0, 6.0, 14.0, 0.0, 6.0, 2.0, 0.0, 2.0, 7.0, 1.0, 0.0, 2.0, 9.0, 6.0, 6.0, 12.0, 2.0, 2.0, 22.0, 2.0, 4.0, 2.0, 2.0, 0.0, 2.0, 6.0, 0.0, 0.0, 16.0, 2.0, 4.0, 2.0, 6.0, 2.0, 1.0, 5.0, 6.0, 6.0, 6.0, 12.0, 4.0, 12.0, 6.0, 12.0, 2.0, 6.0, 6.0, 8.0, 14.0, 2.0, 2.0, 4.0, 6.0, 2.0, 9.0, 6.0, 6.0, 16.0, 6.0, 0.0, 27.0, 12.0, 0.0, 10.0, 6.0, 0.0, 6.0, 12.0, 6.0, 1.0, 6.0, 0.0, 1.0, 2.0, 9.0, 8.0, 8.0, 2.0, 5.0, 12.0, 0.0, 5.0, 23.0, 18.0, 6.0, 2.0, 2.0, 6.0, 0.0, 6.0, 0.0, 6.0, 19.0, 5.0, 6.0, 19.0, 6.0, 0.0, 6.0, 0.0, 2.0, 1.0, 3.0, 0.0, 6.0, 4.0, 1.0, 5.0, 0.0, 6.0, 9.0, 0.0, 2.0, 12.0, 2.0, 12.0, 0.0, 0.0, 6.0, 0.0, 9.0, 12.0, 4.0, 9.0, 1.0, 2.0, 2.0, 6.0, 12.0, 2.0, 6.0, 1.0, 6.0, 2.0, 6.0, 6.0, 4.0, 0.0, 0.0, 2.0, 2.0, 2.0, 2.0, 1.0, 17.0]\n"
          ]
        }
      ]
    },
    {
      "cell_type": "code",
      "source": [
        "pyplot.plot(P_history[0:35])\n",
        "pyplot.xlabel('Iteración')\n",
        "pyplot.ylabel('Costo (J)')\n",
        "pyplot.title('Precision para una etiqueta')\n",
        "pyplot.show()"
      ],
      "metadata": {
        "id": "s_DxG9I-uL0o",
        "outputId": "8b9db76b-1793-423e-c272-ed862e2bf568",
        "colab": {
          "base_uri": "https://localhost:8080/",
          "height": 472
        }
      },
      "execution_count": 159,
      "outputs": [
        {
          "output_type": "display_data",
          "data": {
            "text/plain": [
              "<Figure size 640x480 with 1 Axes>"
            ],
            "image/png": "[encoded data removed]"
          },
          "metadata": {}
        }
      ]
    }
  ],
  "metadata": {
    "kernelspec": {
      "display_name": "Python 3",
      "language": "python",
      "name": "python3"
    },
    "language_info": {
      "codemirror_mode": {
        "name": "ipython",
        "version": 3
      },
      "file_extension": ".py",
      "mimetype": "text/x-python",
      "name": "python",
      "nbconvert_exporter": "python",
      "pygments_lexer": "ipython3",
      "version": "3.8.5"
    },
    "colab": {
      "provenance": [],
      "include_colab_link": true
    }
  },
  "nbformat": 4,
  "nbformat_minor": 0
}