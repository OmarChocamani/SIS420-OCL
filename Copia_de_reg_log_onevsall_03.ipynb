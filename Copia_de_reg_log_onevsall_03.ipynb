{
  "cells": [
    {
      "cell_type": "markdown",
      "metadata": {
        "id": "view-in-github",
        "colab_type": "text"
      },
      "source": [
        "<a href=\"https://colab.research.google.com/github/OmarChocamani/SIS420-OCL/blob/main/Copia_de_reg_log_onevsall_03.ipynb\" target=\"_parent\"><img src=\"https://colab.research.google.com/assets/colab-badge.svg\" alt=\"Open In Colab\"/></a>"
      ]
    },
    {
      "cell_type": "markdown",
      "metadata": {
        "id": "xTjmiqnfSxgG"
      },
      "source": [
        "# Clasificación multiclase\n",
        "\n",
        "## Introduction\n",
        "\n",
        "En este ejercicio se implementa la regresion one-vs-all y una red neuronal para reconocimiento de digitos.\n",
        "\n",
        "Antes de empezar la ejecución de las partes de codigo correspondienters a los ejercicios, se requiere importar todas las librerias necesarias."
      ]
    },
    {
      "cell_type": "markdown",
      "source": [
        "Se usa binary croos center para poder allar las titas en clasificacion multiclase y clasificacion binaria\n",
        "y el descenso por el gradiente para regresiones lineales y multivariables"
      ],
      "metadata": {
        "id": "PQYH3nCBqre0"
      }
    },
    {
      "cell_type": "code",
      "source": [
        "from google.colab import drive\n",
        "drive.mount('/content/drive')"
      ],
      "metadata": {
        "colab": {
          "base_uri": "https://localhost:8080/"
        },
        "id": "clyp4NcQycWP",
        "outputId": "1d561902-3a36-4178-d8b4-cc93933fa222"
      },
      "execution_count": null,
      "outputs": [
        {
          "output_type": "stream",
          "name": "stdout",
          "text": [
            "Drive already mounted at /content/drive; to attempt to forcibly remount, call drive.mount(\"/content/drive\", force_remount=True).\n"
          ]
        }
      ]
    },
    {
      "cell_type": "code",
      "execution_count": null,
      "metadata": {
        "id": "20Q29kX8SxgJ"
      },
      "outputs": [],
      "source": [
        "# utilizado para la manipulación de directorios y rutas\n",
        "import os\n",
        "\n",
        "# Cálculo científico y vectorial para python\n",
        "import numpy as np\n",
        "import pandas as pd\n",
        "\n",
        "# Libreria para graficos\n",
        "from matplotlib import pyplot\n",
        "\n",
        "# Modulo de optimizacion en scipy\n",
        "from scipy import optimize\n",
        "from sklearn.preprocessing import LabelEncoder\n",
        "from sklearn.model_selection import train_test_split\n",
        "\n",
        "# modulo para cargar archivos en formato MATLAB\n",
        "# from scipy.io import loadmat\n",
        "\n",
        "# le dice a matplotlib que incruste gráficos en el cuaderno\n",
        "%matplotlib inline"
      ]
    },
    {
      "cell_type": "markdown",
      "metadata": {
        "id": "rPiGCmq7SxgK"
      },
      "source": [
        "## 1 Clasificación multiclase\n",
        "\n",
        "Para este ejercicio, se usará regresión logística y redes neuronales para reconocer dígitos escritos a mano (de 0 a 9). El reconocimiento automático de dígitos escritos a mano se usa ampliamente en la actualidad, desde el reconocimiento de códigos postales (códigos postales) en sobres de correo hasta el reconocimiento de montos escritos en cheques bancarios. Este ejercicio  mostrará cómo los métodos que ha aprendido se pueden utilizar para esta tarea de clasificación.\n",
        "\n",
        "La primera parte del ejercicio, extenderá la implementación anterior de la regresión logística y la aplicará a la clasificación de uno contra todos (one vs all).\n",
        "\n",
        "### 1.1 Dataset\n",
        "\n",
        "Se proporciona un conjunto de datos en `ex3data1.mat` que contiene 5000 ejemplos de entrenamiento de dígitos escritos a mano (este es un subconjunto del conjunto de datos de dígitos escritos a mano [MNIST] http://yann.lecun.com/exdb/mnist)). El formato `.mat` significa que los datos se han guardado en un formato de matriz nativo Octave/MATLAB, en lugar de un formato de texto (ASCII) como un archivo csv. Usamos el formato `.mat` aquí para mostrar los diferentes formatos en los que se pueden presentar los datasets. Python proporciona mecanismos para cargar el formato nativo de MATLAB usando la función `loadmat` dentro del módulo` scipy.io`. Esta función devuelve un diccionario de Python con claves que contienen los nombres de las variables dentro del archivo `.mat`.\n",
        "\n",
        "Hay 5000 ejemplos de entrenamiento en `ex3data1.mat`, donde cada ejemplo de entrenamiento es una imagen en escala de grises de 20 píxeles por 20 píxeles del dígito. Cada píxel está representado por un número de punto flotante que indica la intensidad de la escala de grises en esa ubicación. La cuadrícula de 20 por 20 píxeles se \"desenrolla\" en un vector de 400 dimensiones. Cada uno de estos ejemplos de entrenamiento se convierte en una sola fila en nuestra matriz de datos \"X\". Esto da una matriz `X` de 5000 por 400 donde cada fila es un ejemplo de entrenamiento para una imagen de dígitos escrita a mano.\n",
        "\n",
        "$$ X = \\begin{bmatrix} - \\: (x^{(1)})^T \\: - \\\\ -\\: (x^{(2)})^T \\:- \\\\ \\vdots \\\\ - \\: (x^{(m)})^T \\:-  \\end{bmatrix} $$\n",
        "\n",
        "La segunda parte del conjunto de entrenamiento es un vector \"y\" de 5000 dimensiones que contiene etiquetas para el conjunto de entrenamiento.\n",
        "\n",
        "Se inicia el ejercicio cargando primero el conjunto de datos."
      ]
    },
    {
      "cell_type": "code",
      "source": [
        "data= pd.read_csv('/content/drive/MyDrive/SIS420/MiDataSets/car_prices.csv')\n",
        "data.info()\n",
        "#print(data)\n"
      ],
      "metadata": {
        "id": "0yE2CNNulM0g",
        "colab": {
          "base_uri": "https://localhost:8080/"
        },
        "outputId": "1c41af73-e29e-486f-81f9-d4c799bef6a8"
      },
      "execution_count": null,
      "outputs": [
        {
          "output_type": "stream",
          "name": "stdout",
          "text": [
            "<class 'pandas.core.frame.DataFrame'>\n",
            "RangeIndex: 558837 entries, 0 to 558836\n",
            "Data columns (total 16 columns):\n",
            " #   Column        Non-Null Count   Dtype  \n",
            "---  ------        --------------   -----  \n",
            " 0   year          558837 non-null  int64  \n",
            " 1   make          548536 non-null  object \n",
            " 2   model         548438 non-null  object \n",
            " 3   trim          548186 non-null  object \n",
            " 4   body          545642 non-null  object \n",
            " 5   transmission  493485 non-null  object \n",
            " 6   vin           558833 non-null  object \n",
            " 7   state         558837 non-null  object \n",
            " 8   condition     547017 non-null  float64\n",
            " 9   odometer      558743 non-null  float64\n",
            " 10  color         558088 non-null  object \n",
            " 11  interior      558088 non-null  object \n",
            " 12  seller        558837 non-null  object \n",
            " 13  mmr           558799 non-null  float64\n",
            " 14  sellingprice  558825 non-null  float64\n",
            " 15  saledate      558825 non-null  object \n",
            "dtypes: float64(4), int64(1), object(11)\n",
            "memory usage: 68.2+ MB\n"
          ]
        }
      ]
    },
    {
      "cell_type": "code",
      "source": [
        "#Preprocesamiento de datos\n",
        "#Ademas observaremos la cantidad e etiquetas que tendra\n",
        "to_convert = ['make']\n",
        "id2label = {}\n",
        "label2id = {}\n",
        "for col in to_convert:\n",
        "    id2label[col] = {i: cls for i, cls in enumerate(data[col].unique())}\n",
        "    label2id[col] = {cls: i for i, cls in id2label[col].items()}\n",
        "    data[col] = data[col].replace(label2id[col])\n",
        "    print(label2id[col])\n"
      ],
      "metadata": {
        "colab": {
          "base_uri": "https://localhost:8080/"
        },
        "id": "TTc1D035Untf",
        "outputId": "48f7f8a4-91c9-4fe7-fbc2-9dec34b84fe8"
      },
      "execution_count": null,
      "outputs": [
        {
          "output_type": "stream",
          "name": "stdout",
          "text": [
            "{'Kia': 0, 'BMW': 1, 'Volvo': 2, 'Nissan': 3, 'Chevrolet': 4, 'Audi': 5, 'Ford': 6, 'Hyundai': 7, 'Buick': 8, 'Cadillac': 9, 'Acura': 10, 'Lexus': 11, 'Infiniti': 12, 'Jeep': 13, 'Mercedes-Benz': 14, 'Mitsubishi': 15, 'Mazda': 16, 'MINI': 17, 'Land Rover': 18, 'Lincoln': 19, 'lincoln': 20, 'Jaguar': 21, 'Volkswagen': 22, 'Toyota': 23, 'Subaru': 24, 'Scion': 25, 'Porsche': 26, nan: 27, 'bmw': 28, 'Dodge': 29, 'FIAT': 30, 'Chrysler': 31, 'ford': 32, 'Ferrari': 33, 'Honda': 34, 'GMC': 35, 'mitsubishi': 36, 'Ram': 37, 'smart': 38, 'chevrolet': 39, 'Bentley': 40, 'chrysler': 41, 'pontiac': 42, 'Pontiac': 43, 'Saturn': 44, 'Maserati': 45, 'Mercury': 46, 'HUMMER': 47, 'landrover': 48, 'cadillac': 49, 'land rover': 50, 'mercedes': 51, 'mazda': 52, 'toyota': 53, 'lexus': 54, 'gmc truck': 55, 'honda': 56, 'nissan': 57, 'porsche': 58, 'Saab': 59, 'Suzuki': 60, 'dodge': 61, 'subaru': 62, 'Oldsmobile': 63, 'oldsmobile': 64, 'hyundai': 65, 'jeep': 66, 'Isuzu': 67, 'dodge tk': 68, 'Geo': 69, 'acura': 70, 'volkswagen': 71, 'suzuki': 72, 'kia': 73, 'audi': 74, 'Rolls-Royce': 75, 'gmc': 76, 'maserati': 77, 'mazda tk': 78, 'mercury': 79, 'buick': 80, 'hyundai tk': 81, 'mercedes-b': 82, 'vw': 83, 'Daewoo': 84, 'chev truck': 85, 'ford tk': 86, 'plymouth': 87, 'Plymouth': 88, 'ford truck': 89, 'Tesla': 90, 'airstream': 91, 'dot': 92, 'Aston Martin': 93, 'Fisker': 94, 'Lamborghini': 95, 'Lotus': 96}\n"
          ]
        }
      ]
    },
    {
      "cell_type": "code",
      "source": [
        "num_labels = 97"
      ],
      "metadata": {
        "id": "eIABnbKCZk6V"
      },
      "execution_count": null,
      "outputs": []
    },
    {
      "cell_type": "code",
      "source": [
        "#variables categoricas\n",
        "columnas_categoricas = data.select_dtypes(include=['object']).columns\n",
        "\n",
        "for columna in columnas_categoricas:\n",
        "  le = LabelEncoder()\n",
        "  data[columna] = le.fit_transform(data[columna])"
      ],
      "metadata": {
        "id": "i_DgMIylVDiA"
      },
      "execution_count": null,
      "outputs": []
    },
    {
      "cell_type": "code",
      "source": [
        "data.info()"
      ],
      "metadata": {
        "colab": {
          "base_uri": "https://localhost:8080/"
        },
        "id": "GlsklqU5OMix",
        "outputId": "0aaec032-f9a3-4937-a04c-098725fbea36"
      },
      "execution_count": null,
      "outputs": [
        {
          "output_type": "stream",
          "name": "stdout",
          "text": [
            "<class 'pandas.core.frame.DataFrame'>\n",
            "RangeIndex: 558837 entries, 0 to 558836\n",
            "Data columns (total 16 columns):\n",
            " #   Column        Non-Null Count   Dtype  \n",
            "---  ------        --------------   -----  \n",
            " 0   year          558837 non-null  int64  \n",
            " 1   make          558837 non-null  int64  \n",
            " 2   model         558837 non-null  int64  \n",
            " 3   trim          558837 non-null  int64  \n",
            " 4   body          558837 non-null  int64  \n",
            " 5   transmission  558837 non-null  int64  \n",
            " 6   vin           558837 non-null  int64  \n",
            " 7   state         558837 non-null  int64  \n",
            " 8   condition     547017 non-null  float64\n",
            " 9   odometer      558743 non-null  float64\n",
            " 10  color         558837 non-null  int64  \n",
            " 11  interior      558837 non-null  int64  \n",
            " 12  seller        558837 non-null  int64  \n",
            " 13  mmr           558799 non-null  float64\n",
            " 14  sellingprice  558825 non-null  float64\n",
            " 15  saledate      558837 non-null  int64  \n",
            "dtypes: float64(4), int64(12)\n",
            "memory usage: 68.2 MB\n"
          ]
        }
      ]
    },
    {
      "cell_type": "code",
      "source": [
        "#llenar datos vacios\n",
        "columnas_especificas = ['condition','odometer','mmr', 'sellingprice']\n",
        "media_columnas = data[columnas_especificas].mean()\n",
        "data[columnas_especificas] = data[columnas_especificas].fillna(media_columnas)\n",
        "data.info()"
      ],
      "metadata": {
        "colab": {
          "base_uri": "https://localhost:8080/"
        },
        "id": "X_ywuyutORou",
        "outputId": "9c288ef2-28d5-4211-ca92-9ac86c7eb566"
      },
      "execution_count": null,
      "outputs": [
        {
          "output_type": "stream",
          "name": "stdout",
          "text": [
            "<class 'pandas.core.frame.DataFrame'>\n",
            "RangeIndex: 558837 entries, 0 to 558836\n",
            "Data columns (total 16 columns):\n",
            " #   Column        Non-Null Count   Dtype  \n",
            "---  ------        --------------   -----  \n",
            " 0   year          558837 non-null  int64  \n",
            " 1   make          558837 non-null  int64  \n",
            " 2   model         558837 non-null  int64  \n",
            " 3   trim          558837 non-null  int64  \n",
            " 4   body          558837 non-null  int64  \n",
            " 5   transmission  558837 non-null  int64  \n",
            " 6   vin           558837 non-null  int64  \n",
            " 7   state         558837 non-null  int64  \n",
            " 8   condition     558837 non-null  float64\n",
            " 9   odometer      558837 non-null  float64\n",
            " 10  color         558837 non-null  int64  \n",
            " 11  interior      558837 non-null  int64  \n",
            " 12  seller        558837 non-null  int64  \n",
            " 13  mmr           558837 non-null  float64\n",
            " 14  sellingprice  558837 non-null  float64\n",
            " 15  saledate      558837 non-null  int64  \n",
            "dtypes: float64(4), int64(12)\n",
            "memory usage: 68.2 MB\n"
          ]
        }
      ]
    },
    {
      "cell_type": "code",
      "source": [
        "X_datos=data.iloc[:,[0,2,3,4,5,7,9,10,12,13,14]]\n",
        "y_datos=data.iloc[:,1]"
      ],
      "metadata": {
        "id": "hFe7vEvlMxkP"
      },
      "execution_count": null,
      "outputs": []
    },
    {
      "cell_type": "code",
      "source": [
        "X_train, X_test, y_train, y_test = train_test_split(X_datos, y_datos, test_size=0.2)\n",
        "X_train.shape, X_test.shape"
      ],
      "metadata": {
        "colab": {
          "base_uri": "https://localhost:8080/"
        },
        "id": "9U3rh3pkSaBV",
        "outputId": "6f5bf742-dd77-482b-dbeb-aecda2e0e753"
      },
      "execution_count": null,
      "outputs": [
        {
          "output_type": "execute_result",
          "data": {
            "text/plain": [
              "((447069, 11), (111768, 11))"
            ]
          },
          "metadata": {},
          "execution_count": 10
        }
      ]
    },
    {
      "cell_type": "code",
      "source": [
        "X=X_train\n",
        "y=y_train\n",
        "print(y)"
      ],
      "metadata": {
        "colab": {
          "base_uri": "https://localhost:8080/"
        },
        "id": "KXI4hie2nDvD",
        "outputId": "1d9bda5c-51d6-4717-980f-f6afebb5b5f3"
      },
      "execution_count": null,
      "outputs": [
        {
          "output_type": "stream",
          "name": "stdout",
          "text": [
            "406200     4\n",
            "506955    31\n",
            "284435    31\n",
            "11256     23\n",
            "312215    43\n",
            "          ..\n",
            "511624     6\n",
            "315663    12\n",
            "52192     23\n",
            "285394     3\n",
            "235307     6\n",
            "Name: make, Length: 447069, dtype: int64\n"
          ]
        }
      ]
    },
    {
      "cell_type": "code",
      "source": [
        "def  featureNormalize(X):\n",
        "    X_norm = X.copy()\n",
        "    mu = np.zeros(X.shape[1])\n",
        "    sigma = np.zeros(X.shape[1])\n",
        "\n",
        "    mu = np.mean(X, axis = 0)\n",
        "    sigma = np.std(X, axis = 0)\n",
        "    X_norm = (X - mu) / sigma\n",
        "\n",
        "    return X_norm, mu, sigma"
      ],
      "metadata": {
        "id": "HWF5C5Jt8wNb"
      },
      "execution_count": null,
      "outputs": []
    },
    {
      "cell_type": "code",
      "source": [
        "# llama featureNormalize con los datos cargados\n",
        "X_norm, mu, sigma = featureNormalize(X)"
      ],
      "metadata": {
        "id": "f4W6d-ya1ABV"
      },
      "execution_count": null,
      "outputs": []
    },
    {
      "cell_type": "code",
      "source": [
        "# Configurar la matriz adecuadamente, y agregar una columna de unos que corresponde al termino de intercepción.\n",
        "m, n = X.shape\n",
        "# Agraga el termino de intercepción a A\n",
        "# X = np.concatenate([np.ones((m, 1)), X_norm], axis=1)\n",
        "X = X_norm\n",
        "# X = np.concatenate([np.ones((m, 1)), X], axis=1)"
      ],
      "metadata": {
        "id": "r9e6MRrW1G22"
      },
      "execution_count": null,
      "outputs": []
    },
    {
      "cell_type": "markdown",
      "metadata": {
        "id": "GxjagbCdSxgL"
      },
      "source": [
        "### 1.2 Visualización de los datos\n",
        "\n",
        "Se comenzará visualizando un subconjunto del conjunto de entrenamiento. Se selecciona al azar, 100 filas de `X` y pasa esas filas a la función` displayData`. Esta función asigna cada fila a una imagen en escala de grises de 20 píxeles por 20 píxeles y muestra las imágenes juntas."
      ]
    },
    {
      "cell_type": "code",
      "execution_count": null,
      "metadata": {
        "id": "V2C82bqdSxgL"
      },
      "outputs": [],
      "source": [
        "# def displayData(X, example_width=None, figsize=(10, 10)):\n",
        "#     \"\"\"\n",
        "#     Muestra datos 2D almacenados en X en una cuadrícula apropiada.\n",
        "#     \"\"\"\n",
        "#     # Calcula filas, columnas\n",
        "#     if X.ndim == 2:\n",
        "#         m, n = X.shape\n",
        "#     elif X.ndim == 1:\n",
        "#         n = X.size\n",
        "#         m = 1\n",
        "#         X = X[None]  # Promocionar a una matriz bidimensional\n",
        "#     else:\n",
        "#         raise IndexError('La entrada X debe ser 1 o 2 dimensinal.')\n",
        "\n",
        "#     example_width = example_width or int(np.round(np.sqrt(n)))\n",
        "#     example_height = n / example_width\n",
        "\n",
        "#     # Calcula el numero de elementos a mostrar\n",
        "#     display_rows = int(np.floor(np.sqrt(m)))\n",
        "#     display_cols = int(np.ceil(m / display_rows))\n",
        "\n",
        "#     fig, ax_array = pyplot.subplots(display_rows, display_cols, figsize=figsize)\n",
        "#     fig.subplots_adjust(wspace=0.025, hspace=0.025)\n",
        "\n",
        "#     ax_array = [ax_array] if m == 1 else ax_array.ravel()\n",
        "\n",
        "#     for i, ax in enumerate(ax_array):\n",
        "#         ax.imshow(X[i].reshape(example_width, example_width, order='F'),\n",
        "#                   cmap='Greys', extent=[0, 1, 0, 1])\n",
        "#         ax.axis('off')"
      ]
    },
    {
      "cell_type": "code",
      "execution_count": null,
      "metadata": {
        "id": "B5marXeKSxgM"
      },
      "outputs": [],
      "source": [
        "# Selecciona aleatoriamente 100 puntos de datos para mostrar\n",
        "#rand_indices = np.random.choice(m, 100, replace=False)\n",
        "#sel = X[rand_indices, :]\n",
        "\n",
        " #displayData(sel)"
      ]
    },
    {
      "cell_type": "markdown",
      "metadata": {
        "collapsed": true,
        "id": "M2h-xWvTSxgM"
      },
      "source": [
        "### 1.3 Vectorización de regresión logística\n",
        "\n",
        "Se utilizará múltiples modelos de regresión logística uno contra todos para construir un clasificador de clases múltiples. Dado que hay 10 clases, deberá entrenar 10 clasificadores de regresión logística separados. Para que esta capacitación sea eficiente, es importante asegurarse de que el código esté bien vectorizado.\n",
        "\n",
        "En esta sección, se implementará una versión vectorizada de regresión logística que no emplea ningún bucle \"for\".\n",
        "\n",
        "Para probar la regresión logística vectorizada, se usara datos personalizados como se definen a continuación."
      ]
    },
    {
      "cell_type": "markdown",
      "metadata": {
        "id": "BQ-PeDkKSxgN"
      },
      "source": [
        "<a id=\"section1\"></a>\n",
        "#### 1.3.1 Vectorización de la funcion de costo\n",
        "\n",
        "Se inicia escribiendo una versión vectorizada de la función de costo. En la regresión logística (no regularizada), la función de costo es\n",
        "\n",
        "$$ J(\\theta) = \\frac{1}{m} \\sum_{i=1}^m \\left[ -y^{(i)} \\log \\left( h_\\theta\\left( x^{(i)} \\right) \\right) - \\left(1 - y^{(i)} \\right) \\log \\left(1 - h_\\theta \\left( x^{(i)} \\right) \\right) \\right] $$\n",
        "\n",
        "Para calcular cada elemento en la suma, tenemos que calcular $h_\\theta(x^{(i)})$ para cada ejemplo $i$, donde $h_\\theta(x^{(i)}) = g(\\theta^T x^{(i)})$ y $g(z) = \\frac{1}{1+e^{-z}}$ es la funcion sigmoidea. Resulta que podemos calcular esto rápidamente para todos los ejemplos usando la multiplicación de matrices. Definamos $X$ y $\\theta$ como\n",
        "\n",
        "$$ X = \\begin{bmatrix} - \\left( x^{(1)} \\right)^T - \\\\ - \\left( x^{(2)} \\right)^T - \\\\ \\vdots \\\\ - \\left( x^{(m)} \\right)^T - \\end{bmatrix} \\qquad \\text{and} \\qquad \\theta = \\begin{bmatrix} \\theta_0 \\\\ \\theta_1 \\\\ \\vdots \\\\ \\theta_n \\end{bmatrix} $$\n",
        "\n",
        "Luego, de calcular el producto matricial $X\\theta$, se tiene:\n",
        "\n",
        "$$ X\\theta = \\begin{bmatrix} - \\left( x^{(1)} \\right)^T\\theta - \\\\ - \\left( x^{(2)} \\right)^T\\theta - \\\\ \\vdots \\\\ - \\left( x^{(m)} \\right)^T\\theta - \\end{bmatrix} = \\begin{bmatrix} - \\theta^T x^{(1)}  - \\\\ - \\theta^T x^{(2)} - \\\\ \\vdots \\\\ - \\theta^T x^{(m)}  - \\end{bmatrix} $$\n",
        "\n",
        "En la última igualdad, usamos el hecho de que $a^Tb = b^Ta$ if $a$ y $b$ son vectores. Esto permite calcular los productos $\\theta^T x^{(i)}$ para todos los ejemplos $i$ en una linea de codigo.\n",
        "\n",
        "#### 1.3.2 Vectorización del gradiente\n",
        "\n",
        "Recordemos que el gradiente del costo de regresión logística (no regularizado) es un vector donde el elemento $j^{th}$ se define como\n",
        "$$ \\frac{\\partial J }{\\partial \\theta_j} = \\frac{1}{m} \\sum_{i=1}^m \\left( \\left( h_\\theta\\left(x^{(i)}\\right) - y^{(i)} \\right)x_j^{(i)} \\right) $$\n",
        "\n",
        "Para vectorizar esta operación sobre el conjunto de datos, se inicia escribiendo todas las derivadas parciales explícitamente para todos $\\theta_j$,\n",
        "\n",
        "$$\n",
        "\\begin{align*}\n",
        "\\begin{bmatrix}\n",
        "\\frac{\\partial J}{\\partial \\theta_0} \\\\\n",
        "\\frac{\\partial J}{\\partial \\theta_1} \\\\\n",
        "\\frac{\\partial J}{\\partial \\theta_2} \\\\\n",
        "\\vdots \\\\\n",
        "\\frac{\\partial J}{\\partial \\theta_n}\n",
        "\\end{bmatrix} = &\n",
        "\\frac{1}{m} \\begin{bmatrix}\n",
        "\\sum_{i=1}^m \\left( \\left(h_\\theta\\left(x^{(i)}\\right) - y^{(i)} \\right)x_0^{(i)}\\right) \\\\\n",
        "\\sum_{i=1}^m \\left( \\left(h_\\theta\\left(x^{(i)}\\right) - y^{(i)} \\right)x_1^{(i)}\\right) \\\\\n",
        "\\sum_{i=1}^m \\left( \\left(h_\\theta\\left(x^{(i)}\\right) - y^{(i)} \\right)x_2^{(i)}\\right) \\\\\n",
        "\\vdots \\\\\n",
        "\\sum_{i=1}^m \\left( \\left(h_\\theta\\left(x^{(i)}\\right) - y^{(i)} \\right)x_n^{(i)}\\right) \\\\\n",
        "\\end{bmatrix} \\\\\n",
        "= & \\frac{1}{m} \\sum_{i=1}^m \\left( \\left(h_\\theta\\left(x^{(i)}\\right) - y^{(i)} \\right)x^{(i)}\\right) \\\\\n",
        "= & \\frac{1}{m} X^T \\left( h_\\theta(x) - y\\right)\n",
        "\\end{align*}\n",
        "$$\n",
        "\n",
        "donde\n",
        "\n",
        "$$  h_\\theta(x) - y =\n",
        "\\begin{bmatrix}\n",
        "h_\\theta\\left(x^{(1)}\\right) - y^{(1)} \\\\\n",
        "h_\\theta\\left(x^{(2)}\\right) - y^{(2)} \\\\\n",
        "\\vdots \\\\\n",
        "h_\\theta\\left(x^{(m)}\\right) - y^{(m)}\n",
        "\\end{bmatrix} $$\n",
        "\n",
        "Nota $x^{(i)}$ es un vector, mientras $h_\\theta\\left(x^{(i)}\\right) - y^{(i)}$ es un escalar(simple número).\n",
        "Para comprender el último paso de la derivación, dejemos $\\beta_i = (h_\\theta\\left(x^{(m)}\\right) - y^{(m)})$ y\n",
        "observar que:\n",
        "\n",
        "$$ \\sum_i \\beta_ix^{(i)} = \\begin{bmatrix}\n",
        "| & | & & | \\\\\n",
        "x^{(1)} & x^{(2)} & \\cdots & x^{(m)} \\\\\n",
        "| & | & & |\n",
        "\\end{bmatrix}\n",
        "\\begin{bmatrix}\n",
        "\\beta_1 \\\\\n",
        "\\beta_2 \\\\\n",
        "\\vdots \\\\\n",
        "\\beta_m\n",
        "\\end{bmatrix} = x^T \\beta\n",
        "$$\n",
        "\n",
        "donde los valores $\\beta_i = \\left( h_\\theta(x^{(i)} - y^{(i)} \\right)$.\n",
        "\n",
        "La expresión anterior nos permite calcular todas las derivadas parciales sin bucles.\n",
        "Si se siente cómodo con el álgebra lineal, le recomendamos que trabaje con las multiplicaciones de matrices anteriores para convencerse de que la versión vectorizada hace los mismos cálculos.\n",
        "\n",
        "<div class=\"alert alert-box alert-warning\">\n",
        "** Consejo de depuración: ** El código de vectorización a veces puede ser complicado. Una estrategia común para la depuración es imprimir los tamaños de las matrices con las que está trabajando usando la propiedad `shape` de las matrices` numpy`.\n",
        "\n",
        "Por ejemplo, dada una matriz de datos $X$ de tamaño $100\\veces 20$ (100 ejemplos, 20 características) y $\\theta$, un vector con tamaño $20$, puede observar que `np.dot (X, theta) `es una operación de multiplicación válida, mientras que` np.dot (theta, X) `no lo es.\n",
        "\n",
        "Además, si tiene una versión no vectorizada de su código, puede comparar la salida de su código vectorizado y el código no vectorizado para asegurarse de que produzcan las mismas salidas.</div>\n",
        "<a id=\"lrCostFunction\"></a>"
      ]
    },
    {
      "cell_type": "code",
      "execution_count": null,
      "metadata": {
        "id": "0sB9Kyi8SxgN"
      },
      "outputs": [],
      "source": [
        "def sigmoid(z):\n",
        "    \"\"\"\n",
        "    Calcula la sigmoide de z.\n",
        "    \"\"\"\n",
        "    return 1.0 / (1.0 + np.exp(-z))"
      ]
    },
    {
      "cell_type": "code",
      "execution_count": null,
      "metadata": {
        "id": "w5S0OOswSxgN"
      },
      "outputs": [],
      "source": [
        "def lrCostFunction(theta, X, y, lambda_):\n",
        "    \"\"\"\n",
        "    Calcula el costo de usar theta como parámetro para la regresión logística regularizada y\n",
        "    el gradiente del costo w.r.t. a los parámetros.\n",
        "\n",
        "    Parametros\n",
        "    ----------\n",
        "    theta : array_like\n",
        "        Parametro theta de la regresion logistica. Vector de la forma(shape) (n, ). n es el numero de caracteristicas\n",
        "        incluida la intercepcion\n",
        "\n",
        "    X : array_like\n",
        "        Dataset con la forma(shape) (m x n). m es el numero de ejemplos, y n es el numero de\n",
        "        caracteristicas (incluida la intercepcion).\n",
        "\n",
        "    y : array_like\n",
        "        El conjunto de etiquetas. Un vector con la forma (shape) (m, ). m es el numero de ejemplos\n",
        "\n",
        "    lambda_ : float\n",
        "        Parametro de regularización.\n",
        "\n",
        "    Devuelve\n",
        "    -------\n",
        "    J : float\n",
        "        El valor calculado para la funcion de costo regularizada.\n",
        "\n",
        "    grad : array_like\n",
        "        Un vector de la forma (shape) (n, ) que es el gradiente de la\n",
        "        función de costo con respecto a theta, en los valores actuales de theta..\n",
        "    \"\"\"\n",
        "#     alpha = 0.003\n",
        "#     theta = theta.copy()\n",
        "    # Inicializa algunos valores utiles\n",
        "    m = y.size\n",
        "\n",
        "    # convierte las etiquetas a valores enteros si son boleanos\n",
        "    if y.dtype == bool:\n",
        "        y = y.astype(int)\n",
        "\n",
        "    J = 0\n",
        "    grad = np.zeros(theta.shape)\n",
        "\n",
        "    h = sigmoid(X.dot(theta.T))\n",
        "\n",
        "    temp = theta\n",
        "    temp[0] = 0\n",
        "\n",
        "#     J = (1 / m) * np.sum(-y.dot(np.log(h)) - (1 - y).dot(np.log(1 - h)))\n",
        "    J = (1 / m) * np.sum(-y.dot(np.log(h)) - (1 - y).dot(np.log(1 - h))) + (lambda_ / (2 * m)) * np.sum(np.square(temp))\n",
        "\n",
        "    grad = (1 / m) * (h - y).dot(X)\n",
        "#     theta = theta - (alpha / m) * (h - y).dot(X)\n",
        "    grad = grad + (lambda_ / m) * temp\n",
        "\n",
        "    return J, grad\n",
        "#    return J, theta"
      ]
    },
    {
      "cell_type": "markdown",
      "metadata": {
        "id": "eJyLWCXrSxgN"
      },
      "source": [
        "#### 1.3.3 Vectorización regularizada de la regresión logística\n",
        "\n",
        "Una vez implementada la vectorización para la regresión logística, corresponde agregarar regularización a la función de costo.\n",
        "Para la regresión logística regularizada, la función de costo se define como\n",
        "\n",
        "$$ J(\\theta) = \\frac{1}{m} \\sum_{i=1}^m \\left[ -y^{(i)} \\log \\left(h_\\theta\\left(x^{(i)} \\right)\\right) - \\left( 1 - y^{(i)} \\right) \\log\\left(1 - h_\\theta \\left(x^{(i)} \\right) \\right) \\right] + \\frac{\\lambda}{2m} \\sum_{j=1}^n \\theta_j^2 $$\n",
        "\n",
        "Tomar en cuenta que no debería regularizarse $\\theta_0$ que se usa para el término de sesgo. En consecuencia, la derivada parcial del costo de regresión logística regularizado para $\\theta_j$ se define como\n",
        "\n",
        "$$\n",
        "\\begin{align*}\n",
        "& \\frac{\\partial J(\\theta)}{\\partial \\theta_0} = \\frac{1}{m} \\sum_{i=1}^m \\left( h_\\theta\\left( x^{(i)} \\right) - y^{(i)} \\right) x_j^{(i)}  & \\text{for } j = 0 \\\\\n",
        "& \\frac{\\partial J(\\theta)}{\\partial \\theta_0} = \\left( \\frac{1}{m} \\sum_{i=1}^m \\left( h_\\theta\\left( x^{(i)} \\right) - y^{(i)} \\right) x_j^{(i)} \\right) + \\frac{\\lambda}{m} \\theta_j & \\text{for } j  \\ge 1\n",
        "\\end{align*}\n",
        "$$\n",
        "\n",
        "<div class=\"alert alert-box alert-warning\">\n",
        "** Python/numpy Consejo: ** Al implementar la vectorización para la regresión logística regularizada, a menudo es posible que solo desee sumar y actualizar ciertos elementos de $\\theta$. En `numpy`, puede indexar en las matrices para acceder y actualizar solo ciertos elementos.\n",
        "\n",
        "Por ejemplo, A [:, 3: 5] = B [:, 1: 3] reemplazará las columnas con índice 3 a 5 de A con las columnas con índice 1 a 3 de B.   \n",
        "Para seleccionar columnas (o filas) hasta el final de la matriz, puede dejar el lado derecho de los dos puntos en blanco.\n",
        "Por ejemplo, A [:, 2:] solo devolverá elementos desde $3^{rd}$ a las últimas columnas de $A$.Si deja el tamaño de la mano izquierda de los dos puntos en blanco, seleccionará los elementos del principio de la matriz.\n",
        "Por ejemplo, A [:,: 2] selecciona las dos primeras columnas y es equivalente a A [:, 0: 2]. Además, puede utilizar índices negativos para indexar matrices desde el final.\n",
        "Por lo tanto, A [:,: -1] selecciona todas las columnas de A excepto la última columna, y A [:, -5:] selecciona la columna $5^{th}$ desde el final hasta la última columna.\n",
        "\n",
        "Por lo tanto, podría usar esto junto con las operaciones de suma y potencia ($^{**}$) para calcular la suma de solo los elementos que le interesan (por ejemplo, `np.sum (z[1:]**2)`).\n",
        "</div>\n"
      ]
    },
    {
      "cell_type": "markdown",
      "metadata": {
        "id": "Rlk-Z2p-SxgN"
      },
      "source": [
        "<a id=\"section2\"></a>\n",
        "### 1.4 Clasificacion One-vs-all\n",
        "En esta parte del ejercicio, se implementará la clasificación de uno contra todos mediante el entrenamiento de múltiples clasificadores de regresión logística regularizados, uno para cada una de las clases $K$ en nuestro conjunto de datos. En el conjunto de datos de dígitos escritos a mano, $K = 10$, pero su código debería funcionar para cualquier valor de $K$.\n",
        "\n",
        "El argumento `y` de esta función es un vector de etiquetas de 0 a 9. Al entrenar el clasificador para la clase $k \\in \\{0, ..., K-1 \\} $, querrá un vector K-dimensional de etiquetas $y$, donde $y_j \\ in 0, 1$ indica si la instancia de entrenamiento $j ^ {th}$ pertenece a la clase $k$ $(y_j = 1)$, o si pertenece a una clase diferente $(y_j = 0)$.\n",
        "\n",
        "Además, se utiliza `optimize.minimize` de scipy para este ejercicio.\n",
        "<a id=\"oneVsAll\"></a>"
      ]
    },
    {
      "cell_type": "code",
      "execution_count": null,
      "metadata": {
        "id": "V0rOw5qhSxgN"
      },
      "outputs": [],
      "source": [
        "def oneVsAll(X, y, num_labels, lambda_):\n",
        "    \"\"\"\n",
        "    Trains num_labels logistic regression classifiers and returns\n",
        "    each of these classifiers in a matrix all_theta, where the i-th\n",
        "    row of all_theta corresponds to the classifier for label i.\n",
        "\n",
        "    Parameters\n",
        "    ----------\n",
        "    X : array_like\n",
        "        The input dataset of shape (m x n). m is the number of\n",
        "        data points, and n is the number of features. Note that we\n",
        "        do not assume that the intercept term (or bias) is in X, however\n",
        "        we provide the code below to add the bias term to X.\n",
        "\n",
        "    y : array_like\n",
        "        The data labels. A vector of shape (m, ).\n",
        "\n",
        "    num_labels : int\n",
        "        Number of possible labels.\n",
        "\n",
        "    lambda_ : float\n",
        "        The logistic regularization parameter.\n",
        "\n",
        "    Returns\n",
        "    -------\n",
        "    all_theta : array_like\n",
        "        The trained parameters for logistic regression for each class.\n",
        "        This is a matrix of shape (K x n+1) where K is number of classes\n",
        "        (ie. `numlabels`) and n is number of features without the bias.\n",
        "    \"\"\"\n",
        "    # algunas variables utiles\n",
        "    m, n = X.shape\n",
        "\n",
        "    all_theta = np.zeros((num_labels, n + 1))\n",
        "\n",
        "    # Agrega unos a la matriz X\n",
        "    X = np.concatenate([np.ones((m, 1)), X], axis=1)\n",
        "\n",
        "    for c in np.arange(num_labels):\n",
        "        print(f\"Entrenando para la clase {c}...\")\n",
        "        initial_theta = np.zeros(n + 1)\n",
        "        options = {'maxiter': 50}\n",
        "        res = optimize.minimize(lrCostFunction,\n",
        "                                initial_theta,\n",
        "                                (X, (y == c), lambda_),\n",
        "                                jac=True,\n",
        "                                method='CG',\n",
        "                                options=options)\n",
        "        all_theta[c] = res.x\n",
        "\n",
        "    return all_theta"
      ]
    },
    {
      "cell_type": "code",
      "execution_count": null,
      "metadata": {
        "id": "w6JbsLLMSxgO",
        "outputId": "4cc66672-37b7-47cd-9fce-c2ff9a63d9b5",
        "colab": {
          "base_uri": "https://localhost:8080/"
        }
      },
      "outputs": [
        {
          "output_type": "stream",
          "name": "stdout",
          "text": [
            "Entrenando para la clase 0...\n",
            "Entrenando para la clase 1...\n",
            "Entrenando para la clase 2...\n",
            "Entrenando para la clase 3...\n",
            "Entrenando para la clase 4...\n",
            "Entrenando para la clase 5...\n",
            "Entrenando para la clase 6...\n",
            "Entrenando para la clase 7...\n",
            "Entrenando para la clase 8...\n",
            "Entrenando para la clase 9...\n",
            "Entrenando para la clase 10...\n",
            "Entrenando para la clase 11...\n",
            "Entrenando para la clase 12...\n",
            "Entrenando para la clase 13...\n",
            "Entrenando para la clase 14...\n",
            "Entrenando para la clase 15...\n",
            "Entrenando para la clase 16...\n",
            "Entrenando para la clase 17...\n",
            "Entrenando para la clase 18...\n",
            "Entrenando para la clase 19...\n",
            "Entrenando para la clase 20...\n",
            "Entrenando para la clase 21...\n",
            "Entrenando para la clase 22...\n",
            "Entrenando para la clase 23...\n",
            "Entrenando para la clase 24...\n",
            "Entrenando para la clase 25...\n",
            "Entrenando para la clase 26...\n",
            "Entrenando para la clase 27...\n",
            "Entrenando para la clase 28...\n",
            "Entrenando para la clase 29...\n",
            "Entrenando para la clase 30...\n",
            "Entrenando para la clase 31...\n",
            "Entrenando para la clase 32...\n",
            "Entrenando para la clase 33...\n",
            "Entrenando para la clase 34...\n",
            "Entrenando para la clase 35...\n",
            "Entrenando para la clase 36...\n",
            "Entrenando para la clase 37...\n",
            "Entrenando para la clase 38...\n",
            "Entrenando para la clase 39...\n",
            "Entrenando para la clase 40...\n",
            "Entrenando para la clase 41...\n",
            "Entrenando para la clase 42...\n",
            "Entrenando para la clase 43...\n",
            "Entrenando para la clase 44...\n",
            "Entrenando para la clase 45...\n",
            "Entrenando para la clase 46...\n",
            "Entrenando para la clase 47...\n",
            "Entrenando para la clase 48...\n",
            "Entrenando para la clase 49...\n",
            "Entrenando para la clase 50...\n",
            "Entrenando para la clase 51...\n",
            "Entrenando para la clase 52...\n",
            "Entrenando para la clase 53...\n",
            "Entrenando para la clase 54...\n",
            "Entrenando para la clase 55...\n",
            "Entrenando para la clase 56...\n",
            "Entrenando para la clase 57...\n",
            "Entrenando para la clase 58...\n",
            "Entrenando para la clase 59...\n",
            "Entrenando para la clase 60...\n",
            "Entrenando para la clase 61...\n",
            "Entrenando para la clase 62...\n",
            "Entrenando para la clase 63...\n",
            "Entrenando para la clase 64...\n",
            "Entrenando para la clase 65...\n",
            "Entrenando para la clase 66...\n",
            "Entrenando para la clase 67...\n",
            "Entrenando para la clase 68...\n",
            "Entrenando para la clase 69...\n",
            "Entrenando para la clase 70...\n",
            "Entrenando para la clase 71...\n",
            "Entrenando para la clase 72...\n",
            "Entrenando para la clase 73...\n",
            "Entrenando para la clase 74...\n",
            "Entrenando para la clase 75...\n",
            "Entrenando para la clase 76...\n",
            "Entrenando para la clase 77...\n",
            "Entrenando para la clase 78...\n",
            "Entrenando para la clase 79...\n",
            "Entrenando para la clase 80...\n",
            "Entrenando para la clase 81...\n",
            "Entrenando para la clase 82...\n",
            "Entrenando para la clase 83...\n",
            "Entrenando para la clase 84...\n",
            "Entrenando para la clase 85...\n",
            "Entrenando para la clase 86...\n",
            "Entrenando para la clase 87...\n",
            "Entrenando para la clase 88...\n",
            "Entrenando para la clase 89...\n",
            "Entrenando para la clase 90...\n",
            "Entrenando para la clase 91...\n",
            "Entrenando para la clase 92...\n",
            "Entrenando para la clase 93...\n",
            "Entrenando para la clase 94...\n",
            "Entrenando para la clase 95...\n",
            "Entrenando para la clase 96...\n",
            "(97, 12)\n"
          ]
        }
      ],
      "source": [
        "lambda_ = 0.1\n",
        "all_theta = oneVsAll(X, y, num_labels, lambda_)\n",
        "print(all_theta.shape)"
      ]
    },
    {
      "cell_type": "code",
      "source": [
        "print(all_theta)"
      ],
      "metadata": {
        "colab": {
          "base_uri": "https://localhost:8080/"
        },
        "id": "V1EfKaiEgtcw",
        "outputId": "1c49c8b3-a49f-470f-93ba-81349f4851ee"
      },
      "execution_count": null,
      "outputs": [
        {
          "output_type": "stream",
          "name": "stdout",
          "text": [
            "[[ -4.47204731   1.46363045   0.94133352 ...  -0.10170847  -1.77502285\n",
            "    0.13979144]\n",
            " [ -4.392963    -0.82351808  -0.76245896 ...  -0.39602016   0.63966125\n",
            "    0.29277915]\n",
            " [ -5.91238673  -0.40252686   1.26385862 ...   0.18823027   0.03691296\n",
            "    0.05180452]\n",
            " ...\n",
            " [-11.92330504   0.063542     0.12696486 ...  -0.08442892   0.40090679\n",
            "    0.02032028]\n",
            " [-12.41494301  -1.08015434  -0.11902191 ...   0.39114037   0.28242254\n",
            "    0.40134731]\n",
            " [-12.31670276  -0.37696634  -0.07032324 ...  -0.04166746   0.16306629\n",
            "    0.17649114]]\n"
          ]
        }
      ]
    },
    {
      "cell_type": "markdown",
      "metadata": {
        "id": "aQLqvbc_SxgO"
      },
      "source": [
        "<a id=\"section3\"></a>\n",
        "#### 1.4.1 Prediccion One-vs-all\n",
        "\n",
        "Después de entrenar el clasificador de one-vs-all, se puede usarlo para predecir el dígito contenido en una imagen determinada. Para cada entrada, debe calcular la \"probabilidad\" de que pertenezca a cada clase utilizando los clasificadores de regresión logística entrenados. La función de predicción one-vs-all seleccionará la clase para la cual el clasificador de regresión logística correspondiente genera la probabilidad más alta y devolverá la etiqueta de clase (0, 1, ..., K-1) como la predicción para el ejemplo de entrada."
      ]
    },
    {
      "cell_type": "code",
      "execution_count": null,
      "metadata": {
        "id": "PjFoFe1bSxgO"
      },
      "outputs": [],
      "source": [
        "def predictOneVsAll(all_theta, X):\n",
        "    \"\"\"\n",
        "    Devuelve un vector de predicciones para cada ejemplo en la matriz X.\n",
        "    Tenga en cuenta que X contiene los ejemplos en filas.\n",
        "    all_theta es una matriz donde la i-ésima fila es un vector theta de regresión logística entrenada para la i-ésima clase.\n",
        "    Debe establecer p en un vector de valores de 0..K-1 (por ejemplo, p = [0, 2, 0, 1]\n",
        "    predice clases 0, 2, 0, 1 para 4 ejemplos).\n",
        "\n",
        "    Parametros\n",
        "    ----------\n",
        "    all_theta : array_like\n",
        "        The trained parameters for logistic regression for each class.\n",
        "        This is a matrix of shape (K x n+1) where K is number of classes\n",
        "        and n is number of features without the bias.\n",
        "\n",
        "    X : array_like\n",
        "        Data points to predict their labels. This is a matrix of shape\n",
        "        (m x n) where m is number of data points to predict, and n is number\n",
        "        of features without the bias term. Note we add the bias term for X in\n",
        "        this function.\n",
        "\n",
        "    Devuelve\n",
        "    -------\n",
        "    p : array_like\n",
        "        The predictions for each data point in X. This is a vector of shape (m, ).\n",
        "    \"\"\"\n",
        "\n",
        "    m = X.shape[0];\n",
        "    num_labels = all_theta.shape[0]\n",
        "\n",
        "    p = np.zeros(m)\n",
        "\n",
        "    # Add ones to the X data matrix\n",
        "    X = np.concatenate([np.ones((m, 1)), X], axis=1)\n",
        "    p = np.argmax(sigmoid(X.dot(all_theta.T)), axis = 1)\n",
        "\n",
        "    return p\n",
        "\n"
      ]
    },
    {
      "cell_type": "markdown",
      "metadata": {
        "id": "zo3aawvsSxgO"
      },
      "source": [
        "Una vez que haya terminado, se llama a la función `predictOneVsAll` usando el valor aprendido de $\\theta$. Debería apreciarse que la precisión del conjunto de entrenamiento es de aproximadamente 95,1% (es decir, clasifica correctamente el 95,1% de los ejemplos del conjunto de entrenamiento)."
      ]
    },
    {
      "cell_type": "code",
      "execution_count": null,
      "metadata": {
        "id": "mE7v5cglSxgO",
        "outputId": "d4b58615-e13f-4f9e-8073-b304345a4f9e",
        "colab": {
          "base_uri": "https://localhost:8080/"
        }
      },
      "outputs": [
        {
          "output_type": "stream",
          "name": "stdout",
          "text": [
            "(447069, 11)\n",
            "Precision del conjuto de entrenamiento: 31.66%\n",
            "Predicciones\n",
            "[ 3  6 34  6  6  3  6  6  1  4 10  6 37  6 23  3  4  6  3  4 34 34  3  3\n",
            " 23  3  6  6 16  4  4  4  4  6  3  3  4 23  1 23  4  4  4  6  4  6  6  6\n",
            "  6  6  4  4  6  3  3  3  6  6  4 34 27  6  6  1  7  4  6  0  6  3  6  6\n",
            "  3 23  4 27  6  6  6  6  6 34  3  6  6  4  6  3  4  4 34 23  3  6  6  6\n",
            "  4  3  6  6  4  3  6  6  4  4  6  4  4  3  6 23 23  3  6  6  4  3  6  6\n",
            "  4 23  6  6  4  3  3  6 27  3  4  1  6 11  6  6 27  3  6  4  6  1  6  6\n",
            "  6  6  6  3 27  6]\n",
            "Datos reales de prueba\n",
            "406200     4\n",
            "506955    31\n",
            "284435    31\n",
            "11256     23\n",
            "312215    43\n",
            "          ..\n",
            "22305     29\n",
            "130714     6\n",
            "339687    10\n",
            "468796    27\n",
            "197542    29\n",
            "Name: make, Length: 150, dtype: int64\n"
          ]
        }
      ],
      "source": [
        "print(X.shape)\n",
        "pred = predictOneVsAll(all_theta, X)\n",
        "print('Precision del conjuto de entrenamiento: {:.2f}%'.format(np.mean(pred == y) * 100))\n",
        "\n",
        "# Selecciona las primeras 150 filas de X\n",
        "XPrueba = X.iloc[0:150, :].copy()\n",
        "#XPrueba = np.concatenate([np.ones((150, 1)), XPrueba], axis=1)\n",
        "#print(XPrueba[0])\n",
        "p = predictOneVsAll(all_theta, XPrueba)\n",
        "#print(XPrueba[0])\n",
        "#p = np.argmax(sigmoid(XPrueba.dot(all_theta.T)), axis=1)\n",
        "\n",
        "print(\"Predicciones\")\n",
        "print(p)\n",
        "\n",
        "# Muestra los datos reales de prueba\n",
        "print(\"Datos reales de prueba\")\n",
        "print(y_train[0:150])\n"
      ]
    },
    {
      "cell_type": "code",
      "source": [
        "#Normalización de los datos\n",
        "def featureNormalize(X):\n",
        "    mu = np.mean(X, axis=0)\n",
        "    sigma = np.std(X, axis=0)\n",
        "    X_norm = (X - mu) / sigma\n",
        "    return X_norm, mu, sigma\n",
        "\n",
        "X_Nor_test, mu, sigma = featureNormalize(X_test)\n",
        "#print(X_Nor_test)\n",
        "\n",
        "pred = predictOneVsAll(all_theta, X_Nor_test)\n",
        "print('Precision del conjuto de entrenamiento: {:.2f}%'.format(np.mean(pred == y_test) * 100))\n",
        "\n",
        "# Selecciona las primeras 150 filas de X\n",
        "XPrueba = X_Nor_test.iloc[0:150, :].copy()\n",
        "#XPrueba = np.concatenate([np.ones((150, 1)), XPrueba], axis=1)\n",
        "#print(XPrueba[0])\n",
        "p = predictOneVsAll(all_theta, XPrueba)\n",
        "#print(XPrueba[0])\n",
        "#p = np.argmax(sigmoid(XPrueba.dot(all_theta.T)), axis=1)\n",
        "\n",
        "print(\"Predicciones\")\n",
        "print(p)\n",
        "\n",
        "# Muestra los datos reales de prueba\n",
        "print(\"Datos reales de prueba\")\n",
        "print(y_test[0:150])"
      ],
      "metadata": {
        "colab": {
          "base_uri": "https://localhost:8080/"
        },
        "id": "xlpBdKW0XQcx",
        "outputId": "02022765-8fce-4d4f-ab9e-61998bc8a740"
      },
      "execution_count": null,
      "outputs": [
        {
          "output_type": "stream",
          "name": "stdout",
          "text": [
            "Precision del conjuto de entrenamiento: 31.50%\n",
            "Predicciones\n",
            "[ 4  6  1  4  3  4  6  3  4  6  4  3  6  6  6  4  6  6  3  4  6  4  6  3\n",
            "  4 14  1  6 34 34  1  6  6 22  4  7  3  0  6  4  6 34  6  4  6  6 23  6\n",
            "  1  3  6  6  6  3  6  6  4 12  3  4  3 34  0  6  6  6  6  6  6  6  3  3\n",
            " 14 34  6  6 23  6  6  1  6  3  6  6  3  6 27  4  3  4  6  4  6 23  3  4\n",
            "  4  6 23  4 23  6  6  4  6  1  4  6  6  6  3  0 37  3  4  1  1  4  3  1\n",
            "  1  6  6  4  4 34 23  4  3  6  4  3  3  1  6  6  6  6  4  6  4  3 23  6\n",
            "  1  6  3  3  6  6]\n",
            "Datos reales de prueba\n",
            "316179    10\n",
            "418074    29\n",
            "512519     1\n",
            "21242      3\n",
            "493531    12\n",
            "          ..\n",
            "202517     3\n",
            "46359      3\n",
            "412708    14\n",
            "497548    35\n",
            "62236     23\n",
            "Name: make, Length: 150, dtype: int64\n"
          ]
        }
      ]
    }
  ],
  "metadata": {
    "kernelspec": {
      "display_name": "Python 3",
      "language": "python",
      "name": "python3"
    },
    "language_info": {
      "codemirror_mode": {
        "name": "ipython",
        "version": 3
      },
      "file_extension": ".py",
      "mimetype": "text/x-python",
      "name": "python",
      "nbconvert_exporter": "python",
      "pygments_lexer": "ipython3",
      "version": "3.8.5"
    },
    "colab": {
      "provenance": [],
      "include_colab_link": true
    }
  },
  "nbformat": 4,
  "nbformat_minor": 0
}