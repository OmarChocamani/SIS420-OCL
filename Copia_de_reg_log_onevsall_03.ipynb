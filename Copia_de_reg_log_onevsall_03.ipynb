{
  "cells": [
    {
      "cell_type": "markdown",
      "metadata": {
        "id": "view-in-github",
        "colab_type": "text"
      },
      "source": [
        "<a href=\"https://colab.research.google.com/github/OmarChocamani/SIS420-OCL/blob/main/Copia_de_reg_log_onevsall_03.ipynb\" target=\"_parent\"><img src=\"https://colab.research.google.com/assets/colab-badge.svg\" alt=\"Open In Colab\"/></a>"
      ]
    },
    {
      "cell_type": "code",
      "source": [
        "from google.colab import drive\n",
        "drive.mount('/content/drive')"
      ],
      "metadata": {
        "colab": {
          "base_uri": "https://localhost:8080/"
        },
        "id": "clyp4NcQycWP",
        "outputId": "9ff88919-42e4-4f6e-804c-79ba38a85f45"
      },
      "execution_count": 1,
      "outputs": [
        {
          "output_type": "stream",
          "name": "stdout",
          "text": [
            "Drive already mounted at /content/drive; to attempt to forcibly remount, call drive.mount(\"/content/drive\", force_remount=True).\n"
          ]
        }
      ]
    },
    {
      "cell_type": "code",
      "execution_count": 2,
      "metadata": {
        "id": "20Q29kX8SxgJ"
      },
      "outputs": [],
      "source": [
        "# utilizado para la manipulación de directorios y rutas\n",
        "import os\n",
        "\n",
        "# Cálculo científico y vectorial para python\n",
        "import numpy as np\n",
        "import pandas as pd\n",
        "\n",
        "# Libreria para graficos\n",
        "from matplotlib import pyplot\n",
        "\n",
        "# Modulo de optimizacion en scipy\n",
        "from scipy import optimize\n",
        "from sklearn.preprocessing import LabelEncoder\n",
        "from sklearn.model_selection import train_test_split\n",
        "\n",
        "# modulo para cargar archivos en formato MATLAB\n",
        "# from scipy.io import loadmat\n",
        "\n",
        "# le dice a matplotlib que incruste gráficos en el cuaderno\n",
        "%matplotlib inline"
      ]
    },
    {
      "cell_type": "code",
      "source": [
        "data= pd.read_csv('/content/drive/MyDrive/SIS420/MiDataSets/gcar_data.csv')\n",
        "#data.info()\n",
        "#print(data)"
      ],
      "metadata": {
        "id": "0yE2CNNulM0g"
      },
      "execution_count": 3,
      "outputs": []
    },
    {
      "cell_type": "code",
      "source": [
        "#Se agragan las 3 columnas necesarias\n",
        "# Crear una nueva columna que describe el estado basado en el kilometraje\n",
        "data['estado'] = data['mileage_in_km'].apply(lambda x: 'Excelente' if x < 50000 else 'Usado')\n",
        "# Crear una columna booleana indicando si el auto tiene transmisión automática\n",
        "data['es_automatico'] = data['transmission_type'].apply(lambda x: True if x == 'Automático' else False)\n",
        "# Crear una columna que combine la potencia y el tipo de combustible\n",
        "data['descripcion_auto'] = data.apply(lambda row: f\"{row['power_kw']} KW - {row['fuel_type']}\", axis=1)\n",
        "print(data)"
      ],
      "metadata": {
        "id": "NjZiST-qYaEc",
        "outputId": "9fecf9ab-efb4-4d8c-8757-5ddb8759ccd7",
        "colab": {
          "base_uri": "https://localhost:8080/"
        }
      },
      "execution_count": 4,
      "outputs": [
        {
          "output_type": "stream",
          "name": "stdout",
          "text": [
            "       Unnamed: 0       brand                 model  color registration_date  \\\n",
            "0           75721        ford             Ford Kuga  black           05/2023   \n",
            "1           80184     hyundai           Hyundai i10  black           09/2018   \n",
            "2           19864        audi        Audi Q4 e-tron   grey           05/2021   \n",
            "3           76699       honda            Honda CR-V    red           07/2018   \n",
            "4           92991         kia          Kia Sportage  black           02/2023   \n",
            "...           ...         ...                   ...    ...               ...   \n",
            "99995        6265        audi               Audi A1   blue           05/2012   \n",
            "99996       54886        fiat              Fiat 500  black           12/2019   \n",
            "99997       76820       honda            Honda CR-V  brown           01/2019   \n",
            "99998         860  alfa-romeo  Alfa Romeo Giulietta   grey           12/2020   \n",
            "99999       15795        audi               Audi A3  black           05/2018   \n",
            "\n",
            "       year price_in_euro power_kw power_ps transmission_type fuel_type  \\\n",
            "0      2023         38490      140      190         Automatic    Hybrid   \n",
            "1      2018         11555       49       67            Manual    Petrol   \n",
            "2      2021         48886      125      170         Automatic  Electric   \n",
            "3      2018         24490      114      155         Automatic    Petrol   \n",
            "4      2023         34990      110      150            Manual    Petrol   \n",
            "...     ...           ...      ...      ...               ...       ...   \n",
            "99995  2012         12599       90      122            Manual    Petrol   \n",
            "99996  2019          9999       51       69         Automatic    Petrol   \n",
            "99997  2019         24800      127      173            Manual    Petrol   \n",
            "99998  2020         22990      125      170         Automatic    Diesel   \n",
            "99999  2018         21900      110      150            Manual    Petrol   \n",
            "\n",
            "      fuel_consumption_l_100km fuel_consumption_g_km  mileage_in_km  \\\n",
            "0                 5,4 l/100 km              124 g/km          100.0   \n",
            "1                 4,6 l/100 km              106 g/km        27782.0   \n",
            "2                          NaN                0 g/km         4247.0   \n",
            "3                 7,5 l/100 km              175 g/km        57000.0   \n",
            "4                 5,9 l/100 km              150 g/km         7500.0   \n",
            "...                        ...                   ...            ...   \n",
            "99995             5,3 l/100 km              126 g/km       148000.0   \n",
            "99996             5,2 l/100 km              120 g/km        31698.0   \n",
            "99997             6,3 l/100 km              143 g/km        77900.0   \n",
            "99998             5,5 l/100 km              145 g/km        52251.0   \n",
            "99999             5,3 l/100 km              120 g/km        30400.0   \n",
            "\n",
            "                                      offer_description     estado  \\\n",
            "0        ST-Line Hybrid Adapt.LED+Head-Up-Display Klima  Excelente   \n",
            "1                   blue Trend,Viele Extras,Top-Zustand  Excelente   \n",
            "2          35 e-tron S line/Matrix/Pano/ACC/SONOS/LM 21  Excelente   \n",
            "3                 2.0 Lifestyle Plus Automatik Navi FAP      Usado   \n",
            "4                          1.6 T 48V 2WD Spirit LED, WR  Excelente   \n",
            "...                                                 ...        ...   \n",
            "99995        Ambition TFSI Navi/Leder/SHZ/PTS/KETTE NEU      Usado   \n",
            "99996                       1.2 Lounge +Automatik + PDC  Excelente   \n",
            "99997  1.5T 2WD Elegance * 1. Hand * 24 Mon. Garantie *      Usado   \n",
            "99998            Lusso Ti 2.0 JTDM 16V Xenon Leder Navi      Usado   \n",
            "99999         Sportback1.5 Sport|VIRTUAL|NAVI|LED|30KM|  Excelente   \n",
            "\n",
            "       es_automatico   descripcion_auto  \n",
            "0              False    140 KW - Hybrid  \n",
            "1              False     49 KW - Petrol  \n",
            "2              False  125 KW - Electric  \n",
            "3              False    114 KW - Petrol  \n",
            "4              False    110 KW - Petrol  \n",
            "...              ...                ...  \n",
            "99995          False     90 KW - Petrol  \n",
            "99996          False     51 KW - Petrol  \n",
            "99997          False    127 KW - Petrol  \n",
            "99998          False    125 KW - Diesel  \n",
            "99999          False    110 KW - Petrol  \n",
            "\n",
            "[100000 rows x 18 columns]\n"
          ]
        }
      ]
    },
    {
      "cell_type": "code",
      "source": [
        "#data.info()"
      ],
      "metadata": {
        "id": "01j9aDCLhojT"
      },
      "execution_count": 5,
      "outputs": []
    },
    {
      "cell_type": "code",
      "source": [
        "#Preprocesamiento de datos para asignar a cada valor unico de la columna brand un numero entero\n",
        "#Ademas observaremos la cantidad e etiquetas que tendra\n",
        "to_convert = ['brand']\n",
        "id2label = {}\n",
        "label2id = {}\n",
        "for col in to_convert:\n",
        "    id2label[col] = {i: cls for i, cls in enumerate(data[col].unique())}\n",
        "    label2id[col] = {cls: i for i, cls in id2label[col].items()}\n",
        "    data[col] = data[col].replace(label2id[col])\n",
        "    print(label2id[col])"
      ],
      "metadata": {
        "id": "17hYOk-Mkef8",
        "outputId": "97c33cac-d431-428a-d451-5ae89f04418c",
        "colab": {
          "base_uri": "https://localhost:8080/"
        }
      },
      "execution_count": 6,
      "outputs": [
        {
          "output_type": "stream",
          "name": "stdout",
          "text": [
            "{'ford': 0, 'hyundai': 1, 'audi': 2, 'honda': 3, 'kia': 4, 'dacia': 5, 'bmw': 6, 'citroen': 7, 'alfa-romeo': 8, 'land-rover': 9, 'jaguar': 10, 'dodge': 11, 'fiat': 12, 'lamborghini': 13, 'mazda': 14, 'isuzu': 15, 'jeep': 16, 'ferrari': 17, 'bentley': 18, 'maserati': 19, 'daihatsu': 20, 'chevrolet': 21, 'aston-martin': 22, 'cadillac': 23, 'daewoo': 24, 'chrysler': 25, 'lancia': 26, 'lada': 27, 'infiniti': 28}\n"
          ]
        }
      ]
    },
    {
      "cell_type": "code",
      "source": [
        "num_labels = 29"
      ],
      "metadata": {
        "id": "v8pVcz-pkjnM"
      },
      "execution_count": 7,
      "outputs": []
    },
    {
      "cell_type": "code",
      "source": [
        "#variables categoricas\n",
        "columnas_categoricas = data.select_dtypes(include=['object']).columns\n",
        "le = LabelEncoder()\n",
        "for columna in columnas_categoricas:\n",
        "    data[columna] = le.fit_transform(data[columna]).astype(float)\n"
      ],
      "metadata": {
        "id": "y9HEJb_AkmR8"
      },
      "execution_count": 8,
      "outputs": []
    },
    {
      "cell_type": "code",
      "source": [
        "data.info()\n",
        "#print(data)"
      ],
      "metadata": {
        "id": "eQfTmo4muV73",
        "outputId": "18354d7c-fa8a-4727-c65a-5de144d8a6e1",
        "colab": {
          "base_uri": "https://localhost:8080/"
        }
      },
      "execution_count": 9,
      "outputs": [
        {
          "output_type": "stream",
          "name": "stdout",
          "text": [
            "<class 'pandas.core.frame.DataFrame'>\n",
            "RangeIndex: 100000 entries, 0 to 99999\n",
            "Data columns (total 18 columns):\n",
            " #   Column                    Non-Null Count   Dtype  \n",
            "---  ------                    --------------   -----  \n",
            " 0   Unnamed: 0                100000 non-null  int64  \n",
            " 1   brand                     100000 non-null  int64  \n",
            " 2   model                     100000 non-null  float64\n",
            " 3   color                     100000 non-null  float64\n",
            " 4   registration_date         100000 non-null  float64\n",
            " 5   year                      100000 non-null  float64\n",
            " 6   price_in_euro             100000 non-null  float64\n",
            " 7   power_kw                  100000 non-null  float64\n",
            " 8   power_ps                  100000 non-null  float64\n",
            " 9   transmission_type         100000 non-null  float64\n",
            " 10  fuel_type                 100000 non-null  float64\n",
            " 11  fuel_consumption_l_100km  100000 non-null  float64\n",
            " 12  fuel_consumption_g_km     100000 non-null  float64\n",
            " 13  mileage_in_km             99932 non-null   float64\n",
            " 14  offer_description         100000 non-null  float64\n",
            " 15  estado                    100000 non-null  float64\n",
            " 16  es_automatico             100000 non-null  bool   \n",
            " 17  descripcion_auto          100000 non-null  float64\n",
            "dtypes: bool(1), float64(15), int64(2)\n",
            "memory usage: 13.1 MB\n"
          ]
        }
      ]
    },
    {
      "cell_type": "code",
      "source": [
        "data['es_automatico'] = data['es_automatico'].astype(float)\n",
        "data['Unnamed: 0'] = data['Unnamed: 0'].astype(float)"
      ],
      "metadata": {
        "id": "6e25AV9ooS6e"
      },
      "execution_count": 10,
      "outputs": []
    },
    {
      "cell_type": "code",
      "source": [
        "#print(data)\n",
        "data.info()\n"
      ],
      "metadata": {
        "id": "F9LIFPOPkwUw",
        "colab": {
          "base_uri": "https://localhost:8080/"
        },
        "outputId": "deb1aebe-a202-4b04-dde1-7d1020021250"
      },
      "execution_count": 11,
      "outputs": [
        {
          "output_type": "stream",
          "name": "stdout",
          "text": [
            "<class 'pandas.core.frame.DataFrame'>\n",
            "RangeIndex: 100000 entries, 0 to 99999\n",
            "Data columns (total 18 columns):\n",
            " #   Column                    Non-Null Count   Dtype  \n",
            "---  ------                    --------------   -----  \n",
            " 0   Unnamed: 0                100000 non-null  float64\n",
            " 1   brand                     100000 non-null  int64  \n",
            " 2   model                     100000 non-null  float64\n",
            " 3   color                     100000 non-null  float64\n",
            " 4   registration_date         100000 non-null  float64\n",
            " 5   year                      100000 non-null  float64\n",
            " 6   price_in_euro             100000 non-null  float64\n",
            " 7   power_kw                  100000 non-null  float64\n",
            " 8   power_ps                  100000 non-null  float64\n",
            " 9   transmission_type         100000 non-null  float64\n",
            " 10  fuel_type                 100000 non-null  float64\n",
            " 11  fuel_consumption_l_100km  100000 non-null  float64\n",
            " 12  fuel_consumption_g_km     100000 non-null  float64\n",
            " 13  mileage_in_km             99932 non-null   float64\n",
            " 14  offer_description         100000 non-null  float64\n",
            " 15  estado                    100000 non-null  float64\n",
            " 16  es_automatico             100000 non-null  float64\n",
            " 17  descripcion_auto          100000 non-null  float64\n",
            "dtypes: float64(17), int64(1)\n",
            "memory usage: 13.7 MB\n"
          ]
        }
      ]
    },
    {
      "cell_type": "code",
      "source": [
        "#llenar datos vacios\n",
        "columnas_especificas = ['mileage_in_km']\n",
        "media_columnas = data[columnas_especificas].mean()\n",
        "data[columnas_especificas] = data[columnas_especificas].fillna(media_columnas)\n",
        "data.info()"
      ],
      "metadata": {
        "id": "_X8B5JmXpxUX",
        "outputId": "13b6ac28-0642-4c67-b27d-451afeedfafa",
        "colab": {
          "base_uri": "https://localhost:8080/"
        }
      },
      "execution_count": 12,
      "outputs": [
        {
          "output_type": "stream",
          "name": "stdout",
          "text": [
            "<class 'pandas.core.frame.DataFrame'>\n",
            "RangeIndex: 100000 entries, 0 to 99999\n",
            "Data columns (total 18 columns):\n",
            " #   Column                    Non-Null Count   Dtype  \n",
            "---  ------                    --------------   -----  \n",
            " 0   Unnamed: 0                100000 non-null  float64\n",
            " 1   brand                     100000 non-null  int64  \n",
            " 2   model                     100000 non-null  float64\n",
            " 3   color                     100000 non-null  float64\n",
            " 4   registration_date         100000 non-null  float64\n",
            " 5   year                      100000 non-null  float64\n",
            " 6   price_in_euro             100000 non-null  float64\n",
            " 7   power_kw                  100000 non-null  float64\n",
            " 8   power_ps                  100000 non-null  float64\n",
            " 9   transmission_type         100000 non-null  float64\n",
            " 10  fuel_type                 100000 non-null  float64\n",
            " 11  fuel_consumption_l_100km  100000 non-null  float64\n",
            " 12  fuel_consumption_g_km     100000 non-null  float64\n",
            " 13  mileage_in_km             100000 non-null  float64\n",
            " 14  offer_description         100000 non-null  float64\n",
            " 15  estado                    100000 non-null  float64\n",
            " 16  es_automatico             100000 non-null  float64\n",
            " 17  descripcion_auto          100000 non-null  float64\n",
            "dtypes: float64(17), int64(1)\n",
            "memory usage: 13.7 MB\n"
          ]
        }
      ]
    },
    {
      "cell_type": "code",
      "source": [
        "data_copy = data.copy()\n",
        "\n",
        "# Aumentar solo los valores decimales en el DataFrame duplicado\n",
        "# Especificar las columnas numéricas en las que deseas aumentar los decimales\n",
        "decimal_columns = ['Unnamed: 0','model','color','registration_date','year','price_in_euro','power_kw','power_ps','fuel_type', 'fuel_consumption_l_100km', 'fuel_consumption_g_km', 'mileage_in_km','offer_description','descripcion_auto']\n",
        "\n",
        "# Asegurarse de que las columnas sean del tipo adecuado\n",
        "#for col in decimal_columns:\n",
        " #   data_copy[col] = pd.to_numeric(data_copy[col], errors='coerce')\n",
        "\n",
        "# Filtrar filas con valores no válidos (NaN) en columnas decimales\n",
        "#data_copy = data_copy.dropna(subset=decimal_columns)\n",
        "\n",
        "# Aumentar los valores decimales en las columnas especificadas\n",
        "for col in decimal_columns:\n",
        "    data_copy[col] = data_copy[col] + np.random.uniform(0.1, 0.7, size=len(data_copy))\n",
        "\n",
        "\n",
        "# Asegurarse de que los valores estén dentro de rangos razonables\n",
        "for col in decimal_columns:\n",
        "    data_copy[col] = data_copy[col].clip(lower=0)\n",
        "\n",
        "# Concatenar los DataFrames originales y modificados\n",
        "nuevo_data = pd.concat([data, data_copy], ignore_index=True)\n",
        "\n",
        "# Guardar el dataset aumentado en un nuevo archivo CSV\n",
        "nuevo_data.to_csv('ruta_del_archivo_modificado.csv', index=False)\n",
        "\n",
        "# Ver las primeras filas del DataFrame aumentado\n",
        "#print(nuevo_data.head())"
      ],
      "metadata": {
        "id": "KUJVTbABb0yP"
      },
      "execution_count": 13,
      "outputs": []
    },
    {
      "cell_type": "code",
      "source": [
        "print(nuevo_data.iloc[190000])\n",
        "#print(nuevo_data)"
      ],
      "metadata": {
        "id": "TWCbhq-7vpqP",
        "outputId": "5dca825c-4c06-4584-aa6c-8984cd1421ed",
        "colab": {
          "base_uri": "https://localhost:8080/"
        }
      },
      "execution_count": 14,
      "outputs": [
        {
          "output_type": "stream",
          "name": "stdout",
          "text": [
            "Unnamed: 0                   44990.637863\n",
            "brand                            7.000000\n",
            "model                          247.591732\n",
            "color                            7.564803\n",
            "registration_date              110.531563\n",
            "year                            33.349293\n",
            "price_in_euro                 1205.377755\n",
            "power_kw                       476.535163\n",
            "power_ps                        20.591407\n",
            "transmission_type                1.000000\n",
            "fuel_type                       42.682060\n",
            "fuel_consumption_l_100km       201.138732\n",
            "fuel_consumption_g_km          928.447522\n",
            "mileage_in_km               117000.112072\n",
            "offer_description            34289.462718\n",
            "estado                           1.000000\n",
            "es_automatico                    0.000000\n",
            "descripcion_auto              1022.141167\n",
            "Name: 190000, dtype: float64\n"
          ]
        }
      ]
    },
    {
      "cell_type": "code",
      "source": [
        "nuevo_data.info()"
      ],
      "metadata": {
        "id": "QCristp_qirb",
        "outputId": "f394fece-8611-483f-e720-7822e89170ec",
        "colab": {
          "base_uri": "https://localhost:8080/"
        }
      },
      "execution_count": 15,
      "outputs": [
        {
          "output_type": "stream",
          "name": "stdout",
          "text": [
            "<class 'pandas.core.frame.DataFrame'>\n",
            "RangeIndex: 200000 entries, 0 to 199999\n",
            "Data columns (total 18 columns):\n",
            " #   Column                    Non-Null Count   Dtype  \n",
            "---  ------                    --------------   -----  \n",
            " 0   Unnamed: 0                200000 non-null  float64\n",
            " 1   brand                     200000 non-null  int64  \n",
            " 2   model                     200000 non-null  float64\n",
            " 3   color                     200000 non-null  float64\n",
            " 4   registration_date         200000 non-null  float64\n",
            " 5   year                      200000 non-null  float64\n",
            " 6   price_in_euro             200000 non-null  float64\n",
            " 7   power_kw                  200000 non-null  float64\n",
            " 8   power_ps                  200000 non-null  float64\n",
            " 9   transmission_type         200000 non-null  float64\n",
            " 10  fuel_type                 200000 non-null  float64\n",
            " 11  fuel_consumption_l_100km  200000 non-null  float64\n",
            " 12  fuel_consumption_g_km     200000 non-null  float64\n",
            " 13  mileage_in_km             200000 non-null  float64\n",
            " 14  offer_description         200000 non-null  float64\n",
            " 15  estado                    200000 non-null  float64\n",
            " 16  es_automatico             200000 non-null  float64\n",
            " 17  descripcion_auto          200000 non-null  float64\n",
            "dtypes: float64(17), int64(1)\n",
            "memory usage: 27.5 MB\n"
          ]
        }
      ]
    },
    {
      "cell_type": "code",
      "source": [
        "# Cargar los datasets originales y sintéticos\n",
        "#data_original = pd.read_csv('ruta_del_archivo_original.csv')\n",
        "#data_sintetico = pd.read_csv('ruta_del_archivo_modificado.csv')\n",
        "\n",
        "# Especificar las columnas numéricas que queremos graficar\n",
        "columnas_numericas = ['price_in_euro', 'power_kw']\n",
        "\n",
        "# Crear una figura para comparar cada atributo entre los datasets\n",
        "fig, axs = pyplot.subplots(len(columnas_numericas), 2, figsize=(12, 5 * len(columnas_numericas)))\n",
        "\n",
        "# Iterar sobre las columnas numéricas y generar gráficos\n",
        "for i, col in enumerate(columnas_numericas):\n",
        "    # Graficar el dataset original\n",
        "    axs[i, 0].hist(data[col].dropna(), bins=30, color='blue', alpha=0.7)\n",
        "    axs[i, 0].set_title(f'{col} - Dataset Original')\n",
        "    axs[i, 0].set_xlabel(col)\n",
        "    axs[i, 0].set_ylabel('Frecuencia')\n",
        "\n",
        "    # Graficar el dataset sintético\n",
        "    axs[i, 1].hist(data_copy[col].dropna(), bins=30, color='green', alpha=0.7)\n",
        "    axs[i, 1].set_title(f'{col} - Dataset Sintético')\n",
        "    axs[i, 1].set_xlabel(col)\n",
        "    axs[i, 1].set_ylabel('Frecuencia')\n",
        "\n",
        "# Ajustar el espacio entre gráficos\n",
        "pyplot.tight_layout()\n",
        "pyplot.show()\n"
      ],
      "metadata": {
        "id": "eSFDZNWiPFJg",
        "outputId": "dab8a2b3-e943-47be-8e2f-20074d6f1132",
        "colab": {
          "base_uri": "https://localhost:8080/",
          "height": 1000
        }
      },
      "execution_count": 16,
      "outputs": [
        {
          "output_type": "display_data",
          "data": {
            "text/plain": [
              "<Figure size 1200x1000 with 4 Axes>"
            ],
            "image/png": "[encoded data removed]"
          },
          "metadata": {}
        }
      ]
    },
    {
      "cell_type": "code",
      "source": [
        "X_datos=nuevo_data.iloc[:,[2,3,4,5,6,7,8,9,10,11,12,13,14]]\n",
        "y_datos=nuevo_data.iloc[:,1]"
      ],
      "metadata": {
        "id": "hFe7vEvlMxkP"
      },
      "execution_count": 17,
      "outputs": []
    },
    {
      "cell_type": "code",
      "source": [
        "X_train, X_test, y_train, y_test = train_test_split(X_datos, y_datos, test_size=0.2)\n",
        "X_train.shape, X_test.shape"
      ],
      "metadata": {
        "colab": {
          "base_uri": "https://localhost:8080/"
        },
        "id": "9U3rh3pkSaBV",
        "outputId": "560b7797-e40d-4804-f39b-54bfe1bce47b"
      },
      "execution_count": 18,
      "outputs": [
        {
          "output_type": "execute_result",
          "data": {
            "text/plain": [
              "((160000, 13), (40000, 13))"
            ]
          },
          "metadata": {},
          "execution_count": 18
        }
      ]
    },
    {
      "cell_type": "code",
      "source": [
        "X=X_train\n",
        "y=y_train\n",
        "print(y)"
      ],
      "metadata": {
        "colab": {
          "base_uri": "https://localhost:8080/"
        },
        "id": "KXI4hie2nDvD",
        "outputId": "3354ff1c-3652-408c-f5f5-727d23d3c138"
      },
      "execution_count": 19,
      "outputs": [
        {
          "output_type": "stream",
          "name": "stdout",
          "text": [
            "146492    12\n",
            "74261     16\n",
            "75497      6\n",
            "40370      6\n",
            "35318      2\n",
            "          ..\n",
            "121803     2\n",
            "37478     14\n",
            "12624      6\n",
            "118578     2\n",
            "155194     0\n",
            "Name: brand, Length: 160000, dtype: int64\n"
          ]
        }
      ]
    },
    {
      "cell_type": "code",
      "source": [
        "def  featureNormalize(X):\n",
        "    X_norm = X.copy()\n",
        "    mu = np.zeros(X.shape[1])\n",
        "    sigma = np.zeros(X.shape[1])\n",
        "\n",
        "    mu = np.mean(X, axis = 0)\n",
        "    sigma = np.std(X, axis = 0)\n",
        "    X_norm = (X - mu) / sigma\n",
        "\n",
        "    return X_norm, mu, sigma"
      ],
      "metadata": {
        "id": "HWF5C5Jt8wNb"
      },
      "execution_count": 20,
      "outputs": []
    },
    {
      "cell_type": "code",
      "source": [
        "# llama featureNormalize con los datos cargados\n",
        "X_norm, mu, sigma = featureNormalize(X)"
      ],
      "metadata": {
        "id": "f4W6d-ya1ABV"
      },
      "execution_count": 21,
      "outputs": []
    },
    {
      "cell_type": "code",
      "source": [
        "# inicia m con el numero de filas de X y n con el numero de aracteristicas\n",
        "m, n = X.shape\n",
        "#asignamos los valores normalizados a X\n",
        "X = X_norm"
      ],
      "metadata": {
        "id": "r9e6MRrW1G22"
      },
      "execution_count": 22,
      "outputs": []
    },
    {
      "cell_type": "code",
      "execution_count": 23,
      "metadata": {
        "id": "0sB9Kyi8SxgN"
      },
      "outputs": [],
      "source": [
        "def sigmoid(z):\n",
        "    \"\"\"\n",
        "    Calcula la sigmoide de z.\n",
        "    \"\"\"\n",
        "    return 1.0 / (1.0 + np.exp(-z))"
      ]
    },
    {
      "cell_type": "code",
      "execution_count": 24,
      "metadata": {
        "id": "w5S0OOswSxgN"
      },
      "outputs": [],
      "source": [
        "J_history=[]\n",
        "#P_history=[]\n",
        "def lrCostFunction(theta, X, y, lambda_):\n",
        "    # Inicializa algunos valores utiles\n",
        "    #J_history=[]\n",
        "    m = y.size\n",
        "\n",
        "    # convierte las etiquetas a valores enteros si son boleanos\n",
        "    if y.dtype == bool:\n",
        "        y = y.astype(int)\n",
        "\n",
        "    J = 0\n",
        "    grad = np.zeros(theta.shape)\n",
        "\n",
        "    h = sigmoid(X.dot(theta.T))\n",
        "\n",
        "    temp = theta\n",
        "    temp[0] = 0\n",
        "\n",
        "#     J = (1 / m) * np.sum(-y.dot(np.log(h)) - (1 - y).dot(np.log(1 - h)))\n",
        "    J = (1 / m) * np.sum(-y.dot(np.log(h)) - (1 - y).dot(np.log(1 - h))) + (lambda_ / (2 * m)) * np.sum(np.square(temp))\n",
        "\n",
        "    grad = (1 / m) * (h - y).dot(X)\n",
        "\n",
        "#    P_history.append(h)\n",
        "#     theta = theta - (alpha / m) * (h - y).dot(X)\n",
        "    grad = grad + (lambda_ / m) * temp\n",
        "\n",
        "    #predictions = (h >= 0.5).astype(int)  # Umbral de 0.5 para clasificar\n",
        "    #correct_predictions = np.sum(predictions == y)  # Contar predicciones correctas\n",
        "    #precision = correct_predictions / m  # Precisión como proporción de predicciones correctas\n",
        "\n",
        "    J_history.append(J)\n",
        "    #P_history.append(precision)\n",
        "\n",
        "    return J, grad\n",
        "#    return J, theta\n"
      ]
    },
    {
      "cell_type": "code",
      "execution_count": 25,
      "metadata": {
        "id": "V0rOw5qhSxgN"
      },
      "outputs": [],
      "source": [
        "def oneVsAll(X, y, num_labels, lambda_):\n",
        "    # algunas variables utiles\n",
        "\n",
        "    m, n = X.shape\n",
        "    all_J_history=[]\n",
        "\n",
        "    all_theta = np.zeros((num_labels, n + 1))\n",
        "\n",
        "\n",
        "\n",
        "    # Agrega unos a la matriz X\n",
        "    X = np.concatenate([np.ones((m, 1)), X], axis=1)\n",
        "\n",
        "    for c in np.arange(num_labels):\n",
        "        print(f\"Entrenando para la clase {c}...\")\n",
        "        initial_theta = np.zeros(n + 1)\n",
        "\n",
        "        options = {'maxiter': 50}\n",
        "        #J_history=[]\n",
        "        res = optimize.minimize(lrCostFunction,\n",
        "                                initial_theta,\n",
        "                                (X, (y == c), lambda_),\n",
        "                                jac=True,\n",
        "                                method='CG',\n",
        "                                options=options)\n",
        "        all_theta[c] = res.x\n",
        "        all_J_history.append(J_history[c].copy())\n",
        "\n",
        "\n",
        "    return all_theta, all_J_history"
      ]
    },
    {
      "cell_type": "code",
      "execution_count": 26,
      "metadata": {
        "id": "w6JbsLLMSxgO",
        "outputId": "bf26ecd2-431f-45e8-a257-a71384a45d8e",
        "colab": {
          "base_uri": "https://localhost:8080/"
        }
      },
      "outputs": [
        {
          "output_type": "stream",
          "name": "stdout",
          "text": [
            "Entrenando para la clase 0...\n",
            "Entrenando para la clase 1...\n",
            "Entrenando para la clase 2...\n",
            "Entrenando para la clase 3...\n",
            "Entrenando para la clase 4...\n",
            "Entrenando para la clase 5...\n",
            "Entrenando para la clase 6...\n",
            "Entrenando para la clase 7...\n",
            "Entrenando para la clase 8...\n",
            "Entrenando para la clase 9...\n",
            "Entrenando para la clase 10...\n",
            "Entrenando para la clase 11...\n",
            "Entrenando para la clase 12...\n",
            "Entrenando para la clase 13...\n",
            "Entrenando para la clase 14...\n",
            "Entrenando para la clase 15...\n",
            "Entrenando para la clase 16...\n",
            "Entrenando para la clase 17...\n",
            "Entrenando para la clase 18...\n",
            "Entrenando para la clase 19...\n",
            "Entrenando para la clase 20...\n",
            "Entrenando para la clase 21...\n",
            "Entrenando para la clase 22...\n",
            "Entrenando para la clase 23...\n",
            "Entrenando para la clase 24...\n",
            "Entrenando para la clase 25...\n",
            "Entrenando para la clase 26...\n",
            "Entrenando para la clase 27...\n",
            "Entrenando para la clase 28...\n",
            "(29, 14)\n"
          ]
        }
      ],
      "source": [
        "lambda_ = 0.1\n",
        "all_theta, all_J_history = oneVsAll(X, y, num_labels, lambda_)\n",
        "print(all_theta.shape)"
      ]
    },
    {
      "cell_type": "code",
      "source": [
        "#print(all_J_history)\n",
        "#print(J_history)\n",
        "#print(P_history)"
      ],
      "metadata": {
        "id": "lbYevUdviHLg"
      },
      "execution_count": 27,
      "outputs": []
    },
    {
      "cell_type": "code",
      "source": [
        "#pyplot.plot(all_J_history)\n",
        "#pyplot.xlabel('Iteración')\n",
        "#pyplot.ylabel('Costo (J)')\n",
        "#pyplot.title('Evolución del costo durante el entrenamiento')\n",
        "#pyplot.show()"
      ],
      "metadata": {
        "id": "hL9pEATGoY4Y",
        "outputId": "245f0ed8-2a8b-48df-da27-75c52bca4d6d",
        "colab": {
          "base_uri": "https://localhost:8080/",
          "height": 472
        }
      },
      "execution_count": 28,
      "outputs": [
        {
          "output_type": "display_data",
          "data": {
            "text/plain": [
              "<Figure size 640x480 with 1 Axes>"
            ],
            "image/png": "[encoded data removed]"
          },
          "metadata": {}
        }
      ]
    },
    {
      "cell_type": "code",
      "source": [
        "print(all_theta)"
      ],
      "metadata": {
        "colab": {
          "base_uri": "https://localhost:8080/"
        },
        "id": "V1EfKaiEgtcw",
        "outputId": "b0243510-14ca-4ca2-8728-97673c172e3d"
      },
      "execution_count": 29,
      "outputs": [
        {
          "output_type": "stream",
          "name": "stdout",
          "text": [
            "[[-1.87652171e+00  1.02923352e+00  1.38984210e-01  2.46752645e-02\n",
            "  -1.33160484e-01  5.76906338e-02  1.22308693e-01 -3.55286188e-01\n",
            "   4.82358343e-01 -1.36048272e-01 -3.08964328e-02  8.25323311e-02\n",
            "   4.35225834e-02  7.96635009e-02]\n",
            " [-3.61084583e+00  1.48818649e+00  6.07530160e-02  3.23934140e-02\n",
            "   2.71004780e-01 -8.56096690e-02  9.85747641e-02 -3.33954080e-03\n",
            "   1.56658616e-01  2.32051389e-01  1.20303070e-01 -2.35612074e-01\n",
            "  -3.79209906e-02 -7.05380837e-02]\n",
            " [-1.35886275e+01 -1.25482816e+01  9.89483684e-02 -9.25273517e-02\n",
            "   4.19882408e-01 -1.49318000e-01 -1.96074525e-02  5.18237111e-01\n",
            "  -2.00679076e-01 -1.07940140e-01  3.68519490e-01  1.83707437e-01\n",
            "   3.47058711e-01 -4.45056073e-01]\n",
            " [-5.67305948e+00  8.47363028e-01 -1.12757443e-01  6.34563770e-02\n",
            "   1.14226195e-01 -2.07039173e-01 -3.55035082e-02 -4.55613692e-01\n",
            "  -4.09554115e-02  3.53620652e-01  8.45060184e-02  8.89082850e-02\n",
            "  -2.55483626e-01 -5.66472905e-01]\n",
            " [-6.63245047e+00  3.64480758e+00  1.29378170e-01  1.06777303e-01\n",
            "   5.73687156e-01 -3.45822264e-01 -1.28702343e-01 -8.84113649e-02\n",
            "   1.08668680e-01  3.37351139e-01 -1.20834787e-01 -2.13656695e-01\n",
            "   1.25291362e-02 -4.82467657e-01]\n",
            " [-5.22600484e+00 -7.54846685e-01 -2.45954026e-01  3.51261593e-02\n",
            "   1.05560363e+00 -1.79581509e-01  1.52160218e+00  3.44878616e-01\n",
            "   6.23736449e-01  1.57688480e-01  4.54932538e-01 -3.04302119e-01\n",
            "   8.99888753e-02  4.42142617e-01]\n",
            " [-2.41919517e+00 -1.13612399e+00 -7.56961350e-02  2.64188643e-02\n",
            "  -6.22259214e-01  9.34818712e-02 -5.31901333e-01 -7.58845293e-02\n",
            "  -2.40512114e-01 -4.78700083e-02 -8.73469365e-02 -1.51031146e-01\n",
            "   9.73945123e-02  9.84684325e-01]\n",
            " [-3.76856940e+00 -6.12364017e-01 -5.22038489e-02  4.69511422e-03\n",
            "   4.89427012e-01 -2.62105063e-03  1.06005574e+00 -3.37164118e-04\n",
            "   1.62036426e-01 -2.74811326e-01 -1.17875326e-02 -2.94283948e-02\n",
            "  -8.41030835e-02  8.07784435e-02]\n",
            " [-8.24188082e+01 -6.03301801e+01 -7.91848335e-02  1.16353986e-01\n",
            "   3.65587154e-01  5.47909771e-01 -2.24338728e-01 -4.44165942e-01\n",
            "   1.43965161e-01 -4.81234230e-02  2.75128018e-01  6.26293689e-03\n",
            "  -1.66163040e-01 -5.33867198e-02]\n",
            " [-1.98500508e+01  1.10064377e+01 -1.25681762e-01 -1.17449278e-01\n",
            "   1.24076461e+00  6.03144487e-01 -4.48183952e-01  6.03574195e-01\n",
            "  -7.35308222e-01 -1.12167809e+00  2.68763485e-01  3.09762838e-01\n",
            "   1.99962117e-01  5.33830158e-02]\n",
            " [-7.04764525e+00  1.48364770e+00 -1.35974964e-01 -1.08734931e-01\n",
            "   2.83015627e-01  3.74957595e-01 -1.74991186e+00  1.43912997e+00\n",
            "  -1.48101338e+00 -1.38538831e-01  6.62018592e-02 -2.60973578e-01\n",
            "  -1.13214983e-01  3.25520887e-02]\n",
            " [-8.81262722e+00  1.31404633e-01 -2.65207096e-01  5.51271706e-02\n",
            "   9.99789210e-01  9.76533108e-01 -1.39265682e+00  1.79307713e+00\n",
            "  -2.43673887e+00  9.52391811e-01 -1.48433612e-02 -3.10136291e-01\n",
            "   2.99609524e-01 -1.03682188e+00]\n",
            " [-3.97583484e+00  6.42946888e-02  9.12404163e-02  1.90074763e-02\n",
            "   4.41986951e-01 -1.83552133e-01  6.90483530e-01  5.86530777e-01\n",
            "   5.51870589e-01 -2.15427722e-01  2.95002833e-01  1.36270415e-01\n",
            "  -2.68166033e-01 -3.42083696e-01]\n",
            " [-1.73675152e+01  4.31656488e+00  1.57553744e-01 -9.39267414e-02\n",
            "  -1.08890516e+00  2.84754697e-01  7.81028597e-01  2.36782800e+00\n",
            "  -1.83265294e+00  1.71535949e+00 -4.15217269e-02  4.12662222e-01\n",
            "  -2.78551303e+00  4.92256896e-01]\n",
            " [-7.69580027e+01  4.62619158e+01  2.80076504e-01  3.73205884e-02\n",
            "   8.02129616e-01 -8.06067675e-01  1.43882008e+00 -1.19875908e+00\n",
            "   1.10134158e+00  4.98320470e-01  5.05914798e-01 -8.05409223e-01\n",
            "   7.98233109e-01 -3.27098247e-01]\n",
            " [-1.59989051e+01  2.16983772e+00  3.89052116e-02 -2.69035316e-04\n",
            "   2.95703935e-01  3.98448234e-01 -5.27838919e+00 -2.27860380e+00\n",
            "   1.88989856e-01 -1.97203772e+00  1.75501823e+00  3.62728916e-01\n",
            "  -3.25323234e-01 -2.41086234e-01]\n",
            " [-6.48314106e+00  2.11507830e+00 -2.66604364e-01 -5.09655999e-02\n",
            "   6.43652253e-01  1.08663948e-01  1.45125239e-01 -8.89671558e-01\n",
            "  -5.65099325e-01  4.75663113e-02  8.19115442e-03  3.63047917e-01\n",
            "  -3.36208297e-03 -8.25809864e-02]\n",
            " [-1.03560461e+01  5.37837525e-02  9.18199228e-02 -2.55000314e-01\n",
            "  -1.55809725e+00 -5.15624103e-02 -3.57809071e-01  1.96870879e+00\n",
            "  -1.37287227e+00  9.42844328e-01 -2.51615436e-02 -5.37966277e-03\n",
            "  -4.13268937e+00 -5.88259870e-02]\n",
            " [-1.02971279e+01 -6.91939548e-01 -1.73675264e-01 -7.61907269e-02\n",
            "  -6.16063429e-01 -1.60690521e-01 -8.12135233e-01  2.26998188e+00\n",
            "  -3.35588027e+00  8.21500415e-01 -2.03983647e-01  1.62858680e-01\n",
            "  -7.87410825e-01  3.47076206e-01]\n",
            " [-3.38340815e+01  1.72429601e+01 -1.70505064e-01  1.92040200e-03\n",
            "  -1.30796819e+00  6.59644009e-01 -8.49973203e-01  1.48391010e+00\n",
            "  -2.91791964e+00  4.24456888e-01 -3.40313023e-01 -4.83639457e-02\n",
            "  -8.62058769e-01 -1.75202625e-01]\n",
            " [-1.02691599e+01 -2.58540760e-02  1.65018763e-01  9.26986799e-02\n",
            "  -1.61154641e+00  8.68389647e-02  1.16523558e+00  8.32612466e-01\n",
            "  -6.42040427e-02  9.46266047e-01 -2.78160484e-01 -6.54079858e-01\n",
            "  -3.09295868e-01 -6.30716306e-01]\n",
            " [-7.36342557e+00 -4.14342062e-01 -5.07931585e-02 -9.58911229e-02\n",
            "   2.15351973e-01  6.95324401e-01 -6.31640392e-01  5.96001024e-01\n",
            "  -1.76346677e-01  1.08185264e+00 -1.89403382e-01 -2.30663279e-01\n",
            "  -3.62340237e-01 -1.76082050e-01]\n",
            " [-2.30268068e+01 -1.11397537e+01 -2.80500224e-01 -1.76470175e-01\n",
            "  -1.54815676e+00 -2.72899045e-01 -4.04403601e-01  1.71049870e+00\n",
            "  -1.23949548e+00  1.90462396e+00 -2.82048944e-01  3.55960438e-01\n",
            "  -2.69520338e+00  4.07544296e-01]\n",
            " [-8.67162764e+00 -2.67124538e-01 -1.15626970e-01  1.12255877e-01\n",
            "  -3.10721848e-01  2.72583954e-01 -1.34083315e+00  7.06947026e-01\n",
            "  -1.65809469e+00  1.02495078e+00 -2.04456166e-01  2.84697705e-01\n",
            "  -2.05410754e-01 -7.07955578e-01]\n",
            " [-1.24965807e+01  1.97281662e-01  2.59750057e-01 -2.06915952e-01\n",
            "  -1.77733637e+00 -2.19563488e-01  1.09273886e+00  5.88252292e-01\n",
            "   2.61748895e-01  1.02247001e+00  8.76073973e-01  3.51265824e-01\n",
            "  -1.70337694e-01 -9.49450058e-01]\n",
            " [-1.34595152e+01  1.27679831e-02  3.07092124e-01  9.73642618e-01\n",
            "   1.87483711e+00  1.63004463e+00 -1.11618744e+00 -5.93503061e-03\n",
            "   4.59355708e-01  2.83406111e+00  8.52286515e-01  6.71927558e-01\n",
            "   2.18272400e-01  1.05784815e+00]\n",
            " [-1.31512519e+01  4.66278992e+00 -3.29341690e-01 -3.89484589e-02\n",
            "  -1.59148726e+00  7.19004608e-02 -3.30714720e-02  3.87160142e-01\n",
            "  -1.76972174e-01 -2.56403080e-01  3.44992717e-01  1.52770110e-02\n",
            "   1.45780080e-01 -1.09611343e-01]\n",
            " [-2.21887436e+01  5.55197023e+00 -1.79578795e-01 -1.20713650e-01\n",
            "  -3.58775923e-01  1.63888726e-01  4.44973582e+00  1.31482588e+00\n",
            "   6.10072535e-01  2.00202059e+00  1.64101437e+00  9.76397252e-01\n",
            "  -1.96636383e+00  1.16860359e-02]\n",
            " [-8.93728039e+00  1.67131117e+00 -1.14073792e-02 -1.35090770e-02\n",
            "  -7.08339129e-01 -7.00923823e-01 -4.13907688e-01  2.47283972e-01\n",
            "  -1.54989086e+00  1.77256912e-04 -1.44453902e-01 -8.45733706e-02\n",
            "   1.61281205e-01 -5.54835273e-01]]\n"
          ]
        }
      ]
    },
    {
      "cell_type": "code",
      "execution_count": 30,
      "metadata": {
        "id": "PjFoFe1bSxgO"
      },
      "outputs": [],
      "source": [
        "def predictOneVsAll(all_theta, X):\n",
        "    \"\"\"\n",
        "    Devuelve un vector de predicciones para cada ejemplo en la matriz X.\n",
        "    Tenga en cuenta que X contiene los ejemplos en filas.\n",
        "    all_theta es una matriz donde la i-ésima fila es un vector theta de regresión logística entrenada para la i-ésima clase.\n",
        "    Debe establecer p en un vector de valores de 0..K-1 (por ejemplo, p = [0, 2, 0, 1]\n",
        "    predice clases 0, 2, 0, 1 para 4 ejemplos).\n",
        "\n",
        "    Parametros\n",
        "    ----------\n",
        "    all_theta : array_like\n",
        "        The trained parameters for logistic regression for each class.\n",
        "        This is a matrix of shape (K x n+1) where K is number of classes\n",
        "        and n is number of features without the bias.\n",
        "\n",
        "    X : array_like\n",
        "        Data points to predict their labels. This is a matrix of shape\n",
        "        (m x n) where m is number of data points to predict, and n is number\n",
        "        of features without the bias term. Note we add the bias term for X in\n",
        "        this function.\n",
        "\n",
        "    Devuelve\n",
        "    -------\n",
        "    p : array_like\n",
        "        The predictions for each data point in X. This is a vector of shape (m, ).\n",
        "    \"\"\"\n",
        "\n",
        "    m = X.shape[0];\n",
        "    num_labels = all_theta.shape[0]\n",
        "\n",
        "    p = np.zeros(m)\n",
        "\n",
        "    # Add ones to the X data matrix\n",
        "    X = np.concatenate([np.ones((m, 1)), X], axis=1)\n",
        "    p = np.argmax(sigmoid(X.dot(all_theta.T)), axis = 1)\n",
        "\n",
        "    return p\n",
        "\n"
      ]
    },
    {
      "cell_type": "code",
      "source": [
        "pred = predictOneVsAll(all_theta, X)\n",
        "print('Precision del conjuto de entrenamiento: {:.2f}%'.format(np.mean(pred == y) * 100))\n",
        "\n",
        "#num_epochs = 50\n",
        "#precisions = []\n",
        "\n",
        "# Selecciona las primeras 150 filas de X\n",
        "XPrueba = X.iloc[0:200, :].copy()\n",
        "#XPrueba = np.concatenate([np.ones((150, 1)), XPrueba], axis=1)\n",
        "#print(XPrueba[0])\n",
        "#for epoch in range(num_epochs):\n",
        "p = predictOneVsAll(all_theta, XPrueba)\n",
        "#precision = np.mean(pred == y_test) * 100\n",
        "#precisions.append(precision)\n",
        "#print(XPrueba[0])\n",
        "#p = np.argmax(sigmoid(XPrueba.dot(all_theta.T)), axis=1)\n",
        "\n",
        "print(\"Predicciones\")\n",
        "print(p)\n",
        "\n",
        "# Muestra los datos reales de prueba\n",
        "print(\"Datos reales de prueba\")\n",
        "print(y[0:200].tolist())"
      ],
      "metadata": {
        "id": "P3dx_ACkkobV",
        "outputId": "57469a06-8b4a-4264-8d82-72fdd541f183",
        "colab": {
          "base_uri": "https://localhost:8080/"
        }
      },
      "execution_count": 34,
      "outputs": [
        {
          "output_type": "stream",
          "name": "stdout",
          "text": [
            "Precision del conjuto de entrenamiento: 67.65%\n",
            "Predicciones\n",
            "[12  0  6  6  2  6  2  0  0  0  0  6  0  2  2  0  6  5  6  0  2  0  6  2\n",
            "  0  2  0  0  2  0  6  2  4  0  2  0  0  0 12  6  0  0  6  4  0 13  2  0\n",
            "  6  0  6  2  2  2  0 12 12  6  0  0  0  0  0  4 18  0  5  6 14  2  2  0\n",
            "  0  2  0  6  0  6  6  2 14  0  0  1 11  5  0 14  2  2  0  0  2  2  2  2\n",
            " 12  0  0  6  2  2  2  2  8  0  6  0  0  6  6 12  0  0  2  0  0  0  6  2\n",
            "  0  6  0  6  0 12  2  0  2  0  2  6  9  6  0  6  8 12  0  9 14  6  2  0\n",
            "  2  0  0  0  0  2  6  2  0  2  6  6  0  6  0  0  2  2  0  4  6  6  6  0\n",
            " 14  6  9  0  7  2  0 13  2  2  6  2  0  6  2  0  6  0  2  6  0  2  6  0\n",
            "  0  0  2  0  0  2  6  0]\n",
            "Datos reales de prueba\n",
            "[12, 16, 6, 6, 2, 6, 2, 0, 12, 0, 4, 6, 0, 2, 2, 0, 6, 1, 7, 0, 2, 0, 6, 2, 1, 2, 12, 0, 2, 0, 6, 2, 4, 0, 2, 1, 0, 9, 0, 6, 4, 0, 6, 9, 1, 13, 22, 0, 17, 0, 7, 2, 2, 2, 11, 12, 12, 6, 1, 0, 1, 4, 12, 9, 17, 11, 5, 6, 14, 2, 2, 0, 0, 2, 0, 6, 0, 6, 6, 2, 14, 0, 7, 1, 6, 7, 12, 14, 2, 2, 4, 0, 2, 2, 2, 2, 1, 0, 5, 6, 2, 2, 2, 2, 8, 0, 6, 1, 0, 6, 6, 12, 21, 0, 2, 4, 0, 0, 6, 2, 0, 6, 0, 2, 0, 1, 6, 0, 2, 7, 2, 6, 9, 6, 12, 6, 8, 7, 1, 9, 14, 7, 6, 0, 2, 0, 0, 0, 1, 2, 6, 2, 0, 2, 6, 2, 0, 6, 0, 4, 2, 2, 16, 4, 6, 2, 6, 10, 14, 6, 9, 0, 7, 2, 1, 19, 2, 2, 18, 2, 0, 6, 2, 0, 6, 0, 2, 6, 16, 2, 0, 10, 0, 0, 2, 4, 1, 2, 6, 1]\n"
          ]
        }
      ]
    },
    {
      "cell_type": "code",
      "source": [
        "X_Nor_test, mu, sigma = featureNormalize(X_test)\n",
        "#print(X_Nor_test)\n",
        "\n",
        "pred = predictOneVsAll(all_theta, X_Nor_test)\n",
        "print('Precision del conjuto de entrenamiento: {:.2f}%'.format(np.mean(pred == y_test) * 100))\n",
        "\n",
        "#num_epochs = 50\n",
        "#precisions = []\n",
        "\n",
        "# Selecciona las primeras 150 filas de X\n",
        "XPrueba = X_Nor_test.iloc[0:150, :].copy()\n",
        "#XPrueba = np.concatenate([np.ones((150, 1)), XPrueba], axis=1)\n",
        "#print(XPrueba[0])\n",
        "#for epoch in range(num_epochs):\n",
        "p = predictOneVsAll(all_theta, XPrueba)\n",
        "#precision = np.mean(pred == y_test) * 100\n",
        "#precisions.append(precision)\n",
        "#print(XPrueba[0])\n",
        "#p = np.argmax(sigmoid(XPrueba.dot(all_theta.T)), axis=1)\n",
        "\n",
        "print(\"Predicciones\")\n",
        "print(p)\n",
        "\n",
        "# Muestra los datos reales de prueba\n",
        "print(\"Datos reales de prueba\")\n",
        "print(y_test[0:150].tolist())"
      ],
      "metadata": {
        "colab": {
          "base_uri": "https://localhost:8080/"
        },
        "id": "xlpBdKW0XQcx",
        "outputId": "21e457d8-cae2-435c-f992-6ff99f9d8f56"
      },
      "execution_count": 35,
      "outputs": [
        {
          "output_type": "stream",
          "name": "stdout",
          "text": [
            "Precision del conjuto de entrenamiento: 67.58%\n",
            "Predicciones\n",
            "[ 9  0  2  2  6  0  4  0  0  0  4  2  2  6  0  0  6  0  6  2  0  0  2  2\n",
            "  0  6  6 19  0  6  0  2  2  6  0  0  0  2  2  6  7  9  2  6  6  6  0  6\n",
            "  0  4  2  6  6  9  6  6  2  6  6  6  6  6  0  6  0  4  2  2  2 12  2  0\n",
            "  0  2  0  6  0 12  6  0  0  0  2 14  2  0  6  6  6  9  6  0  0  0  0  6\n",
            "  0 12  0  6  2  0  2  2  2  0  0  2  6 11  6  0  2  9  5  0 12  2  6  9\n",
            "  0  6  0  0 14  2 12  0  0  2  9  6  6  0  6  6  2  6  0  6  6  0  6 12\n",
            "  6  2  5  0  0  6]\n",
            "Datos reales de prueba\n",
            "[9, 10, 2, 2, 6, 0, 4, 12, 0, 16, 4, 2, 2, 6, 1, 0, 6, 0, 6, 2, 0, 1, 22, 2, 0, 2, 6, 19, 5, 6, 7, 2, 2, 0, 5, 4, 0, 2, 2, 5, 6, 9, 2, 6, 6, 6, 0, 6, 12, 4, 2, 6, 6, 9, 0, 6, 2, 7, 6, 6, 6, 6, 7, 2, 4, 4, 8, 6, 2, 5, 2, 0, 0, 2, 12, 6, 0, 5, 6, 0, 0, 7, 2, 14, 2, 0, 6, 6, 6, 9, 6, 0, 20, 4, 0, 6, 4, 12, 0, 6, 2, 0, 2, 2, 22, 0, 0, 2, 6, 11, 6, 0, 2, 9, 5, 12, 12, 2, 2, 9, 4, 6, 9, 5, 14, 2, 5, 0, 0, 2, 9, 6, 6, 0, 6, 6, 2, 6, 0, 6, 6, 0, 6, 12, 6, 2, 5, 7, 1, 6]\n"
          ]
        }
      ]
    },
    {
      "cell_type": "code",
      "source": [
        "#pyplot.plot(P_history[0:35])\n",
        "#pyplot.xlabel('Iteración')\n",
        "#pyplot.ylabel('Costo (J)')\n",
        "#pyplot.title('Precision para una etiqueta')\n",
        "#pyplot.show()"
      ],
      "metadata": {
        "id": "s_DxG9I-uL0o"
      },
      "execution_count": 33,
      "outputs": []
    }
  ],
  "metadata": {
    "kernelspec": {
      "display_name": "Python 3",
      "language": "python",
      "name": "python3"
    },
    "language_info": {
      "codemirror_mode": {
        "name": "ipython",
        "version": 3
      },
      "file_extension": ".py",
      "mimetype": "text/x-python",
      "name": "python",
      "nbconvert_exporter": "python",
      "pygments_lexer": "ipython3",
      "version": "3.8.5"
    },
    "colab": {
      "provenance": [],
      "include_colab_link": true
    }
  },
  "nbformat": 4,
  "nbformat_minor": 0
}