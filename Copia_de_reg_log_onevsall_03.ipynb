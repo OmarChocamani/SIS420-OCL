{
  "cells": [
    {
      "cell_type": "markdown",
      "metadata": {
        "id": "view-in-github",
        "colab_type": "text"
      },
      "source": [
        "<a href=\"https://colab.research.google.com/github/OmarChocamani/SIS420-OCL/blob/main/Copia_de_reg_log_onevsall_03.ipynb\" target=\"_parent\"><img src=\"https://colab.research.google.com/assets/colab-badge.svg\" alt=\"Open In Colab\"/></a>"
      ]
    },
    {
      "cell_type": "code",
      "source": [
        "from google.colab import drive\n",
        "drive.mount('/content/drive')"
      ],
      "metadata": {
        "colab": {
          "base_uri": "https://localhost:8080/"
        },
        "id": "clyp4NcQycWP",
        "outputId": "1703d018-dc41-45c8-ec7d-3c970526615f"
      },
      "execution_count": 1,
      "outputs": [
        {
          "output_type": "stream",
          "name": "stdout",
          "text": [
            "Mounted at /content/drive\n"
          ]
        }
      ]
    },
    {
      "cell_type": "code",
      "execution_count": 2,
      "metadata": {
        "id": "20Q29kX8SxgJ"
      },
      "outputs": [],
      "source": [
        "# utilizado para la manipulación de directorios y rutas\n",
        "import os\n",
        "\n",
        "# Cálculo científico y vectorial para python\n",
        "import numpy as np\n",
        "import pandas as pd\n",
        "\n",
        "# Libreria para graficos\n",
        "from matplotlib import pyplot\n",
        "\n",
        "# Modulo de optimizacion en scipy\n",
        "#from scipy import optimize\n",
        "#from sklearn.preprocessing import LabelEncoder\n",
        "#from sklearn.model_selection import train_test_split\n",
        "\n",
        "# modulo para cargar archivos en formato MATLAB\n",
        "# from scipy.io import loadmat\n",
        "\n",
        "# le dice a matplotlib que incruste gráficos en el cuaderno\n",
        "%matplotlib inline"
      ]
    },
    {
      "cell_type": "code",
      "source": [
        "data= pd.read_csv('/content/drive/MyDrive/SIS420/MiDataSets/gcar_data.csv')\n",
        "#data.info()\n",
        "#print(data)"
      ],
      "metadata": {
        "id": "0yE2CNNulM0g"
      },
      "execution_count": 3,
      "outputs": []
    },
    {
      "cell_type": "code",
      "source": [
        "#Se agragan las 3 columnas necesarias\n",
        "# Crear una nueva columna que describe el estado basado en el kilometraje\n",
        "data['estado'] = data['mileage_in_km'].apply(lambda x: 'Excelente' if x < 50000 else 'Usado')\n",
        "# Crear una columna booleana indicando si el auto tiene transmisión automática\n",
        "data['es_automatico'] = data['transmission_type'].apply(lambda x: True if x == 'Automático' else False)\n",
        "# Crear una columna que combine la potencia y el tipo de combustible\n",
        "data['descripcion_auto'] = data.apply(lambda row: f\"{row['power_kw']} KW - {row['fuel_type']}\", axis=1)\n",
        "print(data)"
      ],
      "metadata": {
        "id": "NjZiST-qYaEc",
        "outputId": "3e57ebbb-7c5c-41b2-a9dd-b5b9ffc26739",
        "colab": {
          "base_uri": "https://localhost:8080/"
        }
      },
      "execution_count": 4,
      "outputs": [
        {
          "output_type": "stream",
          "name": "stdout",
          "text": [
            "       Unnamed: 0       brand                 model  color registration_date  \\\n",
            "0           75721        ford             Ford Kuga  black           05/2023   \n",
            "1           80184     hyundai           Hyundai i10  black           09/2018   \n",
            "2           19864        audi        Audi Q4 e-tron   grey           05/2021   \n",
            "3           76699       honda            Honda CR-V    red           07/2018   \n",
            "4           92991         kia          Kia Sportage  black           02/2023   \n",
            "...           ...         ...                   ...    ...               ...   \n",
            "99995        6265        audi               Audi A1   blue           05/2012   \n",
            "99996       54886        fiat              Fiat 500  black           12/2019   \n",
            "99997       76820       honda            Honda CR-V  brown           01/2019   \n",
            "99998         860  alfa-romeo  Alfa Romeo Giulietta   grey           12/2020   \n",
            "99999       15795        audi               Audi A3  black           05/2018   \n",
            "\n",
            "       year price_in_euro power_kw power_ps transmission_type fuel_type  \\\n",
            "0      2023         38490      140      190         Automatic    Hybrid   \n",
            "1      2018         11555       49       67            Manual    Petrol   \n",
            "2      2021         48886      125      170         Automatic  Electric   \n",
            "3      2018         24490      114      155         Automatic    Petrol   \n",
            "4      2023         34990      110      150            Manual    Petrol   \n",
            "...     ...           ...      ...      ...               ...       ...   \n",
            "99995  2012         12599       90      122            Manual    Petrol   \n",
            "99996  2019          9999       51       69         Automatic    Petrol   \n",
            "99997  2019         24800      127      173            Manual    Petrol   \n",
            "99998  2020         22990      125      170         Automatic    Diesel   \n",
            "99999  2018         21900      110      150            Manual    Petrol   \n",
            "\n",
            "      fuel_consumption_l_100km fuel_consumption_g_km  mileage_in_km  \\\n",
            "0                 5,4 l/100 km              124 g/km          100.0   \n",
            "1                 4,6 l/100 km              106 g/km        27782.0   \n",
            "2                          NaN                0 g/km         4247.0   \n",
            "3                 7,5 l/100 km              175 g/km        57000.0   \n",
            "4                 5,9 l/100 km              150 g/km         7500.0   \n",
            "...                        ...                   ...            ...   \n",
            "99995             5,3 l/100 km              126 g/km       148000.0   \n",
            "99996             5,2 l/100 km              120 g/km        31698.0   \n",
            "99997             6,3 l/100 km              143 g/km        77900.0   \n",
            "99998             5,5 l/100 km              145 g/km        52251.0   \n",
            "99999             5,3 l/100 km              120 g/km        30400.0   \n",
            "\n",
            "                                      offer_description     estado  \\\n",
            "0        ST-Line Hybrid Adapt.LED+Head-Up-Display Klima  Excelente   \n",
            "1                   blue Trend,Viele Extras,Top-Zustand  Excelente   \n",
            "2          35 e-tron S line/Matrix/Pano/ACC/SONOS/LM 21  Excelente   \n",
            "3                 2.0 Lifestyle Plus Automatik Navi FAP      Usado   \n",
            "4                          1.6 T 48V 2WD Spirit LED, WR  Excelente   \n",
            "...                                                 ...        ...   \n",
            "99995        Ambition TFSI Navi/Leder/SHZ/PTS/KETTE NEU      Usado   \n",
            "99996                       1.2 Lounge +Automatik + PDC  Excelente   \n",
            "99997  1.5T 2WD Elegance * 1. Hand * 24 Mon. Garantie *      Usado   \n",
            "99998            Lusso Ti 2.0 JTDM 16V Xenon Leder Navi      Usado   \n",
            "99999         Sportback1.5 Sport|VIRTUAL|NAVI|LED|30KM|  Excelente   \n",
            "\n",
            "       es_automatico   descripcion_auto  \n",
            "0              False    140 KW - Hybrid  \n",
            "1              False     49 KW - Petrol  \n",
            "2              False  125 KW - Electric  \n",
            "3              False    114 KW - Petrol  \n",
            "4              False    110 KW - Petrol  \n",
            "...              ...                ...  \n",
            "99995          False     90 KW - Petrol  \n",
            "99996          False     51 KW - Petrol  \n",
            "99997          False    127 KW - Petrol  \n",
            "99998          False    125 KW - Diesel  \n",
            "99999          False    110 KW - Petrol  \n",
            "\n",
            "[100000 rows x 18 columns]\n"
          ]
        }
      ]
    },
    {
      "cell_type": "code",
      "source": [
        "#data.info()"
      ],
      "metadata": {
        "id": "01j9aDCLhojT"
      },
      "execution_count": null,
      "outputs": []
    },
    {
      "cell_type": "code",
      "source": [
        "#Preprocesamiento de datos para asignar a cada valor unico de la columna brand un numero entero\n",
        "#Ademas observaremos la cantidad e etiquetas que tendra\n",
        "to_convert = ['brand']\n",
        "id2label = {}\n",
        "label2id = {}\n",
        "for col in to_convert:\n",
        "    id2label[col] = {i: cls for i, cls in enumerate(data[col].unique())}\n",
        "    label2id[col] = {cls: i for i, cls in id2label[col].items()}\n",
        "    data[col] = data[col].replace(label2id[col])\n",
        "    print(label2id[col])"
      ],
      "metadata": {
        "id": "17hYOk-Mkef8",
        "outputId": "f59760f8-d321-4275-c248-6d125c5e02e2",
        "colab": {
          "base_uri": "https://localhost:8080/"
        }
      },
      "execution_count": 5,
      "outputs": [
        {
          "output_type": "stream",
          "name": "stdout",
          "text": [
            "{'ford': 0, 'hyundai': 1, 'audi': 2, 'honda': 3, 'kia': 4, 'dacia': 5, 'bmw': 6, 'citroen': 7, 'alfa-romeo': 8, 'land-rover': 9, 'jaguar': 10, 'dodge': 11, 'fiat': 12, 'lamborghini': 13, 'mazda': 14, 'isuzu': 15, 'jeep': 16, 'ferrari': 17, 'bentley': 18, 'maserati': 19, 'daihatsu': 20, 'chevrolet': 21, 'aston-martin': 22, 'cadillac': 23, 'daewoo': 24, 'chrysler': 25, 'lancia': 26, 'lada': 27, 'infiniti': 28}\n"
          ]
        }
      ]
    },
    {
      "cell_type": "code",
      "source": [
        "num_labels = 29"
      ],
      "metadata": {
        "id": "v8pVcz-pkjnM"
      },
      "execution_count": 6,
      "outputs": []
    },
    {
      "cell_type": "code",
      "source": [
        "#variables categoricas\n",
        "def manual_label_encoder(column):\n",
        "    unique_values = column.unique()  # Obtener los valores únicos en la columna\n",
        "    mapping = {value: idx for idx, value in enumerate(unique_values)}  # Asignar un número a cada valor único\n",
        "    return column.map(mapping).astype(float), mapping  # Devolver la columna codificada y el mapeo\n",
        "\n",
        "# Seleccionar las columnas categóricas\n",
        "columnas_categoricas = data.select_dtypes(include=['object']).columns\n",
        "\n",
        "# Codificar cada columna categórica\n",
        "mappings = {}  # Diccionario para almacenar el mapeo de cada columna\n",
        "for columna in columnas_categoricas:\n",
        "    data[columna], mappings[columna] = manual_label_encoder(data[columna])"
      ],
      "metadata": {
        "id": "y9HEJb_AkmR8"
      },
      "execution_count": 7,
      "outputs": []
    },
    {
      "cell_type": "code",
      "source": [
        "data.info()\n",
        "print(data)"
      ],
      "metadata": {
        "id": "eQfTmo4muV73",
        "outputId": "0e2328ab-b2ee-41cd-ae9b-22225bf897ff",
        "colab": {
          "base_uri": "https://localhost:8080/"
        }
      },
      "execution_count": 8,
      "outputs": [
        {
          "output_type": "stream",
          "name": "stdout",
          "text": [
            "<class 'pandas.core.frame.DataFrame'>\n",
            "RangeIndex: 100000 entries, 0 to 99999\n",
            "Data columns (total 18 columns):\n",
            " #   Column                    Non-Null Count   Dtype  \n",
            "---  ------                    --------------   -----  \n",
            " 0   Unnamed: 0                100000 non-null  int64  \n",
            " 1   brand                     100000 non-null  int64  \n",
            " 2   model                     100000 non-null  float64\n",
            " 3   color                     100000 non-null  float64\n",
            " 4   registration_date         100000 non-null  float64\n",
            " 5   year                      100000 non-null  float64\n",
            " 6   price_in_euro             100000 non-null  float64\n",
            " 7   power_kw                  100000 non-null  float64\n",
            " 8   power_ps                  100000 non-null  float64\n",
            " 9   transmission_type         100000 non-null  float64\n",
            " 10  fuel_type                 100000 non-null  float64\n",
            " 11  fuel_consumption_l_100km  100000 non-null  float64\n",
            " 12  fuel_consumption_g_km     100000 non-null  float64\n",
            " 13  mileage_in_km             99932 non-null   float64\n",
            " 14  offer_description         100000 non-null  float64\n",
            " 15  estado                    100000 non-null  float64\n",
            " 16  es_automatico             100000 non-null  bool   \n",
            " 17  descripcion_auto          100000 non-null  float64\n",
            "dtypes: bool(1), float64(15), int64(2)\n",
            "memory usage: 13.1 MB\n",
            "       Unnamed: 0  brand  model  color  registration_date  year  \\\n",
            "0           75721      0    0.0    0.0                0.0   0.0   \n",
            "1           80184      1    1.0    0.0                1.0   1.0   \n",
            "2           19864      2    2.0    1.0                2.0   2.0   \n",
            "3           76699      3    3.0    2.0                3.0   1.0   \n",
            "4           92991      4    4.0    0.0                4.0   0.0   \n",
            "...           ...    ...    ...    ...                ...   ...   \n",
            "99995        6265      2   32.0    4.0              121.0   5.0   \n",
            "99996       54886     12   69.0    0.0               83.0   4.0   \n",
            "99997       76820      3    3.0    6.0              146.0   4.0   \n",
            "99998         860      8   53.0    1.0              111.0  12.0   \n",
            "99999       15795      2   14.0    0.0               33.0   1.0   \n",
            "\n",
            "       price_in_euro  power_kw  power_ps  transmission_type  fuel_type  \\\n",
            "0                0.0       0.0       0.0                0.0        0.0   \n",
            "1                1.0       1.0       1.0                1.0        1.0   \n",
            "2                2.0       2.0       2.0                0.0        2.0   \n",
            "3                3.0       3.0       3.0                0.0        1.0   \n",
            "4                4.0       4.0       4.0                1.0        1.0   \n",
            "...              ...       ...       ...                ...        ...   \n",
            "99995          221.0     119.0     119.0                1.0        1.0   \n",
            "99996          268.0      47.0      47.0                0.0        1.0   \n",
            "99997          469.0      36.0      36.0                1.0        1.0   \n",
            "99998          339.0       2.0       2.0                0.0        3.0   \n",
            "99999           51.0       4.0       4.0                1.0        1.0   \n",
            "\n",
            "       fuel_consumption_l_100km  fuel_consumption_g_km  mileage_in_km  \\\n",
            "0                           0.0                    0.0          100.0   \n",
            "1                           1.0                    1.0        27782.0   \n",
            "2                           2.0                    2.0         4247.0   \n",
            "3                           3.0                    3.0        57000.0   \n",
            "4                           4.0                    4.0         7500.0   \n",
            "...                         ...                    ...            ...   \n",
            "99995                      13.0                   77.0       148000.0   \n",
            "99996                      38.0                   17.0        31698.0   \n",
            "99997                      19.0                   71.0        77900.0   \n",
            "99998                      37.0                   36.0        52251.0   \n",
            "99999                      13.0                   17.0        30400.0   \n",
            "\n",
            "       offer_description  estado  es_automatico  descripcion_auto  \n",
            "0                    0.0     0.0          False               0.0  \n",
            "1                    1.0     0.0          False               1.0  \n",
            "2                    2.0     0.0          False               2.0  \n",
            "3                    3.0     1.0          False               3.0  \n",
            "4                    4.0     0.0          False               4.0  \n",
            "...                  ...     ...            ...               ...  \n",
            "99995            79772.0     1.0          False             172.0  \n",
            "99996            79773.0     0.0          False              62.0  \n",
            "99997            79774.0     1.0          False             224.0  \n",
            "99998            79775.0     1.0          False              91.0  \n",
            "99999            79776.0     0.0          False               4.0  \n",
            "\n",
            "[100000 rows x 18 columns]\n"
          ]
        }
      ]
    },
    {
      "cell_type": "code",
      "source": [
        "data['es_automatico'] = data['es_automatico'].astype(float)\n",
        "data['Unnamed: 0'] = data['Unnamed: 0'].astype(float)\n",
        "\n"
      ],
      "metadata": {
        "id": "6e25AV9ooS6e"
      },
      "execution_count": 13,
      "outputs": []
    },
    {
      "cell_type": "code",
      "source": [
        "#print(data)\n",
        "data.info()\n"
      ],
      "metadata": {
        "id": "F9LIFPOPkwUw",
        "colab": {
          "base_uri": "https://localhost:8080/"
        },
        "outputId": "14b9fa02-0318-4159-f876-cadc6a6fc140"
      },
      "execution_count": 10,
      "outputs": [
        {
          "output_type": "stream",
          "name": "stdout",
          "text": [
            "<class 'pandas.core.frame.DataFrame'>\n",
            "RangeIndex: 100000 entries, 0 to 99999\n",
            "Data columns (total 18 columns):\n",
            " #   Column                    Non-Null Count   Dtype  \n",
            "---  ------                    --------------   -----  \n",
            " 0   Unnamed: 0                100000 non-null  float64\n",
            " 1   brand                     100000 non-null  int64  \n",
            " 2   model                     100000 non-null  float64\n",
            " 3   color                     100000 non-null  float64\n",
            " 4   registration_date         100000 non-null  float64\n",
            " 5   year                      100000 non-null  float64\n",
            " 6   price_in_euro             100000 non-null  float64\n",
            " 7   power_kw                  100000 non-null  float64\n",
            " 8   power_ps                  100000 non-null  float64\n",
            " 9   transmission_type         100000 non-null  float64\n",
            " 10  fuel_type                 100000 non-null  float64\n",
            " 11  fuel_consumption_l_100km  100000 non-null  float64\n",
            " 12  fuel_consumption_g_km     100000 non-null  float64\n",
            " 13  mileage_in_km             99932 non-null   float64\n",
            " 14  offer_description         100000 non-null  float64\n",
            " 15  estado                    100000 non-null  float64\n",
            " 16  es_automatico             100000 non-null  float64\n",
            " 17  descripcion_auto          100000 non-null  float64\n",
            "dtypes: float64(17), int64(1)\n",
            "memory usage: 13.7 MB\n"
          ]
        }
      ]
    },
    {
      "cell_type": "code",
      "source": [
        "#llenar datos vacios\n",
        "columnas_especificas = ['mileage_in_km']\n",
        "media_columnas = data[columnas_especificas].mean()\n",
        "data[columnas_especificas] = data[columnas_especificas].fillna(media_columnas)\n",
        "data.info()"
      ],
      "metadata": {
        "id": "_X8B5JmXpxUX",
        "outputId": "cab1f794-847c-4f4a-f571-55058afeb376",
        "colab": {
          "base_uri": "https://localhost:8080/"
        }
      },
      "execution_count": 11,
      "outputs": [
        {
          "output_type": "stream",
          "name": "stdout",
          "text": [
            "<class 'pandas.core.frame.DataFrame'>\n",
            "RangeIndex: 100000 entries, 0 to 99999\n",
            "Data columns (total 18 columns):\n",
            " #   Column                    Non-Null Count   Dtype  \n",
            "---  ------                    --------------   -----  \n",
            " 0   Unnamed: 0                100000 non-null  float64\n",
            " 1   brand                     100000 non-null  int64  \n",
            " 2   model                     100000 non-null  float64\n",
            " 3   color                     100000 non-null  float64\n",
            " 4   registration_date         100000 non-null  float64\n",
            " 5   year                      100000 non-null  float64\n",
            " 6   price_in_euro             100000 non-null  float64\n",
            " 7   power_kw                  100000 non-null  float64\n",
            " 8   power_ps                  100000 non-null  float64\n",
            " 9   transmission_type         100000 non-null  float64\n",
            " 10  fuel_type                 100000 non-null  float64\n",
            " 11  fuel_consumption_l_100km  100000 non-null  float64\n",
            " 12  fuel_consumption_g_km     100000 non-null  float64\n",
            " 13  mileage_in_km             100000 non-null  float64\n",
            " 14  offer_description         100000 non-null  float64\n",
            " 15  estado                    100000 non-null  float64\n",
            " 16  es_automatico             100000 non-null  float64\n",
            " 17  descripcion_auto          100000 non-null  float64\n",
            "dtypes: float64(17), int64(1)\n",
            "memory usage: 13.7 MB\n"
          ]
        }
      ]
    },
    {
      "cell_type": "code",
      "source": [
        "data_copy = data.copy()\n",
        "\n",
        "# Aumentar solo los valores decimales en el DataFrame duplicado\n",
        "# Especificar las columnas numéricas en las que deseas aumentar los decimales\n",
        "decimal_columns = ['Unnamed: 0','model','color','registration_date','year','price_in_euro','power_kw','power_ps','fuel_type', 'fuel_consumption_l_100km', 'fuel_consumption_g_km', 'mileage_in_km','offer_description','descripcion_auto']\n",
        "\n",
        "# Asegurarse de que las columnas sean del tipo adecuado\n",
        "#for col in decimal_columns:\n",
        " #   data_copy[col] = pd.to_numeric(data_copy[col], errors='coerce')\n",
        "\n",
        "# Filtrar filas con valores no válidos (NaN) en columnas decimales\n",
        "#data_copy = data_copy.dropna(subset=decimal_columns)\n",
        "\n",
        "# Aumentar los valores decimales en las columnas especificadas\n",
        "for col in decimal_columns:\n",
        "    data_copy[col] = data_copy[col] + np.random.uniform(0.1, 0.7, size=len(data_copy))\n",
        "\n",
        "\n",
        "# Asegurarse de que los valores estén dentro de rangos razonables\n",
        "for col in decimal_columns:\n",
        "    data_copy[col] = data_copy[col].clip(lower=0)\n",
        "\n",
        "# Concatenar los DataFrames originales y modificados\n",
        "nuevo_data = pd.concat([data, data_copy], ignore_index=True)\n",
        "\n",
        "# Guardar el dataset aumentado en un nuevo archivo CSV\n",
        "#nuevo_data.to_csv('ruta_del_archivo_modificado.csv', index=False)\n",
        "\n",
        "# Ver las primeras filas del DataFrame aumentado\n",
        "#print(nuevo_data.head())"
      ],
      "metadata": {
        "id": "KUJVTbABb0yP"
      },
      "execution_count": 14,
      "outputs": []
    },
    {
      "cell_type": "code",
      "source": [
        "print(nuevo_data.iloc[190000])\n",
        "#print(nuevo_data)"
      ],
      "metadata": {
        "id": "TWCbhq-7vpqP",
        "outputId": "a3bacc98-75a0-40b1-ba1c-2430b25c7b97",
        "colab": {
          "base_uri": "https://localhost:8080/"
        }
      },
      "execution_count": 15,
      "outputs": [
        {
          "output_type": "stream",
          "name": "stdout",
          "text": [
            "Unnamed: 0                   44990.455325\n",
            "brand                            7.000000\n",
            "model                          322.632455\n",
            "color                            1.532088\n",
            "registration_date               19.347614\n",
            "year                             1.638052\n",
            "price_in_euro                   88.139990\n",
            "power_kw                         7.574859\n",
            "power_ps                         7.443188\n",
            "transmission_type                1.000000\n",
            "fuel_type                        3.116204\n",
            "fuel_consumption_l_100km        12.243807\n",
            "fuel_consumption_g_km          170.446706\n",
            "mileage_in_km               117000.335401\n",
            "offer_description            72499.272174\n",
            "estado                           1.000000\n",
            "es_automatico                    0.000000\n",
            "descripcion_auto                17.300050\n",
            "Name: 190000, dtype: float64\n"
          ]
        }
      ]
    },
    {
      "cell_type": "code",
      "source": [
        "nuevo_data.info()"
      ],
      "metadata": {
        "id": "QCristp_qirb",
        "outputId": "d2c9e685-0e84-463a-91bd-78a5d10e3d61",
        "colab": {
          "base_uri": "https://localhost:8080/"
        }
      },
      "execution_count": 16,
      "outputs": [
        {
          "output_type": "stream",
          "name": "stdout",
          "text": [
            "<class 'pandas.core.frame.DataFrame'>\n",
            "RangeIndex: 200000 entries, 0 to 199999\n",
            "Data columns (total 18 columns):\n",
            " #   Column                    Non-Null Count   Dtype  \n",
            "---  ------                    --------------   -----  \n",
            " 0   Unnamed: 0                200000 non-null  float64\n",
            " 1   brand                     200000 non-null  int64  \n",
            " 2   model                     200000 non-null  float64\n",
            " 3   color                     200000 non-null  float64\n",
            " 4   registration_date         200000 non-null  float64\n",
            " 5   year                      200000 non-null  float64\n",
            " 6   price_in_euro             200000 non-null  float64\n",
            " 7   power_kw                  200000 non-null  float64\n",
            " 8   power_ps                  200000 non-null  float64\n",
            " 9   transmission_type         200000 non-null  float64\n",
            " 10  fuel_type                 200000 non-null  float64\n",
            " 11  fuel_consumption_l_100km  200000 non-null  float64\n",
            " 12  fuel_consumption_g_km     200000 non-null  float64\n",
            " 13  mileage_in_km             200000 non-null  float64\n",
            " 14  offer_description         200000 non-null  float64\n",
            " 15  estado                    200000 non-null  float64\n",
            " 16  es_automatico             200000 non-null  float64\n",
            " 17  descripcion_auto          200000 non-null  float64\n",
            "dtypes: float64(17), int64(1)\n",
            "memory usage: 27.5 MB\n"
          ]
        }
      ]
    },
    {
      "cell_type": "code",
      "source": [
        "# Cargar los datasets originales y sintéticos\n",
        "#data_original = pd.read_csv('ruta_del_archivo_original.csv')\n",
        "#data_sintetico = pd.read_csv('ruta_del_archivo_modificado.csv')\n",
        "\n",
        "# Especificar las columnas numéricas que queremos graficar\n",
        "columnas_numericas = ['year', 'power_kw']\n",
        "\n",
        "# Crear una figura para comparar cada atributo entre los datasets\n",
        "fig, axs = pyplot.subplots(len(columnas_numericas), 2, figsize=(12, 5 * len(columnas_numericas)))\n",
        "\n",
        "# Iterar sobre las columnas numéricas y generar gráficos\n",
        "for i, col in enumerate(columnas_numericas):\n",
        "    # Graficar el dataset original\n",
        "    axs[i, 0].hist(data[col].dropna(), bins=29, color='blue', alpha=0.7)\n",
        "    axs[i, 0].set_title(f'{col} - Dataset Original')\n",
        "    axs[i, 0].set_xlabel(col)\n",
        "    axs[i, 0].set_ylabel('Frecuencia')\n",
        "\n",
        "    # Graficar el dataset sintético\n",
        "    axs[i, 1].hist(data_copy[col].dropna(), bins=29, color='green', alpha=0.7)\n",
        "    axs[i, 1].set_title(f'{col} - Dataset Sintético')\n",
        "    axs[i, 1].set_xlabel(col)\n",
        "    axs[i, 1].set_ylabel('Frecuencia')\n",
        "\n",
        "# Ajustar el espacio entre gráficos\n",
        "pyplot.tight_layout()\n",
        "pyplot.show()\n"
      ],
      "metadata": {
        "id": "eSFDZNWiPFJg",
        "outputId": "33405fff-4863-4f2d-fdf3-a2a7e3361a21",
        "colab": {
          "base_uri": "https://localhost:8080/",
          "height": 1000
        }
      },
      "execution_count": 27,
      "outputs": [
        {
          "output_type": "display_data",
          "data": {
            "text/plain": [
              "<Figure size 1200x1000 with 4 Axes>"
            ],
            "image/png": "[encoded data removed]"
          },
          "metadata": {}
        }
      ]
    },
    {
      "cell_type": "code",
      "source": [
        "#X_datos=nuevo_data.iloc[:,[2,3,4,5,6,7,8,9,10,11,12,13,14,15,17]]\n",
        "#y_datos=nuevo_data.iloc[:,1]"
      ],
      "metadata": {
        "id": "hFe7vEvlMxkP"
      },
      "execution_count": null,
      "outputs": []
    },
    {
      "cell_type": "code",
      "source": [
        "#separamos el data set en 80% enry 20% para prueba\n",
        "X_train=nuevo_data.iloc[0:160000,[2,3,4,5,6,8,9,10,11,13,15]]\n",
        "y_train=nuevo_data.iloc[0:160000,1]\n",
        "\n",
        "X_test=nuevo_data.iloc[160000:,[2,3,4,5,6,8,9,10,11,13,15]]\n",
        "y_test=nuevo_data.iloc[160000:,1]\n",
        "\n",
        "#X_train, X_test, y_train, y_test = train_test_split(X_datos, y_datos, test_size=0.2)\n",
        "#X_train.shape, X_test.shape"
      ],
      "metadata": {
        "id": "9U3rh3pkSaBV"
      },
      "execution_count": 60,
      "outputs": []
    },
    {
      "cell_type": "code",
      "source": [
        "X=X_train\n",
        "y=y_train\n",
        "print(y)"
      ],
      "metadata": {
        "colab": {
          "base_uri": "https://localhost:8080/"
        },
        "id": "KXI4hie2nDvD",
        "outputId": "345e4480-471b-4786-a84d-1989aac42199"
      },
      "execution_count": 61,
      "outputs": [
        {
          "output_type": "stream",
          "name": "stdout",
          "text": [
            "0          0\n",
            "1          1\n",
            "2          2\n",
            "3          3\n",
            "4          4\n",
            "          ..\n",
            "159995     4\n",
            "159996    17\n",
            "159997     1\n",
            "159998    10\n",
            "159999     7\n",
            "Name: brand, Length: 160000, dtype: int64\n"
          ]
        }
      ]
    },
    {
      "cell_type": "code",
      "source": [
        "def  featureNormalize(X):\n",
        "    X_norm = X.copy()\n",
        "    mu = np.zeros(X.shape[1])\n",
        "    sigma = np.zeros(X.shape[1])\n",
        "\n",
        "    mu = np.mean(X, axis = 0)\n",
        "    sigma = np.std(X, axis = 0)\n",
        "    X_norm = (X - mu) / sigma\n",
        "\n",
        "    return X_norm, mu, sigma"
      ],
      "metadata": {
        "id": "HWF5C5Jt8wNb"
      },
      "execution_count": 62,
      "outputs": []
    },
    {
      "cell_type": "code",
      "source": [
        "# llama featureNormalize con los datos cargados\n",
        "X_norm, mu, sigma = featureNormalize(X)"
      ],
      "metadata": {
        "id": "f4W6d-ya1ABV"
      },
      "execution_count": 63,
      "outputs": []
    },
    {
      "cell_type": "code",
      "source": [
        "# inicia m con el numero de filas de X y n con el numero de aracteristicas\n",
        "m, n = X.shape\n",
        "#asignamos los valores normalizados a X\n",
        "X = X_norm"
      ],
      "metadata": {
        "id": "r9e6MRrW1G22"
      },
      "execution_count": 64,
      "outputs": []
    },
    {
      "cell_type": "code",
      "execution_count": 65,
      "metadata": {
        "id": "0sB9Kyi8SxgN"
      },
      "outputs": [],
      "source": [
        "def sigmoid(z):\n",
        "    \"\"\"\n",
        "    Calcula la sigmoide de z.\n",
        "    \"\"\"\n",
        "    return 1.0 / (1.0 + np.exp(-z))"
      ]
    },
    {
      "cell_type": "code",
      "execution_count": 66,
      "metadata": {
        "id": "w5S0OOswSxgN"
      },
      "outputs": [],
      "source": [
        "def lrCostFunction(theta, X, y, lambda_):\n",
        "    # Inicializa algunos valores utiles\n",
        "\n",
        "\n",
        "    m = y.size\n",
        "\n",
        "    # convierte las etiquetas a valores enteros si son boleanos\n",
        "    if y.dtype == bool:\n",
        "        y = y.astype(int)\n",
        "\n",
        "    J = 0\n",
        "    grad = np.zeros(theta.shape)\n",
        "\n",
        "    h = sigmoid(X.dot(theta.T))\n",
        "\n",
        "    temp = theta\n",
        "    temp[0] = 0\n",
        "\n",
        "#     J = (1 / m) * np.sum(-y.dot(np.log(h)) - (1 - y).dot(np.log(1 - h)))\n",
        "    J = (1 / m) * np.sum(-y.dot(np.log(h)) - (1 - y).dot(np.log(1 - h))) + (lambda_ / (2 * m)) * np.sum(np.square(temp))\n",
        "\n",
        "    grad = (1 / m) * (h - y).dot(X)\n",
        "\n",
        "#    P_history.append(h)\n",
        "#     theta = theta - (alpha / m) * (h - y).dot(X)\n",
        "    grad = grad + (lambda_ / m) * temp\n",
        "\n",
        "    #predictions = (h >= 0.5).astype(int)  # Umbral de 0.5 para clasificar\n",
        "    #correct_predictions = np.sum(predictions == y)  # Contar predicciones correctas\n",
        "    #precision = correct_predictions / m  # Precisión como proporción de predicciones correctas\n",
        "    #P_history.append(precision)\n",
        "\n",
        "    return J, grad\n",
        "#    return J, theta\n"
      ]
    },
    {
      "cell_type": "code",
      "execution_count": 67,
      "metadata": {
        "id": "V0rOw5qhSxgN"
      },
      "outputs": [],
      "source": [
        "def oneVsAll(X, y, num_labels, lambda_,alpha=0.01, num_iters=80):\n",
        "    # algunas variables utiles\n",
        "\n",
        "    m, n = X.shape\n",
        "    all_theta = np.zeros((num_labels, n + 1))\n",
        "    all_J_history = []\n",
        "\n",
        "    # Agregar unos a la matriz X\n",
        "    X = np.concatenate([np.ones((m, 1)), X], axis=1)\n",
        "\n",
        "    for c in np.arange(num_labels):\n",
        "        print(f\"Entrenando para la clase {c}...\")\n",
        "\n",
        "        # Inicializar theta\n",
        "        theta = np.zeros(n + 1)\n",
        "\n",
        "        # Vector binario para la clase c\n",
        "        y_c = (y == c)\n",
        "\n",
        "        # Historial de costos para cada clase\n",
        "        J_history = []\n",
        "\n",
        "        for i in range(num_iters):\n",
        "            # Calcular costo y gradiente\n",
        "            J, grad = lrCostFunction(theta, X, y_c, lambda_)\n",
        "\n",
        "            # Actualizar theta\n",
        "            theta -= alpha * grad\n",
        "\n",
        "            # Guardar el costo\n",
        "            J_history.append(J)\n",
        "\n",
        "        # Almacenar los parámetros optimizados para la clase c\n",
        "        all_theta[c] = theta\n",
        "        all_J_history.append(J_history)\n",
        "\n",
        "\n",
        "    return all_theta, all_J_history"
      ]
    },
    {
      "cell_type": "code",
      "execution_count": 68,
      "metadata": {
        "id": "w6JbsLLMSxgO",
        "outputId": "a3ee8430-84d0-4e15-a468-85964d05c208",
        "colab": {
          "base_uri": "https://localhost:8080/"
        }
      },
      "outputs": [
        {
          "output_type": "stream",
          "name": "stdout",
          "text": [
            "Entrenando para la clase 0...\n",
            "Entrenando para la clase 1...\n",
            "Entrenando para la clase 2...\n",
            "Entrenando para la clase 3...\n",
            "Entrenando para la clase 4...\n",
            "Entrenando para la clase 5...\n",
            "Entrenando para la clase 6...\n",
            "Entrenando para la clase 7...\n",
            "Entrenando para la clase 8...\n",
            "Entrenando para la clase 9...\n",
            "Entrenando para la clase 10...\n",
            "Entrenando para la clase 11...\n",
            "Entrenando para la clase 12...\n",
            "Entrenando para la clase 13...\n",
            "Entrenando para la clase 14...\n",
            "Entrenando para la clase 15...\n",
            "Entrenando para la clase 16...\n",
            "Entrenando para la clase 17...\n",
            "Entrenando para la clase 18...\n",
            "Entrenando para la clase 19...\n",
            "Entrenando para la clase 20...\n",
            "Entrenando para la clase 21...\n",
            "Entrenando para la clase 22...\n",
            "Entrenando para la clase 23...\n",
            "Entrenando para la clase 24...\n",
            "Entrenando para la clase 25...\n",
            "Entrenando para la clase 26...\n",
            "Entrenando para la clase 27...\n",
            "Entrenando para la clase 28...\n",
            "(29, 12)\n"
          ]
        }
      ],
      "source": [
        "lambda_ = 0.1\n",
        "all_theta, all_J_history = oneVsAll(X, y, num_labels,lambda_)\n",
        "print(all_theta.shape)"
      ]
    },
    {
      "cell_type": "code",
      "source": [
        "print(all_J_history)\n",
        "#print(J_history)\n",
        "#print(P_history)"
      ],
      "metadata": {
        "id": "lbYevUdviHLg",
        "outputId": "2fa7fec7-0472-47d2-d5c2-c6f757049ad2",
        "colab": {
          "base_uri": "https://localhost:8080/"
        }
      },
      "execution_count": 69,
      "outputs": [
        {
          "output_type": "stream",
          "name": "stdout",
          "text": [
            "[[0.6931471805599573, 0.6920499698339062, 0.691926561520069, 0.6918015479741842, 0.6916773588273514, 0.6915539821903182, 0.6914314123190903, 0.6913096434955135, 0.6911886700423203, 0.6910684863228423, 0.690949086740759, 0.6908304657398504, 0.690712617803744, 0.690595537455671, 0.690479219258215, 0.690363657813065, 0.690248847760771, 0.6901347837804935, 0.6900214605897612, 0.6899088729442259, 0.6897970156374155, 0.6896858835004934, 0.6895754714020135, 0.6894657742476797, 0.6893567869801019, 0.6892485045785597, 0.6891409220587564, 0.6890340344725856, 0.6889278369078895, 0.6888223244882227, 0.6887174923726147, 0.6886133357553359, 0.6885098498656596, 0.688407029967631, 0.6883048713598332, 0.6882033693751539, 0.6881025193805548, 0.688002316776842, 0.6879027569984346, 0.6878038355131387, 0.6877055478219176, 0.6876078894586674, 0.6875108559899893, 0.6874144430149669, 0.6873186461649418, 0.6872234611032908, 0.6871288835252047, 0.6870349091574686, 0.6869415337582412, 0.6868487531168365, 0.6867565630535082, 0.6866649594192304, 0.6865739380954861, 0.6864834949940493, 0.6863936260567742, 0.6863043272553832, 0.6862155945912547, 0.6861274240952144, 0.686039811827326, 0.685952753876684, 0.6858662463612069, 0.6857802854274314, 0.6856948672503086, 0.6856099880330017, 0.6855256440066807, 0.6854418314303262, 0.685358546590525, 0.6852757858012731, 0.6851935454037807, 0.6851118217662711, 0.685030611283788, 0.6849499103780012, 0.6848697154970131, 0.6847900231151663, 0.6847108297328532, 0.6846321318763271, 0.684553926097511, 0.6844762089738141, 0.6843989771079413, 0.6843222271277106], [0.6931471805599798, 0.6912651117877373, 0.691238525596614, 0.6912076100175406, 0.6911770055597698, 0.6911466974205404, 0.6911166824712054, 0.6910869575893855, 0.6910575196877453, 0.6910283657135318, 0.6909994926481902, 0.6909708975069826, 0.6909425773386111, 0.6909145292248453, 0.6908867502801525, 0.6908592376513316, 0.6908319885171536, 0.6908050000879989, 0.6907782696055096, 0.6907517943422338, 0.6907255716012795, 0.6906995987159726, 0.6906738730495162, 0.6906483919946553, 0.6906231529733411, 0.690598153436405, 0.6905733908632321, 0.6905488627614366, 0.6905245666665444, 0.6905005001416801, 0.6904766607772483, 0.6904530461906307, 0.6904296540258767, 0.6904064819534028, 0.6903835276696926, 0.6903607888970005, 0.6903382633830597, 0.690315948900792, 0.6902938432480203, 0.6902719442471874, 0.6902502497450718, 0.6902287576125143, 0.6902074657441417, 0.690186372058093, 0.6901654744957568, 0.690144771021499, 0.6901242596224043, 0.6901039383080156, 0.6900838051100766, 0.6900638580822777, 0.6900440953000038, 0.6900245148600875, 0.6900051148805625, 0.6899858935004188, 0.6899668488793652, 0.6899479791975889, 0.6899292826555216, 0.6899107574736079, 0.6898924018920712, 0.6898742141706932, 0.6898561925885817, 0.6898383354439535, 0.6898206410539132, 0.6898031077542333, 0.6897857338991432, 0.6897685178611146, 0.6897514580306497, 0.6897345528160778, 0.6897178006433464, 0.6897011999558184, 0.6896847492140723, 0.6896684468957044, 0.689652291495131, 0.6896362815233941, 0.6896204155079717, 0.6896046919925866, 0.6895891095370192, 0.6895736667169216, 0.6895583621236352, 0.6895431943640098], [0.6931471805599523, 0.6921058720438756, 0.6919053141684959, 0.6917042152665812, 0.6915046608769152, 0.6913066308684609, 0.691110110532006, 0.690915085300988, 0.6907215407632498, 0.6905294626595893, 0.6903388368823307, 0.690149649473917, 0.6899618866255011, 0.6897755346755435, 0.6895905801084227, 0.6894070095530437, 0.6892248097814546, 0.6890439677074747, 0.6888644703853196, 0.6886863050082396, 0.6885094589071626, 0.6883339195493364, 0.6881596745369882, 0.687986711605979, 0.6878150186244741, 0.6876445835916107, 0.687475394636179, 0.6873074400153057, 0.6871407081131441, 0.6869751874395734, 0.686810866628903, 0.6866477344385822, 0.6864857797479199, 0.6863249915568111, 0.6861653589844665, 0.6860068712681561, 0.6858495177619548, 0.6856932879354996, 0.6855381713727502, 0.6853841577707649, 0.6852312369384768, 0.6850793987954815, 0.6849286333708358, 0.68477893080186, 0.6846302813329546, 0.6844826753144179, 0.6843361032012826, 0.6841905555521509, 0.6840460230280488, 0.68390249639128, 0.6837599665042977, 0.6836184243285787, 0.6834778609235118, 0.6833382674452947, 0.683199635145838, 0.6830619553716819, 0.6829252195629217, 0.6827894192521424, 0.6826545460633644, 0.6825205917109947, 0.6823875479987987, 0.6822554068188664, 0.682124160150604, 0.681993800059722, 0.6818643186972455, 0.6817357082985246, 0.6816079611822594, 0.6814810697495359, 0.6813550264828674, 0.681229823945251, 0.6811054547792301, 0.6809819117059692, 0.6808591875243375, 0.6807372751100014, 0.6806161674145271, 0.6804958574644985, 0.6803763383606338, 0.6802576032769201, 0.6801396454597568, 0.6800224582271068], [0.6931471805599904, 0.6907264696145632, 0.6907316344527575, 0.6907307499450027, 0.6907298882571322, 0.690729034127511, 0.6907281875139809, 0.6907273483372804, 0.6907265165191705, 0.6907256919823297, 0.690724874650342, 0.6907240644476892, 0.6907232612997325, 0.690722465132709, 0.6907216758737186, 0.6907208934507095, 0.690720117792473, 0.6907193488286308, 0.6907185864896245, 0.6907178307067054, 0.6907170814119251, 0.6907163385381264, 0.6907156020189317, 0.6907148717887347, 0.6907141477826894, 0.6907134299367037, 0.6907127181874257, 0.6907120124722402, 0.6907113127292538, 0.6907106188972904, 0.6907099309158798, 0.69070924872525, 0.6907085722663197, 0.6907079014806872, 0.6907072363106245, 0.6907065766990667, 0.6907059225896076, 0.6907052739264866, 0.6907046306545852, 0.6907039927194172, 0.6907033600671196, 0.6907027326444479, 0.6907021103987665, 0.6907014932780428, 0.6907008812308368, 0.6907002742062979, 0.6906996721541544, 0.6906990750247093, 0.6906984827688286, 0.6906978953379412, 0.6906973126840259, 0.690696734759608, 0.6906961615177515, 0.6906955929120532, 0.6906950288966353, 0.6906944694261393, 0.6906939144557214, 0.6906933639410427, 0.6906928178382665, 0.69069227610405, 0.6906917386955398, 0.6906912055703635, 0.6906906766866284, 0.6906901520029097, 0.6906896314782502, 0.6906891150721529, 0.6906886027445721, 0.6906880944559128, 0.6906875901670232, 0.6906870898391889, 0.6906865934341284, 0.6906861009139862, 0.6906856122413303, 0.6906851273791467, 0.6906846462908297, 0.690684168940185, 0.6906836952914177, 0.6906832253091308, 0.6906827589583207, 0.6906822962043698], [0.6931471805599819, 0.6911692447589161, 0.6911511846296036, 0.6911284922019725, 0.6911060694690243, 0.6910839010469985, 0.6910619838843152, 0.6910403149368521, 0.6910188911982907, 0.6909977096995764, 0.6909767675084671, 0.690956061729079, 0.6909355895014456, 0.6909153480010739, 0.6908953344385125, 0.6908755460589214, 0.6908559801416464, 0.6908366339997976, 0.6908175049798393, 0.6907985904611748, 0.6907798878557417, 0.690761394607614, 0.6907431081926027, 0.6907250261178658, 0.6907071459215216, 0.6906894651722665, 0.6906719814689931, 0.6906546924404237, 0.6906375957447357, 0.6906206890691978, 0.690603970129812, 0.6905874366709542, 0.6905710864650246, 0.6905549173120984, 0.6905389270395823, 0.6905231135018766, 0.6905074745800354, 0.6904920081814406, 0.6904767122394705, 0.6904615847131759, 0.6904466235869634, 0.690431826870275, 0.6904171925972808, 0.6904027188265659, 0.6903884036408288, 0.6903742451465791, 0.6903602414738396, 0.690346390775854, 0.6903326912287951, 0.690319141031479, 0.6903057384050806, 0.6902924815928536, 0.6902793688598576, 0.6902663984926807, 0.6902535687991708, 0.6902408781081703, 0.6902283247692519, 0.6902159071524593, 0.6902036236480495, 0.6901914726662396, 0.6901794526369566, 0.6901675620095884, 0.690155799252742, 0.6901441628539995, 0.6901326513196796, 0.690121263174606, 0.6901099969618679, 0.6900988512425975, 0.6900878245957383, 0.6900769156178223, 0.6900661229227494, 0.690055445141567, 0.6900448809222579, 0.690034428929521, 0.690024087844567, 0.6900138563649073, 0.6900037332041474, 0.6899937170917883, 0.6899838067730221, 0.6899740010085362], [0.6931471805599861, 0.6909561473044681, 0.690944811946427, 0.6909281597209168, 0.6909116452161707, 0.6908952536548137, 0.6908789839448672, 0.6908628349720184, 0.6908468056337543, 0.6908308948391431, 0.6908151015087043, 0.6907994245742785, 0.6907838629788968, 0.6907684156766591, 0.6907530816326038, 0.6907378598225863, 0.6907227492331572, 0.6907077488614396, 0.6906928577150099, 0.6906780748117817, 0.6906633991798875, 0.6906488298575614, 0.6906343658930275, 0.6906200063443887, 0.6906057502795104, 0.6905915967759146, 0.6905775449206681, 0.6905635938102781, 0.6905497425505827, 0.6905359902566478, 0.6905223360526624, 0.6905087790718365, 0.6904953184562982, 0.6904819533569965, 0.6904686829335973, 0.6904555063543925, 0.6904424227961953, 0.6904294314442492, 0.6904165314921339, 0.6904037221416702, 0.690391002602826, 0.6903783720936287, 0.6903658298400731, 0.6903533750760324, 0.6903410070431687, 0.690328724990849, 0.6903165281760562, 0.6903044158633052, 0.6902923873245593, 0.6902804418391473, 0.6902685786936796, 0.6902567971819675, 0.690245096604945, 0.6902334762705881, 0.6902219354938354, 0.6902104735965124, 0.690199089907254, 0.6901877837614293, 0.6901765545010672, 0.6901654014747809, 0.6901543240376969, 0.6901433215513814, 0.6901323933837702, 0.690121538909096, 0.6901107575078227, 0.6901000485665704, 0.6900894114780546, 0.6900788456410132, 0.690068350460143, 0.6900579253460325, 0.6900475697150984, 0.6900372829895203, 0.6900270645971767, 0.6900169139715848, 0.6900068305518358, 0.6899968137825351, 0.6899868631137417, 0.6899769780009076, 0.6899671579048197, 0.689957402291541], [0.6931471805599548, 0.6919227623601619, 0.6916074967086152, 0.6912935231753734, 0.6909830649432497, 0.690676073296252, 0.6903725056848398, 0.6900723200282521, 0.6897754747262207, 0.6894819286563805, 0.689191641171683, 0.6889045720977519, 0.688620681730193, 0.6883399308318323, 0.6880622806298904, 0.6877876928130796, 0.6875161295286224, 0.6872475533791886, 0.6869819274197478, 0.6867192151543416, 0.6864593805327632, 0.6862023879471617, 0.6859482022285589, 0.685696788643285, 0.6854481128893429, 0.6852021410926921, 0.6849588398034647, 0.6847181759921162, 0.6844801170455139, 0.6842446307629669, 0.6840116853522057, 0.6837812494253132, 0.6835532919946152, 0.6833277824685301, 0.6831046906473909, 0.6828839867192342, 0.682665641255574, 0.6824496252071482, 0.682235909899661, 0.6820244670295076, 0.6818152686595007, 0.6816082872145932, 0.681403495477604, 0.6812008665849498, 0.6810003740223858, 0.6808019916207633, 0.6806056935517976, 0.6804114543238607, 0.6802192487777885, 0.6800290520827176, 0.6798408397319418, 0.679654587538804, 0.6794702716326111, 0.6792878684545829, 0.6791073547538307, 0.6789287075833773, 0.6787519042962046, 0.6785769225413381, 0.6784037402599765, 0.6782323356816499, 0.6780626873204225, 0.6778947739711321, 0.6777285747056733, 0.6775640688693166, 0.6774012360770713, 0.6772400562100888, 0.677080509412108, 0.6769225760859398, 0.6767662368899964, 0.6766114727348623, 0.6764582647799015, 0.6763065944299149, 0.6761564433318312, 0.6760077933714448, 0.6758606266701916, 0.6757149255819687, 0.6755706726899908, 0.6754278508036928, 0.6752864429556664, 0.6751464323986406], [0.6931471805599848, 0.6910217668730506, 0.6910058007035376, 0.6909846988619456, 0.6909637402236738, 0.6909429105946183, 0.6909222090226188, 0.6909016345316156, 0.6908811861547093, 0.6908608629339854, 0.6908406639204198, 0.69082058817378, 0.6908006347625378, 0.6907808027637685, 0.6907610912630705, 0.6907414993544656, 0.6907220261403139, 0.6907026707312268, 0.690683432245977, 0.6906643098114135, 0.6906453025623766, 0.6906264096416127, 0.6906076301996933, 0.6905889633949296, 0.6905704083932914, 0.6905519643683303, 0.6905336305010955, 0.6905154059800578, 0.6904972900010301, 0.6904792817670922, 0.6904613804885136, 0.6904435853826789, 0.6904258956740111, 0.6904083105939028, 0.6903908293806398, 0.6903734512793284, 0.6903561755418294, 0.6903390014266826, 0.690321928199039, 0.6903049551305942, 0.6902880814995169, 0.6902713065903845, 0.6902546296941152, 0.6902380501079043, 0.6902215671351576, 0.690205180085427, 0.6901888882743473, 0.6901726910235751, 0.6901565876607255, 0.6901405775193109, 0.6901246599386786, 0.6901088342639548, 0.690093099845982, 0.6900774560412617, 0.6900619022118966, 0.6900464377255318, 0.6900310619553004, 0.6900157742797668, 0.6900005740828695, 0.6899854607538681, 0.6899704336872888, 0.6899554922828723, 0.6899406359455177, 0.6899258640852309, 0.6899111761170756, 0.6898965714611204, 0.6898820495423857, 0.6898676097907983, 0.6898532516411383, 0.6898389745329921, 0.6898247779107021, 0.6898106612233222, 0.6897966239245661, 0.6897826654727636, 0.6897687853308138, 0.6897549829661377, 0.6897412578506366, 0.6897276094606415, 0.689714037276876, 0.6897005407844065], [0.6931471805599894, 0.6907910502615752, 0.6907959324442084, 0.6907949254466126, 0.6907939391176708, 0.6907929586400663, 0.6907919840084661, 0.6907910151808615, 0.6907900521156883, 0.6907890947717304, 0.6907881431081149, 0.6907871970843122, 0.6907862566601285, 0.6907853217957072, 0.6907843924515212, 0.6907834685883741, 0.690782550167393, 0.690781637150029, 0.690780729498052, 0.6907798271735488, 0.6907789301389189, 0.6907780383568732, 0.6907771517904301, 0.6907762704029118, 0.6907753941579439, 0.6907745230194509, 0.6907736569516519, 0.690772795919062, 0.6907719398864861, 0.6907710888190169, 0.6907702426820332, 0.6907694014411959, 0.6907685650624477, 0.6907677335120077, 0.6907669067563684, 0.6907660847622996, 0.690765267496836, 0.6907644549272832, 0.6907636470212108, 0.6907628437464501, 0.6907620450710946, 0.6907612509634938, 0.6907604613922536, 0.6907596763262333, 0.6907588957345419, 0.6907581195865381, 0.6907573478518263, 0.6907565805002546, 0.6907558175019137, 0.690755058827133, 0.6907543044464801, 0.6907535543307577, 0.6907528084510006, 0.6907520667784758, 0.6907513292846782, 0.690750595941331, 0.6907498667203811, 0.6907491415939978, 0.6907484205345725, 0.690747703514713, 0.6907469905072469, 0.6907462814852142, 0.6907455764218684, 0.6907448752906749, 0.6907441780653069, 0.6907434847196462, 0.6907427952277779, 0.6907421095639925, 0.6907414277027818, 0.6907407496188367, 0.6907400752870468, 0.6907394046824981, 0.690738737780471, 0.6907380745564384, 0.690737414986065, 0.6907367590452049, 0.6907361067098994, 0.690735457956376, 0.6907348127610476, 0.690734171100508], [0.6931471805599865, 0.6909311056479666, 0.690919736599261, 0.6909029908329218, 0.690886385538805, 0.6908699057927759, 0.6908535505125529, 0.6908373185927223, 0.6908212089392708, 0.6908052204693682, 0.6907893521112493, 0.6907736028040801, 0.6907579714978394, 0.6907424571531995, 0.6907270587413998, 0.6907117752441339, 0.6906966056534273, 0.6906815489715256, 0.6906666042107775, 0.6906517703935221, 0.6906370465519767, 0.6906224317281262, 0.6906079249736146, 0.6905935253496358, 0.6905792319268279, 0.6905650437851678, 0.6905509600138647, 0.69053697971126, 0.6905231019847249, 0.6905093259505583, 0.6904956507338886, 0.6904820754685744, 0.6904685992971111, 0.6904552213705292, 0.6904419408483029, 0.6904287568982581, 0.6904156686964752, 0.6904026754272021, 0.690389776282761, 0.6903769704634597, 0.6903642571775039, 0.6903516356409107, 0.6903391050774194, 0.6903266647184093, 0.6903143138028146, 0.690302051577041, 0.6902898772948839, 0.6902777902174462, 0.6902657896130574, 0.6902538747571999, 0.6902420449324196, 0.690230299428261, 0.6902186375411808, 0.6902070585744775, 0.6901955618382155, 0.6901841466491486, 0.6901728123306516, 0.6901615582126447, 0.6901503836315221, 0.6901392879300837, 0.6901282704574635, 0.6901173305690628, 0.6901064676264774, 0.6900956809974382, 0.6900849700557363, 0.6900743341811632, 0.6900637727594432, 0.6900532851821704, 0.6900428708467434, 0.690032529156306, 0.6900222595196812, 0.6900120613513131, 0.6900019340712049, 0.6899918771048604, 0.6899818898832225, 0.6899719718426159, 0.6899621224246913, 0.6899523410763664, 0.6899426272497694, 0.6899329804021819], [0.6931471805599894, 0.6907816272054569, 0.6907831378871085, 0.6907787749719121, 0.6907744630513527, 0.6907701869466075, 0.6907659463324233, 0.6907617408505412, 0.6907575701468697, 0.6907534338713393, 0.6907493316778553, 0.6907452632242473, 0.6907412281722248, 0.6907372261873281, 0.690733256938885, 0.6907293200999605, 0.690725415347315, 0.6907215423613601, 0.6907177008261108, 0.6907138904291473, 0.6907101108615681, 0.6907063618179484, 0.6907026429963001, 0.6906989540980281, 0.6906952948278899, 0.6906916648939574, 0.6906880640075741, 0.6906844918833172, 0.6906809482389592, 0.6906774327954281, 0.6906739452767724, 0.6906704854101187, 0.6906670529256395, 0.6906636475565152, 0.6906602690388968, 0.6906569171118727, 0.6906535915174302, 0.6906502920004236, 0.6906470183085394, 0.6906437701922613, 0.6906405474048387, 0.690637349702251, 0.690634176843177, 0.6906310285889632, 0.6906279047035879, 0.690624804953637, 0.6906217291082659, 0.6906186769391727, 0.6906156482205668, 0.6906126427291376, 0.6906096602440299, 0.6906067005468085, 0.6906037634214329, 0.6906008486542288, 0.6905979560338603, 0.6905950853512983, 0.6905922363997984, 0.6905894089748723, 0.6905866028742582, 0.6905838178978962, 0.690581053847906, 0.690578310528554, 0.6905755877462331, 0.6905728853094366, 0.690570203028731, 0.6905675407167347, 0.6905648981880933, 0.6905622752594519, 0.6905596717494379, 0.6905570874786312, 0.6905545222695464, 0.6905519759466062, 0.6905494483361221, 0.6905469392662698, 0.6905444485670678, 0.6905419760703564, 0.6905395216097774, 0.6905370850207501, 0.6905346661404513, 0.6905322648077981], [0.6931471805599907, 0.6907145868387095, 0.6907191611506632, 0.6907176633885658, 0.6907161939236144, 0.6907147373772377, 0.6907132936615406, 0.6907118626517368, 0.6907104442244535, 0.6907090382576182, 0.6907076446304453, 0.6907062632234231, 0.6907048939182971, 0.6907035365980576, 0.6907021911469239, 0.6907008574503333, 0.6906995353949246, 0.6906982248685266, 0.6906969257601429, 0.6906956379599414, 0.6906943613592371, 0.6906930958504854, 0.6906918413272621, 0.690690597684257, 0.6906893648172585, 0.6906881426231396, 0.6906869309998522, 0.6906857298464073, 0.6906845390628673, 0.6906833585503356, 0.6906821882109421, 0.6906810279478311, 0.6906798776651542, 0.6906787372680558, 0.6906776066626624, 0.6906764857560724, 0.6906753744563456, 0.6906742726724914, 0.6906731803144599, 0.6906720972931295, 0.6906710235202971, 0.6906699589086702, 0.6906689033718547, 0.690667856824343, 0.6906668191815095, 0.6906657903595974, 0.6906647702757082, 0.6906637588477939, 0.6906627559946497, 0.6906617616358993, 0.6906607756919915, 0.6906597980841863, 0.6906588287345495, 0.6906578675659433, 0.690656914502015, 0.6906559694671912, 0.6906550323866687, 0.6906541031864051, 0.69065318179311, 0.6906522681342394, 0.6906513621379853, 0.6906504637332684, 0.6906495728497293, 0.6906486894177223, 0.6906478133683067, 0.6906469446332364, 0.6906460831449598, 0.690645228836604, 0.690644381641971, 0.6906435414955318, 0.6906427083324161, 0.6906418820884076, 0.6906410626999349, 0.6906402501040672, 0.6906394442385035, 0.6906386450415694, 0.6906378524522083, 0.6906370664099756, 0.690636286855032, 0.6906355137281367], [0.6931471805599833, 0.6910932959288191, 0.6910619103651592, 0.691025744166263, 0.6909898567929175, 0.6909542331878431, 0.6909188710052065, 0.6908837678922993, 0.6908489215210528, 0.6908143295876857, 0.6907799898124365, 0.6907458999392921, 0.6907120577357275, 0.6906784609924391, 0.690645107523092, 0.6906119951640601, 0.6905791217741715, 0.6905464852344633, 0.6905140834479293, 0.6904819143392772, 0.6904499758546864, 0.6904182659615661, 0.690386782648323, 0.6903555239241219, 0.6903244878186565, 0.6902936723819212, 0.6902630756839826, 0.6902326958147543, 0.6902025308837794, 0.6901725790200078, 0.6901428383715805, 0.6901133071056142, 0.6900839834079926, 0.6900548654831532, 0.6900259515538817, 0.6899972398611077, 0.6899687286636994, 0.689940416238269, 0.6899123008789668, 0.6898843808972902, 0.6898566546218919, 0.6898291203983825, 0.6898017765891464, 0.6897746215731515, 0.6897476537457662, 0.6897208715185745, 0.6896942733191977, 0.6896678575911122, 0.6896416227934747, 0.6896155674009486, 0.6895896899035295, 0.6895639888063723, 0.6895384626296269, 0.6895131099082685, 0.6894879291919324, 0.6894629190447514, 0.6894380780451944, 0.6894134047859067, 0.6893888978735533, 0.6893645559286614, 0.689340377585467, 0.6893163614917646, 0.6892925063087523, 0.6892688107108863, 0.6892452733857343, 0.6892218930338273, 0.6891986683685164, 0.6891755981158345, 0.6891526810143502, 0.6891299158150327, 0.6891073012811134, 0.6890848361879502, 0.6890625193228926, 0.689040349485152, 0.6890183254856673, 0.6889964461469769, 0.6889747103030902, 0.6889531167993633, 0.6889316644923699, 0.6889103522497809], [0.6931471805599911, 0.6906844735334576, 0.6906891606297223, 0.6906877002010319, 0.6906862682741038, 0.6906848492773793, 0.6906834431196682, 0.6906820496724866, 0.6906806688088308, 0.6906793004030684, 0.6906779443309193, 0.690676600469443, 0.690675268697021, 0.6906739488933449, 0.6906726409393987, 0.6906713447174448, 0.6906700601110093, 0.690668787004869, 0.6906675252850336, 0.690666274838737, 0.6906650355544196, 0.6906638073217153, 0.6906625900314368, 0.6906613835755675, 0.6906601878472389, 0.6906590027407281, 0.6906578281514362, 0.6906566639758809, 0.6906555101116819, 0.6906543664575481, 0.6906532329132649, 0.6906521093796847, 0.6906509957587128, 0.6906498919532944, 0.6906487978674055, 0.6906477134060389, 0.6906466384751945, 0.6906455729818682, 0.6906445168340375, 0.6906434699406545, 0.6906424322116329, 0.6906414035578368, 0.6906403838910716, 0.6906393731240712, 0.6906383711704892, 0.6906373779448914, 0.6906363933627354, 0.6906354173403756, 0.6906344497950389, 0.6906334906448253, 0.6906325398086911, 0.6906315972064448, 0.6906306627587332, 0.690629736387035, 0.6906288180136498, 0.6906279075616886, 0.6906270049550687, 0.6906261101184975, 0.6906252229774714, 0.6906243434582615, 0.690623471487908, 0.6906226069942101, 0.6906217499057178, 0.6906209001517245, 0.6906200576622583, 0.6906192223680726, 0.6906183942006404, 0.6906175730921426, 0.6906167589754655, 0.6906159517841888, 0.6906151514525783, 0.6906143579155815, 0.6906135711088153, 0.6906127909685618, 0.6906120174317618, 0.6906112504360038, 0.6906104899195202, 0.6906097358211787, 0.6906089880804752, 0.6906082466375287], [0.6931471805599879, 0.6908600315847885, 0.6908622560744895, 0.6908587805292806, 0.690855335416441, 0.6908519063321615, 0.6908484932351582, 0.690845096048624, 0.6908417146962169, 0.6908383491019742, 0.690834999190305, 0.6908316648859943, 0.690828346114196, 0.6908250428004326, 0.6908217548705954, 0.6908184822509402, 0.6908152248680861, 0.6908119826490131, 0.6908087555210626, 0.6908055434119329, 0.6908023462496781, 0.6907991639627076, 0.6907959964797815, 0.6907928437300132, 0.6907897056428628, 0.690786582148138, 0.6907834731759928, 0.6907803786569242, 0.6907772985217715, 0.6907742327017136, 0.6907711811282684, 0.6907681437332892, 0.690765120448967, 0.6907621112078239, 0.6907591159427138, 0.6907561345868222, 0.6907531670736601, 0.6907502133370678, 0.6907472733112096, 0.6907443469305737, 0.6907414341299686, 0.6907385348445237, 0.6907356490096881, 0.6907327765612258, 0.690729917435216, 0.6907270715680538, 0.6907242388964449, 0.6907214193574048, 0.6907186128882592, 0.690715819426641, 0.6907130389104875, 0.6907102712780435, 0.6907075164678523, 0.6907047744187624, 0.6907020450699192, 0.6906993283607681, 0.6906966242310497, 0.6906939326208004, 0.690691253470351, 0.6906885867203235, 0.6906859323116318, 0.6906832901854776, 0.6906806602833511, 0.6906780425470295, 0.6906754369185745, 0.690672843340331, 0.6906702617549267, 0.6906676921052686, 0.6906651343345449, 0.6906625883862195, 0.6906600542040342, 0.690657531732006, 0.6906550209144241, 0.6906525216958516, 0.6906500340211219, 0.6906475578353379, 0.6906450930838702, 0.6906426397123574, 0.690640197666703, 0.6906377668930743], [0.6931471805599914, 0.6906710641981297, 0.6906771383437317, 0.6906770155201323, 0.6906769089487089, 0.6906768030898915, 0.6906766979760314, 0.6906765936006174, 0.6906764899572997, 0.6906763870397934, 0.6906762848418773, 0.690676183357394, 0.690676082580247, 0.6906759825044031, 0.6906758831238886, 0.6906757844327917, 0.6906756864252577, 0.6906755890954935, 0.6906754924377634, 0.690675396446388, 0.6906753011157464, 0.6906752064402739, 0.6906751124144608, 0.6906750190328524, 0.6906749262900483, 0.6906748341807044, 0.6906747426995259, 0.6906746518412727, 0.6906745616007576, 0.6906744719728428, 0.6906743829524423, 0.6906742945345214, 0.6906742067140927, 0.6906741194862217, 0.6906740328460175, 0.6906739467886419, 0.6906738613093029, 0.690673776403254, 0.6906736920657963, 0.6906736082922771, 0.6906735250780893, 0.6906734424186705, 0.6906733603095022, 0.6906732787461107, 0.6906731977240659, 0.6906731172389797, 0.6906730372865073, 0.6906729578623466, 0.6906728789622348, 0.690672800581954, 0.6906727227173227, 0.6906726453642034, 0.690672568518496, 0.6906724921761405, 0.6906724163331162, 0.6906723409854413, 0.6906722661291701, 0.6906721917603968, 0.690672117875252, 0.690672044469903, 0.6906719715405538, 0.6906718990834447, 0.6906718270948506, 0.6906717555710828, 0.6906716845084874, 0.6906716139034446, 0.6906715437523695, 0.6906714740517086, 0.6906714047979466, 0.6906713359875958, 0.6906712676172047, 0.6906711996833531, 0.690671132182653, 0.6906710651117466, 0.6906709984673106, 0.6906709322460499, 0.6906708664447013, 0.6906708010600316, 0.6906707360888364, 0.6906706715279431], [0.6931471805599888, 0.6908159758603553, 0.6908170490428653, 0.6908123498477379, 0.6908077155163643, 0.6908031308514011, 0.6907985952941531, 0.690794108256821, 0.6907896691590779, 0.6907852774278793, 0.6907809324973763, 0.6907766338088165, 0.6907723808104589, 0.6907681729574827, 0.6907640097118983, 0.690759890542461, 0.6907558149245848, 0.690751782340256, 0.6907477922779521, 0.6907438442325556, 0.6907399377052753, 0.6907360722035631, 0.6907322472410364, 0.6907284623373966, 0.6907247170183558, 0.690721010815555, 0.6907173432664916, 0.6907137139144448, 0.6907101223084001, 0.6907065680029785, 0.6907030505583611, 0.6906995695402219, 0.6906961245196559, 0.6906927150731116, 0.6906893407823189, 0.6906860012342259, 0.6906826960209299, 0.6906794247396135, 0.6906761869924763, 0.6906729823866754, 0.6906698105342588, 0.6906666710521046, 0.6906635635618587, 0.6906604876898745, 0.6906574430671525, 0.6906544293292824, 0.6906514461163805, 0.6906484930730372, 0.6906455698482582, 0.6906426760954039, 0.6906398114721418, 0.6906369756403873, 0.690634168266245, 0.6906313890199649, 0.6906286375758834, 0.6906259136123716, 0.6906232168117846, 0.6906205468604133, 0.6906179034484297, 0.6906152862698403, 0.6906126950224372, 0.6906101294077491, 0.6906075891309936, 0.6906050739010318, 0.6906025834303194, 0.6906001174348642, 0.6905976756341774, 0.6905952577512312, 0.6905928635124141, 0.6905904926474888, 0.6905881448895459, 0.6905858199749663, 0.6905835176433746, 0.6905812376376018, 0.690578979703642, 0.690576743590613, 0.6905745290507166, 0.6905723358392006, 0.6905701637143181, 0.6905680124372889], [0.6931471805599908, 0.6907042383545067, 0.6907063338638737, 0.6907023589178463, 0.690698433346285, 0.6906945415366988, 0.6906906832182034, 0.690686858084574, 0.6906830658326562, 0.6906793061622424, 0.6906755787760376, 0.6906718833796327, 0.690668219681473, 0.6906645873928284, 0.6906609862277667, 0.6906574159031238, 0.6906538761384727, 0.6906503666560984, 0.6906468871809709, 0.6906434374407141, 0.690640017165581, 0.6906366260884266, 0.690633263944681, 0.6906299304723231, 0.690626625411854, 0.6906233485062718, 0.6906200995010462, 0.6906168781440928, 0.6906136841857485, 0.6906105173787466, 0.6906073774781927, 0.6906042642415401, 0.6906011774285657, 0.6905981168013478, 0.6905950821242401, 0.6905920731638517, 0.6905890896890218, 0.6905861314707975, 0.6905831982824122, 0.6905802898992638, 0.6905774060988898, 0.6905745466609501, 0.6905717113672019, 0.6905689000014794, 0.690566112349674, 0.6905633481997131, 0.690560607341537, 0.690557889567083, 0.6905551946702618, 0.6905525224469397, 0.6905498726949149, 0.6905472452139054, 0.6905446398055214, 0.6905420562732528, 0.6905394944224468, 0.6905369540602896, 0.69053443499579, 0.6905319370397575, 0.6905294600047875, 0.690527003705242, 0.6905245679572326, 0.6905221525786001, 0.6905197573889033, 0.6905173822093956, 0.6905150268630108, 0.690512691174346, 0.690510374969646, 0.690508078076784, 0.690505800325249, 0.690503541546128, 0.690501301572088, 0.6904990802373651, 0.6904968773777437, 0.6904946928305444, 0.6904925264346081, 0.6904903780302801, 0.6904882474593963, 0.690486134565266, 0.6904840391926624, 0.690481961187801], [0.6931471805599909, 0.6907001529811476, 0.6907027382023175, 0.6906992378235755, 0.6906957831689237, 0.6906923586296836, 0.6906889639671857, 0.6906855989070313, 0.6906822631775803, 0.690678956509829, 0.6906756786373788, 0.690672429296414, 0.6906692082256728, 0.6906660151664229, 0.6906628498624323, 0.6906597120599488, 0.690656601507669, 0.6906535179567197, 0.690650461160626, 0.6906474308752928, 0.6906444268589766, 0.6906414488722641, 0.690638496678047, 0.6906355700414968, 0.6906326687300474, 0.6906297925133665, 0.6906269411633337, 0.6906241144540209, 0.6906213121616667, 0.690618534064657, 0.6906157799435013, 0.6906130495808123, 0.6906103427612842, 0.690607659271671, 0.6906049989007681, 0.6906023614393877, 0.6905997466803411, 0.6905971544184194, 0.6905945844503697, 0.6905920365748798, 0.6905895105925541, 0.690587006305899, 0.6905845235193003, 0.6905820620390044, 0.6905796216731023, 0.6905772022315082, 0.690574803525942, 0.6905724253699124, 0.6905700675786954, 0.6905677299693226, 0.6905654123605568, 0.6905631145728792, 0.6905608364284707, 0.6905585777511953, 0.6905563383665815, 0.6905541181018084, 0.6905519167856883, 0.6905497342486466, 0.6905475703227133, 0.6905454248414997, 0.690543297640187, 0.6905411885555085, 0.6905390974257345, 0.6905370240906585, 0.6905349683915792, 0.6905329301712888, 0.6905309092740557, 0.6905289055456101, 0.6905269188331304, 0.6905249489852296, 0.6905229958519371, 0.6905210592846912, 0.6905191391363167, 0.6905172352610208, 0.6905153475143698, 0.6905134757532837, 0.6905116198360178, 0.690509779622151, 0.6905079549725737, 0.6905061457494729], [0.6931471805599906, 0.6907166079417015, 0.6907198196133922, 0.6907169787983835, 0.6907141772788246, 0.6907113996070324, 0.6907086456054404, 0.6907059150603774, 0.6907032077603105, 0.6907005234957266, 0.6906978620591155, 0.6906952232449474, 0.6906926068496545, 0.6906900126716081, 0.6906874405111038, 0.6906848901703375, 0.6906823614533881, 0.6906798541661994, 0.6906773681165593, 0.6906749031140856, 0.6906724589701987, 0.6906700354981128, 0.690667632512814, 0.6906652498310406, 0.6906628872712697, 0.6906605446536959, 0.6906582218002155, 0.690655918534412, 0.6906536346815325, 0.690651370068479, 0.6906491245237865, 0.6906468978776088, 0.6906446899617005, 0.6906425006094029, 0.6906403296556292, 0.6906381769368446, 0.6906360422910537, 0.6906339255577857, 0.6906318265780774, 0.6906297451944596, 0.6906276812509415, 0.6906256345929952, 0.6906236050675432, 0.6906215925229418, 0.6906195968089685, 0.6906176177768072, 0.6906156552790345, 0.6906137091696043, 0.6906117793038375, 0.6906098655384046, 0.6906079677313164, 0.6906060857419062, 0.6906042194308196, 0.6906023686600022, 0.6906005332926853, 0.6905987131933713, 0.6905969082278266, 0.6905951182630622, 0.6905933431673285, 0.6905915828100971, 0.6905898370620526, 0.6905881057950787, 0.690586388882248, 0.6905846861978078, 0.690582997617173, 0.6905813230169077, 0.6905796622747217, 0.6905780152694538, 0.6905763818810624, 0.6905747619906152, 0.6905731554802789, 0.6905715622333042, 0.6905699821340212, 0.6905684150678244, 0.6905668609211656, 0.6905653195815401, 0.6905637909374784, 0.6905622748785374, 0.6905607712952879, 0.6905592800793056], [0.6931471805599915, 0.6906705670601934, 0.6906763335486801, 0.6906759051079285, 0.6906754954040503, 0.6906750888733196, 0.6906746855253428, 0.6906742853310948, 0.6906738882619454, 0.6906734942895574, 0.6906731033858844, 0.6906727155231688, 0.6906723306739356, 0.690671948810992, 0.6906715699074216, 0.6906711939365856, 0.6906708208721137, 0.6906704506879062, 0.6906700833581292, 0.690669718857211, 0.6906693571598373, 0.6906689982409557, 0.6906686420757643, 0.6906682886397129, 0.6906679379085005, 0.6906675898580714, 0.690667244464612, 0.6906669017045508, 0.6906665615545522, 0.6906662239915156, 0.6906658889925732, 0.6906655565350889, 0.690665226596649, 0.6906648991550695, 0.6906645741883847, 0.6906642516748518, 0.690663931592944, 0.6906636139213495, 0.6906632986389682, 0.6906629857249129, 0.6906626751584994, 0.6906623669192553, 0.6906620609869074, 0.6906617573413854, 0.6906614559628174, 0.690661156831528, 0.6906608599280368, 0.6906605652330562, 0.6906602727274888, 0.6906599823924245, 0.6906596942091419, 0.6906594081591015, 0.6906591242239472, 0.690658842385502, 0.690658562625769, 0.6906582849269264, 0.690658009271327, 0.6906577356414965, 0.690657464020131, 0.6906571943900949, 0.690656926734421, 0.6906566610363066, 0.6906563972791121, 0.690656135446359, 0.6906558755217305, 0.690655617489067, 0.6906553613323644, 0.6906551070357748, 0.6906548545836037, 0.6906546039603065, 0.6906543551504897, 0.6906541081389085, 0.6906538629104612, 0.6906536194501974, 0.6906533777433045, 0.6906531377751153, 0.6906528995311022, 0.6906526629968752, 0.6906524281581846, 0.6906521950009136], [0.6931471805599914, 0.6906700656455508, 0.6906759530279404, 0.6906756430227081, 0.690675350864508, 0.6906750609941704, 0.6906747734296714, 0.690674488150253, 0.6906742051354587, 0.6906739243650356, 0.6906736458189293, 0.6906733694772852, 0.6906730953204446, 0.6906728233289433, 0.6906725534835082, 0.6906722857650578, 0.6906720201546964, 0.6906717566337148, 0.69067149518359, 0.6906712357859779, 0.6906709784227153, 0.690670723075819, 0.6906704697274794, 0.6906702183600628, 0.6906699689561078, 0.6906697214983233, 0.690669475969587, 0.6906692323529435, 0.6906689906316045, 0.6906687507889419, 0.6906685128084915, 0.6906682766739495, 0.6906680423691697, 0.6906678098781619, 0.6906675791850929, 0.6906673502742804, 0.690667123130197, 0.6906668977374621, 0.6906666740808458, 0.6906664521452652, 0.6906662319157818, 0.6906660133776021, 0.690665796516075, 0.6906655813166895, 0.6906653677650745, 0.6906651558469973, 0.6906649455483609, 0.6906647368552047, 0.690664529753701, 0.6906643242301541, 0.6906641202710001, 0.6906639178628045, 0.6906637169922595, 0.690663517646187, 0.6906633198115321, 0.6906631234753652, 0.6906629286248799, 0.6906627352473902, 0.6906625433303312, 0.6906623528612591, 0.6906621638278446, 0.6906619762178772, 0.6906617900192618, 0.6906616052200171, 0.6906614218082757, 0.6906612397722809, 0.6906610591003882, 0.690660879781062, 0.6906607018028745, 0.6906605251545084, 0.6906603498247477, 0.6906601758024862, 0.6906600030767196, 0.6906598316365478, 0.6906596614711713, 0.6906594925698927, 0.690659324922114, 0.6906591585173365, 0.6906589933451589, 0.6906588293952773], [0.6931471805599914, 0.6906761174255129, 0.6906807802352422, 0.6906792741792346, 0.690677796162107, 0.6906763305807213, 0.6906748773641852, 0.6906734364037905, 0.6906720075919244, 0.6906705908219687, 0.6906691859882833, 0.6906677929862035, 0.6906664117120246, 0.6906650420629973, 0.6906636839373154, 0.6906623372341071, 0.6906610018534278, 0.6906596776962488, 0.6906583646644495, 0.6906570626608094, 0.6906557715889976, 0.6906544913535648, 0.6906532218599359, 0.6906519630144012, 0.6906507147241059, 0.6906494768970453, 0.690648249442054, 0.6906470322687984, 0.6906458252877702, 0.6906446284102759, 0.6906434415484307, 0.6906422646151498, 0.6906410975241426, 0.6906399401899035, 0.6906387925277023, 0.6906376544535824, 0.6906365258843472, 0.6906354067375567, 0.69063429693152, 0.6906331963852854, 0.6906321050186375, 0.6906310227520863, 0.6906299495068616, 0.6906288852049076, 0.6906278297688755, 0.6906267831221138, 0.6906257451886653, 0.6906247158932591, 0.6906236951613046, 0.6906226829188835, 0.6906216790927456, 0.6906206836102997, 0.6906196963996121, 0.6906187173893927, 0.6906177465089974, 0.6906167836884163, 0.6906158288582687, 0.690614881949799, 0.6906139428948699, 0.6906130116259539, 0.6906120880761327, 0.6906111721790867, 0.690610263869092, 0.690609363081015, 0.6906084697503027, 0.6906075838129841, 0.6906067052056586, 0.6906058338654938, 0.6906049697302193, 0.6906041127381214, 0.6906032628280379, 0.6906024199393541, 0.6906015840119939, 0.6906007549864197, 0.6905999328036239, 0.690599117405125, 0.6905983087329635, 0.6905975067296954, 0.6905967113383882, 0.6905959225026168], [0.6931471805599915, 0.6906651165513429, 0.6906709810702377, 0.6906706359512618, 0.6906703087627217, 0.6906699839173848, 0.6906696614360041, 0.6906693413004564, 0.6906690234928586, 0.6906687079954686, 0.6906683947906836, 0.6906680838610401, 0.6906677751892135, 0.6906674687580123, 0.6906671645503847, 0.6906668625494108, 0.6906665627383053, 0.6906662651004134, 0.6906659696192128, 0.690665676278311, 0.6906653850614453, 0.6906650959524794, 0.6906648089354044, 0.6906645239943381, 0.6906642411135229, 0.6906639602773251, 0.6906636814702333, 0.6906634046768589, 0.6906631298819329, 0.690662857070309, 0.6906625862269554, 0.6906623173369626, 0.6906620503855357, 0.6906617853579969, 0.6906615222397828, 0.6906612610164454, 0.6906610016736485, 0.6906607441971695, 0.6906604885728966, 0.6906602347868288, 0.6906599828250752, 0.6906597326738535, 0.6906594843194888, 0.6906592377484136, 0.6906589929471663, 0.6906587499023918, 0.690658508600838, 0.6906582690293579, 0.6906580311749057, 0.690657795024539, 0.6906575605654163, 0.6906573277847949, 0.690657096670034, 0.6906568672085905, 0.6906566393880189, 0.6906564131959708, 0.6906561886201954, 0.6906559656485354, 0.6906557442689316, 0.6906555244694146, 0.6906553062381128, 0.6906550895632435, 0.6906548744331181, 0.6906546608361379, 0.6906544487607953, 0.6906542381956718, 0.6906540291294383, 0.6906538215508536, 0.690653615448764, 0.6906534108121026, 0.6906532076298886, 0.6906530058912269, 0.6906528055853073, 0.690652606701402, 0.690652409228869, 0.6906522131571475, 0.6906520184757602, 0.6906518251743086, 0.6906516332424766, 0.6906514426700282], [0.6931471805599917, 0.6906563502632526, 0.6906625009916791, 0.6906624175535883, 0.6906623501960262, 0.6906622832894135, 0.6906622168688484, 0.6906621509303035, 0.6906620854698835, 0.6906620204837295, 0.6906619559680139, 0.6906618919189469, 0.6906618283327699, 0.6906617652057578, 0.6906617025342191, 0.6906616403144978, 0.6906615785429646, 0.6906615172160261, 0.6906614563301203, 0.6906613958817164, 0.6906613358673147, 0.6906612762834461, 0.6906612171266734, 0.6906611583935879, 0.6906611000808122, 0.6906610421849984, 0.6906609847028271, 0.6906609276310087, 0.6906608709662837, 0.6906608147054191, 0.6906607588452118, 0.6906607033824849, 0.6906606483140915, 0.6906605936369109, 0.69066053934785, 0.6906604854438422, 0.6906604319218481, 0.6906603787788548, 0.6906603260118755, 0.6906602736179499, 0.6906602215941421, 0.690660169937543, 0.6906601186452676, 0.690660067714457, 0.6906600171422763, 0.690659966925915, 0.6906599170625886, 0.6906598675495332, 0.6906598183840128, 0.6906597695633119, 0.6906597210847399, 0.6906596729456285, 0.6906596251433336, 0.6906595776752332, 0.6906595305387264, 0.6906594837312373, 0.6906594372502091, 0.6906593910931097, 0.6906593452574269, 0.6906592997406708, 0.6906592545403721, 0.6906592096540829, 0.6906591650793764, 0.6906591208138461, 0.6906590768551064, 0.690659033200792, 0.6906589898485568, 0.6906589467960758, 0.6906589040410429, 0.6906588615811721, 0.6906588194141967, 0.6906587775378685, 0.6906587359499591, 0.6906586946482586, 0.6906586536305763, 0.690658612894739, 0.6906585724385925, 0.6906585322600006, 0.6906584923568457, 0.6906584527270266], [0.6931471805599918, 0.6906539099903762, 0.6906601207277273, 0.6906600906707057, 0.6906600763288452, 0.6906600620599107, 0.6906600479020063, 0.6906600338540457, 0.6906600199150508, 0.6906600060840522, 0.6906599923600918, 0.6906599787422185, 0.6906599652294938, 0.6906599518209848, 0.6906599385157718, 0.6906599253129406, 0.6906599122115893, 0.6906598992108217, 0.6906598863097538, 0.6906598735075076, 0.6906598608032151, 0.6906598481960163, 0.6906598356850607, 0.6906598232695041, 0.6906598109485134, 0.6906597987212609, 0.6906597865869288, 0.6906597745447071, 0.6906597625937934, 0.6906597507333933, 0.6906597389627182, 0.6906597272809919, 0.6906597156874416, 0.6906597041813027, 0.6906596927618207, 0.690659681428244, 0.6906596701798333, 0.690659659015851, 0.6906596479355722, 0.6906596369382747, 0.6906596260232463, 0.6906596151897803, 0.6906596044371757, 0.6906595937647405, 0.6906595831717883, 0.6906595726576388, 0.69065956222162, 0.6906595518630642, 0.6906595415813115, 0.6906595313757077, 0.6906595212456054, 0.6906595111903625, 0.6906595012093448, 0.6906594913019225, 0.6906594814674725, 0.6906594717053768, 0.6906594620150245, 0.6906594523958106, 0.690659442847134, 0.6906594333684022, 0.690659423959025, 0.6906594146184213, 0.690659405346012, 0.6906593961412263, 0.6906593870034973, 0.6906593779322642, 0.6906593689269712, 0.6906593599870674, 0.6906593511120073, 0.6906593423012514, 0.6906593335542632, 0.6906593248705136, 0.6906593162494776, 0.6906593076906339, 0.6906592991934684, 0.6906592907574693, 0.6906592823821317, 0.6906592740669544, 0.6906592658114405, 0.6906592576150987], [0.6931471805599916, 0.6906604360482986, 0.6906664872796205, 0.6906663153260595, 0.6906661599529881, 0.6906660055529777, 0.6906658521570583, 0.6906656997572371, 0.6906655483456912, 0.6906653979146696, 0.6906652484564912, 0.6906650999635457, 0.6906649524282914, 0.6906648058432578, 0.6906646602010409, 0.6906645154943029, 0.6906643717157739, 0.6906642288582507, 0.6906640869145941, 0.6906639458777314, 0.6906638057406511, 0.6906636664964061, 0.690663528138115, 0.6906633906589539, 0.6906632540521631, 0.6906631183110425, 0.6906629834289533, 0.6906628493993167, 0.6906627162156096, 0.6906625838713718, 0.6906624523601981, 0.6906623216757403, 0.6906621918117096, 0.6906620627618694, 0.6906619345200425, 0.6906618070801032, 0.6906616804359833, 0.6906615545816667, 0.6906614295111905, 0.6906613052186451, 0.6906611816981738, 0.6906610589439705, 0.6906609369502813, 0.6906608157114016, 0.6906606952216785, 0.6906605754755095, 0.6906604564673384, 0.69066033819166, 0.6906602206430165, 0.690660103816, 0.6906599877052452, 0.6906598723054392, 0.6906597576113116, 0.6906596436176389, 0.6906595303192437, 0.6906594177109934, 0.6906593057877998, 0.6906591945446179, 0.6906590839764485, 0.6906589740783342, 0.6906588648453604, 0.6906587562726554, 0.6906586483553895, 0.6906585410887751, 0.6906584344680639, 0.6906583284885506, 0.6906582231455688, 0.690658118434493, 0.6906580143507378, 0.6906579108897548, 0.6906578080470366, 0.6906577058181136, 0.6906576041985545, 0.690657503183965, 0.6906574027699885, 0.690657302952306, 0.690657203726635, 0.6906571050887279, 0.6906570070343748, 0.6906569095594015], [0.6931471805599914, 0.6906689309025054, 0.6906746813040834, 0.6906742322761709, 0.6906738015497306, 0.6906733735592429, 0.6906729483225658, 0.6906725258187891, 0.6906721060272789, 0.6906716889275835, 0.6906712744994317, 0.6906708627227278, 0.690670453577554, 0.6906700470441642, 0.6906696431029865, 0.6906692417346185, 0.6906688429198286, 0.6906684466395496, 0.6906680528748825, 0.6906676616070906, 0.6906672728176007, 0.6906668864879991, 0.690666502600032, 0.6906661211356043, 0.6906657420767749, 0.6906653654057581, 0.690664991104922, 0.6906646191567857, 0.6906642495440171, 0.6906638822494348, 0.6906635172560042, 0.6906631545468342, 0.6906627941051796, 0.6906624359144395, 0.6906620799581524, 0.6906617262199966, 0.6906613746837912, 0.6906610253334915, 0.690660678153188, 0.6906603331271084, 0.6906599902396112, 0.6906596494751895, 0.6906593108184649, 0.6906589742541903, 0.6906586397672474, 0.6906583073426429, 0.6906579769655119, 0.690657648621113, 0.6906573222948278, 0.690656997972162, 0.6906566756387408, 0.6906563552803098, 0.690656036882734, 0.6906557204319965, 0.6906554059141965, 0.6906550933155478, 0.6906547826223806, 0.6906544738211366, 0.6906541668983716, 0.6906538618407514, 0.6906535586350505, 0.6906532572681569, 0.6906529577270617, 0.6906526599988673, 0.6906523640707785, 0.6906520699301087, 0.6906517775642723, 0.6906514869607884, 0.6906511981072779, 0.6906509109914638, 0.6906506256011672, 0.6906503419243111, 0.6906500599489143, 0.6906497796630952, 0.6906495010550674, 0.690649224113141, 0.6906489488257204, 0.6906486751813032, 0.6906484031684819, 0.6906481327759393], [0.6931471805599916, 0.6906613130642675, 0.6906673669648966, 0.690667199723773, 0.6906670489203179, 0.6906668989548269, 0.6906667498605343, 0.6906666016316366, 0.6906664542624671, 0.6906663077473986, 0.6906661620808453, 0.69066601725726, 0.6906658732711365, 0.690665730117005, 0.6906655877894374, 0.6906654462830434, 0.6906653055924703, 0.6906651657124036, 0.690665026637567, 0.6906648883627211, 0.6906647508826642, 0.6906646141922307, 0.6906644782862922, 0.6906643431597568, 0.6906642088075688, 0.6906640752247075, 0.6906639424061872, 0.6906638103470597, 0.6906636790424107, 0.6906635484873587, 0.6906634186770593, 0.6906632896067013, 0.6906631612715076, 0.6906630336667352, 0.6906629067876732, 0.6906627806296463, 0.6906626551880087, 0.6906625304581505, 0.6906624064354928, 0.6906622831154895, 0.6906621604936256, 0.6906620385654201, 0.6906619173264192, 0.6906617967722051, 0.690661676898388, 0.6906615577006104, 0.6906614391745456, 0.6906613213158953, 0.6906612041203926, 0.6906610875838015, 0.6906609717019142, 0.6906608564705529, 0.6906607418855687, 0.6906606279428429, 0.6906605146382842, 0.6906604019678305, 0.690660289927448, 0.6906601785131321, 0.6906600677209039, 0.6906599575468141, 0.6906598479869414, 0.6906597390373893, 0.6906596306942911, 0.6906595229538064, 0.6906594158121206, 0.6906593092654464, 0.6906592033100225, 0.6906590979421137, 0.690658993158012, 0.6906588889540336, 0.6906587853265216, 0.6906586822718427, 0.6906585797863908, 0.6906584778665835, 0.6906583765088639, 0.6906582757097001, 0.690658175465583, 0.6906580757730297, 0.6906579766285812, 0.6906578780288005]]\n"
          ]
        }
      ]
    },
    {
      "cell_type": "code",
      "source": [
        "pyplot.plot(all_J_history[22])\n",
        "#pyplot.plot(all_J_history)\n",
        "pyplot.xlabel('Iteración')\n",
        "pyplot.ylabel('Costo (J)')\n",
        "pyplot.title('Evolución del costo durante el entrenamiento')\n",
        "pyplot.show()"
      ],
      "metadata": {
        "id": "hL9pEATGoY4Y",
        "outputId": "6c25b9b3-3136-4593-b4bd-8f47501f2a43",
        "colab": {
          "base_uri": "https://localhost:8080/",
          "height": 472
        }
      },
      "execution_count": 70,
      "outputs": [
        {
          "output_type": "display_data",
          "data": {
            "text/plain": [
              "<Figure size 640x480 with 1 Axes>"
            ],
            "image/png": "[encoded data removed]"
          },
          "metadata": {}
        }
      ]
    },
    {
      "cell_type": "code",
      "source": [
        "#print(all_theta)"
      ],
      "metadata": {
        "id": "V1EfKaiEgtcw"
      },
      "execution_count": 71,
      "outputs": []
    },
    {
      "cell_type": "code",
      "execution_count": 72,
      "metadata": {
        "id": "PjFoFe1bSxgO"
      },
      "outputs": [],
      "source": [
        "def predictOneVsAll(all_theta, X):\n",
        "    \"\"\"\n",
        "    Devuelve un vector de predicciones para cada ejemplo en la matriz X.\n",
        "    Tenga en cuenta que X contiene los ejemplos en filas.\n",
        "    all_theta es una matriz donde la i-ésima fila es un vector theta de regresión logística entrenada para la i-ésima clase.\n",
        "    Debe establecer p en un vector de valores de 0..K-1 (por ejemplo, p = [0, 2, 0, 1]\n",
        "    predice clases 0, 2, 0, 1 para 4 ejemplos).\n",
        "\n",
        "    Parametros\n",
        "    ----------\n",
        "    all_theta : array_like\n",
        "        The trained parameters for logistic regression for each class.\n",
        "        This is a matrix of shape (K x n+1) where K is number of classes\n",
        "        and n is number of features without the bias.\n",
        "\n",
        "    X : array_like\n",
        "        Data points to predict their labels. This is a matrix of shape\n",
        "        (m x n) where m is number of data points to predict, and n is number\n",
        "        of features without the bias term. Note we add the bias term for X in\n",
        "        this function.\n",
        "\n",
        "    Devuelve\n",
        "    -------\n",
        "    p : array_like\n",
        "        The predictions for each data point in X. This is a vector of shape (m, ).\n",
        "    \"\"\"\n",
        "\n",
        "    m = X.shape[0];\n",
        "    num_labels = all_theta.shape[0]\n",
        "\n",
        "    p = np.zeros(m)\n",
        "\n",
        "    # Add ones to the X data matrix\n",
        "    X = np.concatenate([np.ones((m, 1)), X], axis=1)\n",
        "    p = np.argmax(sigmoid(X.dot(all_theta.T)), axis = 1)\n",
        "\n",
        "    return p\n",
        "\n"
      ]
    },
    {
      "cell_type": "code",
      "source": [
        "pred = predictOneVsAll(all_theta, X)\n",
        "print('Precision del conjuto de entrenamiento: {:.2f}%'.format(np.mean(pred == y) * 100))\n",
        "\n",
        "#num_epochs = 50\n",
        "#precisions = []\n",
        "\n",
        "# Selecciona las primeras 150 filas de X\n",
        "XPrueba = X.iloc[0:200, :].copy()\n",
        "#XPrueba = np.concatenate([np.ones((150, 1)), XPrueba], axis=1)\n",
        "#print(XPrueba[0])\n",
        "#for epoch in range(num_epochs):\n",
        "p = predictOneVsAll(all_theta, XPrueba)\n",
        "#precision = np.mean(pred == y_test) * 100\n",
        "#precisions.append(precision)\n",
        "#print(XPrueba[0])\n",
        "#p = np.argmax(sigmoid(XPrueba.dot(all_theta.T)), axis=1)\n",
        "\n",
        "print(\"Predicciones\")\n",
        "print(p)\n",
        "\n",
        "# Muestra los datos reales de prueba\n",
        "print(\"Datos reales de prueba\")\n",
        "print(y[0:200].tolist())"
      ],
      "metadata": {
        "id": "P3dx_ACkkobV",
        "outputId": "8b3bf30c-9f27-41de-f84c-469dd6bef92e",
        "colab": {
          "base_uri": "https://localhost:8080/"
        }
      },
      "execution_count": 73,
      "outputs": [
        {
          "output_type": "stream",
          "name": "stdout",
          "text": [
            "Precision del conjuto de entrenamiento: 29.47%\n",
            "Predicciones\n",
            "[ 1  0  1  2  0  0  1  0  0  0  2  1  2  2  1  0  0  6  0  0  0  6  2  2\n",
            "  1  2  2  2  1  2  0  2  2  6  0  6  1  2  4  0  1  0  2  6  6  1  1  1\n",
            "  6  4  2  0  0  2  0  4  4  0  0  2  6  0  6  1  2  0  6  9  6  1  4  6\n",
            "  0  2  0  0  0  0  0  2  6  2  0  0  0  2  0  4  6  6  0 12  4  2  1  1\n",
            "  2  0  6  4  1  0  1  0  6  0  4  6  4  0  2  2 12  4  4  6  2  6  4  4\n",
            "  0  1  0  6  0  4  0  6  9  9  0  0  2  4  0  6  0  6  2  6  6  0  9  2\n",
            "  2  4  6  6  6  6  0  0  9  4  6  0  4  4  6  6  2  2  0  6  4  4  6  6\n",
            "  2  0  4  4  2  6  6  4  0  0  0  6  4  4  6 12  6  4  0  6  2  0  0  2\n",
            "  0  0  2 12  0  0  6  6]\n",
            "Datos reales de prueba\n",
            "[0, 1, 2, 3, 4, 3, 1, 1, 0, 5, 6, 6, 7, 2, 2, 4, 8, 2, 0, 0, 0, 2, 1, 2, 6, 2, 4, 9, 4, 6, 1, 10, 2, 6, 2, 6, 0, 2, 9, 2, 2, 4, 6, 6, 6, 1, 11, 0, 2, 10, 6, 2, 6, 0, 12, 6, 13, 0, 14, 8, 10, 0, 6, 1, 6, 1, 0, 7, 6, 15, 8, 6, 0, 2, 2, 6, 5, 0, 14, 6, 6, 0, 2, 0, 16, 14, 12, 16, 0, 6, 5, 12, 2, 2, 4, 4, 1, 12, 6, 0, 17, 4, 1, 0, 0, 7, 6, 2, 13, 4, 1, 9, 4, 12, 0, 0, 0, 6, 6, 16, 1, 6, 4, 0, 15, 6, 1, 6, 2, 6, 5, 1, 6, 6, 4, 6, 0, 14, 9, 2, 2, 2, 7, 2, 6, 4, 2, 12, 0, 2, 1, 4, 6, 8, 14, 1, 2, 1, 6, 2, 6, 0, 1, 6, 18, 19, 18, 2, 6, 5, 2, 2, 16, 4, 6, 4, 0, 0, 5, 6, 5, 6, 6, 12, 6, 12, 1, 2, 0, 0, 12, 2, 12, 2, 0, 5, 4, 12, 6, 6]\n"
          ]
        }
      ]
    },
    {
      "cell_type": "code",
      "source": [
        "X_Nor_test, mu, sigma = featureNormalize(X_test)\n",
        "#print(X_Nor_test)\n",
        "\n",
        "pred = predictOneVsAll(all_theta, X_Nor_test)\n",
        "print('Precision del conjuto de entrenamiento: {:.2f}%'.format(np.mean(pred == y_test) * 100))\n",
        "\n",
        "#num_epochs = 50\n",
        "#precisions = []\n",
        "\n",
        "# Selecciona las primeras 150 filas de X\n",
        "XPrueba = X_Nor_test.iloc[0:150, :].copy()\n",
        "#XPrueba = np.concatenate([np.ones((150, 1)), XPrueba], axis=1)\n",
        "#print(XPrueba[0])\n",
        "#for epoch in range(num_epochs):\n",
        "p = predictOneVsAll(all_theta, XPrueba)\n",
        "#precision = np.mean(pred == y_test) * 100\n",
        "#precisions.append(precision)\n",
        "#print(XPrueba[0])\n",
        "#p = np.argmax(sigmoid(XPrueba.dot(all_theta.T)), axis=1)\n",
        "\n",
        "print(\"Predicciones\")\n",
        "print(p)\n",
        "\n",
        "# Muestra los datos reales de prueba\n",
        "print(\"Datos reales de prueba\")\n",
        "print(y_test[0:150].tolist())"
      ],
      "metadata": {
        "colab": {
          "base_uri": "https://localhost:8080/"
        },
        "id": "xlpBdKW0XQcx",
        "outputId": "6f40dd53-01cb-4e9d-bd82-f7474fa9a796"
      },
      "execution_count": 74,
      "outputs": [
        {
          "output_type": "stream",
          "name": "stdout",
          "text": [
            "Precision del conjuto de entrenamiento: 29.21%\n",
            "Predicciones\n",
            "[ 6  9  0  6  6  4  0  4  0  9  9  2  9  7  9  4  6  7  4  6  0  6  6  6\n",
            "  6  0  6  2  0  6  0  6  0  2  7  9  9 12  2  7  7  6  7  6  0  0  2  0\n",
            "  6 12  2  6 17  0 12  6  6 18  6  9  6  6 12  2 12  4 12  0  6  4  6  9\n",
            "  6  6  1 12  0  0 12  4  6  9  7  9  7  6  6  6  7  0  0  6  7  0  1  0\n",
            "  6  2  0  9 12  0  2 18  7 18  4  7  9  6  2  1  9  9  2  4  1  4  6  2\n",
            "  0  2  7  6  0  2  2  1  6  6  0  0  9  4  4  0 12  4  0  7  2  2  6  6\n",
            "  9  0  2  6  0  0]\n",
            "Datos reales de prueba\n",
            "[0, 0, 0, 0, 7, 6, 6, 2, 5, 0, 19, 2, 6, 7, 8, 1, 2, 6, 9, 0, 2, 6, 0, 2, 1, 0, 6, 1, 5, 26, 1, 2, 0, 0, 12, 18, 6, 5, 2, 21, 12, 14, 6, 7, 14, 0, 14, 2, 2, 12, 6, 0, 9, 1, 0, 0, 14, 13, 6, 6, 6, 10, 5, 1, 7, 16, 12, 12, 1, 2, 6, 6, 2, 1, 6, 14, 0, 4, 6, 13, 7, 10, 12, 6, 23, 6, 6, 6, 2, 0, 0, 2, 0, 1, 5, 12, 6, 2, 0, 10, 4, 5, 2, 0, 5, 9, 8, 7, 13, 2, 2, 4, 6, 2, 2, 0, 4, 2, 7, 2, 0, 4, 21, 14, 4, 2, 2, 0, 16, 12, 2, 2, 0, 4, 3, 14, 12, 1, 2, 18, 6, 6, 2, 6, 10, 12, 2, 6, 0, 2]\n"
          ]
        }
      ]
    },
    {
      "cell_type": "code",
      "source": [
        "#pyplot.plot(P_history[0:35])\n",
        "#pyplot.xlabel('Iteración')\n",
        "#pyplot.ylabel('Costo (J)')\n",
        "#pyplot.title('Precision para una etiqueta')\n",
        "#pyplot.show()"
      ],
      "metadata": {
        "id": "s_DxG9I-uL0o"
      },
      "execution_count": null,
      "outputs": []
    }
  ],
  "metadata": {
    "kernelspec": {
      "display_name": "Python 3",
      "language": "python",
      "name": "python3"
    },
    "language_info": {
      "codemirror_mode": {
        "name": "ipython",
        "version": 3
      },
      "file_extension": ".py",
      "mimetype": "text/x-python",
      "name": "python",
      "nbconvert_exporter": "python",
      "pygments_lexer": "ipython3",
      "version": "3.8.5"
    },
    "colab": {
      "provenance": [],
      "include_colab_link": true
    }
  },
  "nbformat": 4,
  "nbformat_minor": 0
}