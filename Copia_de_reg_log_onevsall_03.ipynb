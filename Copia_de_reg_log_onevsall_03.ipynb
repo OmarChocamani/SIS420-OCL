{
  "cells": [
    {
      "cell_type": "markdown",
      "metadata": {
        "id": "view-in-github",
        "colab_type": "text"
      },
      "source": [
        "<a href=\"https://colab.research.google.com/github/OmarChocamani/SIS420-OCL/blob/main/Copia_de_reg_log_onevsall_03.ipynb\" target=\"_parent\"><img src=\"https://colab.research.google.com/assets/colab-badge.svg\" alt=\"Open In Colab\"/></a>"
      ]
    },
    {
      "cell_type": "code",
      "source": [
        "from google.colab import drive\n",
        "drive.mount('/content/drive')"
      ],
      "metadata": {
        "colab": {
          "base_uri": "https://localhost:8080/"
        },
        "id": "clyp4NcQycWP",
        "outputId": "71327913-88a6-458a-8a14-9712cc27ccfe"
      },
      "execution_count": 1,
      "outputs": [
        {
          "output_type": "stream",
          "name": "stdout",
          "text": [
            "Drive already mounted at /content/drive; to attempt to forcibly remount, call drive.mount(\"/content/drive\", force_remount=True).\n"
          ]
        }
      ]
    },
    {
      "cell_type": "code",
      "execution_count": 2,
      "metadata": {
        "id": "20Q29kX8SxgJ"
      },
      "outputs": [],
      "source": [
        "# utilizado para la manipulación de directorios y rutas\n",
        "import os\n",
        "\n",
        "# Cálculo científico y vectorial para python\n",
        "import numpy as np\n",
        "import pandas as pd\n",
        "\n",
        "# Libreria para graficos\n",
        "from matplotlib import pyplot\n",
        "\n",
        "# Modulo de optimizacion en scipy\n",
        "#from scipy import optimize\n",
        "#from sklearn.preprocessing import LabelEncoder\n",
        "#from sklearn.model_selection import train_test_split\n",
        "\n",
        "# modulo para cargar archivos en formato MATLAB\n",
        "# from scipy.io import loadmat\n",
        "\n",
        "# le dice a matplotlib que incruste gráficos en el cuaderno\n",
        "%matplotlib inline"
      ]
    },
    {
      "cell_type": "code",
      "source": [
        "data= pd.read_csv('/content/drive/MyDrive/SIS420/MiDataSets/gcar_data.csv')\n",
        "#data.info()\n",
        "#print(data)"
      ],
      "metadata": {
        "id": "0yE2CNNulM0g"
      },
      "execution_count": 3,
      "outputs": []
    },
    {
      "cell_type": "code",
      "source": [
        "#Se agragan las 3 columnas necesarias\n",
        "# Crear una nueva columna que describe el estado basado en el kilometraje\n",
        "data['estado'] = data['mileage_in_km'].apply(lambda x: 'Excelente' if x < 50000 else 'Usado')\n",
        "# Crear una columna booleana indicando si el auto tiene transmisión automática\n",
        "data['es_automatico'] = data['transmission_type'].apply(lambda x: True if x == 'Automático' else False)\n",
        "# Crear una columna que combine la potencia y el tipo de combustible\n",
        "data['descripcion_auto'] = data.apply(lambda row: f\"{row['power_kw']} KW - {row['fuel_type']}\", axis=1)\n",
        "print(data)"
      ],
      "metadata": {
        "id": "NjZiST-qYaEc",
        "outputId": "e4ed2c94-361e-43b6-aa85-4005a78b3a7d",
        "colab": {
          "base_uri": "https://localhost:8080/"
        }
      },
      "execution_count": 4,
      "outputs": [
        {
          "output_type": "stream",
          "name": "stdout",
          "text": [
            "       Unnamed: 0       brand                 model  color registration_date  \\\n",
            "0           75721        ford             Ford Kuga  black           05/2023   \n",
            "1           80184     hyundai           Hyundai i10  black           09/2018   \n",
            "2           19864        audi        Audi Q4 e-tron   grey           05/2021   \n",
            "3           76699       honda            Honda CR-V    red           07/2018   \n",
            "4           92991         kia          Kia Sportage  black           02/2023   \n",
            "...           ...         ...                   ...    ...               ...   \n",
            "99995        6265        audi               Audi A1   blue           05/2012   \n",
            "99996       54886        fiat              Fiat 500  black           12/2019   \n",
            "99997       76820       honda            Honda CR-V  brown           01/2019   \n",
            "99998         860  alfa-romeo  Alfa Romeo Giulietta   grey           12/2020   \n",
            "99999       15795        audi               Audi A3  black           05/2018   \n",
            "\n",
            "       year price_in_euro power_kw power_ps transmission_type fuel_type  \\\n",
            "0      2023         38490      140      190         Automatic    Hybrid   \n",
            "1      2018         11555       49       67            Manual    Petrol   \n",
            "2      2021         48886      125      170         Automatic  Electric   \n",
            "3      2018         24490      114      155         Automatic    Petrol   \n",
            "4      2023         34990      110      150            Manual    Petrol   \n",
            "...     ...           ...      ...      ...               ...       ...   \n",
            "99995  2012         12599       90      122            Manual    Petrol   \n",
            "99996  2019          9999       51       69         Automatic    Petrol   \n",
            "99997  2019         24800      127      173            Manual    Petrol   \n",
            "99998  2020         22990      125      170         Automatic    Diesel   \n",
            "99999  2018         21900      110      150            Manual    Petrol   \n",
            "\n",
            "      fuel_consumption_l_100km fuel_consumption_g_km  mileage_in_km  \\\n",
            "0                 5,4 l/100 km              124 g/km          100.0   \n",
            "1                 4,6 l/100 km              106 g/km        27782.0   \n",
            "2                          NaN                0 g/km         4247.0   \n",
            "3                 7,5 l/100 km              175 g/km        57000.0   \n",
            "4                 5,9 l/100 km              150 g/km         7500.0   \n",
            "...                        ...                   ...            ...   \n",
            "99995             5,3 l/100 km              126 g/km       148000.0   \n",
            "99996             5,2 l/100 km              120 g/km        31698.0   \n",
            "99997             6,3 l/100 km              143 g/km        77900.0   \n",
            "99998             5,5 l/100 km              145 g/km        52251.0   \n",
            "99999             5,3 l/100 km              120 g/km        30400.0   \n",
            "\n",
            "                                      offer_description     estado  \\\n",
            "0        ST-Line Hybrid Adapt.LED+Head-Up-Display Klima  Excelente   \n",
            "1                   blue Trend,Viele Extras,Top-Zustand  Excelente   \n",
            "2          35 e-tron S line/Matrix/Pano/ACC/SONOS/LM 21  Excelente   \n",
            "3                 2.0 Lifestyle Plus Automatik Navi FAP      Usado   \n",
            "4                          1.6 T 48V 2WD Spirit LED, WR  Excelente   \n",
            "...                                                 ...        ...   \n",
            "99995        Ambition TFSI Navi/Leder/SHZ/PTS/KETTE NEU      Usado   \n",
            "99996                       1.2 Lounge +Automatik + PDC  Excelente   \n",
            "99997  1.5T 2WD Elegance * 1. Hand * 24 Mon. Garantie *      Usado   \n",
            "99998            Lusso Ti 2.0 JTDM 16V Xenon Leder Navi      Usado   \n",
            "99999         Sportback1.5 Sport|VIRTUAL|NAVI|LED|30KM|  Excelente   \n",
            "\n",
            "       es_automatico   descripcion_auto  \n",
            "0              False    140 KW - Hybrid  \n",
            "1              False     49 KW - Petrol  \n",
            "2              False  125 KW - Electric  \n",
            "3              False    114 KW - Petrol  \n",
            "4              False    110 KW - Petrol  \n",
            "...              ...                ...  \n",
            "99995          False     90 KW - Petrol  \n",
            "99996          False     51 KW - Petrol  \n",
            "99997          False    127 KW - Petrol  \n",
            "99998          False    125 KW - Diesel  \n",
            "99999          False    110 KW - Petrol  \n",
            "\n",
            "[100000 rows x 18 columns]\n"
          ]
        }
      ]
    },
    {
      "cell_type": "code",
      "source": [
        "#data.info()"
      ],
      "metadata": {
        "id": "01j9aDCLhojT"
      },
      "execution_count": 5,
      "outputs": []
    },
    {
      "cell_type": "code",
      "source": [
        "#Preprocesamiento de datos para asignar a cada valor unico de la columna brand un numero entero\n",
        "#Ademas observaremos la cantidad e etiquetas que tendra\n",
        "to_convert = ['brand']\n",
        "id2label = {}\n",
        "label2id = {}\n",
        "for col in to_convert:\n",
        "    id2label[col] = {i: cls for i, cls in enumerate(data[col].unique())}\n",
        "    label2id[col] = {cls: i for i, cls in id2label[col].items()}\n",
        "    data[col] = data[col].replace(label2id[col])\n",
        "    print(label2id[col])"
      ],
      "metadata": {
        "id": "17hYOk-Mkef8",
        "outputId": "d7a2f90f-3f9c-4a49-bdce-60d28d7cd863",
        "colab": {
          "base_uri": "https://localhost:8080/"
        }
      },
      "execution_count": 6,
      "outputs": [
        {
          "output_type": "stream",
          "name": "stdout",
          "text": [
            "{'ford': 0, 'hyundai': 1, 'audi': 2, 'honda': 3, 'kia': 4, 'dacia': 5, 'bmw': 6, 'citroen': 7, 'alfa-romeo': 8, 'land-rover': 9, 'jaguar': 10, 'dodge': 11, 'fiat': 12, 'lamborghini': 13, 'mazda': 14, 'isuzu': 15, 'jeep': 16, 'ferrari': 17, 'bentley': 18, 'maserati': 19, 'daihatsu': 20, 'chevrolet': 21, 'aston-martin': 22, 'cadillac': 23, 'daewoo': 24, 'chrysler': 25, 'lancia': 26, 'lada': 27, 'infiniti': 28}\n"
          ]
        }
      ]
    },
    {
      "cell_type": "code",
      "source": [
        "num_labels = 29"
      ],
      "metadata": {
        "id": "v8pVcz-pkjnM"
      },
      "execution_count": 7,
      "outputs": []
    },
    {
      "cell_type": "code",
      "source": [
        "#variables categoricas\n",
        "def manual_label_encoder(column):\n",
        "    unique_values = column.unique()  # Obtener los valores únicos en la columna\n",
        "    mapping = {value: idx for idx, value in enumerate(unique_values)}  # Asignar un número a cada valor único\n",
        "    return column.map(mapping).astype(float), mapping  # Devolver la columna codificada y el mapeo\n",
        "\n",
        "# Seleccionar las columnas categóricas\n",
        "columnas_categoricas = data.select_dtypes(include=['object']).columns\n",
        "\n",
        "# Codificar cada columna categórica\n",
        "mappings = {}  # Diccionario para almacenar el mapeo de cada columna\n",
        "for columna in columnas_categoricas:\n",
        "    data[columna], mappings[columna] = manual_label_encoder(data[columna])"
      ],
      "metadata": {
        "id": "y9HEJb_AkmR8"
      },
      "execution_count": 8,
      "outputs": []
    },
    {
      "cell_type": "code",
      "source": [
        "data.info()\n",
        "print(data)"
      ],
      "metadata": {
        "id": "eQfTmo4muV73",
        "outputId": "1bdf8f67-1232-457c-fb91-5d79245ce3be",
        "colab": {
          "base_uri": "https://localhost:8080/"
        }
      },
      "execution_count": 9,
      "outputs": [
        {
          "output_type": "stream",
          "name": "stdout",
          "text": [
            "<class 'pandas.core.frame.DataFrame'>\n",
            "RangeIndex: 100000 entries, 0 to 99999\n",
            "Data columns (total 18 columns):\n",
            " #   Column                    Non-Null Count   Dtype  \n",
            "---  ------                    --------------   -----  \n",
            " 0   Unnamed: 0                100000 non-null  int64  \n",
            " 1   brand                     100000 non-null  int64  \n",
            " 2   model                     100000 non-null  float64\n",
            " 3   color                     100000 non-null  float64\n",
            " 4   registration_date         100000 non-null  float64\n",
            " 5   year                      100000 non-null  float64\n",
            " 6   price_in_euro             100000 non-null  float64\n",
            " 7   power_kw                  100000 non-null  float64\n",
            " 8   power_ps                  100000 non-null  float64\n",
            " 9   transmission_type         100000 non-null  float64\n",
            " 10  fuel_type                 100000 non-null  float64\n",
            " 11  fuel_consumption_l_100km  100000 non-null  float64\n",
            " 12  fuel_consumption_g_km     100000 non-null  float64\n",
            " 13  mileage_in_km             99932 non-null   float64\n",
            " 14  offer_description         100000 non-null  float64\n",
            " 15  estado                    100000 non-null  float64\n",
            " 16  es_automatico             100000 non-null  bool   \n",
            " 17  descripcion_auto          100000 non-null  float64\n",
            "dtypes: bool(1), float64(15), int64(2)\n",
            "memory usage: 13.1 MB\n",
            "       Unnamed: 0  brand  model  color  registration_date  year  \\\n",
            "0           75721      0    0.0    0.0                0.0   0.0   \n",
            "1           80184      1    1.0    0.0                1.0   1.0   \n",
            "2           19864      2    2.0    1.0                2.0   2.0   \n",
            "3           76699      3    3.0    2.0                3.0   1.0   \n",
            "4           92991      4    4.0    0.0                4.0   0.0   \n",
            "...           ...    ...    ...    ...                ...   ...   \n",
            "99995        6265      2   32.0    4.0              121.0   5.0   \n",
            "99996       54886     12   69.0    0.0               83.0   4.0   \n",
            "99997       76820      3    3.0    6.0              146.0   4.0   \n",
            "99998         860      8   53.0    1.0              111.0  12.0   \n",
            "99999       15795      2   14.0    0.0               33.0   1.0   \n",
            "\n",
            "       price_in_euro  power_kw  power_ps  transmission_type  fuel_type  \\\n",
            "0                0.0       0.0       0.0                0.0        0.0   \n",
            "1                1.0       1.0       1.0                1.0        1.0   \n",
            "2                2.0       2.0       2.0                0.0        2.0   \n",
            "3                3.0       3.0       3.0                0.0        1.0   \n",
            "4                4.0       4.0       4.0                1.0        1.0   \n",
            "...              ...       ...       ...                ...        ...   \n",
            "99995          221.0     119.0     119.0                1.0        1.0   \n",
            "99996          268.0      47.0      47.0                0.0        1.0   \n",
            "99997          469.0      36.0      36.0                1.0        1.0   \n",
            "99998          339.0       2.0       2.0                0.0        3.0   \n",
            "99999           51.0       4.0       4.0                1.0        1.0   \n",
            "\n",
            "       fuel_consumption_l_100km  fuel_consumption_g_km  mileage_in_km  \\\n",
            "0                           0.0                    0.0          100.0   \n",
            "1                           1.0                    1.0        27782.0   \n",
            "2                           2.0                    2.0         4247.0   \n",
            "3                           3.0                    3.0        57000.0   \n",
            "4                           4.0                    4.0         7500.0   \n",
            "...                         ...                    ...            ...   \n",
            "99995                      13.0                   77.0       148000.0   \n",
            "99996                      38.0                   17.0        31698.0   \n",
            "99997                      19.0                   71.0        77900.0   \n",
            "99998                      37.0                   36.0        52251.0   \n",
            "99999                      13.0                   17.0        30400.0   \n",
            "\n",
            "       offer_description  estado  es_automatico  descripcion_auto  \n",
            "0                    0.0     0.0          False               0.0  \n",
            "1                    1.0     0.0          False               1.0  \n",
            "2                    2.0     0.0          False               2.0  \n",
            "3                    3.0     1.0          False               3.0  \n",
            "4                    4.0     0.0          False               4.0  \n",
            "...                  ...     ...            ...               ...  \n",
            "99995            79772.0     1.0          False             172.0  \n",
            "99996            79773.0     0.0          False              62.0  \n",
            "99997            79774.0     1.0          False             224.0  \n",
            "99998            79775.0     1.0          False              91.0  \n",
            "99999            79776.0     0.0          False               4.0  \n",
            "\n",
            "[100000 rows x 18 columns]\n"
          ]
        }
      ]
    },
    {
      "cell_type": "code",
      "source": [
        "data['es_automatico'] = data['es_automatico'].astype(float)\n",
        "data['Unnamed: 0'] = data['Unnamed: 0'].astype(float)\n",
        "\n"
      ],
      "metadata": {
        "id": "6e25AV9ooS6e"
      },
      "execution_count": 10,
      "outputs": []
    },
    {
      "cell_type": "code",
      "source": [
        "#print(data)\n",
        "data.info()\n"
      ],
      "metadata": {
        "id": "F9LIFPOPkwUw",
        "colab": {
          "base_uri": "https://localhost:8080/"
        },
        "outputId": "cf48099e-4685-44a2-8258-bb0810f89427"
      },
      "execution_count": 11,
      "outputs": [
        {
          "output_type": "stream",
          "name": "stdout",
          "text": [
            "<class 'pandas.core.frame.DataFrame'>\n",
            "RangeIndex: 100000 entries, 0 to 99999\n",
            "Data columns (total 18 columns):\n",
            " #   Column                    Non-Null Count   Dtype  \n",
            "---  ------                    --------------   -----  \n",
            " 0   Unnamed: 0                100000 non-null  float64\n",
            " 1   brand                     100000 non-null  int64  \n",
            " 2   model                     100000 non-null  float64\n",
            " 3   color                     100000 non-null  float64\n",
            " 4   registration_date         100000 non-null  float64\n",
            " 5   year                      100000 non-null  float64\n",
            " 6   price_in_euro             100000 non-null  float64\n",
            " 7   power_kw                  100000 non-null  float64\n",
            " 8   power_ps                  100000 non-null  float64\n",
            " 9   transmission_type         100000 non-null  float64\n",
            " 10  fuel_type                 100000 non-null  float64\n",
            " 11  fuel_consumption_l_100km  100000 non-null  float64\n",
            " 12  fuel_consumption_g_km     100000 non-null  float64\n",
            " 13  mileage_in_km             99932 non-null   float64\n",
            " 14  offer_description         100000 non-null  float64\n",
            " 15  estado                    100000 non-null  float64\n",
            " 16  es_automatico             100000 non-null  float64\n",
            " 17  descripcion_auto          100000 non-null  float64\n",
            "dtypes: float64(17), int64(1)\n",
            "memory usage: 13.7 MB\n"
          ]
        }
      ]
    },
    {
      "cell_type": "code",
      "source": [
        "#llenar datos vacios\n",
        "columnas_especificas = ['mileage_in_km']\n",
        "media_columnas = data[columnas_especificas].mean()\n",
        "data[columnas_especificas] = data[columnas_especificas].fillna(media_columnas)\n",
        "data.info()"
      ],
      "metadata": {
        "id": "_X8B5JmXpxUX",
        "outputId": "14f1e0dc-4c15-4c27-cc40-81b6725c4072",
        "colab": {
          "base_uri": "https://localhost:8080/"
        }
      },
      "execution_count": 12,
      "outputs": [
        {
          "output_type": "stream",
          "name": "stdout",
          "text": [
            "<class 'pandas.core.frame.DataFrame'>\n",
            "RangeIndex: 100000 entries, 0 to 99999\n",
            "Data columns (total 18 columns):\n",
            " #   Column                    Non-Null Count   Dtype  \n",
            "---  ------                    --------------   -----  \n",
            " 0   Unnamed: 0                100000 non-null  float64\n",
            " 1   brand                     100000 non-null  int64  \n",
            " 2   model                     100000 non-null  float64\n",
            " 3   color                     100000 non-null  float64\n",
            " 4   registration_date         100000 non-null  float64\n",
            " 5   year                      100000 non-null  float64\n",
            " 6   price_in_euro             100000 non-null  float64\n",
            " 7   power_kw                  100000 non-null  float64\n",
            " 8   power_ps                  100000 non-null  float64\n",
            " 9   transmission_type         100000 non-null  float64\n",
            " 10  fuel_type                 100000 non-null  float64\n",
            " 11  fuel_consumption_l_100km  100000 non-null  float64\n",
            " 12  fuel_consumption_g_km     100000 non-null  float64\n",
            " 13  mileage_in_km             100000 non-null  float64\n",
            " 14  offer_description         100000 non-null  float64\n",
            " 15  estado                    100000 non-null  float64\n",
            " 16  es_automatico             100000 non-null  float64\n",
            " 17  descripcion_auto          100000 non-null  float64\n",
            "dtypes: float64(17), int64(1)\n",
            "memory usage: 13.7 MB\n"
          ]
        }
      ]
    },
    {
      "cell_type": "code",
      "source": [
        "data_copy = data.copy()\n",
        "\n",
        "# Aumentar solo los valores decimales en el DataFrame duplicado\n",
        "# Especificar las columnas numéricas en las que deseas aumentar los decimales\n",
        "decimal_columns = ['Unnamed: 0','model','color','registration_date','year','price_in_euro','power_kw','power_ps','fuel_type', 'fuel_consumption_l_100km', 'fuel_consumption_g_km', 'mileage_in_km','offer_description','descripcion_auto']\n",
        "\n",
        "# Asegurarse de que las columnas sean del tipo adecuado\n",
        "#for col in decimal_columns:\n",
        " #   data_copy[col] = pd.to_numeric(data_copy[col], errors='coerce')\n",
        "\n",
        "# Filtrar filas con valores no válidos (NaN) en columnas decimales\n",
        "#data_copy = data_copy.dropna(subset=decimal_columns)\n",
        "\n",
        "# Aumentar los valores decimales en las columnas especificadas\n",
        "for col in decimal_columns:\n",
        "    data_copy[col] = data_copy[col] + np.random.uniform(0.1, 0.7, size=len(data_copy))\n",
        "\n",
        "\n",
        "# Asegurarse de que los valores estén dentro de rangos razonables\n",
        "for col in decimal_columns:\n",
        "    data_copy[col] = data_copy[col].clip(lower=0)\n",
        "\n",
        "# Concatenar los DataFrames originales y modificados\n",
        "nuevo_data = pd.concat([data, data_copy], ignore_index=True)\n",
        "\n",
        "# Guardar el dataset aumentado en un nuevo archivo CSV\n",
        "nuevo_data.to_csv('ruta_del_archivo_modificado.csv', index=False)\n",
        "\n",
        "# Ver las primeras filas del DataFrame aumentado\n",
        "#print(nuevo_data.head())"
      ],
      "metadata": {
        "id": "KUJVTbABb0yP"
      },
      "execution_count": 13,
      "outputs": []
    },
    {
      "cell_type": "code",
      "source": [
        "print(nuevo_data.iloc[190000])\n",
        "#print(nuevo_data)"
      ],
      "metadata": {
        "id": "TWCbhq-7vpqP",
        "outputId": "562c3d7a-44ea-42b3-fbe9-795e4be7576c",
        "colab": {
          "base_uri": "https://localhost:8080/"
        }
      },
      "execution_count": 14,
      "outputs": [
        {
          "output_type": "stream",
          "name": "stdout",
          "text": [
            "Unnamed: 0                   44990.310094\n",
            "brand                            7.000000\n",
            "model                          322.232555\n",
            "color                            1.683330\n",
            "registration_date               19.506255\n",
            "year                             1.639027\n",
            "price_in_euro                   88.376574\n",
            "power_kw                         7.589913\n",
            "power_ps                         7.329586\n",
            "transmission_type                1.000000\n",
            "fuel_type                        3.440499\n",
            "fuel_consumption_l_100km        12.357826\n",
            "fuel_consumption_g_km          170.668462\n",
            "mileage_in_km               117000.193876\n",
            "offer_description            72499.109408\n",
            "estado                           1.000000\n",
            "es_automatico                    0.000000\n",
            "descripcion_auto                17.380252\n",
            "Name: 190000, dtype: float64\n"
          ]
        }
      ]
    },
    {
      "cell_type": "code",
      "source": [
        "nuevo_data.info()"
      ],
      "metadata": {
        "id": "QCristp_qirb",
        "outputId": "4060f488-3203-455d-8984-2030f749d727",
        "colab": {
          "base_uri": "https://localhost:8080/"
        }
      },
      "execution_count": 15,
      "outputs": [
        {
          "output_type": "stream",
          "name": "stdout",
          "text": [
            "<class 'pandas.core.frame.DataFrame'>\n",
            "RangeIndex: 200000 entries, 0 to 199999\n",
            "Data columns (total 18 columns):\n",
            " #   Column                    Non-Null Count   Dtype  \n",
            "---  ------                    --------------   -----  \n",
            " 0   Unnamed: 0                200000 non-null  float64\n",
            " 1   brand                     200000 non-null  int64  \n",
            " 2   model                     200000 non-null  float64\n",
            " 3   color                     200000 non-null  float64\n",
            " 4   registration_date         200000 non-null  float64\n",
            " 5   year                      200000 non-null  float64\n",
            " 6   price_in_euro             200000 non-null  float64\n",
            " 7   power_kw                  200000 non-null  float64\n",
            " 8   power_ps                  200000 non-null  float64\n",
            " 9   transmission_type         200000 non-null  float64\n",
            " 10  fuel_type                 200000 non-null  float64\n",
            " 11  fuel_consumption_l_100km  200000 non-null  float64\n",
            " 12  fuel_consumption_g_km     200000 non-null  float64\n",
            " 13  mileage_in_km             200000 non-null  float64\n",
            " 14  offer_description         200000 non-null  float64\n",
            " 15  estado                    200000 non-null  float64\n",
            " 16  es_automatico             200000 non-null  float64\n",
            " 17  descripcion_auto          200000 non-null  float64\n",
            "dtypes: float64(17), int64(1)\n",
            "memory usage: 27.5 MB\n"
          ]
        }
      ]
    },
    {
      "cell_type": "code",
      "source": [
        "# Cargar los datasets originales y sintéticos\n",
        "#data_original = pd.read_csv('ruta_del_archivo_original.csv')\n",
        "#data_sintetico = pd.read_csv('ruta_del_archivo_modificado.csv')\n",
        "\n",
        "# Especificar las columnas numéricas que queremos graficar\n",
        "columnas_numericas = ['price_in_euro', 'power_kw']\n",
        "\n",
        "# Crear una figura para comparar cada atributo entre los datasets\n",
        "fig, axs = pyplot.subplots(len(columnas_numericas), 2, figsize=(12, 5 * len(columnas_numericas)))\n",
        "\n",
        "# Iterar sobre las columnas numéricas y generar gráficos\n",
        "for i, col in enumerate(columnas_numericas):\n",
        "    # Graficar el dataset original\n",
        "    axs[i, 0].hist(data[col].dropna(), bins=30, color='blue', alpha=0.7)\n",
        "    axs[i, 0].set_title(f'{col} - Dataset Original')\n",
        "    axs[i, 0].set_xlabel(col)\n",
        "    axs[i, 0].set_ylabel('Frecuencia')\n",
        "\n",
        "    # Graficar el dataset sintético\n",
        "    axs[i, 1].hist(data_copy[col].dropna(), bins=30, color='green', alpha=0.7)\n",
        "    axs[i, 1].set_title(f'{col} - Dataset Sintético')\n",
        "    axs[i, 1].set_xlabel(col)\n",
        "    axs[i, 1].set_ylabel('Frecuencia')\n",
        "\n",
        "# Ajustar el espacio entre gráficos\n",
        "pyplot.tight_layout()\n",
        "pyplot.show()\n"
      ],
      "metadata": {
        "id": "eSFDZNWiPFJg",
        "outputId": "f6009dfc-8d81-4f75-9040-95485d1ba33d",
        "colab": {
          "base_uri": "https://localhost:8080/",
          "height": 1000
        }
      },
      "execution_count": 16,
      "outputs": [
        {
          "output_type": "display_data",
          "data": {
            "text/plain": [
              "<Figure size 1200x1000 with 4 Axes>"
            ],
            "image/png": "[encoded data removed]"
          },
          "metadata": {}
        }
      ]
    },
    {
      "cell_type": "code",
      "source": [
        "#X_datos=nuevo_data.iloc[:,[2,3,4,5,6,7,8,9,10,11,12,13,14,15,17]]\n",
        "#y_datos=nuevo_data.iloc[:,1]"
      ],
      "metadata": {
        "id": "hFe7vEvlMxkP"
      },
      "execution_count": 17,
      "outputs": []
    },
    {
      "cell_type": "code",
      "source": [
        "#separamos el data set en 80% enry 20% para prueba\n",
        "X_train=nuevo_data.iloc[0:160000,[2,3,4,5,6,7,8,9,10,11,12,13,14,15,17]]\n",
        "y_train=nuevo_data.iloc[0:160000,1]\n",
        "\n",
        "X_test=nuevo_data.iloc[160000:,[2,3,4,5,6,7,8,9,10,11,12,13,14,15,17]]\n",
        "y_test=nuevo_data.iloc[160000:,1]\n",
        "\n",
        "#X_train, X_test, y_train, y_test = train_test_split(X_datos, y_datos, test_size=0.2)\n",
        "#X_train.shape, X_test.shape"
      ],
      "metadata": {
        "id": "9U3rh3pkSaBV"
      },
      "execution_count": 18,
      "outputs": []
    },
    {
      "cell_type": "code",
      "source": [
        "X=X_train\n",
        "y=y_train\n",
        "print(y)"
      ],
      "metadata": {
        "colab": {
          "base_uri": "https://localhost:8080/"
        },
        "id": "KXI4hie2nDvD",
        "outputId": "b6b80a99-122b-4498-d2e0-dc518e258e04"
      },
      "execution_count": 19,
      "outputs": [
        {
          "output_type": "stream",
          "name": "stdout",
          "text": [
            "0          0\n",
            "1          1\n",
            "2          2\n",
            "3          3\n",
            "4          4\n",
            "          ..\n",
            "159995     4\n",
            "159996    17\n",
            "159997     1\n",
            "159998    10\n",
            "159999     7\n",
            "Name: brand, Length: 160000, dtype: int64\n"
          ]
        }
      ]
    },
    {
      "cell_type": "code",
      "source": [
        "def  featureNormalize(X):\n",
        "    X_norm = X.copy()\n",
        "    mu = np.zeros(X.shape[1])\n",
        "    sigma = np.zeros(X.shape[1])\n",
        "\n",
        "    mu = np.mean(X, axis = 0)\n",
        "    sigma = np.std(X, axis = 0)\n",
        "    X_norm = (X - mu) / sigma\n",
        "\n",
        "    return X_norm, mu, sigma"
      ],
      "metadata": {
        "id": "HWF5C5Jt8wNb"
      },
      "execution_count": 20,
      "outputs": []
    },
    {
      "cell_type": "code",
      "source": [
        "# llama featureNormalize con los datos cargados\n",
        "X_norm, mu, sigma = featureNormalize(X)"
      ],
      "metadata": {
        "id": "f4W6d-ya1ABV"
      },
      "execution_count": 21,
      "outputs": []
    },
    {
      "cell_type": "code",
      "source": [
        "# inicia m con el numero de filas de X y n con el numero de aracteristicas\n",
        "m, n = X.shape\n",
        "#asignamos los valores normalizados a X\n",
        "X = X_norm"
      ],
      "metadata": {
        "id": "r9e6MRrW1G22"
      },
      "execution_count": 22,
      "outputs": []
    },
    {
      "cell_type": "code",
      "execution_count": 23,
      "metadata": {
        "id": "0sB9Kyi8SxgN"
      },
      "outputs": [],
      "source": [
        "def sigmoid(z):\n",
        "    \"\"\"\n",
        "    Calcula la sigmoide de z.\n",
        "    \"\"\"\n",
        "    return 1.0 / (1.0 + np.exp(-z))"
      ]
    },
    {
      "cell_type": "code",
      "execution_count": 24,
      "metadata": {
        "id": "w5S0OOswSxgN"
      },
      "outputs": [],
      "source": [
        "def lrCostFunction(theta, X, y, lambda_):\n",
        "    # Inicializa algunos valores utiles\n",
        "\n",
        "\n",
        "    m = y.size\n",
        "\n",
        "    # convierte las etiquetas a valores enteros si son boleanos\n",
        "    if y.dtype == bool:\n",
        "        y = y.astype(int)\n",
        "\n",
        "    J = 0\n",
        "    grad = np.zeros(theta.shape)\n",
        "\n",
        "    h = sigmoid(X.dot(theta.T))\n",
        "\n",
        "    temp = theta\n",
        "    temp[0] = 0\n",
        "\n",
        "#     J = (1 / m) * np.sum(-y.dot(np.log(h)) - (1 - y).dot(np.log(1 - h)))\n",
        "    J = (1 / m) * np.sum(-y.dot(np.log(h)) - (1 - y).dot(np.log(1 - h))) + (lambda_ / (2 * m)) * np.sum(np.square(temp))\n",
        "\n",
        "    grad = (1 / m) * (h - y).dot(X)\n",
        "\n",
        "#    P_history.append(h)\n",
        "#     theta = theta - (alpha / m) * (h - y).dot(X)\n",
        "    grad = grad + (lambda_ / m) * temp\n",
        "\n",
        "    #predictions = (h >= 0.5).astype(int)  # Umbral de 0.5 para clasificar\n",
        "    #correct_predictions = np.sum(predictions == y)  # Contar predicciones correctas\n",
        "    #precision = correct_predictions / m  # Precisión como proporción de predicciones correctas\n",
        "    #P_history.append(precision)\n",
        "\n",
        "    return J, grad\n",
        "#    return J, theta\n"
      ]
    },
    {
      "cell_type": "code",
      "execution_count": 27,
      "metadata": {
        "id": "V0rOw5qhSxgN"
      },
      "outputs": [],
      "source": [
        "def oneVsAll(X, y, num_labels, lambda_,alpha=0.01, num_iters=80):\n",
        "    # algunas variables utiles\n",
        "\n",
        "    m, n = X.shape\n",
        "    all_theta = np.zeros((num_labels, n + 1))\n",
        "    all_J_history = []\n",
        "\n",
        "    # Agregar unos a la matriz X\n",
        "    X = np.concatenate([np.ones((m, 1)), X], axis=1)\n",
        "\n",
        "    for c in np.arange(num_labels):\n",
        "        print(f\"Entrenando para la clase {c}...\")\n",
        "\n",
        "        # Inicializar theta\n",
        "        theta = np.zeros(n + 1)\n",
        "\n",
        "        # Vector binario para la clase c\n",
        "        y_c = (y == c)\n",
        "\n",
        "        # Historial de costos para cada clase\n",
        "        J_history = []\n",
        "\n",
        "        for i in range(num_iters):\n",
        "            # Calcular costo y gradiente\n",
        "            J, grad = lrCostFunction(theta, X, y_c, lambda_)\n",
        "\n",
        "            # Actualizar theta\n",
        "            theta -= alpha * grad\n",
        "\n",
        "            # Guardar el costo\n",
        "            J_history.append(J)\n",
        "\n",
        "        # Almacenar los parámetros optimizados para la clase c\n",
        "        all_theta[c] = theta\n",
        "        all_J_history.append(J_history)\n",
        "\n",
        "\n",
        "    return all_theta, all_J_history"
      ]
    },
    {
      "cell_type": "code",
      "execution_count": 28,
      "metadata": {
        "id": "w6JbsLLMSxgO",
        "outputId": "a7d1d743-ca9c-4480-d744-375074c099ee",
        "colab": {
          "base_uri": "https://localhost:8080/"
        }
      },
      "outputs": [
        {
          "output_type": "stream",
          "name": "stdout",
          "text": [
            "Entrenando para la clase 0...\n",
            "Entrenando para la clase 1...\n",
            "Entrenando para la clase 2...\n",
            "Entrenando para la clase 3...\n",
            "Entrenando para la clase 4...\n",
            "Entrenando para la clase 5...\n",
            "Entrenando para la clase 6...\n",
            "Entrenando para la clase 7...\n",
            "Entrenando para la clase 8...\n",
            "Entrenando para la clase 9...\n",
            "Entrenando para la clase 10...\n",
            "Entrenando para la clase 11...\n",
            "Entrenando para la clase 12...\n",
            "Entrenando para la clase 13...\n",
            "Entrenando para la clase 14...\n",
            "Entrenando para la clase 15...\n",
            "Entrenando para la clase 16...\n",
            "Entrenando para la clase 17...\n",
            "Entrenando para la clase 18...\n",
            "Entrenando para la clase 19...\n",
            "Entrenando para la clase 20...\n",
            "Entrenando para la clase 21...\n",
            "Entrenando para la clase 22...\n",
            "Entrenando para la clase 23...\n",
            "Entrenando para la clase 24...\n",
            "Entrenando para la clase 25...\n",
            "Entrenando para la clase 26...\n",
            "Entrenando para la clase 27...\n",
            "Entrenando para la clase 28...\n",
            "(29, 16)\n"
          ]
        }
      ],
      "source": [
        "lambda_ = 0.1\n",
        "all_theta, all_J_history = oneVsAll(X, y, num_labels,lambda_)\n",
        "print(all_theta.shape)"
      ]
    },
    {
      "cell_type": "code",
      "source": [
        "print(all_J_history)\n",
        "#print(J_history)\n",
        "#print(P_history)"
      ],
      "metadata": {
        "id": "lbYevUdviHLg",
        "outputId": "802432a9-76d4-42ba-8734-59d2b96cb224",
        "colab": {
          "base_uri": "https://localhost:8080/"
        }
      },
      "execution_count": 29,
      "outputs": [
        {
          "output_type": "stream",
          "name": "stdout",
          "text": [
            "[[0.6931471805599573, 0.6920290287522057, 0.6918853128711946, 0.6917406120612216, 0.6915973429739197, 0.6914554809687191, 0.6913150077751292, 0.6911759053700269, 0.6910381559894434, 0.6909017421250383, 0.6907666465206426, 0.6906328521688294, 0.6905003423075183, 0.6903691004166063, 0.6902391102146324, 0.6901103556554733, 0.6899828209250688, 0.6898564904381833, 0.6897313488351955, 0.6896073809789233, 0.6894845719514812, 0.6893629070511723, 0.6892423717894075, 0.6891229518876678, 0.6890046332744925, 0.6888874020825033, 0.6887712446454641, 0.6886561474953727, 0.6885420973595843, 0.6884290811579753, 0.6883170860001335, 0.6882060991825864, 0.6880961081860635, 0.6879871006727882, 0.6878790644838096, 0.6877719876363612, 0.6876658583212572, 0.6875606649003219, 0.687456395903848, 0.6873530400280947, 0.6872505861328116, 0.6871490232387995, 0.6870483405255022, 0.6869485273286305, 0.6868495731378182, 0.6867514675943097, 0.6866542004886789, 0.6865577617585792, 0.6864621414865268, 0.6863673298977098, 0.6862733173578329, 0.6861800943709914, 0.6860876515775683, 0.6859959797521745, 0.6859050698016047, 0.6858149127628297, 0.6857254998010179, 0.6856368222075808, 0.6855488713982522, 0.6854616389111892, 0.6853751164051082, 0.6852892956574401, 0.6852041685625204, 0.6851197271298003, 0.6850359634820848, 0.6849528698538022, 0.684870438589292, 0.6847886621411228, 0.6847075330684357, 0.6846270440353106, 0.6845471878091562, 0.6844679572591281, 0.6843893453545673, 0.6843113451634655, 0.684233949850949, 0.6841571526777901, 0.684080946998943, 0.684005326262092, 0.6839302840062353, 0.6838558138602806], [0.6931471805599798, 0.6912592284494691, 0.6912268751946883, 0.6911903069130729, 0.6911541622285545, 0.6911184244806631, 0.6910830887103028, 0.6910481499915682, 0.6910136034601785, 0.6909794443126812, 0.6909456678057371, 0.6909122692554033, 0.6908792440364343, 0.6908465875815806, 0.6908142953809001, 0.6907823629810713, 0.690750785984719, 0.6907195600497393, 0.6906886808886393, 0.6906581442678759, 0.6906279460072062, 0.690598081979044, 0.6905685481078179, 0.6905393403693433, 0.6905104547901952, 0.6904818874470894, 0.6904536344662711, 0.6904256920229073, 0.6903980563404873, 0.6903707236902312, 0.690343690390499, 0.690316952806212, 0.6902905073482767, 0.6902643504730186, 0.6902384786816146, 0.690212888519542, 0.6901875765760236, 0.6901625394834855, 0.6901377739170187, 0.6901132765938426, 0.6900890442727854, 0.6900650737537563, 0.6900413618772343, 0.6900179055237566, 0.6899947016134164, 0.6899717471053649, 0.6899490389973181, 0.6899265743250713, 0.6899043501620171, 0.6898823636186692, 0.6898606118421932, 0.6898390920159431, 0.6898178013589981, 0.6897967371257132, 0.6897758966052673, 0.689755277121221, 0.6897348760310771, 0.6897146907258512, 0.6896947186296383, 0.6896749571991952, 0.6896554039235188, 0.6896360563234357, 0.6896169119511922, 0.6895979683900552, 0.6895792232539091, 0.6895606741868654, 0.6895423188628736, 0.6895241549853388, 0.68950618028674, 0.6894883925282562, 0.6894707894993991, 0.689453369017644, 0.6894361289280717, 0.6894190671030107, 0.6894021814416862, 0.6893854698698697, 0.6893689303395409, 0.6893525608285439, 0.6893363593402541, 0.689320323903247], [0.6931471805599523, 0.6920991505314543, 0.6918920270486956, 0.6916845149381559, 0.69147869630286, 0.6912745476451962, 0.6910720509573204, 0.6908711884407704, 0.6906719425170288, 0.6904742958248857, 0.6902782312178556, 0.6900837317616207, 0.6898907807314969, 0.6896993616099196, 0.6895094580839594, 0.6893210540428542, 0.6891341335755676, 0.6889486809683648, 0.6887646807024189, 0.6885821174514299, 0.6884009760792732, 0.6882212416376634, 0.6880428993638444, 0.6878659346782982, 0.6876903331824786, 0.6875160806565607, 0.6873431630572154, 0.6871715665154059, 0.6870012773342031, 0.6868322819866204, 0.6866645671134766, 0.6864981195212698, 0.6863329261800829, 0.6861689742214999, 0.6860062509365511, 0.6858447437736757, 0.6856844403367036, 0.6855253283828625, 0.6853673958208034, 0.685210630708644, 0.6850550212520404, 0.6849005558022689, 0.6847472228543415, 0.6845950110451289, 0.6844439091515147, 0.6842939060885629, 0.6841449909077104, 0.6839971527949776, 0.6838503810691992, 0.6837046651802792, 0.6835599947074603, 0.6834163593576176, 0.6832737489635697, 0.6831321534824142, 0.6829915629938779, 0.6828519676986894, 0.6827133579169711, 0.6825757240866513, 0.6824390567618959, 0.6823033466115571, 0.6821685844176438, 0.6820347610738122, 0.6819018675838713, 0.6817698950603097, 0.6816388347228433, 0.6815086778969771, 0.6813794160125894, 0.6812510406025306, 0.6811235433012434, 0.6809969158434, 0.680871150062555, 0.680746237889821, 0.6806221713525549, 0.6804989425730666, 0.6803765437673454, 0.6802549672437972, 0.6801342054020066, 0.6800142507315105, 0.6798950958105893, 0.6797767333050729], [0.6931471805599904, 0.6907258943390867, 0.6907304944409024, 0.690729055553944, 0.6907276496652381, 0.6907262613373707, 0.6907248903553838, 0.6907235364701456, 0.6907221994364258, 0.690720879012743, 0.6907195749613079, 0.6907182870479615, 0.6907170150421199, 0.6907157587167198, 0.6907145178481597, 0.6907132922162488, 0.6907120816041525, 0.6907108857983383, 0.6907097045885268, 0.6907085377676379, 0.6907073851317425, 0.6907062464800123, 0.6907051216146726, 0.6907040103409507, 0.6907029124670339, 0.6907018278040186, 0.6907007561658695, 0.6906996973693692, 0.6906986512340784, 0.6906976175822913, 0.690696596238991, 0.6906955870318098, 0.6906945897909867, 0.6906936043493271, 0.6906926305421631, 0.6906916682073099, 0.6906907171850334, 0.6906897773180087, 0.6906888484512812, 0.6906879304322316, 0.6906870231105402, 0.6906861263381464, 0.6906852399692202, 0.6906843638601219, 0.690683497869369, 0.6906826418576058, 0.6906817956875659, 0.6906809592240428, 0.6906801323338565, 0.6906793148858207, 0.6906785067507141, 0.6906777078012497, 0.6906769179120416, 0.6906761369595781, 0.6906753648221937, 0.6906746013800359, 0.6906738465150416, 0.690673100110908, 0.6906723620530628, 0.6906716322286397, 0.6906709105264515, 0.6906701968369644, 0.6906694910522716, 0.6906687930660675, 0.6906681027736244, 0.6906674200717664, 0.6906667448588475, 0.6906660770347245, 0.6906654165007369, 0.6906647631596832, 0.690664116915798, 0.690663477674728, 0.6906628453435131, 0.6906622198305625, 0.6906616010456357, 0.6906609888998195, 0.6906603833055085, 0.6906597841763854, 0.6906591914273995, 0.6906586049747497], [0.6931471805599819, 0.6911680002486623, 0.6911487174925002, 0.6911248240330862, 0.6911012215781835, 0.6910778944618272, 0.6910548393532492, 0.6910320529321338, 0.6910095319189444, 0.6909872730743638, 0.6909652731988183, 0.6909435291320104, 0.6909220377524482, 0.6909007959769874, 0.6908798007603753, 0.6908590490947983, 0.6908385380094387, 0.6908182645700297, 0.6907982258784203, 0.6907784190721454, 0.690758841323995, 0.6907394898415935, 0.690720361866983, 0.6907014546762076, 0.6906827655789052, 0.6906642919179046, 0.6906460310688252, 0.6906279804396784, 0.6906101374704813, 0.6905924996328668, 0.6905750644297023, 0.6905578293947124, 0.6905407920921006, 0.6905239501161868, 0.6905073010910351, 0.6904908426700972, 0.6904745725358501, 0.6904584883994477, 0.6904425880003686, 0.6904268691060715, 0.6904113295116527, 0.6903959670395113, 0.6903807795390116, 0.6903657648861572, 0.6903509209832622, 0.6903362457586302, 0.6903217371662351, 0.6903073931854067, 0.6902932118205187, 0.6902791911006816, 0.6902653290794385, 0.6902516238344653, 0.6902380734672724, 0.6902246761029102, 0.6902114298896835, 0.6901983329988588, 0.6901853836243855, 0.6901725799826133, 0.6901599203120172, 0.6901474028729222, 0.6901350259472361, 0.6901227878381769, 0.6901106868700162, 0.6900987213878126, 0.6900868897571559, 0.6900751903639151, 0.6900636216139823, 0.6900521819330278, 0.6900408697662529, 0.6900296835781481, 0.6900186218522522, 0.6900076830909171, 0.6899968658150717, 0.689986168563994, 0.6899755898950805, 0.6899651283836182, 0.6899547826225682, 0.6899445512223387, 0.6899344328105735, 0.689924426031932], [0.6931471805599861, 0.6909551671849959, 0.690942855867852, 0.6909252318191681, 0.6909077496029854, 0.6908903944179767, 0.6908731651484437, 0.6908560606565861, 0.6908390798166352, 0.69082222151463, 0.6908054846482857, 0.690788868126861, 0.6907723708710266, 0.6907559918127377, 0.6907397298951046, 0.6907235840722693, 0.6907075533092761, 0.6906916365819534, 0.6906758328767885, 0.6906601411908084, 0.6906445605314613, 0.6906290899164967, 0.6906137283738512, 0.6905984749415347, 0.6905833286675115, 0.6905682886095938, 0.6905533538353281, 0.6905385234218848, 0.6905237964559514, 0.6905091720336242, 0.6904946492603018, 0.6904802272505832, 0.6904659051281599, 0.6904516820257165, 0.6904375570848305, 0.6904235294558705, 0.6904095982978946, 0.6903957627785606, 0.6903820220740214, 0.6903683753688341, 0.6903548218558644, 0.6903413607361931, 0.6903279912190264, 0.6903147125216007, 0.6903015238690966, 0.6902884244945457, 0.6902754136387487, 0.690262490550182, 0.6902496544849167, 0.6902369047065323, 0.6902242404860303, 0.6902116611017562, 0.6901991658393128, 0.690186753991482, 0.6901744248581437, 0.6901621777461983, 0.6901500119694851, 0.6901379268487089, 0.6901259217113619, 0.6901139958916469, 0.6901021487304058, 0.6900903795750429, 0.690078687779453, 0.6900670727039503, 0.690055533715197, 0.6900440701861309, 0.6900326814958999, 0.6900213670297876, 0.6900101261791508, 0.6899989583413498, 0.6899878629196823, 0.689976839323317, 0.6899658869672319, 0.6899550052721463, 0.6899441936644591, 0.6899334515761864, 0.6899227784449015, 0.6899121737136688, 0.6899016368309903, 0.6898911672507381], [0.6931471805599548, 0.6919183225188109, 0.6915987178793803, 0.6912805038755471, 0.6909659014045586, 0.6906548595144417, 0.6903473334683122, 0.6900432790457812, 0.6897426525537497, 0.6894454108229217, 0.6891515112043222, 0.6888609115657818, 0.6885735702883772, 0.6882894462628192, 0.6880084988857832, 0.68773068805618, 0.6874559741713532, 0.6871843181232161, 0.6869156812943067, 0.6866500255537794, 0.6863873132533174, 0.6861275072229756, 0.6858705707669541, 0.6856164676593014, 0.6853651621395532, 0.6851166189083108, 0.6848708031227594, 0.6846276803921301, 0.6843872167731172, 0.6841493787652482, 0.6839141333062106, 0.6836814477671493, 0.6834512899479274, 0.6832236280723649, 0.6829984307834573, 0.6827756671385758, 0.6825553066046575, 0.68233731905339, 0.6821216747563928, 0.6819083443804, 0.6816972989824513, 0.68148851000509, 0.6812819492715781, 0.6810775889811237, 0.6808754017041333, 0.680675360377485, 0.680477438299827, 0.680281609126905, 0.6800878468669221, 0.6798961258759316, 0.6797064208532609, 0.6795187068369787, 0.6793329591993945, 0.6791491536426045, 0.6789672661940724, 0.6787872732022593, 0.6786091513322903, 0.6784328775616726, 0.678258429176052, 0.6780857837650238, 0.6779149192179806, 0.6777458137200153, 0.6775784457478675, 0.6774127940659166, 0.6772488377222277, 0.6770865560446405, 0.6769259286369088, 0.6767669353748875, 0.6766095564027684, 0.6764537721293634, 0.6762995632244352, 0.6761469106150773, 0.6759957954821388, 0.6758461992566999, 0.6756981036165908, 0.6755514904829601, 0.6754063420168859, 0.6752626406160386, 0.6751203689113815, 0.674979509763924], [0.6931471805599848, 0.6910172812674101, 0.6909969388645012, 0.690971568082248, 0.6909464457529704, 0.6909215556750118, 0.690896894923595, 0.6908724605843993, 0.6908482497860619, 0.690824259699438, 0.6908004875369564, 0.6907769305519844, 0.6907535860382011, 0.6907304513289805, 0.6907075237967841, 0.6906848008525647, 0.6906622799451734, 0.6906399585607794, 0.690617834222301, 0.6905959044888393, 0.6905741669551265, 0.6905526192509748, 0.6905312590407438, 0.6905100840228057, 0.6904890919290259, 0.6904682805242495, 0.6904476476057928, 0.6904271910029471, 0.6904069085764852, 0.6903867982181805, 0.6903668578503299, 0.6903470854252841, 0.6903274789249871, 0.690308036360522, 0.690288755771662, 0.6902696352264304, 0.6902506728206661, 0.6902318666775985, 0.6902132149474237, 0.6901947158068906, 0.6901763674588965, 0.6901581681320813, 0.6901401160804346, 0.6901222095829049, 0.6901044469430172, 0.6900868264884958, 0.6900693465708927, 0.6900520055652214, 0.6900348018695966, 0.6900177339048803, 0.6900008001143326, 0.6899839989632687, 0.6899673289387187, 0.6899507885490975, 0.6899343763238739, 0.6899180908132498, 0.689901930587843, 0.6898858942383717, 0.6898699803753491, 0.6898541876287804, 0.6898385146478628, 0.6898229601006919, 0.6898075226739753, 0.6897922010727429, 0.6897769940200724, 0.6897619002568096, 0.6897469185412973, 0.6897320476491121, 0.6897172863727931, 0.6897026335215924, 0.6896880879212138, 0.6896736484135635, 0.6896593138565043, 0.6896450831236101, 0.689630955103931, 0.6896169287017518, 0.689603002836364, 0.6895891764418381, 0.6895754484667945, 0.6895618178741891], [0.6931471805599894, 0.6907910443476616, 0.6907959202428599, 0.6907949065844774, 0.6907939132216707, 0.6907929253374981, 0.690791942927104, 0.6907909659490546, 0.6907899943624525, 0.6907890281268421, 0.6907880672021991, 0.6907871115489285, 0.6907861611278558, 0.6907852159002231, 0.6907842758276831, 0.6907833408722933, 0.6907824109965096, 0.6907814861631824, 0.6907805663355517, 0.6907796514772405, 0.6907787415522489, 0.690777836524952, 0.6907769363600922, 0.6907760410227757, 0.6907751504784662, 0.6907742646929824, 0.690773383632492, 0.6907725072635053, 0.6907716355528749, 0.6907707684677872, 0.69076990597576, 0.6907690480446383, 0.690768194642587, 0.6907673457380932, 0.6907665012999538, 0.690765661297277, 0.6907648256994784, 0.6907639944762725, 0.6907631675976741, 0.6907623450339899, 0.6907615267558184, 0.690760712734043, 0.6907599029398324, 0.690759097344632, 0.6907582959201625, 0.6907574986384193, 0.6907567054716621, 0.6907559163924204, 0.6907551313734813, 0.6907543503878933, 0.6907535734089575, 0.6907528004102284, 0.6907520313655083, 0.6907512662488472, 0.6907505050345332, 0.6907497476970981, 0.6907489942113079, 0.6907482445521615, 0.6907474986948908, 0.6907467566149524, 0.6907460182880297, 0.6907452836900269, 0.690744552797069, 0.6907438255854953, 0.6907431020318613, 0.690742382112932, 0.6907416658056819, 0.6907409530872916, 0.690740243935145, 0.6907395383268271, 0.6907388362401214, 0.6907381376530092, 0.6907374425436633, 0.6907367508904502, 0.6907360626719227, 0.6907353778668242, 0.6907346964540805, 0.6907340184127998, 0.6907333437222724, 0.6907326723619651], [0.6931471805599865, 0.6909301635526652, 0.6909178662104044, 0.6909002057260742, 0.6908826990672932, 0.6908653310915269, 0.6908481005018644, 0.690831005981966, 0.6908140462305328, 0.690797219961028, 0.6907805259014894, 0.6907639627943437, 0.6907475293962235, 0.6907312244777843, 0.6907150468235312, 0.6906989952316368, 0.6906830685137726, 0.6906672654949345, 0.6906515850132773, 0.6906360259199457, 0.6906205870789089, 0.6906052673668026, 0.6905900656727654, 0.6905749808982827, 0.6905600119570318, 0.6905451577747251, 0.6905304172889634, 0.6905157894490832, 0.6905012732160097, 0.690486867562114, 0.6904725714710654, 0.6904583839376941, 0.6904443039678478, 0.6904303305782588, 0.690416462796403, 0.6904026996603698, 0.6903890402187275, 0.690375483530394, 0.6903620286645084, 0.6903486747003031, 0.69033542072698, 0.6903222658435841, 0.6903092091588854, 0.690296249791256, 0.6902833868685524, 0.6902706195279982, 0.6902579469160695, 0.6902453681883793, 0.6902328825095664, 0.6902204890531818, 0.6902081870015863, 0.6901959755458345, 0.6901838538855715, 0.6901718212289292, 0.6901598767924201, 0.6901480198008373, 0.6901362494871527, 0.6901245650924145, 0.6901129658656545, 0.6901014510637876, 0.6900900199515148, 0.6900786718012332, 0.6900674058929388, 0.6900562215141359, 0.6900451179597488, 0.6900340945320271, 0.6900231505404624, 0.6900122853016992, 0.6900014981394469, 0.6899907883843999, 0.6899801553741488, 0.6899695984530996, 0.689959116972395, 0.689948710289828, 0.6899383777697684, 0.6899281187830808, 0.6899179327070485, 0.6899078189252974, 0.6898977768277198, 0.6898878058104018], [0.6931471805599894, 0.6907815424349895, 0.6907829700226858, 0.6907785256430926, 0.6907741338418679, 0.690769779395458, 0.6907654619349536, 0.6907611810594936, 0.6907569363734148, 0.6907527274860829, 0.6907485540118261, 0.6907444155698673, 0.6907403117842531, 0.6907362422837896, 0.6907322067019757, 0.6907282046769372, 0.6907242358513653, 0.690720299872451, 0.6907163963918245, 0.6907125250654953, 0.6907086855537874, 0.6907048775212842, 0.6907011006367695, 0.6906973545731675, 0.6906936390074861, 0.690689953620764, 0.6906862980980115, 0.6906826721281583, 0.6906790754039998, 0.690675507622142, 0.6906719684829526, 0.6906684576905067, 0.6906649749525373, 0.6906615199803859, 0.6906580924889519, 0.6906546921966459, 0.6906513188253399, 0.6906479721003215, 0.6906446517502458, 0.690641357507092, 0.6906380891061178, 0.6906348462858116, 0.6906316287878522, 0.6906284363570661, 0.6906252687413803, 0.6906221256917855, 0.6906190069622914, 0.6906159123098873, 0.6906128414945012, 0.6906097942789606, 0.6906067704289521, 0.6906037697129862, 0.6906007919023541, 0.6905978367710959, 0.6905949040959599, 0.6905919936563669, 0.6905891052343756, 0.6905862386146447, 0.6905833935844019, 0.6905805699334062, 0.6905777674539147, 0.6905749859406501, 0.6905722251907678, 0.6905694850038225, 0.6905667651817373, 0.6905640655287697, 0.6905613858514853, 0.6905587259587223, 0.6905560856615623, 0.6905534647733055, 0.6905508631094314, 0.6905482804875802, 0.690545716727519, 0.6905431716511119, 0.6905406450822988, 0.6905381368470602, 0.690535646773396, 0.6905331746912976, 0.6905307204327195, 0.6905282838315551], [0.6931471805599907, 0.6907133997092744, 0.6907168132191216, 0.6907141804910304, 0.6907116014136022, 0.6907090601340486, 0.6907065560985078, 0.6907040887243292, 0.6907016574382472, 0.6906992616761346, 0.6906969008828567, 0.6906945745121261, 0.6906922820263638, 0.6906900228965607, 0.6906877966021341, 0.6906856026308009, 0.6906834404784404, 0.6906813096489639, 0.6906792096541867, 0.6906771400137027, 0.6906751002547568, 0.6906730899121276, 0.6906711085280007, 0.6906691556518536, 0.6906672308403404, 0.6906653336571713, 0.6906634636730073, 0.6906616204653423, 0.6906598036183952, 0.6906580127230053, 0.6906562473765233, 0.6906545071827077, 0.6906527917516219, 0.6906511006995341, 0.6906494336488158, 0.6906477902278483, 0.6906461700709214, 0.6906445728181406, 0.6906429981153371, 0.6906414456139695, 0.6906399149710407, 0.6906384058490045, 0.6906369179156775, 0.6906354508441579, 0.6906340043127372, 0.6906325780048184, 0.6906311716088314, 0.6906297848181575, 0.6906284173310452, 0.6906270688505347, 0.690625739084381, 0.6906244277449769, 0.6906231345492808, 0.6906218592187414, 0.6906206014792281, 0.6906193610609563, 0.6906181376984248, 0.6906169311303366, 0.6906157410995427, 0.6906145673529678, 0.6906134096415484, 0.6906122677201678, 0.6906111413475929, 0.6906100302864117, 0.6906089343029729, 0.6906078531673239, 0.690606786653154, 0.6906057345377349, 0.6906046966018613, 0.6906036726297989, 0.6906026624092233, 0.6906016657311705, 0.69060068238998, 0.6905997121832438, 0.6905987549117515, 0.6905978103794417, 0.6905968783933507, 0.6905959587635639, 0.6905950513031633, 0.690594155828186], [0.6931471805599833, 0.6910923010645319, 0.6910599284972472, 0.6910227831309823, 0.690985924401572, 0.6909493372262386, 0.6909130192331258, 0.6908769680429881, 0.6908411813007229, 0.6908056566750367, 0.6907703918581886, 0.6907353845657367, 0.6907006325362913, 0.6906661335312662, 0.6906318853346336, 0.6905978857526833, 0.6905641326137808, 0.6905306237681345, 0.6904973570875562, 0.6904643304652325, 0.6904315418154934, 0.6903989890735858, 0.6903666701954484, 0.6903345831574884, 0.6903027259563637, 0.6902710966087604, 0.6902396931511826, 0.6902085136397357, 0.6901775561499152, 0.6901468187764016, 0.6901162996328497, 0.6900859968516847, 0.690055908583903, 0.6900260329988686, 0.6899963682841178, 0.6899669126451622, 0.689937664305295, 0.689908621505399, 0.6898797825037588, 0.6898511455758722, 0.6898227090142633, 0.6897944711283015, 0.689766430244018, 0.6897385847039287, 0.6897109328668526, 0.6896834731077404, 0.6896562038174983, 0.689629123402816, 0.6896022302859993, 0.6895755229047974, 0.6895489997122409, 0.6895226591764744, 0.6894964997805967, 0.6894705200224965, 0.6894447184146945, 0.6894190934841887, 0.6893936437722946, 0.6893683678344907, 0.6893432642402744, 0.6893183315729989, 0.689293568429734, 0.6892689734211158, 0.6892445451711996, 0.689220282317318, 0.6891961835099351, 0.6891722474125103, 0.6891484727013548, 0.689124858065497, 0.6891014022065424, 0.6890781038385421, 0.6890549616878598, 0.6890319744930369, 0.6890091410046645, 0.6889864599852527, 0.6889639302091071, 0.6889415504621975, 0.6889193195420367, 0.6888972362575572, 0.6888752994289867, 0.6888535078877303], [0.6931471805599911, 0.6906835733135701, 0.6906873825487785, 0.6906850661872599, 0.6906827998327857, 0.6906805674983086, 0.6906783686844827, 0.6906762028618743, 0.6906740695096163, 0.6906719681151783, 0.6906698981742301, 0.6906678591905138, 0.6906658506757113, 0.6906638721493186, 0.6906619231385209, 0.6906600031780664, 0.6906581118101498, 0.6906562485842883, 0.6906544130572094, 0.6906526047927277, 0.6906508233616392, 0.6906490683416043, 0.6906473393170393, 0.6906456358790068, 0.6906439576251124, 0.6906423041593963, 0.6906406750922298, 0.6906390700402175, 0.6906374886260929, 0.6906359304786228, 0.6906343952325102, 0.6906328825282975, 0.6906313920122747, 0.6906299233363846, 0.6906284761581354, 0.6906270501405084, 0.6906256449518722, 0.6906242602658945, 0.6906228957614592, 0.6906215511225783, 0.6906202260383164, 0.6906189202027037, 0.6906176333146569, 0.6906163650779056, 0.6906151152009091, 0.6906138833967823, 0.6906126693832241, 0.6906114728824378, 0.690610293621065, 0.6906091313301119, 0.6906079857448746, 0.6906068566048787, 0.6906057436538048, 0.6906046466394253, 0.6906035653135361, 0.6906024994318932, 0.6906014487541511, 0.6906004130437959, 0.6905993920680871, 0.6905983855979972, 0.6905973934081476, 0.690596415276757, 0.690595450985577, 0.6905945003198402, 0.6905935630682009, 0.6905926390226812, 0.6905917279786197, 0.6905908297346137, 0.6905899440924695, 0.6905890708571498, 0.6905882098367242, 0.6905873608423189, 0.6905865236880675, 0.6905856981910602, 0.6905848841713015, 0.69058408145166, 0.6905832898578216, 0.6905825092182467, 0.6905817393641248, 0.6905809801293302], [0.6931471805599879, 0.6908595826084473, 0.6908613628009393, 0.6908574475847589, 0.6908535673749463, 0.6908497077160937, 0.6908458685159413, 0.6908420496473257, 0.6908382509841633, 0.6908344724013483, 0.6908307137747458, 0.6908269749811795, 0.6908232558984253, 0.6908195564051979, 0.6908158763811444, 0.6908122157068346, 0.6908085742637511, 0.6908049519342788, 0.6908013486017005, 0.6907977641501836, 0.6907941984647726, 0.6907906514313823, 0.6907871229367872, 0.6907836128686141, 0.6907801211153327, 0.6907766475662498, 0.6907731921114988, 0.6907697546420325, 0.6907663350496156, 0.6907629332268158, 0.6907595490669989, 0.6907561824643161, 0.6907528333137024, 0.6907495015108644, 0.6907461869522755, 0.6907428895351687, 0.6907396091575281, 0.6907363457180806, 0.6907330991162939, 0.6907298692523639, 0.6907266560272117, 0.6907234593424755, 0.6907202791005029, 0.690717115204346, 0.6907139675577543, 0.6907108360651671, 0.6907077206317098, 0.6907046211631831, 0.6907015375660638, 0.69069846974749, 0.6906954176152634, 0.6906923810778364, 0.6906893600443109, 0.6906863544244287, 0.6906833641285696, 0.6906803890677433, 0.6906774291535831, 0.6906744842983421, 0.6906715544148863, 0.6906686394166899, 0.6906657392178304, 0.6906628537329811, 0.6906599828774074, 0.6906571265669629, 0.6906542847180795, 0.6906514572477696, 0.6906486440736122, 0.6906458451137566, 0.6906430602869107, 0.6906402895123398, 0.6906375327098614, 0.6906347897998378, 0.6906320607031752, 0.6906293453413155, 0.6906266436362348, 0.6906239555104366, 0.6906212808869477, 0.6906186196893145, 0.6906159718415973, 0.6906133372683674], [0.6931471805599914, 0.6906710223233611, 0.6906770552607971, 0.6906768918858174, 0.6906767454101242, 0.6906766002846153, 0.6906764565322467, 0.6906763141372488, 0.6906761730841466, 0.6906760333576635, 0.6906758949427165, 0.6906757578244129, 0.6906756219880532, 0.6906754874191184, 0.6906753541032787, 0.6906752220263821, 0.6906750911744577, 0.6906749615337099, 0.6906748330905184, 0.6906747058314343, 0.6906745797431779, 0.6906744548126369, 0.6906743310268647, 0.6906742083730768, 0.6906740868386498, 0.6906739664111181, 0.6906738470781738, 0.6906737288276608, 0.6906736116475781, 0.6906734955260729, 0.6906733804514407, 0.6906732664121251, 0.6906731533967109, 0.6906730413939272, 0.6906729303926429, 0.6906728203818651, 0.6906727113507382, 0.6906726032885421, 0.6906724961846875, 0.6906723900287185, 0.690672284810308, 0.6906721805192554, 0.6906720771454895, 0.6906719746790596, 0.690671873110141, 0.6906717724290286, 0.6906716726261364, 0.6906715736919974, 0.6906714756172604, 0.6906713783926894, 0.6906712820091626, 0.6906711864576678, 0.690671091729305, 0.6906709978152828, 0.6906709047069168, 0.6906708123956282, 0.6906707208729443, 0.6906706301304955, 0.6906705401600121, 0.6906704509533272, 0.6906703625023723, 0.690670274799177, 0.690670187835867, 0.690670101604665, 0.6906700160978857, 0.6906699313079374, 0.6906698472273212, 0.690669763848628, 0.6906696811645368, 0.690669599167817, 0.6906695178513238, 0.690669437207997, 0.6906693572308639, 0.6906692779130332, 0.6906691992476963, 0.6906691212281288, 0.690669043847682, 0.6906689670997901, 0.6906688909779645, 0.6906688154757942], [0.6931471805599888, 0.6908147652353509, 0.6908146482926562, 0.6908087790914018, 0.6908029944992266, 0.6907972789518205, 0.6907916315301851, 0.6907860512927687, 0.6907805373119211, 0.6907750886735977, 0.6907697044771529, 0.6907643838351395, 0.690759125873111, 0.690753929729425, 0.6907487945550527, 0.6907437195133869, 0.6907387037800586, 0.6907337465427497, 0.6907288470010149, 0.6907240043661029, 0.6907192178607792, 0.6907144867191547, 0.6907098101865147, 0.6907051875191536, 0.6907006179842055, 0.6906961008594845, 0.690691635433325, 0.6906872210044214, 0.6906828568816745, 0.6906785423840385, 0.6906742768403699, 0.6906700595892802, 0.6906658899789855, 0.6906617673671699, 0.6906576911208362, 0.6906536606161734, 0.6906496752384101, 0.6906457343816904, 0.6906418374489309, 0.6906379838516938, 0.6906341730100588, 0.6906304043524915, 0.6906266773157216, 0.690622991344617, 0.6906193458920641, 0.6906157404188464, 0.6906121743935285, 0.6906086472923362, 0.6906051585990461, 0.6906017078048702, 0.6905982944083463, 0.6905949179152289, 0.6905915778383793, 0.6905882736976616, 0.6905850050198374, 0.6905817713384653, 0.6905785721937941, 0.6905754071326701, 0.6905722757084325, 0.6905691774808205, 0.690566112015878, 0.6905630788858568, 0.6905600776691265, 0.690557107950084, 0.6905541693190623, 0.6905512613722432, 0.6905483837115688, 0.6905455359446581, 0.6905427176847209, 0.6905399285504771, 0.6905371681660712, 0.6905344361609935, 0.6905317321700033, 0.6905290558330472, 0.6905264067951827, 0.6905237847065041, 0.6905211892220671, 0.6905186200018139, 0.6905160767105029, 0.6905135590176364], [0.6931471805599908, 0.6907025175356253, 0.6907029401186724, 0.6906973391708322, 0.6906918335714228, 0.6906864067744772, 0.6906810575924102, 0.6906757848187862, 0.6906705872664567, 0.6906654637671545, 0.6906604131711956, 0.6906554343471822, 0.6906505261817119, 0.6906456875790912, 0.6906409174610534, 0.6906362147664812, 0.690631578451132, 0.6906270074873704, 0.6906225008639024, 0.6906180575855151, 0.6906136766728208, 0.690609357162003, 0.690605098104568, 0.6906008985671033, 0.690596757631032, 0.6905926743923813, 0.6905886479615418, 0.6905846774630487, 0.6905807620353449, 0.6905769008305642, 0.6905730930143152, 0.6905693377654589, 0.690565634275903, 0.6905619817503893, 0.6905583794062922, 0.690554826473411, 0.6905513221937799, 0.6905478658214628, 0.690544456622367, 0.6905410938740519, 0.6905377768655432, 0.6905345048971471, 0.6905312772802737, 0.6905280933372558, 0.6905249524011754, 0.6905218538156926, 0.6905187969348743, 0.6905157811230297, 0.6905128057545434, 0.6905098702137186, 0.6905069738946124, 0.6905041162008857, 0.6905012965456461, 0.6904985143512945, 0.6904957690493819, 0.6904930600804585, 0.6904903868939313, 0.6904877489479205, 0.6904851457091224, 0.6904825766526721, 0.6904800412620034, 0.6904775390287244, 0.6904750694524776, 0.6904726320408181, 0.6904702263090822, 0.6904678517802674, 0.6904655079849037, 0.690463194460938, 0.690460910753614, 0.690458656415353, 0.690456431005643, 0.6904542340909222, 0.6904520652444681, 0.6904499240462899, 0.6904478100830188, 0.6904457229478027, 0.6904436622402017, 0.6904416275660848, 0.6904396185375314, 0.6904376347727273], [0.6931471805599909, 0.6906980760112522, 0.6906986381711158, 0.6906931675844279, 0.6906877945387513, 0.6906825024072648, 0.6906772899511479, 0.6906721559135393, 0.6906670990577335, 0.6906621181667587, 0.690657212043066, 0.6906523795082206, 0.690647619402596, 0.6906429305850764, 0.6906383119327592, 0.6906337623406668, 0.6906292807214606, 0.6906248660051598, 0.6906205171388626, 0.6906162330864775, 0.6906120128284512, 0.6906078553615081, 0.6906037596983873, 0.6905997248675899, 0.6905957499131247, 0.6905918338942628, 0.6905879758852904, 0.6905841749752745, 0.6905804302678195, 0.6905767408808423, 0.6905731059463367, 0.6905695246101535, 0.6905659960317764, 0.6905625193841024, 0.6905590938532312, 0.6905557186382518, 0.6905523929510332, 0.6905491160160228, 0.6905458870700428, 0.6905427053620934, 0.690539570153157, 0.6905364807160073, 0.6905334363350182, 0.6905304363059815, 0.6905274799359211, 0.6905245665429146, 0.690521695455914, 0.6905188660145755, 0.6905160775690846, 0.6905133294799873, 0.6905106211180275, 0.6905079518639781, 0.690505321108486, 0.6905027282519098, 0.6905001727041647, 0.690497653884572, 0.6904951712217043, 0.6904927241532393, 0.6904903121258147, 0.6904879345948827, 0.6904855910245693, 0.6904832808875354, 0.6904810036648397, 0.6904787588458028, 0.6904765459278785, 0.6904743644165193, 0.6904722138250485, 0.6904700936745374, 0.690468003493676, 0.6904659428186544, 0.6904639111930424, 0.6904619081676693, 0.6904599333005084, 0.6904579861565621, 0.6904560663077505, 0.6904541733327967, 0.6904523068171226, 0.6904504663527384, 0.6904486515381365, 0.6904468619781907], [0.6931471805599906, 0.6907153486611445, 0.6907173349863257, 0.6907133020808386, 0.6907093410610337, 0.6907054358253352, 0.6907015855539878, 0.6906977894026362, 0.6906940465403727, 0.6906903561494318, 0.6906867174249772, 0.690683129574901, 0.6906795918196178, 0.6906761033918658, 0.6906726635365115, 0.6906692715103567, 0.6906659265819481, 0.690662628031391, 0.6906593751501627, 0.6906561672409354, 0.690653003617394, 0.6906498836040644, 0.6906468065361367, 0.6906437717592989, 0.6906407786295673, 0.6906378265131238, 0.6906349147861517, 0.6906320428346787, 0.6906292100544182, 0.6906264158506148, 0.6906236596378947, 0.6906209408401134, 0.6906182588902091, 0.6906156132300602, 0.6906130033103394, 0.6906104285903758, 0.6906078885380165, 0.69060538262949, 0.6906029103492732, 0.6906004711899586, 0.6905980646521277, 0.6905956902442206, 0.6905933474824131, 0.6905910358904904, 0.6905887549997283, 0.6905865043487748, 0.6905842834835265, 0.6905820919570218, 0.690579929329318, 0.6905777951673876, 0.6905756890450012, 0.6905736105426239, 0.6905715592473056, 0.6905695347525783, 0.690567536658349, 0.6905655645708032, 0.6905636181023009, 0.6905616968712797, 0.6905598005021567, 0.6905579286252354, 0.6905560808766097, 0.690554256898072, 0.6905524563370239, 0.6905506788463841, 0.6905489240845037, 0.6905471917150773, 0.6905454814070563, 0.6905437928345699, 0.6905421256768394, 0.6905404796180975, 0.6905388543475071, 0.6905372495590856, 0.6905356649516265, 0.6905341002286217, 0.6905325550981892, 0.6905310292729966, 0.6905295224701916, 0.6905280344113292, 0.6905265648222997, 0.6905251134332635], [0.6931471805599915, 0.6906705189558591, 0.6906762384131897, 0.6906757639957986, 0.6906753093514288, 0.6906748588982775, 0.6906744126281532, 0.6906739704945126, 0.6906735324514822, 0.6906730984537519, 0.6906726684565668, 0.6906722424157261, 0.6906718202875674, 0.6906714020289654, 0.6906709875973245, 0.690670576950569, 0.6906701700471403, 0.6906697668459857, 0.6906693673065566, 0.6906689713887972, 0.690668579053144, 0.6906681902605131, 0.6906678049722974, 0.69066742315036, 0.6906670447570294, 0.69066666975509, 0.6906662981077796, 0.6906659297787834, 0.6906655647322243, 0.6906652029326628, 0.6906648443450869, 0.6906644889349087, 0.6906641366679599, 0.6906637875104832, 0.6906634414291299, 0.6906630983909529, 0.6906627583634048, 0.6906624213143263, 0.6906620872119481, 0.6906617560248821, 0.6906614277221175, 0.6906611022730147, 0.690660779647304, 0.6906604598150758, 0.6906601427467809, 0.690659828413223, 0.6906595167855551, 0.6906592078352738, 0.6906589015342166, 0.6906585978545581, 0.6906582967688032, 0.6906579982497838, 0.690657702270656, 0.6906574088048945, 0.6906571178262888, 0.6906568293089399, 0.6906565432272552, 0.6906562595559474, 0.6906559782700252, 0.6906556993447942, 0.6906554227558527, 0.690655148479086, 0.6906548764906636, 0.6906546067670362, 0.6906543392849315, 0.6906540740213517, 0.6906538109535673, 0.6906535500591181, 0.690653291315806, 0.6906530347016921, 0.6906527801950958, 0.6906525277745902, 0.6906522774189967, 0.6906520291073864, 0.6906517828190732, 0.6906515385336124, 0.6906512962307964, 0.6906510558906545, 0.6906508174934463, 0.6906505810196604], [0.6931471805599914, 0.6906698600147982, 0.6906755466741101, 0.6906750407615007, 0.6906745574212593, 0.6906740810054163, 0.6906736114446865, 0.6906731486325645, 0.6906726924643314, 0.6906722428369368, 0.6906717996489669, 0.6906713628006222, 0.6906709321936875, 0.6906705077315105, 0.6906700893189748, 0.6906696768624754, 0.6906692702698948, 0.6906688694505779, 0.6906684743153122, 0.6906680847762996, 0.6906677007471371, 0.6906673221427951, 0.6906669488795918, 0.6906665808751753, 0.6906662180485005, 0.6906658603198079, 0.6906655076106043, 0.6906651598436406, 0.6906648169428944, 0.6906644788335484, 0.6906641454419717, 0.6906638166957009, 0.6906634925234212, 0.6906631728549479, 0.6906628576212087, 0.6906625467542263, 0.6906622401870994, 0.6906619378539878, 0.6906616396900911, 0.6906613456316376, 0.6906610556158642, 0.6906607695810012, 0.6906604874662571, 0.6906602092118009, 0.6906599347587488, 0.6906596640491486, 0.6906593970259632, 0.6906591336330601, 0.6906588738151914, 0.6906586175179827, 0.6906583646879204, 0.6906581152723337, 0.6906578692193865, 0.6906576264780591, 0.6906573869981386, 0.6906571507302035, 0.6906569176256144, 0.6906566876364963, 0.6906564607157318, 0.6906562368169457, 0.6906560158944938, 0.690655797903452, 0.6906555827996038, 0.69065537053943, 0.6906551610800961, 0.6906549543794429, 0.6906547503959742, 0.690654549088849, 0.6906543504178668, 0.6906541543434601, 0.6906539608266845, 0.6906537698292082, 0.6906535813133017, 0.6906533952418281, 0.6906532115782348, 0.6906530302865433, 0.6906528513313401, 0.6906526746777677, 0.6906525002915153, 0.6906523281388117], [0.6931471805599914, 0.6906751225283259, 0.6906788154075192, 0.6906763639064916, 0.690673964457225, 0.6906716009922274, 0.6906692729843885, 0.6906669798767849, 0.6906647211214603, 0.690662496179187, 0.6906603045193251, 0.6906581456196881, 0.6906560189664068, 0.690653924053794, 0.6906518603842189, 0.690649827467974, 0.6906478248231517, 0.6906458519755169, 0.6906439084583861, 0.6906419938125065, 0.6906401075859391, 0.6906382493339368, 0.6906364186188352, 0.6906346150099362, 0.6906328380833971, 0.6906310874221218, 0.6906293626156523, 0.6906276632600623, 0.6906259889578552, 0.6906243393178567, 0.6906227139551179, 0.6906211124908147, 0.6906195345521484, 0.6906179797722519, 0.6906164477900916, 0.6906149382503767, 0.6906134508034669, 0.6906119851052821, 0.6906105408172113, 0.6906091176060285, 0.6906077151438053, 0.6906063331078237, 0.6906049711804974, 0.6906036290492854, 0.6906023064066146, 0.6906010029497974, 0.6905997183809576, 0.690598452406946, 0.6905972047392755, 0.690595975094037, 0.6905947631918298, 0.6905935687576922, 0.6905923915210245, 0.6905912312155257, 0.6905900875791184, 0.6905889603538873, 0.6905878492860078, 0.6905867541256844, 0.6905856746270809, 0.6905846105482646, 0.6905835616511369, 0.6905825277013766, 0.690581508468377, 0.6905805037251863, 0.690579513248452, 0.6905785368183597, 0.6905775742185793, 0.690576625236208, 0.6905756896617147, 0.6905747672888869, 0.6905738579147803, 0.6905729613396617, 0.6905720773669596, 0.6905712058032154, 0.6905703464580326, 0.6905694991440257, 0.6905686636767747, 0.6905678398747771, 0.6905670275594001, 0.6905662265548358], [0.6931471805599915, 0.6906649202152443, 0.6906705932826063, 0.6906700615040131, 0.690669552356733, 0.6906690501640629, 0.6906685548588325, 0.6906680663365108, 0.6906675844943011, 0.6906671092310178, 0.6906666404470557, 0.6906661780443722, 0.6906657219264581, 0.690665271998313, 0.6906648281664247, 0.6906643903387418, 0.6906639584246543, 0.6906635323349692, 0.690663111981885, 0.690662697278976, 0.6906622881411651, 0.6906618844847047, 0.6906614862271568, 0.6906610932873681, 0.6906607055854561, 0.6906603230427835, 0.6906599455819397, 0.6906595731267234, 0.6906592056021222, 0.690658842934293, 0.6906584850505453, 0.6906581318793215, 0.6906577833501796, 0.6906574393937758, 0.6906570999418457, 0.69065676492719, 0.6906564342836549, 0.6906561079461168, 0.6906557858504673, 0.6906554679335942, 0.6906551541333675, 0.6906548443886249, 0.6906545386391547, 0.6906542368256812, 0.6906539388898507, 0.6906536447742163, 0.6906533544222236, 0.6906530677781972, 0.6906527847873262, 0.6906525053956495, 0.6906522295500458, 0.6906519571982164, 0.6906516882886748, 0.690651422770733, 0.6906511605944878, 0.6906509017108124, 0.6906506460713386, 0.6906503936284484, 0.6906501443352626, 0.6906498981456256, 0.6906496550140985, 0.6906494148959437, 0.6906491777471178, 0.6906489435242565, 0.690648712184668, 0.6906484836863186, 0.6906482579878258, 0.690648035048445, 0.6906478148280618, 0.6906475972871801, 0.6906473823869148, 0.6906471700889792, 0.6906469603556791, 0.6906467531498985, 0.6906465484350968, 0.690646346175295, 0.6906461463350674, 0.6906459488795349, 0.6906457537743556, 0.6906455609857152], [0.6931471805599917, 0.6906563239178991, 0.6906624489048977, 0.690662340318592, 0.690662248395492, 0.6906621574956516, 0.6906620676439744, 0.6906619788264017, 0.6906618910291746, 0.6906618042387266, 0.6906617184416877, 0.6906616336248758, 0.6906615497752969, 0.6906614668801415, 0.6906613849267825, 0.6906613039027723, 0.690661223795838, 0.6906611445938835, 0.690661066284982, 0.6906609888573769, 0.6906609122994773, 0.690660836599857, 0.6906607617472511, 0.6906606877305546, 0.6906606145388181, 0.6906605421612465, 0.6906604705871999, 0.690660399806186, 0.6906603298078613, 0.6906602605820281, 0.6906601921186314, 0.6906601244077584, 0.6906600574396372, 0.6906599912046303, 0.6906599256932381, 0.6906598608960934, 0.6906597968039611, 0.690659733407734, 0.6906596706984349, 0.6906596086672102, 0.6906595473053325, 0.6906594866041948, 0.690659426555311, 0.6906593671503138, 0.6906593083809524, 0.6906592502390915, 0.6906591927167101, 0.6906591358058972, 0.6906590794988536, 0.6906590237878888, 0.6906589686654178, 0.6906589141239622, 0.6906588601561481, 0.690658806754703, 0.6906587539124559, 0.6906587016223348, 0.6906586498773676, 0.6906585986706746, 0.6906585479954768, 0.6906584978450848, 0.6906584482129043, 0.6906583990924308, 0.6906583504772489, 0.6906583023610345, 0.6906582547375487, 0.690658207600638, 0.6906581609442358, 0.6906581147623571, 0.6906580690490998, 0.6906580237986436, 0.6906579790052477, 0.6906579346632499, 0.6906578907670665, 0.6906578473111897, 0.6906578042901858, 0.6906577616986971, 0.6906577195314411, 0.6906576777832025, 0.6906576364488424, 0.6906575955232882], [0.6931471805599918, 0.6906538994175462, 0.6906600998120709, 0.6906600596380005, 0.6906600354007189, 0.6906600114539093, 0.6906599878316672, 0.6906599645289657, 0.6906599415409532, 0.6906599188628564, 0.6906598964899759, 0.6906598744176862, 0.6906598526414371, 0.6906598311567476, 0.690659809959208, 0.6906597890444801, 0.6906597684082917, 0.6906597480464393, 0.6906597279547859, 0.6906597081292585, 0.6906596885658488, 0.6906596692606131, 0.6906596502096672, 0.6906596314091912, 0.6906596128554218, 0.6906595945446575, 0.690659576473255, 0.6906595586376265, 0.6906595410342429, 0.6906595236596285, 0.6906595065103631, 0.6906594895830824, 0.6906594728744703, 0.6906594563812669, 0.6906594401002624, 0.6906594240282963, 0.6906594081622586, 0.690659392499088, 0.6906593770357708, 0.6906593617693421, 0.6906593466968809, 0.6906593318155146, 0.6906593171224135, 0.6906593026147939, 0.6906592882899146, 0.6906592741450774, 0.6906592601776277, 0.6906592463849497, 0.6906592327644717, 0.6906592193136593, 0.6906592060300202, 0.6906591929110991, 0.6906591799544803, 0.6906591671577853, 0.6906591545186728, 0.6906591420348371, 0.6906591297040116, 0.6906591175239605, 0.6906591054924873, 0.690659093607426, 0.6906590818666463, 0.6906590702680517, 0.6906590588095765, 0.6906590474891878, 0.6906590363048861, 0.6906590252546994, 0.6906590143366893, 0.6906590035489468, 0.690658992889592, 0.6906589823567756, 0.6906589719486742, 0.690658961663496, 0.6906589514994739, 0.690658941454871, 0.6906589315279753, 0.690658921717102, 0.690658912020593, 0.6906589024368149, 0.6906588929641597, 0.6906588836010452], [0.6931471805599916, 0.6906604327950717, 0.6906664808902397, 0.6906663059146622, 0.6906661476308333, 0.690665990428501, 0.690665834335925, 0.6906656793423956, 0.6906655254374251, 0.6906653726106489, 0.690665220851823, 0.6906650701508228, 0.6906649204976448, 0.6906647718823987, 0.6906646242953103, 0.6906644777267211, 0.6906643321670815, 0.6906641876069557, 0.6906640440370161, 0.6906639014480421, 0.6906637598309215, 0.6906636191766455, 0.6906634794763098, 0.6906633407211135, 0.6906632029023556, 0.6906630660114351, 0.6906629300398504, 0.690662794979197, 0.6906626608211662, 0.6906625275575436, 0.6906623951802091, 0.6906622636811366, 0.690662133052387, 0.6906620032861162, 0.6906618743745659, 0.6906617463100667, 0.6906616190850362, 0.690661492691976, 0.6906613671234754, 0.6906612423722026, 0.6906611184309125, 0.6906609952924384, 0.6906608729496962, 0.6906607513956791, 0.6906606306234592, 0.6906605106261862, 0.6906603913970856, 0.69066027292946, 0.6906601552166831, 0.6906600382522053, 0.6906599220295484, 0.6906598065423043, 0.6906596917841374, 0.6906595777487821, 0.69065946443004, 0.690659351821783, 0.6906592399179484, 0.6906591287125404, 0.69065901819963, 0.6906589083733504, 0.6906587992279014, 0.6906586907575443, 0.6906585829566033, 0.690658475819463, 0.6906583693405715, 0.6906582635144337, 0.6906581583356162, 0.6906580537987429, 0.6906579498984968, 0.6906578466296153, 0.6906577439868954, 0.6906576419651883, 0.6906575405594007, 0.6906574397644918, 0.690657339575477, 0.6906572399874232, 0.6906571409954497, 0.6906570425947294, 0.690656944780483, 0.6906568475479841], [0.6931471805599914, 0.6906688980344402, 0.690674616704409, 0.690674137055225, 0.6906736767922389, 0.6906732203248099, 0.6906727676461601, 0.6906723187112153, 0.6906718734756463, 0.6906714318957657, 0.6906709939285137, 0.6906705595314495, 0.6906701286627447, 0.6906697012811687, 0.6906692773460853, 0.6906688568174381, 0.6906684396557441, 0.6906680258220862, 0.6906676152780999, 0.6906672079859699, 0.6906668039084184, 0.6906664030086982, 0.690666005250583, 0.6906656105983614, 0.6906652190168262, 0.6906648304712705, 0.6906644449274754, 0.6906640623517064, 0.6906636827107051, 0.6906633059716792, 0.6906629321022969, 0.6906625610706829, 0.6906621928454051, 0.6906618273954731, 0.6906614646903305, 0.6906611046998462, 0.6906607473943082, 0.6906603927444188, 0.6906600407212878, 0.6906596912964251, 0.690659344441735, 0.690659000129512, 0.6906586583324319, 0.6906583190235467, 0.6906579821762814, 0.6906576477644246, 0.6906573157621266, 0.6906569861438892, 0.6906566588845655, 0.6906563339593523, 0.6906560113437825, 0.6906556910137238, 0.6906553729453719, 0.6906550571152459, 0.6906547435001816, 0.6906544320773295, 0.690654122824149, 0.6906538157184012, 0.6906535107381488, 0.6906532078617496, 0.6906529070678483, 0.6906526083353794, 0.6906523116435567, 0.690652016971872, 0.6906517243000899, 0.6906514336082444, 0.6906511448766339, 0.6906508580858187, 0.690650573216614, 0.6906502902500912, 0.6906500091675685, 0.6906497299506109, 0.6906494525810243, 0.690649177040854, 0.6906489033123798, 0.6906486313781112, 0.6906483612207873, 0.6906480928233696, 0.6906478261690433, 0.6906475612412075], [0.6931471805599916, 0.690661300770321, 0.6906673427697902, 0.6906671640114866, 0.6906670020661886, 0.6906668413257092, 0.6906666818149633, 0.6906665235199795, 0.6906663664270785, 0.6906662105227722, 0.6906660557937614, 0.690665902226931, 0.6906657498093496, 0.6906655985282646, 0.6906654483711022, 0.690665299325461, 0.6906651513791122, 0.690665004519997, 0.6906648587362235, 0.6906647140160621, 0.6906645703479466, 0.690664427720469, 0.6906642861223782, 0.6906641455425795, 0.6906640059701261, 0.6906638673942261, 0.6906637298042317, 0.6906635931896418, 0.6906634575400986, 0.6906633228453843, 0.6906631890954213, 0.6906630562802678, 0.690662924390118, 0.6906627934152986, 0.6906626633462646, 0.690662534173604, 0.690662405888029, 0.6906622784803759, 0.6906621519416073, 0.690662026262805, 0.6906619014351703, 0.6906617774500227, 0.6906616542987967, 0.690661531973043, 0.6906614104644236, 0.6906612897647103, 0.6906611698657856, 0.6906610507596384, 0.6906609324383653, 0.6906608148941654, 0.6906606981193417, 0.6906605821062987, 0.6906604668475389, 0.6906603523356657, 0.6906602385633777, 0.6906601255234693, 0.6906600132088292, 0.690659901612438, 0.6906597907273685, 0.6906596805467828, 0.6906595710639327, 0.6906594622721547, 0.6906593541648739, 0.6906592467355999, 0.6906591399779235, 0.6906590338855211, 0.6906589284521482, 0.6906588236716384, 0.6906587195379084, 0.6906586160449487, 0.6906585131868269, 0.690658410957689, 0.6906583093517503, 0.6906582083633032, 0.6906581079867095, 0.6906580082164028, 0.6906579090468874, 0.6906578104727364, 0.6906577124885893, 0.6906576150891546]]\n"
          ]
        }
      ]
    },
    {
      "cell_type": "code",
      "source": [
        "pyplot.plot(all_J_history[1])\n",
        "#pyplot.plot(all_J_history)\n",
        "pyplot.xlabel('Iteración')\n",
        "pyplot.ylabel('Costo (J)')\n",
        "pyplot.title('Evolución del costo durante el entrenamiento')\n",
        "pyplot.show()"
      ],
      "metadata": {
        "id": "hL9pEATGoY4Y",
        "outputId": "86c7e5f1-5bea-482c-b793-3eb648079933",
        "colab": {
          "base_uri": "https://localhost:8080/",
          "height": 472
        }
      },
      "execution_count": 32,
      "outputs": [
        {
          "output_type": "display_data",
          "data": {
            "text/plain": [
              "<Figure size 640x480 with 1 Axes>"
            ],
            "image/png": "[encoded data removed]"
          },
          "metadata": {}
        }
      ]
    },
    {
      "cell_type": "code",
      "source": [
        "#print(all_theta)"
      ],
      "metadata": {
        "id": "V1EfKaiEgtcw"
      },
      "execution_count": 34,
      "outputs": []
    },
    {
      "cell_type": "code",
      "execution_count": 35,
      "metadata": {
        "id": "PjFoFe1bSxgO"
      },
      "outputs": [],
      "source": [
        "def predictOneVsAll(all_theta, X):\n",
        "    \"\"\"\n",
        "    Devuelve un vector de predicciones para cada ejemplo en la matriz X.\n",
        "    Tenga en cuenta que X contiene los ejemplos en filas.\n",
        "    all_theta es una matriz donde la i-ésima fila es un vector theta de regresión logística entrenada para la i-ésima clase.\n",
        "    Debe establecer p en un vector de valores de 0..K-1 (por ejemplo, p = [0, 2, 0, 1]\n",
        "    predice clases 0, 2, 0, 1 para 4 ejemplos).\n",
        "\n",
        "    Parametros\n",
        "    ----------\n",
        "    all_theta : array_like\n",
        "        The trained parameters for logistic regression for each class.\n",
        "        This is a matrix of shape (K x n+1) where K is number of classes\n",
        "        and n is number of features without the bias.\n",
        "\n",
        "    X : array_like\n",
        "        Data points to predict their labels. This is a matrix of shape\n",
        "        (m x n) where m is number of data points to predict, and n is number\n",
        "        of features without the bias term. Note we add the bias term for X in\n",
        "        this function.\n",
        "\n",
        "    Devuelve\n",
        "    -------\n",
        "    p : array_like\n",
        "        The predictions for each data point in X. This is a vector of shape (m, ).\n",
        "    \"\"\"\n",
        "\n",
        "    m = X.shape[0];\n",
        "    num_labels = all_theta.shape[0]\n",
        "\n",
        "    p = np.zeros(m)\n",
        "\n",
        "    # Add ones to the X data matrix\n",
        "    X = np.concatenate([np.ones((m, 1)), X], axis=1)\n",
        "    p = np.argmax(sigmoid(X.dot(all_theta.T)), axis = 1)\n",
        "\n",
        "    return p\n",
        "\n"
      ]
    },
    {
      "cell_type": "code",
      "source": [
        "pred = predictOneVsAll(all_theta, X)\n",
        "print('Precision del conjuto de entrenamiento: {:.2f}%'.format(np.mean(pred == y) * 100))\n",
        "\n",
        "#num_epochs = 50\n",
        "#precisions = []\n",
        "\n",
        "# Selecciona las primeras 150 filas de X\n",
        "XPrueba = X.iloc[0:200, :].copy()\n",
        "#XPrueba = np.concatenate([np.ones((150, 1)), XPrueba], axis=1)\n",
        "#print(XPrueba[0])\n",
        "#for epoch in range(num_epochs):\n",
        "p = predictOneVsAll(all_theta, XPrueba)\n",
        "#precision = np.mean(pred == y_test) * 100\n",
        "#precisions.append(precision)\n",
        "#print(XPrueba[0])\n",
        "#p = np.argmax(sigmoid(XPrueba.dot(all_theta.T)), axis=1)\n",
        "\n",
        "print(\"Predicciones\")\n",
        "print(p)\n",
        "\n",
        "# Muestra los datos reales de prueba\n",
        "print(\"Datos reales de prueba\")\n",
        "print(y[0:200].tolist())"
      ],
      "metadata": {
        "id": "P3dx_ACkkobV",
        "outputId": "e8887c59-9dd7-4ea5-b8d2-f86c3c6c8ef3",
        "colab": {
          "base_uri": "https://localhost:8080/"
        }
      },
      "execution_count": 36,
      "outputs": [
        {
          "output_type": "stream",
          "name": "stdout",
          "text": [
            "Precision del conjuto de entrenamiento: 29.45%\n",
            "Predicciones\n",
            "[ 1  0  1  1  0  0  1  0  0  0  6  1  2  2  1  0  0  6  0  0  0  6  2  2\n",
            "  1  2  2  2  1  6  0  2  2  6  0  6  1  2  1  0  1  0  2  6  6  0  1  1\n",
            "  6  1  2  0  0  2  0  1  1  0  0  2  6  0  6  1  6  0  6  9  6  1  4  6\n",
            "  0  2  0  0  0  0  0  2  6  2  0  0  0  2  0  1  6  6  0  0  1  4  1  1\n",
            "  2  0  6  1  1  0  1  0  6  0  4  6  4  0  2  2 12  4  1  6  6  6  4  4\n",
            "  0  0  0  6  0  4  0  6  9  9  0  0  2  4  0  6  0  6  2  6  6  0  9  2\n",
            "  2  1  6  6  6  6  0  0  9 12  6  0 12  1  6  6  2  2  0  6  4  4  6  6\n",
            "  2  0  4  0  6 12  6  4  0  0  0  6 12  1  6 12  6 12  0  6  2  0  0  6\n",
            "  0  0  2 12  0  0  6  6]\n",
            "Datos reales de prueba\n",
            "[0, 1, 2, 3, 4, 3, 1, 1, 0, 5, 6, 6, 7, 2, 2, 4, 8, 2, 0, 0, 0, 2, 1, 2, 6, 2, 4, 9, 4, 6, 1, 10, 2, 6, 2, 6, 0, 2, 9, 2, 2, 4, 6, 6, 6, 1, 11, 0, 2, 10, 6, 2, 6, 0, 12, 6, 13, 0, 14, 8, 10, 0, 6, 1, 6, 1, 0, 7, 6, 15, 8, 6, 0, 2, 2, 6, 5, 0, 14, 6, 6, 0, 2, 0, 16, 14, 12, 16, 0, 6, 5, 12, 2, 2, 4, 4, 1, 12, 6, 0, 17, 4, 1, 0, 0, 7, 6, 2, 13, 4, 1, 9, 4, 12, 0, 0, 0, 6, 6, 16, 1, 6, 4, 0, 15, 6, 1, 6, 2, 6, 5, 1, 6, 6, 4, 6, 0, 14, 9, 2, 2, 2, 7, 2, 6, 4, 2, 12, 0, 2, 1, 4, 6, 8, 14, 1, 2, 1, 6, 2, 6, 0, 1, 6, 18, 19, 18, 2, 6, 5, 2, 2, 16, 4, 6, 4, 0, 0, 5, 6, 5, 6, 6, 12, 6, 12, 1, 2, 0, 0, 12, 2, 12, 2, 0, 5, 4, 12, 6, 6]\n"
          ]
        }
      ]
    },
    {
      "cell_type": "code",
      "source": [
        "X_Nor_test, mu, sigma = featureNormalize(X_test)\n",
        "#print(X_Nor_test)\n",
        "\n",
        "pred = predictOneVsAll(all_theta, X_Nor_test)\n",
        "print('Precision del conjuto de entrenamiento: {:.2f}%'.format(np.mean(pred == y_test) * 100))\n",
        "\n",
        "#num_epochs = 50\n",
        "#precisions = []\n",
        "\n",
        "# Selecciona las primeras 150 filas de X\n",
        "XPrueba = X_Nor_test.iloc[0:150, :].copy()\n",
        "#XPrueba = np.concatenate([np.ones((150, 1)), XPrueba], axis=1)\n",
        "#print(XPrueba[0])\n",
        "#for epoch in range(num_epochs):\n",
        "p = predictOneVsAll(all_theta, XPrueba)\n",
        "#precision = np.mean(pred == y_test) * 100\n",
        "#precisions.append(precision)\n",
        "#print(XPrueba[0])\n",
        "#p = np.argmax(sigmoid(XPrueba.dot(all_theta.T)), axis=1)\n",
        "\n",
        "print(\"Predicciones\")\n",
        "print(p)\n",
        "\n",
        "# Muestra los datos reales de prueba\n",
        "print(\"Datos reales de prueba\")\n",
        "print(y_test[0:150].tolist())"
      ],
      "metadata": {
        "colab": {
          "base_uri": "https://localhost:8080/"
        },
        "id": "xlpBdKW0XQcx",
        "outputId": "28a90b33-d890-41a6-deec-3fb04f5fe470"
      },
      "execution_count": 37,
      "outputs": [
        {
          "output_type": "stream",
          "name": "stdout",
          "text": [
            "Precision del conjuto de entrenamiento: 29.39%\n",
            "Predicciones\n",
            "[ 6  9  0  6  6  4  0  9  0 12  9  2  9  7  9  4  6  9 18  6  0  0  6  6\n",
            "  7  0  6  2  0  6  0  6  0  2  7  7  9 12  2  7  7  6  7  6  0  0  2  0\n",
            "  6 12  2  6  9  0 12  6  6 18  6  4  6  6 12  1 12  4 12  0  6  0  6  9\n",
            "  6  6  1  7  0  0 12  4  6  9  7 16  7  6  6  6  7  0  0  6  7  0  1  0\n",
            "  6  2  0  9 12  0  2 18  7 18  4  9 17  6  2  1  9  9  2  4  1  4  6  2\n",
            "  0  2  7  6 12  2  2  1  6  6  0  0  9  4  4  0 12  4  0  7  2  2  6  6\n",
            "  9  0  2  6  0  0]\n",
            "Datos reales de prueba\n",
            "[0, 0, 0, 0, 7, 6, 6, 2, 5, 0, 19, 2, 6, 7, 8, 1, 2, 6, 9, 0, 2, 6, 0, 2, 1, 0, 6, 1, 5, 26, 1, 2, 0, 0, 12, 18, 6, 5, 2, 21, 12, 14, 6, 7, 14, 0, 14, 2, 2, 12, 6, 0, 9, 1, 0, 0, 14, 13, 6, 6, 6, 10, 5, 1, 7, 16, 12, 12, 1, 2, 6, 6, 2, 1, 6, 14, 0, 4, 6, 13, 7, 10, 12, 6, 23, 6, 6, 6, 2, 0, 0, 2, 0, 1, 5, 12, 6, 2, 0, 10, 4, 5, 2, 0, 5, 9, 8, 7, 13, 2, 2, 4, 6, 2, 2, 0, 4, 2, 7, 2, 0, 4, 21, 14, 4, 2, 2, 0, 16, 12, 2, 2, 0, 4, 3, 14, 12, 1, 2, 18, 6, 6, 2, 6, 10, 12, 2, 6, 0, 2]\n"
          ]
        }
      ]
    },
    {
      "cell_type": "code",
      "source": [
        "#pyplot.plot(P_history[0:35])\n",
        "#pyplot.xlabel('Iteración')\n",
        "#pyplot.ylabel('Costo (J)')\n",
        "#pyplot.title('Precision para una etiqueta')\n",
        "#pyplot.show()"
      ],
      "metadata": {
        "id": "s_DxG9I-uL0o"
      },
      "execution_count": null,
      "outputs": []
    }
  ],
  "metadata": {
    "kernelspec": {
      "display_name": "Python 3",
      "language": "python",
      "name": "python3"
    },
    "language_info": {
      "codemirror_mode": {
        "name": "ipython",
        "version": 3
      },
      "file_extension": ".py",
      "mimetype": "text/x-python",
      "name": "python",
      "nbconvert_exporter": "python",
      "pygments_lexer": "ipython3",
      "version": "3.8.5"
    },
    "colab": {
      "provenance": [],
      "include_colab_link": true
    }
  },
  "nbformat": 4,
  "nbformat_minor": 0
}