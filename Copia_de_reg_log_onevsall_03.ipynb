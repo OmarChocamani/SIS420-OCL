{
  "cells": [
    {
      "cell_type": "markdown",
      "metadata": {
        "id": "view-in-github",
        "colab_type": "text"
      },
      "source": [
        "<a href=\"https://colab.research.google.com/github/OmarChocamani/SIS420-OCL/blob/main/Copia_de_reg_log_onevsall_03.ipynb\" target=\"_parent\"><img src=\"https://colab.research.google.com/assets/colab-badge.svg\" alt=\"Open In Colab\"/></a>"
      ]
    },
    {
      "cell_type": "code",
      "source": [
        "from google.colab import drive\n",
        "drive.mount('/content/drive')"
      ],
      "metadata": {
        "colab": {
          "base_uri": "https://localhost:8080/"
        },
        "id": "clyp4NcQycWP",
        "outputId": "57023d2e-224b-4b1c-da96-224557e25509"
      },
      "execution_count": 1,
      "outputs": [
        {
          "output_type": "stream",
          "name": "stdout",
          "text": [
            "Drive already mounted at /content/drive; to attempt to forcibly remount, call drive.mount(\"/content/drive\", force_remount=True).\n"
          ]
        }
      ]
    },
    {
      "cell_type": "code",
      "execution_count": 2,
      "metadata": {
        "id": "20Q29kX8SxgJ"
      },
      "outputs": [],
      "source": [
        "# utilizado para la manipulación de directorios y rutas\n",
        "import os\n",
        "\n",
        "# Cálculo científico y vectorial para python\n",
        "import numpy as np\n",
        "import pandas as pd\n",
        "\n",
        "# Libreria para graficos\n",
        "from matplotlib import pyplot\n",
        "\n",
        "# Modulo de optimizacion en scipy\n",
        "from scipy import optimize\n",
        "from sklearn.preprocessing import LabelEncoder\n",
        "from sklearn.model_selection import train_test_split\n",
        "\n",
        "# modulo para cargar archivos en formato MATLAB\n",
        "# from scipy.io import loadmat\n",
        "\n",
        "# le dice a matplotlib que incruste gráficos en el cuaderno\n",
        "%matplotlib inline"
      ]
    },
    {
      "cell_type": "code",
      "source": [
        "data= pd.read_csv('/content/drive/MyDrive/SIS420/MiDataSets/gcar_data.csv')\n",
        "#data.info()\n",
        "#print(data)"
      ],
      "metadata": {
        "id": "0yE2CNNulM0g"
      },
      "execution_count": 3,
      "outputs": []
    },
    {
      "cell_type": "code",
      "source": [
        "#Se agragan las 3 columnas necesarias\n",
        "# Crear una nueva columna que describe el estado basado en el kilometraje\n",
        "data['estado'] = data['mileage_in_km'].apply(lambda x: 'Excelente' if x < 50000 else 'Usado')\n",
        "# Crear una columna booleana indicando si el auto tiene transmisión automática\n",
        "data['es_automatico'] = data['transmission_type'].apply(lambda x: True if x == 'Automático' else False)\n",
        "# Crear una columna que combine la potencia y el tipo de combustible\n",
        "data['descripcion_auto'] = data.apply(lambda row: f\"{row['power_kw']} KW - {row['fuel_type']}\", axis=1)\n",
        "print(data)"
      ],
      "metadata": {
        "id": "NjZiST-qYaEc",
        "outputId": "de30d7e8-d7c7-4c46-8326-0466f14af2cc",
        "colab": {
          "base_uri": "https://localhost:8080/"
        }
      },
      "execution_count": 4,
      "outputs": [
        {
          "output_type": "stream",
          "name": "stdout",
          "text": [
            "       Unnamed: 0       brand                 model  color registration_date  \\\n",
            "0           75721        ford             Ford Kuga  black           05/2023   \n",
            "1           80184     hyundai           Hyundai i10  black           09/2018   \n",
            "2           19864        audi        Audi Q4 e-tron   grey           05/2021   \n",
            "3           76699       honda            Honda CR-V    red           07/2018   \n",
            "4           92991         kia          Kia Sportage  black           02/2023   \n",
            "...           ...         ...                   ...    ...               ...   \n",
            "99995        6265        audi               Audi A1   blue           05/2012   \n",
            "99996       54886        fiat              Fiat 500  black           12/2019   \n",
            "99997       76820       honda            Honda CR-V  brown           01/2019   \n",
            "99998         860  alfa-romeo  Alfa Romeo Giulietta   grey           12/2020   \n",
            "99999       15795        audi               Audi A3  black           05/2018   \n",
            "\n",
            "       year price_in_euro power_kw power_ps transmission_type fuel_type  \\\n",
            "0      2023         38490      140      190         Automatic    Hybrid   \n",
            "1      2018         11555       49       67            Manual    Petrol   \n",
            "2      2021         48886      125      170         Automatic  Electric   \n",
            "3      2018         24490      114      155         Automatic    Petrol   \n",
            "4      2023         34990      110      150            Manual    Petrol   \n",
            "...     ...           ...      ...      ...               ...       ...   \n",
            "99995  2012         12599       90      122            Manual    Petrol   \n",
            "99996  2019          9999       51       69         Automatic    Petrol   \n",
            "99997  2019         24800      127      173            Manual    Petrol   \n",
            "99998  2020         22990      125      170         Automatic    Diesel   \n",
            "99999  2018         21900      110      150            Manual    Petrol   \n",
            "\n",
            "      fuel_consumption_l_100km fuel_consumption_g_km  mileage_in_km  \\\n",
            "0                 5,4 l/100 km              124 g/km          100.0   \n",
            "1                 4,6 l/100 km              106 g/km        27782.0   \n",
            "2                          NaN                0 g/km         4247.0   \n",
            "3                 7,5 l/100 km              175 g/km        57000.0   \n",
            "4                 5,9 l/100 km              150 g/km         7500.0   \n",
            "...                        ...                   ...            ...   \n",
            "99995             5,3 l/100 km              126 g/km       148000.0   \n",
            "99996             5,2 l/100 km              120 g/km        31698.0   \n",
            "99997             6,3 l/100 km              143 g/km        77900.0   \n",
            "99998             5,5 l/100 km              145 g/km        52251.0   \n",
            "99999             5,3 l/100 km              120 g/km        30400.0   \n",
            "\n",
            "                                      offer_description     estado  \\\n",
            "0        ST-Line Hybrid Adapt.LED+Head-Up-Display Klima  Excelente   \n",
            "1                   blue Trend,Viele Extras,Top-Zustand  Excelente   \n",
            "2          35 e-tron S line/Matrix/Pano/ACC/SONOS/LM 21  Excelente   \n",
            "3                 2.0 Lifestyle Plus Automatik Navi FAP      Usado   \n",
            "4                          1.6 T 48V 2WD Spirit LED, WR  Excelente   \n",
            "...                                                 ...        ...   \n",
            "99995        Ambition TFSI Navi/Leder/SHZ/PTS/KETTE NEU      Usado   \n",
            "99996                       1.2 Lounge +Automatik + PDC  Excelente   \n",
            "99997  1.5T 2WD Elegance * 1. Hand * 24 Mon. Garantie *      Usado   \n",
            "99998            Lusso Ti 2.0 JTDM 16V Xenon Leder Navi      Usado   \n",
            "99999         Sportback1.5 Sport|VIRTUAL|NAVI|LED|30KM|  Excelente   \n",
            "\n",
            "       es_automatico   descripcion_auto  \n",
            "0              False    140 KW - Hybrid  \n",
            "1              False     49 KW - Petrol  \n",
            "2              False  125 KW - Electric  \n",
            "3              False    114 KW - Petrol  \n",
            "4              False    110 KW - Petrol  \n",
            "...              ...                ...  \n",
            "99995          False     90 KW - Petrol  \n",
            "99996          False     51 KW - Petrol  \n",
            "99997          False    127 KW - Petrol  \n",
            "99998          False    125 KW - Diesel  \n",
            "99999          False    110 KW - Petrol  \n",
            "\n",
            "[100000 rows x 18 columns]\n"
          ]
        }
      ]
    },
    {
      "cell_type": "code",
      "source": [
        "#data.info()"
      ],
      "metadata": {
        "id": "01j9aDCLhojT"
      },
      "execution_count": 5,
      "outputs": []
    },
    {
      "cell_type": "code",
      "source": [
        "#Preprocesamiento de datos para asignar a cada valor unico de la columna brand un numero entero\n",
        "#Ademas observaremos la cantidad e etiquetas que tendra\n",
        "to_convert = ['brand']\n",
        "id2label = {}\n",
        "label2id = {}\n",
        "for col in to_convert:\n",
        "    id2label[col] = {i: cls for i, cls in enumerate(data[col].unique())}\n",
        "    label2id[col] = {cls: i for i, cls in id2label[col].items()}\n",
        "    data[col] = data[col].replace(label2id[col])\n",
        "    print(label2id[col])"
      ],
      "metadata": {
        "id": "17hYOk-Mkef8",
        "outputId": "ed8c98f7-c155-469a-929b-9362c829fc79",
        "colab": {
          "base_uri": "https://localhost:8080/"
        }
      },
      "execution_count": 6,
      "outputs": [
        {
          "output_type": "stream",
          "name": "stdout",
          "text": [
            "{'ford': 0, 'hyundai': 1, 'audi': 2, 'honda': 3, 'kia': 4, 'dacia': 5, 'bmw': 6, 'citroen': 7, 'alfa-romeo': 8, 'land-rover': 9, 'jaguar': 10, 'dodge': 11, 'fiat': 12, 'lamborghini': 13, 'mazda': 14, 'isuzu': 15, 'jeep': 16, 'ferrari': 17, 'bentley': 18, 'maserati': 19, 'daihatsu': 20, 'chevrolet': 21, 'aston-martin': 22, 'cadillac': 23, 'daewoo': 24, 'chrysler': 25, 'lancia': 26, 'lada': 27, 'infiniti': 28}\n"
          ]
        }
      ]
    },
    {
      "cell_type": "code",
      "source": [
        "num_labels = 29"
      ],
      "metadata": {
        "id": "v8pVcz-pkjnM"
      },
      "execution_count": 7,
      "outputs": []
    },
    {
      "cell_type": "code",
      "source": [
        "#variables categoricas\n",
        "columnas_categoricas = data.select_dtypes(include=['object']).columns\n",
        "le = LabelEncoder()\n",
        "for columna in columnas_categoricas:\n",
        "    data[columna] = le.fit_transform(data[columna]).astype(float)\n"
      ],
      "metadata": {
        "id": "y9HEJb_AkmR8"
      },
      "execution_count": 8,
      "outputs": []
    },
    {
      "cell_type": "code",
      "source": [
        "data.info()\n",
        "#print(data)"
      ],
      "metadata": {
        "id": "eQfTmo4muV73",
        "outputId": "6a22bf92-44e2-41e6-83c3-e52f123e5355",
        "colab": {
          "base_uri": "https://localhost:8080/"
        }
      },
      "execution_count": 9,
      "outputs": [
        {
          "output_type": "stream",
          "name": "stdout",
          "text": [
            "<class 'pandas.core.frame.DataFrame'>\n",
            "RangeIndex: 100000 entries, 0 to 99999\n",
            "Data columns (total 18 columns):\n",
            " #   Column                    Non-Null Count   Dtype  \n",
            "---  ------                    --------------   -----  \n",
            " 0   Unnamed: 0                100000 non-null  int64  \n",
            " 1   brand                     100000 non-null  int64  \n",
            " 2   model                     100000 non-null  float64\n",
            " 3   color                     100000 non-null  float64\n",
            " 4   registration_date         100000 non-null  float64\n",
            " 5   year                      100000 non-null  float64\n",
            " 6   price_in_euro             100000 non-null  float64\n",
            " 7   power_kw                  100000 non-null  float64\n",
            " 8   power_ps                  100000 non-null  float64\n",
            " 9   transmission_type         100000 non-null  float64\n",
            " 10  fuel_type                 100000 non-null  float64\n",
            " 11  fuel_consumption_l_100km  100000 non-null  float64\n",
            " 12  fuel_consumption_g_km     100000 non-null  float64\n",
            " 13  mileage_in_km             99932 non-null   float64\n",
            " 14  offer_description         100000 non-null  float64\n",
            " 15  estado                    100000 non-null  float64\n",
            " 16  es_automatico             100000 non-null  bool   \n",
            " 17  descripcion_auto          100000 non-null  float64\n",
            "dtypes: bool(1), float64(15), int64(2)\n",
            "memory usage: 13.1 MB\n"
          ]
        }
      ]
    },
    {
      "cell_type": "code",
      "source": [
        "data['es_automatico'] = data['es_automatico'].astype(float)\n",
        "data['Unnamed: 0'] = data['Unnamed: 0'].astype(float)"
      ],
      "metadata": {
        "id": "6e25AV9ooS6e"
      },
      "execution_count": 10,
      "outputs": []
    },
    {
      "cell_type": "code",
      "source": [
        "#print(data)\n",
        "data.info()\n"
      ],
      "metadata": {
        "id": "F9LIFPOPkwUw",
        "colab": {
          "base_uri": "https://localhost:8080/"
        },
        "outputId": "096b47c3-668e-4965-953d-ab68e2852581"
      },
      "execution_count": 11,
      "outputs": [
        {
          "output_type": "stream",
          "name": "stdout",
          "text": [
            "<class 'pandas.core.frame.DataFrame'>\n",
            "RangeIndex: 100000 entries, 0 to 99999\n",
            "Data columns (total 18 columns):\n",
            " #   Column                    Non-Null Count   Dtype  \n",
            "---  ------                    --------------   -----  \n",
            " 0   Unnamed: 0                100000 non-null  float64\n",
            " 1   brand                     100000 non-null  int64  \n",
            " 2   model                     100000 non-null  float64\n",
            " 3   color                     100000 non-null  float64\n",
            " 4   registration_date         100000 non-null  float64\n",
            " 5   year                      100000 non-null  float64\n",
            " 6   price_in_euro             100000 non-null  float64\n",
            " 7   power_kw                  100000 non-null  float64\n",
            " 8   power_ps                  100000 non-null  float64\n",
            " 9   transmission_type         100000 non-null  float64\n",
            " 10  fuel_type                 100000 non-null  float64\n",
            " 11  fuel_consumption_l_100km  100000 non-null  float64\n",
            " 12  fuel_consumption_g_km     100000 non-null  float64\n",
            " 13  mileage_in_km             99932 non-null   float64\n",
            " 14  offer_description         100000 non-null  float64\n",
            " 15  estado                    100000 non-null  float64\n",
            " 16  es_automatico             100000 non-null  float64\n",
            " 17  descripcion_auto          100000 non-null  float64\n",
            "dtypes: float64(17), int64(1)\n",
            "memory usage: 13.7 MB\n"
          ]
        }
      ]
    },
    {
      "cell_type": "code",
      "source": [
        "#llenar datos vacios\n",
        "columnas_especificas = ['mileage_in_km']\n",
        "media_columnas = data[columnas_especificas].mean()\n",
        "data[columnas_especificas] = data[columnas_especificas].fillna(media_columnas)\n",
        "data.info()"
      ],
      "metadata": {
        "id": "_X8B5JmXpxUX",
        "outputId": "6d537bc9-075e-4a30-a008-deb7c5a3140b",
        "colab": {
          "base_uri": "https://localhost:8080/"
        }
      },
      "execution_count": 12,
      "outputs": [
        {
          "output_type": "stream",
          "name": "stdout",
          "text": [
            "<class 'pandas.core.frame.DataFrame'>\n",
            "RangeIndex: 100000 entries, 0 to 99999\n",
            "Data columns (total 18 columns):\n",
            " #   Column                    Non-Null Count   Dtype  \n",
            "---  ------                    --------------   -----  \n",
            " 0   Unnamed: 0                100000 non-null  float64\n",
            " 1   brand                     100000 non-null  int64  \n",
            " 2   model                     100000 non-null  float64\n",
            " 3   color                     100000 non-null  float64\n",
            " 4   registration_date         100000 non-null  float64\n",
            " 5   year                      100000 non-null  float64\n",
            " 6   price_in_euro             100000 non-null  float64\n",
            " 7   power_kw                  100000 non-null  float64\n",
            " 8   power_ps                  100000 non-null  float64\n",
            " 9   transmission_type         100000 non-null  float64\n",
            " 10  fuel_type                 100000 non-null  float64\n",
            " 11  fuel_consumption_l_100km  100000 non-null  float64\n",
            " 12  fuel_consumption_g_km     100000 non-null  float64\n",
            " 13  mileage_in_km             100000 non-null  float64\n",
            " 14  offer_description         100000 non-null  float64\n",
            " 15  estado                    100000 non-null  float64\n",
            " 16  es_automatico             100000 non-null  float64\n",
            " 17  descripcion_auto          100000 non-null  float64\n",
            "dtypes: float64(17), int64(1)\n",
            "memory usage: 13.7 MB\n"
          ]
        }
      ]
    },
    {
      "cell_type": "code",
      "source": [
        "data_copy = data.copy()\n",
        "\n",
        "# Aumentar solo los valores decimales en el DataFrame duplicado\n",
        "# Especificar las columnas numéricas en las que deseas aumentar los decimales\n",
        "decimal_columns = ['Unnamed: 0','model','color','registration_date','year','price_in_euro','power_kw','power_ps','fuel_type', 'fuel_consumption_l_100km', 'fuel_consumption_g_km', 'mileage_in_km','offer_description','descripcion_auto']\n",
        "\n",
        "# Asegurarse de que las columnas sean del tipo adecuado\n",
        "#for col in decimal_columns:\n",
        " #   data_copy[col] = pd.to_numeric(data_copy[col], errors='coerce')\n",
        "\n",
        "# Filtrar filas con valores no válidos (NaN) en columnas decimales\n",
        "#data_copy = data_copy.dropna(subset=decimal_columns)\n",
        "\n",
        "# Aumentar los valores decimales en las columnas especificadas\n",
        "for col in decimal_columns:\n",
        "    data_copy[col] = data_copy[col] + np.random.uniform(0.1, 0.7, size=len(data_copy))\n",
        "\n",
        "\n",
        "# Asegurarse de que los valores estén dentro de rangos razonables\n",
        "for col in decimal_columns:\n",
        "    data_copy[col] = data_copy[col].clip(lower=0)\n",
        "\n",
        "# Concatenar los DataFrames originales y modificados\n",
        "nuevo_data = pd.concat([data, data_copy], ignore_index=True)\n",
        "\n",
        "# Guardar el dataset aumentado en un nuevo archivo CSV\n",
        "nuevo_data.to_csv('ruta_del_archivo_modificado.csv', index=False)\n",
        "\n",
        "# Ver las primeras filas del DataFrame aumentado\n",
        "#print(nuevo_data.head())"
      ],
      "metadata": {
        "id": "KUJVTbABb0yP"
      },
      "execution_count": 13,
      "outputs": []
    },
    {
      "cell_type": "code",
      "source": [
        "print(nuevo_data.iloc[190000])\n",
        "#print(nuevo_data)"
      ],
      "metadata": {
        "id": "TWCbhq-7vpqP",
        "outputId": "9cd30195-ebd1-4e5c-ce8e-114c9d72a45a",
        "colab": {
          "base_uri": "https://localhost:8080/"
        }
      },
      "execution_count": 14,
      "outputs": [
        {
          "output_type": "stream",
          "name": "stdout",
          "text": [
            "Unnamed: 0                   44990.262608\n",
            "brand                            7.000000\n",
            "model                          247.552119\n",
            "color                            7.475142\n",
            "registration_date              110.690350\n",
            "year                            33.482513\n",
            "price_in_euro                 1205.207307\n",
            "power_kw                       476.642229\n",
            "power_ps                        20.692046\n",
            "transmission_type                1.000000\n",
            "fuel_type                       42.299405\n",
            "fuel_consumption_l_100km       201.151359\n",
            "fuel_consumption_g_km          928.664511\n",
            "mileage_in_km               117000.649360\n",
            "offer_description            34289.269273\n",
            "estado                           1.000000\n",
            "es_automatico                    0.000000\n",
            "descripcion_auto              1022.652845\n",
            "Name: 190000, dtype: float64\n"
          ]
        }
      ]
    },
    {
      "cell_type": "code",
      "source": [
        "nuevo_data.info()"
      ],
      "metadata": {
        "id": "QCristp_qirb",
        "outputId": "83e8a7e4-80d6-4742-d27a-60f24fb72cbd",
        "colab": {
          "base_uri": "https://localhost:8080/"
        }
      },
      "execution_count": 15,
      "outputs": [
        {
          "output_type": "stream",
          "name": "stdout",
          "text": [
            "<class 'pandas.core.frame.DataFrame'>\n",
            "RangeIndex: 200000 entries, 0 to 199999\n",
            "Data columns (total 18 columns):\n",
            " #   Column                    Non-Null Count   Dtype  \n",
            "---  ------                    --------------   -----  \n",
            " 0   Unnamed: 0                200000 non-null  float64\n",
            " 1   brand                     200000 non-null  int64  \n",
            " 2   model                     200000 non-null  float64\n",
            " 3   color                     200000 non-null  float64\n",
            " 4   registration_date         200000 non-null  float64\n",
            " 5   year                      200000 non-null  float64\n",
            " 6   price_in_euro             200000 non-null  float64\n",
            " 7   power_kw                  200000 non-null  float64\n",
            " 8   power_ps                  200000 non-null  float64\n",
            " 9   transmission_type         200000 non-null  float64\n",
            " 10  fuel_type                 200000 non-null  float64\n",
            " 11  fuel_consumption_l_100km  200000 non-null  float64\n",
            " 12  fuel_consumption_g_km     200000 non-null  float64\n",
            " 13  mileage_in_km             200000 non-null  float64\n",
            " 14  offer_description         200000 non-null  float64\n",
            " 15  estado                    200000 non-null  float64\n",
            " 16  es_automatico             200000 non-null  float64\n",
            " 17  descripcion_auto          200000 non-null  float64\n",
            "dtypes: float64(17), int64(1)\n",
            "memory usage: 27.5 MB\n"
          ]
        }
      ]
    },
    {
      "cell_type": "code",
      "source": [
        "# Cargar los datasets originales y sintéticos\n",
        "#data_original = pd.read_csv('ruta_del_archivo_original.csv')\n",
        "#data_sintetico = pd.read_csv('ruta_del_archivo_modificado.csv')\n",
        "\n",
        "# Especificar las columnas numéricas que queremos graficar\n",
        "columnas_numericas = ['price_in_euro', 'power_kw']\n",
        "\n",
        "# Crear una figura para comparar cada atributo entre los datasets\n",
        "fig, axs = pyplot.subplots(len(columnas_numericas), 2, figsize=(12, 5 * len(columnas_numericas)))\n",
        "\n",
        "# Iterar sobre las columnas numéricas y generar gráficos\n",
        "for i, col in enumerate(columnas_numericas):\n",
        "    # Graficar el dataset original\n",
        "    axs[i, 0].hist(data[col].dropna(), bins=30, color='blue', alpha=0.7)\n",
        "    axs[i, 0].set_title(f'{col} - Dataset Original')\n",
        "    axs[i, 0].set_xlabel(col)\n",
        "    axs[i, 0].set_ylabel('Frecuencia')\n",
        "\n",
        "    # Graficar el dataset sintético\n",
        "    axs[i, 1].hist(data_copy[col].dropna(), bins=30, color='green', alpha=0.7)\n",
        "    axs[i, 1].set_title(f'{col} - Dataset Sintético')\n",
        "    axs[i, 1].set_xlabel(col)\n",
        "    axs[i, 1].set_ylabel('Frecuencia')\n",
        "\n",
        "# Ajustar el espacio entre gráficos\n",
        "pyplot.tight_layout()\n",
        "pyplot.show()\n"
      ],
      "metadata": {
        "id": "eSFDZNWiPFJg",
        "outputId": "4fb57d05-eb46-46fd-8676-096f367b024d",
        "colab": {
          "base_uri": "https://localhost:8080/",
          "height": 1000
        }
      },
      "execution_count": 16,
      "outputs": [
        {
          "output_type": "display_data",
          "data": {
            "text/plain": [
              "<Figure size 1200x1000 with 4 Axes>"
            ],
            "image/png": "[encoded data removed]"
          },
          "metadata": {}
        }
      ]
    },
    {
      "cell_type": "code",
      "source": [
        "X_datos=nuevo_data.iloc[:,[2,3,4,5,6,7,8,9,10,11,12,13,14]]\n",
        "y_datos=nuevo_data.iloc[:,1]"
      ],
      "metadata": {
        "id": "hFe7vEvlMxkP"
      },
      "execution_count": 17,
      "outputs": []
    },
    {
      "cell_type": "code",
      "source": [
        "X_train, X_test, y_train, y_test = train_test_split(X_datos, y_datos, test_size=0.2)\n",
        "X_train.shape, X_test.shape"
      ],
      "metadata": {
        "colab": {
          "base_uri": "https://localhost:8080/"
        },
        "id": "9U3rh3pkSaBV",
        "outputId": "a479207b-972a-45db-d43e-4811be32c8b2"
      },
      "execution_count": 18,
      "outputs": [
        {
          "output_type": "execute_result",
          "data": {
            "text/plain": [
              "((160000, 13), (40000, 13))"
            ]
          },
          "metadata": {},
          "execution_count": 18
        }
      ]
    },
    {
      "cell_type": "code",
      "source": [
        "X=X_train\n",
        "y=y_train\n",
        "print(y)"
      ],
      "metadata": {
        "colab": {
          "base_uri": "https://localhost:8080/"
        },
        "id": "KXI4hie2nDvD",
        "outputId": "0d332eca-eb69-453c-935d-5f5d81923b91"
      },
      "execution_count": 19,
      "outputs": [
        {
          "output_type": "stream",
          "name": "stdout",
          "text": [
            "113945     0\n",
            "168599     2\n",
            "1808       6\n",
            "58761      6\n",
            "57029      0\n",
            "          ..\n",
            "32778      0\n",
            "65826      0\n",
            "80053     16\n",
            "105094     6\n",
            "149601     6\n",
            "Name: brand, Length: 160000, dtype: int64\n"
          ]
        }
      ]
    },
    {
      "cell_type": "code",
      "source": [
        "def  featureNormalize(X):\n",
        "    X_norm = X.copy()\n",
        "    mu = np.zeros(X.shape[1])\n",
        "    sigma = np.zeros(X.shape[1])\n",
        "\n",
        "    mu = np.mean(X, axis = 0)\n",
        "    sigma = np.std(X, axis = 0)\n",
        "    X_norm = (X - mu) / sigma\n",
        "\n",
        "    return X_norm, mu, sigma"
      ],
      "metadata": {
        "id": "HWF5C5Jt8wNb"
      },
      "execution_count": 20,
      "outputs": []
    },
    {
      "cell_type": "code",
      "source": [
        "# llama featureNormalize con los datos cargados\n",
        "X_norm, mu, sigma = featureNormalize(X)"
      ],
      "metadata": {
        "id": "f4W6d-ya1ABV"
      },
      "execution_count": 21,
      "outputs": []
    },
    {
      "cell_type": "code",
      "source": [
        "# Configurar la matriz adecuadamente, y agregar una columna de unos que corresponde al termino de intercepción.\n",
        "m, n = X.shape\n",
        "# Agraga el termino de intercepción a A\n",
        "# X = np.concatenate([np.ones((m, 1)), X_norm], axis=1)\n",
        "X = X_norm\n",
        "# X = np.concatenate([np.ones((m, 1)), X], axis=1)"
      ],
      "metadata": {
        "id": "r9e6MRrW1G22"
      },
      "execution_count": 22,
      "outputs": []
    },
    {
      "cell_type": "code",
      "execution_count": 23,
      "metadata": {
        "id": "0sB9Kyi8SxgN"
      },
      "outputs": [],
      "source": [
        "def sigmoid(z):\n",
        "    \"\"\"\n",
        "    Calcula la sigmoide de z.\n",
        "    \"\"\"\n",
        "    return 1.0 / (1.0 + np.exp(-z))"
      ]
    },
    {
      "cell_type": "code",
      "execution_count": 24,
      "metadata": {
        "id": "w5S0OOswSxgN"
      },
      "outputs": [],
      "source": [
        "J_history=[]\n",
        "P_history=[]\n",
        "def lrCostFunction(theta, X, y, lambda_):\n",
        "    \"\"\"\n",
        "    Calcula el costo de usar theta como parámetro para la regresión logística regularizada y\n",
        "    el gradiente del costo w.r.t. a los parámetros.\n",
        "\n",
        "    Parametros\n",
        "    ----------\n",
        "    theta : array_like\n",
        "        Parametro theta de la regresion logistica. Vector de la forma(shape) (n, ). n es el numero de caracteristicas\n",
        "        incluida la intercepcion\n",
        "\n",
        "    X : array_like\n",
        "        Dataset con la forma(shape) (m x n). m es el numero de ejemplos, y n es el numero de\n",
        "        caracteristicas (incluida la intercepcion).\n",
        "\n",
        "    y : array_like\n",
        "        El conjunto de etiquetas. Un vector con la forma (shape) (m, ). m es el numero de ejemplos\n",
        "\n",
        "    lambda_ : float\n",
        "        Parametro de regularización.\n",
        "\n",
        "    Devuelve\n",
        "    -------\n",
        "    J : float\n",
        "        El valor calculado para la funcion de costo regularizada.\n",
        "\n",
        "    grad : array_like\n",
        "        Un vector de la forma (shape) (n, ) que es el gradiente de la\n",
        "        función de costo con respecto a theta, en los valores actuales de theta..\n",
        "    \"\"\"\n",
        "    # Inicializa algunos valores utiles\n",
        "    #J_history=[]\n",
        "    m = y.size\n",
        "\n",
        "    # convierte las etiquetas a valores enteros si son boleanos\n",
        "    if y.dtype == bool:\n",
        "        y = y.astype(int)\n",
        "\n",
        "    J = 0\n",
        "    grad = np.zeros(theta.shape)\n",
        "\n",
        "    h = sigmoid(X.dot(theta.T))\n",
        "\n",
        "    temp = theta\n",
        "    temp[0] = 0\n",
        "\n",
        "#     J = (1 / m) * np.sum(-y.dot(np.log(h)) - (1 - y).dot(np.log(1 - h)))\n",
        "    J = (1 / m) * np.sum(-y.dot(np.log(h)) - (1 - y).dot(np.log(1 - h))) + (lambda_ / (2 * m)) * np.sum(np.square(temp))\n",
        "\n",
        "    grad = (1 / m) * (h - y).dot(X)\n",
        "\n",
        "#    P_history.append(h)\n",
        "#     theta = theta - (alpha / m) * (h - y).dot(X)\n",
        "    grad = grad + (lambda_ / m) * temp\n",
        "\n",
        "    predictions = (h >= 0.5).astype(int)  # Umbral de 0.5 para clasificar\n",
        "    correct_predictions = np.sum(predictions == y)  # Contar predicciones correctas\n",
        "    precision = correct_predictions / m  # Precisión como proporción de predicciones correctas\n",
        "\n",
        "    J_history.append(J)\n",
        "    P_history.append(precision)\n",
        "\n",
        "    return J, grad\n",
        "#    return J, theta\n"
      ]
    },
    {
      "cell_type": "code",
      "execution_count": 25,
      "metadata": {
        "id": "V0rOw5qhSxgN"
      },
      "outputs": [],
      "source": [
        "def oneVsAll(X, y, num_labels, lambda_):\n",
        "    \"\"\"\n",
        "    Trains num_labels logistic regression classifiers and returns\n",
        "    each of these classifiers in a matrix all_theta, where the i-th\n",
        "    row of all_theta corresponds to the classifier for label i.\n",
        "\n",
        "    Parameters\n",
        "    ----------\n",
        "    X : array_like\n",
        "        The input dataset of shape (m x n). m is the number of\n",
        "        data points, and n is the number of features. Note that we\n",
        "        do not assume that the intercept term (or bias) is in X, however\n",
        "        we provide the code below to add the bias term to X.\n",
        "\n",
        "    y : array_like\n",
        "        The data labels. A vector of shape (m, ).\n",
        "\n",
        "    num_labels : int\n",
        "        Number of possible labels.\n",
        "\n",
        "    lambda_ : float\n",
        "        The logistic regularization parameter.\n",
        "\n",
        "    Returns\n",
        "    -------\n",
        "    all_theta : array_like\n",
        "        The trained parameters for logistic regression for each class.\n",
        "        This is a matrix of shape (K x n+1) where K is number of classes\n",
        "        (ie. `numlabels`) and n is number of features without the bias.\n",
        "    \"\"\"\n",
        "    # algunas variables utiles\n",
        "\n",
        "    m, n = X.shape\n",
        "    all_J_history=[]\n",
        "\n",
        "    all_theta = np.zeros((num_labels, n + 1))\n",
        "\n",
        "\n",
        "\n",
        "    # Agrega unos a la matriz X\n",
        "    X = np.concatenate([np.ones((m, 1)), X], axis=1)\n",
        "\n",
        "    for c in np.arange(num_labels):\n",
        "        print(f\"Entrenando para la clase {c}...\")\n",
        "        initial_theta = np.zeros(n + 1)\n",
        "\n",
        "        options = {'maxiter': 50}\n",
        "        #J_history=[]\n",
        "        res = optimize.minimize(lrCostFunction,\n",
        "                                initial_theta,\n",
        "                                (X, (y == c), lambda_),\n",
        "                                jac=True,\n",
        "                                method='CG',\n",
        "                                options=options)\n",
        "        all_theta[c] = res.x\n",
        "        all_J_history.append(J_history[c].copy())\n",
        "\n",
        "\n",
        "    return all_theta, all_J_history"
      ]
    },
    {
      "cell_type": "code",
      "execution_count": 26,
      "metadata": {
        "id": "w6JbsLLMSxgO",
        "outputId": "2d886660-120a-40ca-cc49-c1a1cf958eda",
        "colab": {
          "base_uri": "https://localhost:8080/"
        }
      },
      "outputs": [
        {
          "output_type": "stream",
          "name": "stdout",
          "text": [
            "Entrenando para la clase 0...\n",
            "Entrenando para la clase 1...\n",
            "Entrenando para la clase 2...\n",
            "Entrenando para la clase 3...\n",
            "Entrenando para la clase 4...\n",
            "Entrenando para la clase 5...\n",
            "Entrenando para la clase 6...\n",
            "Entrenando para la clase 7...\n",
            "Entrenando para la clase 8...\n",
            "Entrenando para la clase 9...\n",
            "Entrenando para la clase 10...\n",
            "Entrenando para la clase 11...\n",
            "Entrenando para la clase 12...\n",
            "Entrenando para la clase 13...\n",
            "Entrenando para la clase 14...\n",
            "Entrenando para la clase 15...\n",
            "Entrenando para la clase 16...\n",
            "Entrenando para la clase 17...\n",
            "Entrenando para la clase 18...\n",
            "Entrenando para la clase 19...\n",
            "Entrenando para la clase 20...\n",
            "Entrenando para la clase 21...\n",
            "Entrenando para la clase 22...\n",
            "Entrenando para la clase 23...\n",
            "Entrenando para la clase 24...\n",
            "Entrenando para la clase 25...\n",
            "Entrenando para la clase 26...\n",
            "Entrenando para la clase 27...\n",
            "Entrenando para la clase 28...\n",
            "(29, 14)\n"
          ]
        }
      ],
      "source": [
        "lambda_ = 0.1\n",
        "all_theta, all_J_history = oneVsAll(X, y, num_labels, lambda_)\n",
        "print(all_theta.shape)"
      ]
    },
    {
      "cell_type": "code",
      "source": [
        "print(all_J_history)\n",
        "#print(P_history)"
      ],
      "metadata": {
        "colab": {
          "base_uri": "https://localhost:8080/"
        },
        "id": "lbYevUdviHLg",
        "outputId": "d4f7bf5d-853f-4a26-ecd5-ea5d5a377c08"
      },
      "execution_count": 27,
      "outputs": [
        {
          "output_type": "stream",
          "name": "stdout",
          "text": [
            "[0.6931471805599574, 0.5855599669694059, 0.42514686324804607, 0.4191743931115835, 0.4089566289149197, 0.40666536250258145, 0.4008272286786164, 0.40057914627821095, 0.39988444555281555, 0.39965114027606014, 0.3994664879573663, 0.399022524140311, 0.3990021957992727, 0.3989627109123775, 0.39895846824058195, 0.3989453380045455, 0.39893706688851854, 0.39893404209323013, 0.39892605422735433, 0.39892544098714583, 0.3989239276610493, 0.3989237733000158, 0.3989232557230359, 0.3989226568077539, 0.39892246893445044, 0.3989220011923304, 0.398921965141251, 0.39892186978144023, 0.39892186147401915]\n"
          ]
        }
      ]
    },
    {
      "cell_type": "code",
      "source": [
        "pyplot.plot(all_J_history)\n",
        "pyplot.xlabel('Iteración')\n",
        "pyplot.ylabel('Costo (J)')\n",
        "pyplot.title('Evolución del costo durante el entrenamiento')\n",
        "pyplot.show()"
      ],
      "metadata": {
        "id": "hL9pEATGoY4Y",
        "outputId": "f2acf858-2afa-4579-f28d-acd884349a35",
        "colab": {
          "base_uri": "https://localhost:8080/",
          "height": 472
        }
      },
      "execution_count": 28,
      "outputs": [
        {
          "output_type": "display_data",
          "data": {
            "text/plain": [
              "<Figure size 640x480 with 1 Axes>"
            ],
            "image/png": "[encoded data removed]"
          },
          "metadata": {}
        }
      ]
    },
    {
      "cell_type": "code",
      "source": [
        "print(all_theta)"
      ],
      "metadata": {
        "colab": {
          "base_uri": "https://localhost:8080/"
        },
        "id": "V1EfKaiEgtcw",
        "outputId": "b5b364d2-f398-4ffe-ec50-419518a18f69"
      },
      "execution_count": 29,
      "outputs": [
        {
          "output_type": "stream",
          "name": "stdout",
          "text": [
            "[[-1.88478688e+00  1.03162920e+00  1.41363916e-01  2.41280145e-02\n",
            "  -1.35448777e-01  6.12584333e-02  1.20010397e-01 -3.62354833e-01\n",
            "   4.87582672e-01 -1.32007305e-01 -3.64802608e-02  8.08403566e-02\n",
            "   4.73839328e-02  7.64252450e-02]\n",
            " [-3.62083869e+00  1.49066929e+00  6.00780094e-02  4.17640664e-02\n",
            "   2.95040331e-01 -9.33475021e-02  1.04581866e-01  4.57744400e-03\n",
            "   1.50662788e-01  2.37368849e-01  1.30271979e-01 -2.34200356e-01\n",
            "  -1.31142684e-02 -6.73299849e-02]\n",
            " [-1.32148907e+01 -1.22211583e+01  1.06669933e-01 -7.17344788e-02\n",
            "   3.89078009e-01 -1.41957395e-01 -8.03662982e-03  5.20948175e-01\n",
            "  -2.12141503e-01 -1.14214759e-01  3.55255694e-01  1.62421093e-01\n",
            "   3.23261245e-01 -4.38346459e-01]\n",
            " [-5.68680438e+00  8.44270420e-01 -1.45391641e-01  3.83375292e-02\n",
            "   1.23876821e-01 -1.93209946e-01 -1.89273672e-02 -4.92354641e-01\n",
            "   1.27886696e-02  3.73991524e-01  9.30517571e-02  1.09144791e-01\n",
            "  -2.73435876e-01 -5.61612761e-01]\n",
            " [-6.67056884e+00  3.67090140e+00  1.19989720e-01  1.09549451e-01\n",
            "   5.98663815e-01 -3.36592903e-01 -1.13111589e-01 -8.81526661e-02\n",
            "   1.24522667e-01  3.31178987e-01 -1.19938162e-01 -2.14768019e-01\n",
            "   2.66078948e-02 -4.92392420e-01]\n",
            " [-5.21622076e+00 -7.57613792e-01 -2.49630395e-01  3.25120565e-02\n",
            "   1.02416736e+00 -1.76588832e-01  1.52620210e+00  3.44679727e-01\n",
            "   6.40305817e-01  1.43805854e-01  4.72272716e-01 -3.03485520e-01\n",
            "   6.54970622e-02  4.49483249e-01]\n",
            " [-2.41350653e+00 -1.13272689e+00 -7.99930634e-02  2.60785034e-02\n",
            "  -6.24599236e-01  7.74897606e-02 -5.38927315e-01 -7.89571303e-02\n",
            "  -2.39147732e-01 -5.38565943e-02 -8.39162409e-02 -1.43975345e-01\n",
            "   9.17073164e-02  9.75905503e-01]\n",
            " [-3.77384199e+00 -6.01703786e-01 -4.44800519e-02  9.83248037e-03\n",
            "   4.90784292e-01  5.15893642e-03  1.07875079e+00  1.00588649e-02\n",
            "   1.44793331e-01 -2.85968345e-01 -1.94604888e-02 -3.43397977e-02\n",
            "  -4.56810541e-02  7.25912878e-02]\n",
            " [-8.59962784e+01 -6.30334322e+01 -9.13358625e-02  6.83895590e-02\n",
            "   4.07566207e-01  6.01734255e-01 -2.49039729e-01 -4.59845150e-01\n",
            "   1.92852738e-01 -6.59916431e-02  2.96295570e-01  9.44974955e-03\n",
            "  -1.66924696e-01 -7.62756600e-02]\n",
            " [-1.89591453e+01  1.04730849e+01 -1.29953571e-01 -1.12577291e-01\n",
            "   1.16815524e+00  5.93451421e-01 -4.76767458e-01  6.00146476e-01\n",
            "  -7.69001685e-01 -1.03207420e+00  2.54064302e-01  2.82141344e-01\n",
            "   2.02598447e-01  9.86668408e-02]\n",
            " [-6.95088435e+00  1.48409701e+00 -1.10527936e-01 -1.15474716e-01\n",
            "   3.14095932e-01  3.88267530e-01 -1.61003266e+00  1.33924845e+00\n",
            "  -1.42013951e+00 -1.30799301e-01  6.71946809e-02 -2.70658691e-01\n",
            "  -9.25809679e-02  4.28717183e-02]\n",
            " [-8.69447448e+00  1.18235632e-01 -2.68285538e-01  3.10239388e-02\n",
            "   1.02098190e+00  1.00026701e+00 -1.35027714e+00  1.73888564e+00\n",
            "  -2.27745755e+00  9.75292847e-01 -3.09447554e-02 -2.82478028e-01\n",
            "   2.80041113e-01 -1.04534453e+00]\n",
            " [-3.97999454e+00  6.25027610e-02  1.04202964e-01  1.13779284e-02\n",
            "   4.22539482e-01 -1.90110437e-01  6.80887681e-01  5.85294819e-01\n",
            "   5.58178144e-01 -2.25463665e-01  2.91638540e-01  1.37779881e-01\n",
            "  -2.92512136e-01 -3.46122863e-01]\n",
            " [-1.94773860e+01  4.86611288e+00  1.53733038e-01 -1.34379729e-01\n",
            "  -1.18865257e+00  2.87785940e-01 -1.09366512e-01  3.15787777e+00\n",
            "  -1.83598685e+00  2.17940801e+00 -6.58152917e-02  4.11055839e-01\n",
            "  -3.02584559e+00  4.75705813e-01]\n",
            " [-4.63119307e+01  2.77000527e+01  1.55978129e-01  1.28052369e-02\n",
            "  -5.94748865e-02 -7.32587660e-01  7.13039971e-01 -8.82782400e-01\n",
            "   6.73328960e-01  5.17734773e-01  9.52125049e-02 -7.57058806e-01\n",
            "   5.65452510e-01 -3.84694246e-02]\n",
            " [-1.47495629e+01  2.14555119e+00  3.08838241e-02  1.21252834e-02\n",
            "   2.86425841e-01  4.09795644e-01 -4.00010817e+00 -2.68514716e+00\n",
            "   2.60817312e-01 -1.81120853e+00  1.66687788e+00  3.93206881e-01\n",
            "  -4.24879737e-01 -1.77335435e-01]\n",
            " [-6.50257260e+00  2.11370936e+00 -2.80611741e-01 -4.30368460e-02\n",
            "   6.78043243e-01  1.23192391e-01  1.44851133e-01 -8.93801563e-01\n",
            "  -5.42892418e-01  6.24469418e-02  1.31088758e-03  3.55740390e-01\n",
            "  -2.29620965e-02 -7.67426666e-02]\n",
            " [-1.04325313e+01  5.35586626e-02  8.17971303e-02 -2.72219290e-01\n",
            "  -1.52456590e+00 -1.19958855e-02 -4.40192829e-01  2.05522499e+00\n",
            "  -1.31601929e+00  9.43760747e-01 -1.63432431e-02  5.87133010e-03\n",
            "  -4.18527785e+00 -4.72985488e-02]\n",
            " [-1.04002576e+01 -6.93691187e-01 -1.56538298e-01 -4.47782096e-02\n",
            "  -6.21759895e-01 -1.68890953e-01 -1.20066648e+00  2.55385562e+00\n",
            "  -3.18311282e+00  8.71234238e-01 -2.26665330e-01  1.28242083e-01\n",
            "  -8.49671288e-01  3.69160816e-01]\n",
            " [-2.88426571e+01  1.45560220e+01 -1.53160089e-01  4.41721112e-02\n",
            "  -1.10797160e+00  5.21722147e-01 -1.07398226e+00  1.55399607e+00\n",
            "  -2.24125455e+00  3.39061084e-01 -3.21824586e-01 -3.68853125e-02\n",
            "  -9.37124854e-01 -9.96497609e-02]\n",
            " [-1.07064617e+01 -4.28338598e-02  2.40029435e-01  9.39793548e-02\n",
            "  -1.60053875e+00  5.66697277e-02  1.17627695e+00  8.13050262e-01\n",
            "  -3.84683968e-02  1.38870417e+00 -2.52860946e-01 -7.15758693e-01\n",
            "  -2.77165738e-01 -6.81419300e-01]\n",
            " [-7.39590008e+00 -3.99375472e-01 -9.92840505e-02 -2.75425238e-02\n",
            "   2.41304689e-01  6.48462540e-01 -6.53320903e-01  6.23908643e-01\n",
            "  -2.15507747e-01  1.09303655e+00 -2.02047824e-01 -2.99652435e-01\n",
            "  -2.88623817e-01 -1.67601003e-01]\n",
            " [-2.12417259e+01 -9.76802909e+00 -2.46787487e-01 -1.33060163e-01\n",
            "  -1.52341804e+00 -2.34758034e-01 -2.18180866e-01  1.60005104e+00\n",
            "  -1.34921919e+00  1.96814939e+00 -2.40081766e-01  4.12742889e-01\n",
            "  -2.71836655e+00  4.50404343e-01]\n",
            " [-8.69994949e+00 -2.78867304e-01 -1.37765942e-01  1.06701584e-01\n",
            "  -2.67637503e-01  3.04019384e-01 -1.59311943e+00  1.00356927e+00\n",
            "  -1.53808696e+00  1.05639604e+00 -1.47702015e-01  2.75414055e-01\n",
            "  -1.96771672e-01 -6.85112451e-01]\n",
            " [-1.19606912e+01  1.89264185e-01  2.18343999e-01 -2.20138421e-01\n",
            "  -1.68905606e+00 -2.49046262e-01  1.22157129e+00  5.00052956e-01\n",
            "   1.71767517e-01  9.79818670e-01  8.90549302e-01  3.22620535e-01\n",
            "  -1.67407242e-01 -6.64092994e-01]\n",
            " [-1.33280103e+01 -4.54379355e-02  2.68172809e-01  1.08221717e+00\n",
            "   1.91022443e+00  1.75736410e+00 -9.52321697e-01 -1.98636165e-01\n",
            "   3.94751706e-01  2.58683352e+00  7.89480100e-01  6.70721645e-01\n",
            "   1.69409213e-01  9.41993892e-01]\n",
            " [-1.29392646e+01  4.52164020e+00 -3.04624034e-01  5.76214874e-03\n",
            "  -1.55675672e+00  1.26058658e-01 -3.68952983e-02  4.05571514e-01\n",
            "  -2.21304437e-01 -3.35118790e-01  3.83957886e-01  9.51806556e-03\n",
            "   1.26441408e-01 -8.52048050e-02]\n",
            " [-2.16746272e+01  5.70964419e+00 -1.13569611e-01 -9.68430036e-02\n",
            "  -3.84383045e-01  1.24340855e-01  4.24834011e+00  1.29054977e+00\n",
            "   5.64933562e-01  1.60651275e+00  1.58976377e+00  1.07262417e+00\n",
            "  -1.89246332e+00  1.15832281e-01]\n",
            " [-8.85072334e+00  1.65986057e+00 -1.20797089e-01  5.12161090e-02\n",
            "  -6.52880364e-01 -7.37353977e-01 -3.46629611e-01  1.51723066e-01\n",
            "  -1.42083397e+00 -2.42915718e-02 -2.33930353e-01 -2.11322318e-01\n",
            "   1.32082762e-01 -4.68003851e-01]]\n"
          ]
        }
      ]
    },
    {
      "cell_type": "code",
      "execution_count": 30,
      "metadata": {
        "id": "PjFoFe1bSxgO"
      },
      "outputs": [],
      "source": [
        "def predictOneVsAll(all_theta, X):\n",
        "    \"\"\"\n",
        "    Devuelve un vector de predicciones para cada ejemplo en la matriz X.\n",
        "    Tenga en cuenta que X contiene los ejemplos en filas.\n",
        "    all_theta es una matriz donde la i-ésima fila es un vector theta de regresión logística entrenada para la i-ésima clase.\n",
        "    Debe establecer p en un vector de valores de 0..K-1 (por ejemplo, p = [0, 2, 0, 1]\n",
        "    predice clases 0, 2, 0, 1 para 4 ejemplos).\n",
        "\n",
        "    Parametros\n",
        "    ----------\n",
        "    all_theta : array_like\n",
        "        The trained parameters for logistic regression for each class.\n",
        "        This is a matrix of shape (K x n+1) where K is number of classes\n",
        "        and n is number of features without the bias.\n",
        "\n",
        "    X : array_like\n",
        "        Data points to predict their labels. This is a matrix of shape\n",
        "        (m x n) where m is number of data points to predict, and n is number\n",
        "        of features without the bias term. Note we add the bias term for X in\n",
        "        this function.\n",
        "\n",
        "    Devuelve\n",
        "    -------\n",
        "    p : array_like\n",
        "        The predictions for each data point in X. This is a vector of shape (m, ).\n",
        "    \"\"\"\n",
        "\n",
        "    m = X.shape[0];\n",
        "    num_labels = all_theta.shape[0]\n",
        "\n",
        "    p = np.zeros(m)\n",
        "\n",
        "    # Add ones to the X data matrix\n",
        "    X = np.concatenate([np.ones((m, 1)), X], axis=1)\n",
        "    p = np.argmax(sigmoid(X.dot(all_theta.T)), axis = 1)\n",
        "\n",
        "    return p\n",
        "\n"
      ]
    },
    {
      "cell_type": "code",
      "source": [
        "X_Nor_test, mu, sigma = featureNormalize(X_test)\n",
        "#print(X_Nor_test)\n",
        "\n",
        "pred = predictOneVsAll(all_theta, X_Nor_test)\n",
        "print('Precision del conjuto de entrenamiento: {:.2f}%'.format(np.mean(pred == y_test) * 100))\n",
        "\n",
        "#num_epochs = 50\n",
        "#precisions = []\n",
        "\n",
        "# Selecciona las primeras 150 filas de X\n",
        "XPrueba = X_Nor_test.iloc[0:150, :].copy()\n",
        "#XPrueba = np.concatenate([np.ones((150, 1)), XPrueba], axis=1)\n",
        "#print(XPrueba[0])\n",
        "#for epoch in range(num_epochs):\n",
        "p = predictOneVsAll(all_theta, XPrueba)\n",
        "#precision = np.mean(pred == y_test) * 100\n",
        "#precisions.append(precision)\n",
        "#print(XPrueba[0])\n",
        "#p = np.argmax(sigmoid(XPrueba.dot(all_theta.T)), axis=1)\n",
        "\n",
        "print(\"Predicciones\")\n",
        "print(p)\n",
        "\n",
        "# Muestra los datos reales de prueba\n",
        "print(\"Datos reales de prueba\")\n",
        "print(y_test[0:150].tolist())"
      ],
      "metadata": {
        "colab": {
          "base_uri": "https://localhost:8080/"
        },
        "id": "xlpBdKW0XQcx",
        "outputId": "067ed948-5831-4983-834e-fa9030b43abe"
      },
      "execution_count": 33,
      "outputs": [
        {
          "output_type": "stream",
          "name": "stdout",
          "text": [
            "Precision del conjuto de entrenamiento: 67.42%\n",
            "Predicciones\n",
            "[ 0  0  0  2  0  4  6 14  0  0  2  6  0  2  0  2  0  0  6 14  6  0  0  6\n",
            "  2  6  2  0  0  0  0  0  6  2  6  0  2  2  2  0  6  2  2  6  2 12  0  2\n",
            "  0  2  0  6  6  0  6  2  0  6 14  2  0  0  0 11  0  0  0  0  0  2  0  2\n",
            "  0 14  0  6  0  0 14 19 12  6  6  0  2  1  2  0  0 17  2  0  6  0  0  0\n",
            "  6  0  0  0  6  2  6 11  2  6  2  0  6  9  0  0 18  2 12 12  2  2  6  0\n",
            "  2  2  0  8  2 14  9  0  0  0  0  0  6  6  6  6  0  0  2  1  9  5  0  8\n",
            "  0  6  2  0  6  2]\n",
            "Datos reales de prueba\n",
            "[0, 0, 0, 2, 0, 13, 6, 14, 16, 6, 8, 6, 0, 2, 0, 2, 0, 0, 6, 14, 6, 0, 5, 6, 2, 6, 2, 11, 0, 0, 4, 7, 6, 2, 6, 10, 2, 2, 2, 0, 6, 6, 2, 2, 2, 7, 5, 2, 10, 2, 15, 6, 6, 1, 6, 2, 1, 21, 14, 2, 0, 1, 0, 11, 3, 4, 12, 7, 0, 2, 12, 2, 5, 14, 5, 6, 7, 10, 14, 19, 5, 6, 6, 1, 2, 1, 2, 26, 10, 17, 2, 16, 6, 0, 1, 0, 6, 4, 0, 3, 6, 2, 6, 11, 2, 6, 8, 10, 2, 9, 0, 0, 0, 2, 7, 4, 2, 2, 6, 10, 6, 2, 0, 8, 2, 14, 19, 0, 0, 0, 0, 4, 6, 6, 6, 6, 4, 7, 2, 4, 9, 6, 10, 8, 1, 7, 2, 0, 6, 2]\n"
          ]
        }
      ]
    },
    {
      "cell_type": "code",
      "source": [
        "pyplot.plot(P_history[0:35])\n",
        "pyplot.xlabel('Iteración')\n",
        "pyplot.ylabel('Costo (J)')\n",
        "pyplot.title('Precision para una etiqueta')\n",
        "pyplot.show()"
      ],
      "metadata": {
        "id": "s_DxG9I-uL0o",
        "outputId": "af035284-e713-47ab-e1ba-ed3ca6d5e2f8",
        "colab": {
          "base_uri": "https://localhost:8080/",
          "height": 472
        }
      },
      "execution_count": 32,
      "outputs": [
        {
          "output_type": "display_data",
          "data": {
            "text/plain": [
              "<Figure size 640x480 with 1 Axes>"
            ],
            "image/png": "[encoded data removed]"
          },
          "metadata": {}
        }
      ]
    }
  ],
  "metadata": {
    "kernelspec": {
      "display_name": "Python 3",
      "language": "python",
      "name": "python3"
    },
    "language_info": {
      "codemirror_mode": {
        "name": "ipython",
        "version": 3
      },
      "file_extension": ".py",
      "mimetype": "text/x-python",
      "name": "python",
      "nbconvert_exporter": "python",
      "pygments_lexer": "ipython3",
      "version": "3.8.5"
    },
    "colab": {
      "provenance": [],
      "include_colab_link": true
    }
  },
  "nbformat": 4,
  "nbformat_minor": 0
}